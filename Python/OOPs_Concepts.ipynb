{
  "nbformat": 4,
  "nbformat_minor": 0,
  "metadata": {
    "colab": {
      "provenance": [],
      "authorship_tag": "ABX9TyOmTrTdmDk1CwYoanbWlC+I",
      "include_colab_link": true
    },
    "kernelspec": {
      "name": "python3",
      "display_name": "Python 3"
    },
    "language_info": {
      "name": "python"
    }
  },
  "cells": [
    {
      "cell_type": "markdown",
      "metadata": {
        "id": "view-in-github",
        "colab_type": "text"
      },
      "source": [
        "<a href=\"https://colab.research.google.com/github/kataria-pawan/Learning_Mode/blob/main/Python/OOPs_Concepts.ipynb\" target=\"_parent\"><img src=\"https://colab.research.google.com/assets/colab-badge.svg\" alt=\"Open In Colab\"/></a>"
      ]
    },
    {
      "cell_type": "code",
      "execution_count": null,
      "metadata": {
        "id": "htJzJPpfuvl7"
      },
      "outputs": [],
      "source": [
        "# class is a blue print or a plan"
      ]
    },
    {
      "cell_type": "code",
      "source": [
        "# object is physical existance of plan"
      ],
      "metadata": {
        "id": "zULjP7PYxlLO"
      },
      "execution_count": null,
      "outputs": []
    },
    {
      "cell_type": "code",
      "source": [
        "# A 'class' contains variable and methods"
      ],
      "metadata": {
        "id": "aEvJjtHUxo0z"
      },
      "execution_count": null,
      "outputs": []
    },
    {
      "cell_type": "code",
      "source": [
        "# how to define a python class:\n",
        "class className:\n",
        "  '''documentation string'''\n",
        "  #variables: instance variable, static variabl and local variable\n",
        "  #methods: instance methods, static methods and class methods"
      ],
      "metadata": {
        "id": "auFYIsLwzpjt"
      },
      "execution_count": null,
      "outputs": []
    },
    {
      "cell_type": "code",
      "source": [
        "class Student: # class name recommended to take first letter capital\n",
        "  '''this is the student class develped by dipak for demo session'''\n",
        "\n",
        "print(Student.__doc__)"
      ],
      "metadata": {
        "colab": {
          "base_uri": "https://localhost:8080/"
        },
        "id": "o1CmF4150UxE",
        "outputId": "cc95fab6-c340-4c28-809d-09a3f5c8c85e"
      },
      "execution_count": null,
      "outputs": [
        {
          "output_type": "stream",
          "name": "stdout",
          "text": [
            "this is the student class develped by dipak for demo session\n"
          ]
        }
      ]
    },
    {
      "cell_type": "code",
      "source": [
        "help(Student)"
      ],
      "metadata": {
        "colab": {
          "base_uri": "https://localhost:8080/"
        },
        "id": "xr0eAk2N0jin",
        "outputId": "e0b37230-b893-46ec-cb9e-5a36173231d8"
      },
      "execution_count": null,
      "outputs": [
        {
          "output_type": "stream",
          "name": "stdout",
          "text": [
            "Help on class Student in module __main__:\n",
            "\n",
            "class Student(builtins.object)\n",
            " |  this is the student class develped by dipak for demo session\n",
            " |  \n",
            " |  Data descriptors defined here:\n",
            " |  \n",
            " |  __dict__\n",
            " |      dictionary for instance variables (if defined)\n",
            " |  \n",
            " |  __weakref__\n",
            " |      list of weak references to the object (if defined)\n",
            "\n"
          ]
        }
      ]
    },
    {
      "cell_type": "code",
      "source": [
        "# Types of variable\n",
        "# 1. Instance variable (object level variables)\n",
        "# 2. Static variable(class level variables)\n",
        "# 3. Local variable(method level variables)"
      ],
      "metadata": {
        "id": "-vLywqqV0nqa"
      },
      "execution_count": null,
      "outputs": []
    },
    {
      "cell_type": "code",
      "source": [
        "# types of methods:\n",
        "# 1. Instance methods\n",
        "# 2. Static methods\n",
        "# 3. Class methods"
      ],
      "metadata": {
        "id": "qhWXTFFf1WG6"
      },
      "execution_count": null,
      "outputs": []
    },
    {
      "cell_type": "code",
      "source": [
        "class Student:\n",
        "  '''Developed by Pia for python demo'''\n",
        "  def __init__(self): # self is the argument to this method\n",
        "                      # __init__ is called constructor (always fixed)\n",
        "    self.name = 'Pia'\n",
        "    self.age = 29\n",
        "    self.marks = 90\n",
        "\n",
        "  def talk(self):\n",
        "    print('Hello I am: ',self.name)\n",
        "    print('My age is : ',self.age)\n",
        "    print('My marks are: ',self.marks)\n",
        "\n",
        "# here '__init__' and 'talk' is a method\n",
        "# here 'name','age','marks' and 'print' statement are variables\n",
        "# if function is defined inside the class then its a method\n",
        "\n",
        "s = Student()\n",
        "print(s.name)\n",
        "print(s.age)\n"
      ],
      "metadata": {
        "colab": {
          "base_uri": "https://localhost:8080/"
        },
        "id": "4iuv7Gki1ffq",
        "outputId": "22fb87e9-a070-4bc8-f727-78c12cbb2656"
      },
      "execution_count": null,
      "outputs": [
        {
          "output_type": "stream",
          "name": "stdout",
          "text": [
            "Pia\n",
            "29\n"
          ]
        }
      ]
    },
    {
      "cell_type": "code",
      "source": [
        "s.talk()"
      ],
      "metadata": {
        "colab": {
          "base_uri": "https://localhost:8080/"
        },
        "id": "7TTEewJZ5QU7",
        "outputId": "ea50406b-e3de-4bce-bff7-7312950a2e53"
      },
      "execution_count": null,
      "outputs": [
        {
          "output_type": "stream",
          "name": "stdout",
          "text": [
            "Hello I am:  Pia\n",
            "My age is :  29\n",
            "My marks are:  90\n"
          ]
        }
      ]
    },
    {
      "cell_type": "code",
      "source": [
        "# write a program to define student class and craete an object for that class\n",
        "class Student:\n",
        "\n",
        "  def __init__(self,name,rollno,marks):\n",
        "    self.name = name\n",
        "    self.rollno = rollno\n",
        "    self.marks = marks\n",
        "\n",
        "  def talk(self):\n",
        "    print('Hello my name is: ',self.name)\n",
        "    print('My rollno is : ',self.rollno)\n",
        "    print('My  marks are: ',self.marks)\n",
        "\n",
        "s1 = Student('Ravi',103,98)\n",
        "s1.talk()"
      ],
      "metadata": {
        "colab": {
          "base_uri": "https://localhost:8080/"
        },
        "id": "IKDJ1u6o5U0y",
        "outputId": "613ba107-5422-4fd2-9ee1-3e29b3a70b4e"
      },
      "execution_count": null,
      "outputs": [
        {
          "output_type": "stream",
          "name": "stdout",
          "text": [
            "Hello my name is:  Ravi\n",
            "My rollno is :  103\n",
            "My  marks are:  98\n"
          ]
        }
      ]
    },
    {
      "cell_type": "code",
      "source": [
        "# self is python provided implicit variable always pointing to current object.\n",
        "# by using self we can access object related variables (instance variables) and object related variables()"
      ],
      "metadata": {
        "id": "iM5maWFy6nWC"
      },
      "execution_count": null,
      "outputs": []
    },
    {
      "cell_type": "code",
      "source": [
        "s2 = Student('Deepak',30,89)\n",
        "s2.talk()"
      ],
      "metadata": {
        "colab": {
          "base_uri": "https://localhost:8080/"
        },
        "id": "Y25bNjdU8EBY",
        "outputId": "0ca2b4dc-5345-48e1-ff55-fad00f52ff6b"
      },
      "execution_count": null,
      "outputs": [
        {
          "output_type": "stream",
          "name": "stdout",
          "text": [
            "Hello my name is:  Deepak\n",
            "My rollno is :  30\n",
            "My  marks are:  89\n"
          ]
        }
      ]
    },
    {
      "cell_type": "code",
      "source": [
        "class Student:\n",
        "\n",
        "  def __init__(self,name,rollno,marks):\n",
        "    self.name = name\n",
        "    self.rollno = rollno\n",
        "    self.marks = marks\n",
        "    print(id(self))\n",
        "\n",
        "  def talk(self):\n",
        "    print('Hello my name is: ',self.name)\n",
        "    print('My rollno is : ',self.rollno)\n",
        "    print('My  marks are: ',self.marks)\n",
        "    print(id(self))\n",
        "\n",
        "s1 = Student('Ravi',103,98)\n",
        "s1.talk()\n",
        "print(id(s1))"
      ],
      "metadata": {
        "colab": {
          "base_uri": "https://localhost:8080/"
        },
        "id": "ysQKif1a8MLv",
        "outputId": "1ce46159-8937-473b-86ae-ea0d6e5e63a0"
      },
      "execution_count": null,
      "outputs": [
        {
          "output_type": "stream",
          "name": "stdout",
          "text": [
            "132332535920240\n",
            "Hello my name is:  Ravi\n",
            "My rollno is :  103\n",
            "My  marks are:  98\n",
            "132332535920240\n",
            "132332535920240\n"
          ]
        }
      ]
    },
    {
      "cell_type": "code",
      "source": [
        "class Student:\n",
        "\n",
        "  def __init__(name,rollno,marks): # removed self parameter\n",
        "    self.name = name\n",
        "    self.rollno = rollno\n",
        "    self.marks = marks\n",
        "    print(id(self))\n",
        "\n",
        "  def talk(self):\n",
        "    print('Hello my name is: ',self.name)\n",
        "    print('My rollno is : ',self.rollno)\n",
        "    print('My  marks are: ',self.marks)\n",
        "    print(id(self))\n",
        "\n",
        "s1 = Student('Ravi',103,98)\n",
        "s1.talk()"
      ],
      "metadata": {
        "colab": {
          "base_uri": "https://localhost:8080/",
          "height": 223
        },
        "id": "ySvQzpl78_Rn",
        "outputId": "55759619-5896-4a1c-c746-c67cbc1d4758"
      },
      "execution_count": null,
      "outputs": [
        {
          "output_type": "error",
          "ename": "TypeError",
          "evalue": "ignored",
          "traceback": [
            "\u001b[0;31m---------------------------------------------------------------------------\u001b[0m",
            "\u001b[0;31mTypeError\u001b[0m                                 Traceback (most recent call last)",
            "\u001b[0;32m<ipython-input-20-980346a41387>\u001b[0m in \u001b[0;36m<cell line: 15>\u001b[0;34m()\u001b[0m\n\u001b[1;32m     13\u001b[0m     \u001b[0mprint\u001b[0m\u001b[0;34m(\u001b[0m\u001b[0mid\u001b[0m\u001b[0;34m(\u001b[0m\u001b[0mself\u001b[0m\u001b[0;34m)\u001b[0m\u001b[0;34m)\u001b[0m\u001b[0;34m\u001b[0m\u001b[0;34m\u001b[0m\u001b[0m\n\u001b[1;32m     14\u001b[0m \u001b[0;34m\u001b[0m\u001b[0m\n\u001b[0;32m---> 15\u001b[0;31m \u001b[0ms1\u001b[0m \u001b[0;34m=\u001b[0m \u001b[0mStudent\u001b[0m\u001b[0;34m(\u001b[0m\u001b[0;34m'Ravi'\u001b[0m\u001b[0;34m,\u001b[0m\u001b[0;36m103\u001b[0m\u001b[0;34m,\u001b[0m\u001b[0;36m98\u001b[0m\u001b[0;34m)\u001b[0m\u001b[0;34m\u001b[0m\u001b[0;34m\u001b[0m\u001b[0m\n\u001b[0m\u001b[1;32m     16\u001b[0m \u001b[0ms1\u001b[0m\u001b[0;34m.\u001b[0m\u001b[0mtalk\u001b[0m\u001b[0;34m(\u001b[0m\u001b[0;34m)\u001b[0m\u001b[0;34m\u001b[0m\u001b[0;34m\u001b[0m\u001b[0m\n",
            "\u001b[0;31mTypeError\u001b[0m: Student.__init__() takes 3 positional arguments but 4 were given"
          ]
        }
      ]
    },
    {
      "cell_type": "code",
      "source": [
        "class Student:\n",
        "\n",
        "  def __init__(self,x,y,z): # removed self parameter\n",
        "    self.name = x\n",
        "    self.rollno = y\n",
        "    self.marks = z\n",
        "\n",
        "\n",
        "  def talk(self):\n",
        "    print('Hello my name is: ',self.name)\n",
        "    print('My rollno is : ',self.rollno)\n",
        "    print('My  marks are: ',self.marks)\n",
        "\n",
        "\n",
        "s1 = Student('Ravi',103,98)\n",
        "s1.talk()"
      ],
      "metadata": {
        "colab": {
          "base_uri": "https://localhost:8080/"
        },
        "id": "pbOe7S_R-LcA",
        "outputId": "bfa0ff9c-ea36-4f31-94b7-b51122a0dca1"
      },
      "execution_count": null,
      "outputs": [
        {
          "output_type": "stream",
          "name": "stdout",
          "text": [
            "Hello my name is:  Ravi\n",
            "My rollno is :  103\n",
            "My  marks are:  98\n"
          ]
        }
      ]
    },
    {
      "cell_type": "code",
      "source": [
        "class Student:\n",
        "\n",
        "  def __init__(self,x,y,z): # removed self parameter\n",
        "    self.name = x\n",
        "    self.rollno = y\n",
        "    self.marks = z\n",
        "    print('Hello my name is: ',self.name)\n",
        "\n",
        "  def talk(self):\n",
        "    print('Hello my name is: ',self.name)\n",
        "    print('My rollno is : ',self.rollno)\n",
        "    print('My  marks are: ',self.marks)\n",
        "\n",
        "s1 = Student('Ravi',103,98)\n"
      ],
      "metadata": {
        "colab": {
          "base_uri": "https://localhost:8080/"
        },
        "id": "yNc_yZAK-r-2",
        "outputId": "661a3aa0-124d-4948-e34a-5f325ac1a542"
      },
      "execution_count": null,
      "outputs": [
        {
          "output_type": "stream",
          "name": "stdout",
          "text": [
            "Hello my name is:  Ravi\n"
          ]
        }
      ]
    },
    {
      "cell_type": "code",
      "source": [
        "print(s1)"
      ],
      "metadata": {
        "colab": {
          "base_uri": "https://localhost:8080/"
        },
        "id": "_TzTdIoK_B5N",
        "outputId": "84e9d4b0-01df-4950-d236-8c79aca119d6"
      },
      "execution_count": null,
      "outputs": [
        {
          "output_type": "stream",
          "name": "stdout",
          "text": [
            "<__main__.Student object at 0x785b11cbb6d0>\n"
          ]
        }
      ]
    },
    {
      "cell_type": "code",
      "source": [
        "class Student:\n",
        "  def __init__(self,name,age,rollno,subject):\n",
        "    self.name = name\n",
        "    self.age = age\n",
        "    self.rollno = rollno\n",
        "    self.subject = subject\n",
        "    print('Hello I am : ',self.name)\n",
        "    print('My age is: ',self.age)\n",
        "    print('My roll no in the class is : ',self.rollno)\n",
        "    print('My favourate subject is : ',self.subject)\n",
        "\n",
        "s = Student('Deepak',23,1,'maths')\n"
      ],
      "metadata": {
        "id": "borw-lvV_M32",
        "colab": {
          "base_uri": "https://localhost:8080/"
        },
        "outputId": "af3b5736-e26e-4fdc-f0f0-b6d353e8fa30"
      },
      "execution_count": null,
      "outputs": [
        {
          "output_type": "stream",
          "name": "stdout",
          "text": [
            "Hello I am :  Deepak\n",
            "My age is:  23\n",
            "My roll no in the class is :  1\n",
            "My favourate subject is :  maths\n"
          ]
        }
      ]
    },
    {
      "cell_type": "code",
      "source": [
        "class Student:\n",
        "  def __init__(self,name,age,rollno,subject):\n",
        "    self.name = name\n",
        "    self.age = age\n",
        "    self.rollno = rollno\n",
        "    self.subject = subject\n",
        "    print('My name is {} and i am {} year old.\\nMy rollno is {} and my favrouate subject is {}'.format(self.name,self.age,self.rollno,self.subject))\n",
        "\n",
        "s = Student('Priya', 19,29,'English')"
      ],
      "metadata": {
        "colab": {
          "base_uri": "https://localhost:8080/"
        },
        "id": "mbXyFoYwWyti",
        "outputId": "9498f91c-5d52-47e7-c530-d5ebb4a18ebe"
      },
      "execution_count": null,
      "outputs": [
        {
          "output_type": "stream",
          "name": "stdout",
          "text": [
            "My name is Priya and i am 19 year old.\n",
            "My rollno is 29 and my favrouate subject is English\n"
          ]
        }
      ]
    },
    {
      "cell_type": "code",
      "source": [
        "# 1. Constructor is a special method in python\n",
        "# 2. The name of the constructor should be '__init__'\n",
        "# 3. Constructor will be executed automatically when ever we are creating an object.\n",
        "# 4. The main objective of constructor in python is to declare object related variables and perform intialization.\n",
        "# 5. Constructor will be executed only once per object.\n",
        "# 6. Constructor should take altleast one argument that is self.\n",
        "# 7. Constructor is optional and if we are not providing python will provide default constructor."
      ],
      "metadata": {
        "id": "r7LNKg6FYXHx"
      },
      "execution_count": null,
      "outputs": []
    },
    {
      "cell_type": "code",
      "source": [
        "class Test:\n",
        "  def __init__(self):\n",
        "    print('constructor is executed....')\n",
        "\n",
        "t1=Test()\n",
        "t2=Test()\n",
        "t3=Test()\n",
        "print(id(t1))\n",
        "print(id(t2))\n",
        "print(id(t3))\n",
        "# new object is created every new variables have different id"
      ],
      "metadata": {
        "colab": {
          "base_uri": "https://localhost:8080/"
        },
        "id": "089-34wRjrAg",
        "outputId": "2dd93d60-a648-403b-a83b-c0f2180fae46"
      },
      "execution_count": null,
      "outputs": [
        {
          "output_type": "stream",
          "name": "stdout",
          "text": [
            "constructor is executed....\n",
            "constructor is executed....\n",
            "constructor is executed....\n",
            "135682227169232\n",
            "135682227164384\n",
            "135682227168464\n"
          ]
        }
      ]
    },
    {
      "cell_type": "code",
      "source": [
        "print('hi')"
      ],
      "metadata": {
        "colab": {
          "base_uri": "https://localhost:8080/"
        },
        "id": "jsMEUfEdkGto",
        "outputId": "414ac836-af67-459d-96f4-7fd455f196ec"
      },
      "execution_count": null,
      "outputs": [
        {
          "output_type": "stream",
          "name": "stdout",
          "text": [
            "hi\n"
          ]
        }
      ]
    },
    {
      "cell_type": "code",
      "source": [
        "class Employee:\n",
        "  def __init__(self,eno,ename,esal,eaddr):\n",
        "    self.eno=eno\n",
        "    self.ename=ename\n",
        "    self.esal=esal\n",
        "    self.eaddr=eaddr\n",
        "\n",
        "  def display(self):\n",
        "    print('employe number: ',self.eno)\n",
        "    print('employe name: ',self.ename)\n",
        "    print('employe salary: ',self.esal)\n",
        "    print('employe address: ',self.eaddr)\n",
        "\n",
        "e1 = Employee(100,'sunnu',1000,'delhi')\n",
        "e2 = Employee(101,'munni',2000,'chennai')\n",
        "e3 = Employee(102,'vijay',3000,'kota')\n",
        "\n",
        "e1.display()\n",
        "\n",
        "e2.display()\n",
        "\n",
        "e3.display()"
      ],
      "metadata": {
        "colab": {
          "base_uri": "https://localhost:8080/"
        },
        "id": "ZKN0RF3_ulR2",
        "outputId": "042d5133-9635-4f1a-884f-9ef851b5e352"
      },
      "execution_count": null,
      "outputs": [
        {
          "output_type": "stream",
          "name": "stdout",
          "text": [
            "employe number:  100\n",
            "employe name:  sunnu\n",
            "employe salary:  1000\n",
            "employe address:  delhi\n",
            "employe number:  101\n",
            "employe name:  munni\n",
            "employe salary:  2000\n",
            "employe address:  chennai\n",
            "employe number:  102\n",
            "employe name:  vijay\n",
            "employe salary:  3000\n",
            "employe address:  kota\n"
          ]
        }
      ]
    },
    {
      "cell_type": "code",
      "source": [
        "# calling constructor explicitely\n",
        "class Test:\n",
        "  def __init__(self):\n",
        "    print('constructor execution...')\n",
        "    print(id(self))\n",
        "\n",
        "t = Test()\n",
        "t.__init__()\n",
        "t.__init__()\n",
        "t.__init__()"
      ],
      "metadata": {
        "colab": {
          "base_uri": "https://localhost:8080/"
        },
        "id": "P0EJ80Qbyswg",
        "outputId": "51a32f21-625e-4020-e8fd-559e0cabd163"
      },
      "execution_count": null,
      "outputs": [
        {
          "output_type": "stream",
          "name": "stdout",
          "text": [
            "constructor execution...\n",
            "135682846870112\n",
            "constructor execution...\n",
            "135682846870112\n",
            "constructor execution...\n",
            "135682846870112\n",
            "constructor execution...\n",
            "135682846870112\n"
          ]
        }
      ]
    },
    {
      "cell_type": "code",
      "source": [
        "class Test:\n",
        "  def __init_(self): # this constructor is overlaped by below constructor\n",
        "    print('no-arg constructor')\n",
        "\n",
        "  def __init__(self,x):\n",
        "    print('one-arg constructor')\n",
        "\n",
        "\n",
        "t1=Test()\n",
        "# if two method have same name but different argument\n",
        "# this a case of overloading"
      ],
      "metadata": {
        "colab": {
          "base_uri": "https://localhost:8080/",
          "height": 205
        },
        "id": "k_GGRZ9E0CEX",
        "outputId": "61397b81-e6d8-4a72-f2ca-06c5ba88ba37"
      },
      "execution_count": null,
      "outputs": [
        {
          "output_type": "error",
          "ename": "TypeError",
          "evalue": "ignored",
          "traceback": [
            "\u001b[0;31m---------------------------------------------------------------------------\u001b[0m",
            "\u001b[0;31mTypeError\u001b[0m                                 Traceback (most recent call last)",
            "\u001b[0;32m<ipython-input-22-275f644f1fbe>\u001b[0m in \u001b[0;36m<cell line: 9>\u001b[0;34m()\u001b[0m\n\u001b[1;32m      7\u001b[0m \u001b[0;34m\u001b[0m\u001b[0m\n\u001b[1;32m      8\u001b[0m \u001b[0;34m\u001b[0m\u001b[0m\n\u001b[0;32m----> 9\u001b[0;31m \u001b[0mt1\u001b[0m\u001b[0;34m=\u001b[0m\u001b[0mTest\u001b[0m\u001b[0;34m(\u001b[0m\u001b[0;34m)\u001b[0m\u001b[0;34m\u001b[0m\u001b[0;34m\u001b[0m\u001b[0m\n\u001b[0m",
            "\u001b[0;31mTypeError\u001b[0m: Test.__init__() missing 1 required positional argument: 'x'"
          ]
        }
      ]
    },
    {
      "cell_type": "code",
      "source": [
        "class Test:\n",
        "  def __init_(self): # this constructor is overlaped by below constructor\n",
        "    print('no-arg constructor')\n",
        "\n",
        "  def __init__(self,x):\n",
        "    print('one-arg constructor')\n",
        "\n",
        "\n",
        "t1=Test(10)"
      ],
      "metadata": {
        "colab": {
          "base_uri": "https://localhost:8080/"
        },
        "id": "ifrOxmpQ0wQy",
        "outputId": "beaae708-10ea-4425-d08f-7b87fec2c429"
      },
      "execution_count": null,
      "outputs": [
        {
          "output_type": "stream",
          "name": "stdout",
          "text": [
            "one-arg constructor\n"
          ]
        }
      ]
    },
    {
      "cell_type": "code",
      "source": [
        "class Test:\n",
        "  def __init_(self): # this constructor is overlaped by below constructor\n",
        "    print('no-arg constructor')\n",
        "\n",
        "  def __init__(self,x):\n",
        "    print('one-arg constructor')\n",
        "\n",
        "  def __init__(self,x,y):\n",
        "    print('two-arg constructor')\n",
        "\n",
        "t1=Test(10,20)"
      ],
      "metadata": {
        "colab": {
          "base_uri": "https://localhost:8080/"
        },
        "id": "TlHLLuUD7ijk",
        "outputId": "95d3f8f9-b770-4ab9-da60-a3d9e1cda3a1"
      },
      "execution_count": null,
      "outputs": [
        {
          "output_type": "stream",
          "name": "stdout",
          "text": [
            "two-arg constructor\n"
          ]
        }
      ]
    },
    {
      "cell_type": "code",
      "source": [
        "class Test:\n",
        "  def __init__(self,x,y):\n",
        "    print('two-arg constructor')\n",
        "\n",
        "  def __init_(self): # this constructor is overlaped by below constructor\n",
        "    print('no-arg constructor')\n",
        "\n",
        "  def __init__(self,x): # this is final constructor for the output\n",
        "    print('one-arg constructor')\n",
        "\n",
        "# t1=Test(10,20)\n",
        "t2=Test(12)"
      ],
      "metadata": {
        "colab": {
          "base_uri": "https://localhost:8080/"
        },
        "id": "UXSevJXt7tFs",
        "outputId": "19891208-b9f5-4ee8-e3d5-79596e0c7b96"
      },
      "execution_count": null,
      "outputs": [
        {
          "output_type": "stream",
          "name": "stdout",
          "text": [
            "one-arg constructor\n"
          ]
        }
      ]
    },
    {
      "cell_type": "code",
      "source": [
        "class Movies:\n",
        "  def __init__(self,name,hero,heroine,rating):\n",
        "    self.name=name\n",
        "    self.hero=hero\n",
        "    self.heroine=heroine\n",
        "    self.rating=rating\n",
        "\n",
        "  def info(self):\n",
        "    print('Movie Name: ',self.name)\n",
        "    print('Hero Name: ',self.hero)\n",
        "    print('Heroine Name: ',self.heroine)\n",
        "    print('Movie Rating: ',self.rating)\n",
        "    print()\n",
        "\n",
        "movies = [Movies('Bahubali','Prabahas','Anushka',90),\n",
        "          Movies('Spider','Mahesh','Rakul',60),\n",
        "          Movies('Rayees','Shahrukh','Sunny',80),\n",
        "          Movies('Sultan','Salman','Anushka',99)]\n",
        "for movie in movies:\n",
        "  movie.info()"
      ],
      "metadata": {
        "id": "4c2mSeBp76xj",
        "colab": {
          "base_uri": "https://localhost:8080/"
        },
        "outputId": "838addae-df17-44d0-d5e6-74afce1aa56a"
      },
      "execution_count": null,
      "outputs": [
        {
          "output_type": "stream",
          "name": "stdout",
          "text": [
            "Movie Name:  Bahubali\n",
            "Hero Name:  Prabahas\n",
            "Heroine Name:  Anushka\n",
            "Movie Rating:  90\n",
            "\n",
            "Movie Name:  Spider\n",
            "Hero Name:  Mahesh\n",
            "Heroine Name:  Rakul\n",
            "Movie Rating:  60\n",
            "\n",
            "Movie Name:  Rayees\n",
            "Hero Name:  Shahrukh\n",
            "Heroine Name:  Sunny\n",
            "Movie Rating:  80\n",
            "\n",
            "Movie Name:  Sultan\n",
            "Hero Name:  Salman\n",
            "Heroine Name:  Anushka\n",
            "Movie Rating:  99\n",
            "\n"
          ]
        }
      ]
    },
    {
      "cell_type": "code",
      "source": [
        "# without constructor giving data to info\n",
        "class Movies:\n",
        "\n",
        "  def info(self):\n",
        "    print('Movie Name: ',self.name)\n",
        "    print('Hero Name: ',self.hero)\n",
        "    print('Heroine Name: ',self.heroine)\n",
        "    print('Movie Rating: ',self.rating)\n",
        "    print()\n",
        "\n",
        "m = Movies()\n",
        "m.name= 'Bahubali'\n",
        "m.hero='Prabas'\n",
        "m.heroine='Anushka'\n",
        "m.rating=90\n",
        "\n",
        "m.info()"
      ],
      "metadata": {
        "colab": {
          "base_uri": "https://localhost:8080/"
        },
        "id": "H0JgNM93-0Nf",
        "outputId": "c15d48e3-1e15-449a-c22d-b7e07bb6f89d"
      },
      "execution_count": null,
      "outputs": [
        {
          "output_type": "stream",
          "name": "stdout",
          "text": [
            "Movie Name:  Bahubali\n",
            "Hero Name:  Prabas\n",
            "Heroine Name:  Anushka\n",
            "Movie Rating:  90\n",
            "\n"
          ]
        }
      ]
    },
    {
      "cell_type": "code",
      "source": [
        "# without constructor giving data to info\n",
        "class Movies:\n",
        "  def vd(self,name,hero,heroine,rating):\n",
        "    self.name=name\n",
        "    self.hero=hero\n",
        "    self.heroine=heroine\n",
        "    self.rating=rating\n",
        "\n",
        "  def info(self):\n",
        "    print('Movie Name: ',self.name)\n",
        "    print('Hero Name: ',self.hero)\n",
        "    print('Heroine Name: ',self.heroine)\n",
        "    print('Movie Rating: ',self.rating)\n",
        "    print()\n",
        "\n",
        "m=Movies()\n",
        "m.vd('Spider','Mahesh','Anishka',60)\n",
        "m.info()"
      ],
      "metadata": {
        "colab": {
          "base_uri": "https://localhost:8080/"
        },
        "id": "4lq_TDDtB6mE",
        "outputId": "f02c2598-b014-4cd4-8490-e7b2236bcdaf"
      },
      "execution_count": null,
      "outputs": [
        {
          "output_type": "stream",
          "name": "stdout",
          "text": [
            "Movie Name:  Spider\n",
            "Hero Name:  Mahesh\n",
            "Heroine Name:  Anishka\n",
            "Movie Rating:  60\n",
            "\n"
          ]
        }
      ]
    },
    {
      "cell_type": "code",
      "source": [
        "# Instance variable(object level variables)\n",
        "# if the values of a variables is varied from object to object\n",
        "\n",
        "#Where to use to declare instance variable\n",
        "# 1. inside constructor by using self variable\n",
        "# 2. inside instance method by using self variable\n",
        "# 3. outside of the class by using object reference variable"
      ],
      "metadata": {
        "id": "oTJDO7foCfBd"
      },
      "execution_count": null,
      "outputs": []
    },
    {
      "cell_type": "code",
      "source": [
        "# creating instance varible inside the constructor\n",
        "class Employee:\n",
        "  def __init__(self):\n",
        "    self.eno=100 # these are instance variables\n",
        "    self.ename='durga' # these are instance variables\n",
        "    self.esal='1000' # these are instance variables\n",
        "\n",
        "e=Employee()\n",
        "print(e.__dict__) # creating a dictionary\n",
        "print(e.ename)"
      ],
      "metadata": {
        "colab": {
          "base_uri": "https://localhost:8080/"
        },
        "id": "_nrMPg2WErS1",
        "outputId": "a85682ad-ac38-4368-db4b-cce33b1472db"
      },
      "execution_count": null,
      "outputs": [
        {
          "output_type": "stream",
          "name": "stdout",
          "text": [
            "{'eno': 100, 'ename': 'durga', 'esal': '1000'}\n",
            "durga\n"
          ]
        }
      ]
    },
    {
      "cell_type": "code",
      "source": [
        "# instance variable outside the class\n",
        "class Test:\n",
        "  def __init__(self):\n",
        "    self.a=10\n",
        "\n",
        "  def m1(self):\n",
        "    self.b=20\n",
        "\n",
        "t = Test()\n",
        "t.m1()\n",
        "t.c=30 # third instance variable outside the class\n",
        "print(t.__dict__) # only calls the constructor data\n"
      ],
      "metadata": {
        "colab": {
          "base_uri": "https://localhost:8080/"
        },
        "id": "jyw7PlFJE9N7",
        "outputId": "48102ae0-bda7-4174-e4fe-2551f66ed61e"
      },
      "execution_count": null,
      "outputs": [
        {
          "output_type": "stream",
          "name": "stdout",
          "text": [
            "{'a': 10, 'b': 20, 'c': 30}\n"
          ]
        }
      ]
    },
    {
      "cell_type": "code",
      "source": [
        "class Test:\n",
        "  def __init__(self):\n",
        "    self.a=10\n",
        "\n",
        "  def m1(self):\n",
        "    self.b=20\n",
        "\n",
        "t1=Test()\n",
        "t2=Test()\n",
        "t1.m1()\n",
        "t2.x=777\n",
        "print(t1.__dict__)\n",
        "print(t2.__dict__)"
      ],
      "metadata": {
        "colab": {
          "base_uri": "https://localhost:8080/"
        },
        "id": "dmeXCD1zFgYL",
        "outputId": "1cefb127-6271-44ae-ad8f-1f74080a3443"
      },
      "execution_count": null,
      "outputs": [
        {
          "output_type": "stream",
          "name": "stdout",
          "text": [
            "{'a': 10, 'b': 20}\n",
            "{'a': 10, 'x': 777}\n"
          ]
        }
      ]
    },
    {
      "cell_type": "code",
      "source": [
        "# How to access instance variables\n",
        "# within the class using 'self'\n",
        "# outside the class by using object reference\n"
      ],
      "metadata": {
        "id": "b1LhVjbjG0un"
      },
      "execution_count": null,
      "outputs": []
    },
    {
      "cell_type": "code",
      "source": [
        "class Test:\n",
        "  def __init__(self):\n",
        "    self.a=10\n",
        "    self.b=20\n",
        "\n",
        "  def m1(self):\n",
        "    print(self.a)\n",
        "    print(self.b)\n",
        "\n",
        "t = Test()\n",
        "t.m1()  # within the class\n",
        "#outside the class\n",
        "print(t.a)\n",
        "print(t.b)"
      ],
      "metadata": {
        "colab": {
          "base_uri": "https://localhost:8080/"
        },
        "id": "ZsxFIUkvHlZ_",
        "outputId": "8325df12-06be-47b8-f89f-f3f50c2176c5"
      },
      "execution_count": null,
      "outputs": [
        {
          "output_type": "stream",
          "name": "stdout",
          "text": [
            "10\n",
            "20\n",
            "10\n",
            "20\n"
          ]
        }
      ]
    },
    {
      "cell_type": "code",
      "source": [
        "# to delete the instance variable\n",
        "# del self.variablename\n",
        "# del objref.variablename"
      ],
      "metadata": {
        "id": "WoFeFi53Ho9G"
      },
      "execution_count": null,
      "outputs": []
    },
    {
      "cell_type": "code",
      "source": [
        "class Test:\n",
        "  def __init__(self):\n",
        "    self.a=10\n",
        "    self.b=20\n",
        "    self.c=30\n",
        "    self.d=40\n",
        "\n",
        "  def m1(self):\n",
        "    del self.b # deleting inside the instance variable\n",
        "\n",
        "t = Test()\n",
        "t.m1()\n",
        "del t.a # deleting outside the instance variable\n",
        "print(t.__dict__)"
      ],
      "metadata": {
        "colab": {
          "base_uri": "https://localhost:8080/"
        },
        "id": "KVP1K_FqIh-3",
        "outputId": "84987daa-2dc2-465f-c6db-49380cbf1760"
      },
      "execution_count": null,
      "outputs": [
        {
          "output_type": "stream",
          "name": "stdout",
          "text": [
            "{'c': 30, 'd': 40}\n"
          ]
        }
      ]
    },
    {
      "cell_type": "code",
      "source": [
        "class Test:\n",
        "  def __init__(self):\n",
        "    self.a=10\n",
        "\n",
        "\n",
        "  def m1(self):\n",
        "    self.a=777\n",
        "    self.b=888\n",
        "\n",
        "t=Test()\n",
        "t.m1()\n",
        "t.b=999\n",
        "t.c=666\n",
        "print(t.__dict__)\n",
        "# it will always update the latest values"
      ],
      "metadata": {
        "colab": {
          "base_uri": "https://localhost:8080/"
        },
        "id": "mumN41L7Ixmb",
        "outputId": "e905e460-9998-4dac-8879-f37da3799744"
      },
      "execution_count": null,
      "outputs": [
        {
          "output_type": "stream",
          "name": "stdout",
          "text": [
            "{'a': 777, 'b': 999, 'c': 666}\n"
          ]
        }
      ]
    },
    {
      "cell_type": "code",
      "source": [
        "class Test:\n",
        "  def __init__(self):\n",
        "    self.a=10\n",
        "    self.b=20\n",
        "\n",
        "t1 = Test()\n",
        "t1.a=777\n",
        "t2 = Test()\n",
        "t2.b=888\n",
        "print(t1.a,t1.b)\n",
        "print(t2.a,t2.b)"
      ],
      "metadata": {
        "id": "z83Eq_fxJjzR",
        "colab": {
          "base_uri": "https://localhost:8080/"
        },
        "outputId": "faa7f0b4-35b5-42be-977c-230fa603d323"
      },
      "execution_count": null,
      "outputs": [
        {
          "output_type": "stream",
          "name": "stdout",
          "text": [
            "777 20\n",
            "10 888\n"
          ]
        }
      ]
    },
    {
      "cell_type": "code",
      "source": [
        "# Static Variable\n",
        "#class Student:\n",
        " # def __init__(self,name,rollno):\n",
        "  #  self.name=name\n",
        "   # self.rollno=rollno\n",
        "    #cname='DurgraSoft' # static variable is shared with all the objects\n"
      ],
      "metadata": {
        "id": "FbmMLCZfexhl"
      },
      "execution_count": null,
      "outputs": []
    },
    {
      "cell_type": "code",
      "source": [
        "# Static Variable\n",
        "class Test:\n",
        "  a =10 # static variable is outside the constructor and module\n",
        "  def __init__(self):\n",
        "    self.b=20\n",
        "\n",
        "t1=Test()\n",
        "t1.b=777\n",
        "Test.a=888\n",
        "t2=Test()\n",
        "print(t1.a,t1.b)\n",
        "print(t2.a,t2.b)"
      ],
      "metadata": {
        "colab": {
          "base_uri": "https://localhost:8080/"
        },
        "id": "08FGaUeLhabh",
        "outputId": "e965c87d-1e8a-4360-b091-f4cf95604730"
      },
      "execution_count": null,
      "outputs": [
        {
          "output_type": "stream",
          "name": "stdout",
          "text": [
            "888 777\n",
            "888 20\n"
          ]
        }
      ]
    },
    {
      "cell_type": "code",
      "source": [
        "# Static variable: obly one copy will be created at class level\n",
        "# instance variable: for every object a seperate copy is created"
      ],
      "metadata": {
        "id": "l4Ndf1n9iAhF"
      },
      "execution_count": null,
      "outputs": []
    },
    {
      "cell_type": "code",
      "source": [
        "print(Test.a)"
      ],
      "metadata": {
        "colab": {
          "base_uri": "https://localhost:8080/"
        },
        "id": "PZTyZdnyjPEt",
        "outputId": "13d10334-c81e-40c9-df63-02dbfd47784a"
      },
      "execution_count": null,
      "outputs": [
        {
          "output_type": "stream",
          "name": "stdout",
          "text": [
            "888\n"
          ]
        }
      ]
    },
    {
      "cell_type": "code",
      "source": [
        "class Test:\n",
        "  a =10 # static variable is outside the constructor and module\n",
        "  def __init__(self):\n",
        "    self.b=20\n",
        "\n",
        "t1=Test()\n",
        "t1.b=777\n",
        "t1.a=888 # here created a instance variable for t1 variable\n",
        "t2=Test()\n",
        "print(t1.a,t1.b)\n",
        "print(t2.a,t2.b)"
      ],
      "metadata": {
        "colab": {
          "base_uri": "https://localhost:8080/"
        },
        "id": "MZoeUQgnjSL7",
        "outputId": "3a14cf88-9d0b-4ef5-829b-c7cedf88de2a"
      },
      "execution_count": null,
      "outputs": [
        {
          "output_type": "stream",
          "name": "stdout",
          "text": [
            "888 777\n",
            "10 20\n"
          ]
        }
      ]
    },
    {
      "cell_type": "code",
      "source": [
        "# various places to declare static variable\n",
        "# 1. Inside class directly\n",
        "# 2. inside constructor by using class name\n",
        "# 3. inside instance method by using classname\n",
        "# 4. inside class method by using cls variable or class name\n",
        "# 5. inside static method by using class method\n",
        "# 6. from outside of the class"
      ],
      "metadata": {
        "id": "Ofvdn6o5k1TZ"
      },
      "execution_count": null,
      "outputs": []
    },
    {
      "cell_type": "code",
      "source": [
        "from types import MethodDescriptorType\n",
        "class Test:\n",
        "  def __init__(self):\n",
        "    pass\n",
        "\n",
        "  def m1(self):\n",
        "    instance Method\n",
        "\n",
        "  @classmethod\n",
        "  def m2(cls):\n",
        "    class method\n",
        "\n",
        "  @staticmethod\n",
        "  def m3():\n",
        "    static method"
      ],
      "metadata": {
        "id": "p-rlkNvWmXrh"
      },
      "execution_count": null,
      "outputs": []
    },
    {
      "cell_type": "code",
      "source": [
        "class Test:\n",
        "  a=10\n",
        "  def __init__(self):\n",
        "    Test.b=20\n",
        "\n",
        "  def m1 (self):\n",
        "    Test.c=30\n",
        "\n",
        "  @classmethod\n",
        "  def m2(cls):\n",
        "    Test.d=40\n",
        "    cls.e=50\n",
        "\n",
        "  @staticmethod\n",
        "  def m3():\n",
        "    Test.f=60\n",
        "print(Test.__dict__)\n",
        "# only a static variable is the output"
      ],
      "metadata": {
        "colab": {
          "base_uri": "https://localhost:8080/"
        },
        "id": "reV1qfsGnwdi",
        "outputId": "ecd208ff-a6ac-4d3d-f3e1-811da7a83307"
      },
      "execution_count": null,
      "outputs": [
        {
          "output_type": "stream",
          "name": "stdout",
          "text": [
            "{'__module__': '__main__', 'a': 10, '__init__': <function Test.__init__ at 0x7cf732573400>, 'm1': <function Test.m1 at 0x7cf732573f40>, 'm2': <classmethod(<function Test.m2 at 0x7cf732570430>)>, 'm3': <staticmethod(<function Test.m3 at 0x7cf732570280>)>, '__dict__': <attribute '__dict__' of 'Test' objects>, '__weakref__': <attribute '__weakref__' of 'Test' objects>, '__doc__': None}\n"
          ]
        }
      ]
    },
    {
      "cell_type": "code",
      "source": [
        "class Test:\n",
        "  a=10\n",
        "  def __init__(self):\n",
        "    Test.b=20\n",
        "\n",
        "  def m1 (self):\n",
        "    Test.c=30\n",
        "\n",
        "  @classmethod\n",
        "  def m2(cls):\n",
        "    Test.d=40\n",
        "    cls.e=50\n",
        "\n",
        "  @staticmethod\n",
        "  def m3():\n",
        "    Test.f=60\n",
        "print(Test.__dict__)\n",
        "t = Test()\n",
        "print(Test.__dict__)\n",
        "# here a and b static variables are called"
      ],
      "metadata": {
        "colab": {
          "base_uri": "https://localhost:8080/"
        },
        "id": "LN1kCsHTohS0",
        "outputId": "514cde23-ef6d-4b4a-efbc-f278325054d2"
      },
      "execution_count": null,
      "outputs": [
        {
          "output_type": "stream",
          "name": "stdout",
          "text": [
            "{'__module__': '__main__', 'a': 10, '__init__': <function Test.__init__ at 0x7cf732413880>, 'm1': <function Test.m1 at 0x7cf732412c20>, 'm2': <classmethod(<function Test.m2 at 0x7cf732413370>)>, 'm3': <staticmethod(<function Test.m3 at 0x7cf732413910>)>, '__dict__': <attribute '__dict__' of 'Test' objects>, '__weakref__': <attribute '__weakref__' of 'Test' objects>, '__doc__': None}\n",
            "{'__module__': '__main__', 'a': 10, '__init__': <function Test.__init__ at 0x7cf732413880>, 'm1': <function Test.m1 at 0x7cf732412c20>, 'm2': <classmethod(<function Test.m2 at 0x7cf732413370>)>, 'm3': <staticmethod(<function Test.m3 at 0x7cf732413910>)>, '__dict__': <attribute '__dict__' of 'Test' objects>, '__weakref__': <attribute '__weakref__' of 'Test' objects>, '__doc__': None, 'b': 20}\n"
          ]
        }
      ]
    },
    {
      "cell_type": "code",
      "source": [
        "class Test:\n",
        "  a=10\n",
        "  def __init__(self):\n",
        "    Test.b=20\n",
        "\n",
        "  def m1 (self):\n",
        "    Test.c=30\n",
        "\n",
        "  @classmethod\n",
        "  def m2(cls):\n",
        "    Test.d=40\n",
        "    cls.e=50\n",
        "\n",
        "  @staticmethod\n",
        "  def m3():\n",
        "    Test.f=60\n",
        "\n",
        "t = Test()\n",
        "t.m1()\n",
        "print(Test.__dict__)\n",
        "# here a, b , c are called"
      ],
      "metadata": {
        "colab": {
          "base_uri": "https://localhost:8080/"
        },
        "id": "mHyW7RhYo1RW",
        "outputId": "3543eec3-7427-4e95-9f14-8b8ecc4cce47"
      },
      "execution_count": null,
      "outputs": [
        {
          "output_type": "stream",
          "name": "stdout",
          "text": [
            "{'__module__': '__main__', 'a': 10, '__init__': <function Test.__init__ at 0x7cf732553e20>, 'm1': <function Test.m1 at 0x7cf732552dd0>, 'm2': <classmethod(<function Test.m2 at 0x7cf732553ac0>)>, 'm3': <staticmethod(<function Test.m3 at 0x7cf732552cb0>)>, '__dict__': <attribute '__dict__' of 'Test' objects>, '__weakref__': <attribute '__weakref__' of 'Test' objects>, '__doc__': None, 'b': 20, 'c': 30}\n"
          ]
        }
      ]
    },
    {
      "cell_type": "code",
      "source": [
        "class Test:\n",
        "  a=10\n",
        "  def __init__(self):\n",
        "    Test.b=20\n",
        "\n",
        "  def m1 (self):\n",
        "    Test.c=30\n",
        "\n",
        "  @classmethod\n",
        "  def m2(cls):\n",
        "    Test.d=40\n",
        "    cls.e=50\n",
        "\n",
        "  @staticmethod\n",
        "  def m3():\n",
        "    Test.f=60\n",
        "\n",
        "t = Test()\n",
        "t.m1()\n",
        "t.m2()\n",
        "print(Test.__dict__)\n",
        "# here output are a,b,c,d,e"
      ],
      "metadata": {
        "colab": {
          "base_uri": "https://localhost:8080/"
        },
        "id": "LqnjN744pHyV",
        "outputId": "efd67cb2-9ba0-480e-d6d6-685a528dab9e"
      },
      "execution_count": null,
      "outputs": [
        {
          "output_type": "stream",
          "name": "stdout",
          "text": [
            "{'__module__': '__main__', 'a': 10, '__init__': <function Test.__init__ at 0x7cf7575ecee0>, 'm1': <function Test.m1 at 0x7cf764301b40>, 'm2': <classmethod(<function Test.m2 at 0x7cf7643020e0>)>, 'm3': <staticmethod(<function Test.m3 at 0x7cf75741a4d0>)>, '__dict__': <attribute '__dict__' of 'Test' objects>, '__weakref__': <attribute '__weakref__' of 'Test' objects>, '__doc__': None, 'b': 20, 'c': 30, 'd': 40, 'e': 50}\n"
          ]
        }
      ]
    },
    {
      "cell_type": "code",
      "source": [
        "class Test:\n",
        "  a=10\n",
        "  def __init__(self):\n",
        "    Test.b=20\n",
        "\n",
        "  def m1 (self):\n",
        "    Test.c=30\n",
        "\n",
        "  @classmethod\n",
        "  def m2(cls):\n",
        "    Test.d=40\n",
        "    cls.e=50\n",
        "\n",
        "  @staticmethod\n",
        "  def m3():\n",
        "    Test.f=60\n",
        "\n",
        "t = Test()\n",
        "t.m1()\n",
        "t.m2()\n",
        "t.m3()\n",
        "print(Test.__dict__)\n",
        "#  all the variable are called from a to f"
      ],
      "metadata": {
        "colab": {
          "base_uri": "https://localhost:8080/"
        },
        "id": "nBHxL_MqpmYR",
        "outputId": "ff05ba37-99a6-41a6-daa6-a5e7621a931c"
      },
      "execution_count": null,
      "outputs": [
        {
          "output_type": "stream",
          "name": "stdout",
          "text": [
            "{'__module__': '__main__', 'a': 10, '__init__': <function Test.__init__ at 0x7cf732573d00>, 'm1': <function Test.m1 at 0x7cf7324137f0>, 'm2': <classmethod(<function Test.m2 at 0x7cf732412290>)>, 'm3': <staticmethod(<function Test.m3 at 0x7cf732411360>)>, '__dict__': <attribute '__dict__' of 'Test' objects>, '__weakref__': <attribute '__weakref__' of 'Test' objects>, '__doc__': None, 'b': 20, 'c': 30, 'd': 40, 'e': 50, 'f': 60}\n"
          ]
        }
      ]
    },
    {
      "cell_type": "code",
      "source": [
        "class Test:\n",
        "  a=10\n",
        "  def __init__(self):\n",
        "    Test.b=20\n",
        "\n",
        "  def m1 (self):\n",
        "    Test.c=30\n",
        "\n",
        "  @classmethod\n",
        "  def m2(cls):\n",
        "    Test.d=40\n",
        "    cls.e=50\n",
        "\n",
        "  @staticmethod\n",
        "  def m3():\n",
        "    Test.f=60\n",
        "\n",
        "t = Test()\n",
        "t.m1()\n",
        "t.m2()\n",
        "t.m3()\n",
        "Test.g=70\n",
        "print(Test.__dict__)\n",
        "# here a, b , c are called"
      ],
      "metadata": {
        "colab": {
          "base_uri": "https://localhost:8080/"
        },
        "id": "TWIouvQSp4ST",
        "outputId": "03540320-e4e2-4bd5-b0b3-83e10053e3b7"
      },
      "execution_count": null,
      "outputs": [
        {
          "output_type": "stream",
          "name": "stdout",
          "text": [
            "{'__module__': '__main__', 'a': 10, '__init__': <function Test.__init__ at 0x7cf732412200>, 'm1': <function Test.m1 at 0x7cf732410430>, 'm2': <classmethod(<function Test.m2 at 0x7cf7324128c0>)>, 'm3': <staticmethod(<function Test.m3 at 0x7cf732410ee0>)>, '__dict__': <attribute '__dict__' of 'Test' objects>, '__weakref__': <attribute '__weakref__' of 'Test' objects>, '__doc__': None, 'b': 20, 'c': 30, 'd': 40, 'e': 50, 'f': 60, 'g': 70}\n"
          ]
        }
      ]
    },
    {
      "cell_type": "code",
      "source": [
        "class Test:\n",
        "  a=77\n",
        "  def __init__(self):\n",
        "    self.a=888\n",
        "\n",
        "t=Test()\n",
        "print(t.a) # instance variable is called by using object reference\n",
        "print(Test.a) # static variable is called by using class name"
      ],
      "metadata": {
        "colab": {
          "base_uri": "https://localhost:8080/"
        },
        "id": "0Qb_B_aRqEpB",
        "outputId": "707291a4-0740-427b-8393-bdd9f2eb0324"
      },
      "execution_count": null,
      "outputs": [
        {
          "output_type": "stream",
          "name": "stdout",
          "text": [
            "888\n",
            "77\n"
          ]
        }
      ]
    },
    {
      "cell_type": "code",
      "source": [
        "# how to access the static variable\n",
        "# 1. inside constructor: either by self or by classname\n",
        "# 2. inside instance method: either by self or by class name\n",
        "# 3. inside class method: either by cls or by classname\n",
        "# 4. inside static method: by classname\n",
        "# 5. outside of class: either by object reference or by classname"
      ],
      "metadata": {
        "id": "Zz04lhDLq5FO"
      },
      "execution_count": null,
      "outputs": []
    },
    {
      "cell_type": "code",
      "source": [
        "class Test:\n",
        "  a=10\n",
        "  def __init__(self):\n",
        "    print(self.a)\n",
        "    print(Test.a)\n",
        "\n",
        "  def m1(self):\n",
        "    print(self.a)\n",
        "    print(Test.a)\n",
        "\n",
        "  @classmethod\n",
        "  def m2(cls):\n",
        "    print(cls.a)\n",
        "    print(Test.a)\n",
        "\n",
        "  @staticmethod\n",
        "  def m3():\n",
        "    print(Test.a)\n",
        "\n",
        "print(Test.a)\n",
        "t=Test()\n",
        "print(t.a)"
      ],
      "metadata": {
        "colab": {
          "base_uri": "https://localhost:8080/"
        },
        "id": "ZPaJ1Z-_a0NN",
        "outputId": "33171628-2c58-4a98-da28-c155762692fe"
      },
      "execution_count": null,
      "outputs": [
        {
          "output_type": "stream",
          "name": "stdout",
          "text": [
            "10\n",
            "10\n",
            "10\n",
            "10\n"
          ]
        }
      ]
    },
    {
      "cell_type": "code",
      "source": [
        "class Test:\n",
        "  a=10\n",
        "  def __init__(self):\n",
        "    print(self.a)\n",
        "    print(Test.a)\n",
        "\n",
        "  def m1(self):\n",
        "    print(self.a)\n",
        "    print(Test.a)\n",
        "\n",
        "  @classmethod\n",
        "  def m2(cls):\n",
        "    print(cls.a)\n",
        "    print(Test.a)\n",
        "\n",
        "  @staticmethod\n",
        "  def m3():\n",
        "    print(Test.a)\n",
        "\n",
        "print(Test.a)\n",
        "t=Test()\n",
        "print(t.a)\n",
        "t.m1()\n",
        "t.m2()\n",
        "t.m3()"
      ],
      "metadata": {
        "colab": {
          "base_uri": "https://localhost:8080/"
        },
        "id": "IEYHI5tDbqYh",
        "outputId": "46d9980d-54a9-4946-e21b-3be4f50919be"
      },
      "execution_count": null,
      "outputs": [
        {
          "output_type": "stream",
          "name": "stdout",
          "text": [
            "10\n",
            "10\n",
            "10\n",
            "10\n",
            "10\n",
            "10\n",
            "10\n",
            "10\n",
            "10\n"
          ]
        }
      ]
    },
    {
      "cell_type": "code",
      "source": [
        "# where we can modify the value of static variable:\n",
        "# 1. by using class name\n",
        "# 2. inside classmethod by using cls variable also"
      ],
      "metadata": {
        "id": "MsKs37jHb06U"
      },
      "execution_count": null,
      "outputs": []
    },
    {
      "cell_type": "code",
      "source": [
        "class Test:\n",
        "  a = 10\n",
        "  def __init__(self):\n",
        "    a = 888 # local variable\n",
        "\n",
        "  def m1(self): pass\n",
        "\n",
        "  @classmethod\n",
        "  def m2(cls): pass\n",
        "\n",
        "  @staticmethod\n",
        "  def m3(): pass\n",
        "\n",
        "t= Test()\n",
        "print(Test.a)\n",
        "print(t.a)"
      ],
      "metadata": {
        "colab": {
          "base_uri": "https://localhost:8080/"
        },
        "id": "UdiolHCdcqIK",
        "outputId": "5c8127b7-cb22-447b-831b-c1fc48de4579"
      },
      "execution_count": null,
      "outputs": [
        {
          "output_type": "stream",
          "name": "stdout",
          "text": [
            "10\n",
            "10\n"
          ]
        }
      ]
    },
    {
      "cell_type": "code",
      "source": [
        "class Test:\n",
        "  a = 10\n",
        "  def __init__(self):\n",
        "    self.a = 888\n",
        "\n",
        "  def m1(self): pass\n",
        "\n",
        "  @classmethod\n",
        "  def m2(cls): pass\n",
        "\n",
        "  @staticmethod\n",
        "  def m3(): pass\n",
        "\n",
        "t= Test()\n",
        "print(Test.a)\n",
        "print(t.a)"
      ],
      "metadata": {
        "colab": {
          "base_uri": "https://localhost:8080/"
        },
        "id": "d72j3P0DdBa8",
        "outputId": "445ab7e3-a854-4008-ebfd-54d5ced8d895"
      },
      "execution_count": null,
      "outputs": [
        {
          "output_type": "stream",
          "name": "stdout",
          "text": [
            "10\n",
            "888\n"
          ]
        }
      ]
    },
    {
      "cell_type": "code",
      "source": [
        "class Test:\n",
        "  a = 10\n",
        "  def __init__(self):\n",
        "    Test.a = 888\n",
        "    self.a=777\n",
        "    a=9999\n",
        "    print(a)\n",
        "    print(self.a)\n",
        "    print(Test.a)\n",
        "\n",
        "  def m1(self): pass\n",
        "\n",
        "  @classmethod\n",
        "  def m2(cls): pass\n",
        "\n",
        "  @staticmethod\n",
        "  def m3(): pass\n",
        "\n",
        "t= Test()\n",
        "print(Test.a)\n",
        "print(t.a)"
      ],
      "metadata": {
        "colab": {
          "base_uri": "https://localhost:8080/"
        },
        "id": "rx-7ECeLdO-1",
        "outputId": "fa66ec7e-1629-4170-cac9-078c2cbc3b7c"
      },
      "execution_count": null,
      "outputs": [
        {
          "output_type": "stream",
          "name": "stdout",
          "text": [
            "9999\n",
            "777\n",
            "888\n",
            "888\n",
            "777\n"
          ]
        }
      ]
    },
    {
      "cell_type": "code",
      "source": [
        "class Test:\n",
        "  a=10\n",
        "  def m1(self):\n",
        "    self.a=888\n",
        "t1=Test()\n",
        "t1.m1()\n",
        "print(Test.a)\n",
        "print(t1.a)"
      ],
      "metadata": {
        "id": "rjsbQCuJd1IX",
        "colab": {
          "base_uri": "https://localhost:8080/"
        },
        "outputId": "5415b81b-ac1e-4afc-8a2c-6c83f3768288"
      },
      "execution_count": null,
      "outputs": [
        {
          "output_type": "stream",
          "name": "stdout",
          "text": [
            "10\n",
            "888\n"
          ]
        }
      ]
    },
    {
      "cell_type": "code",
      "source": [
        "class Test:\n",
        "  x=10\n",
        "  def __init__(self):\n",
        "    self.y=20\n",
        "\n",
        "t1=Test()\n",
        "t2=Test()\n",
        "print(t1.x,t1.y)\n",
        "print(t2.x,t2.y)\n",
        "t1.x=888\n",
        "t1.y=999\n",
        "print(t1.x,t1.y)\n",
        "print(t2.x,t2.y)"
      ],
      "metadata": {
        "colab": {
          "base_uri": "https://localhost:8080/"
        },
        "id": "dUdT6xKrYvMM",
        "outputId": "3f61ae33-8758-44d3-e7c3-525023281240"
      },
      "execution_count": null,
      "outputs": [
        {
          "output_type": "stream",
          "name": "stdout",
          "text": [
            "10 20\n",
            "10 20\n",
            "888 999\n",
            "10 20\n"
          ]
        }
      ]
    },
    {
      "cell_type": "code",
      "source": [
        "class Test:\n",
        "  a=10\n",
        "  def __init__(self):\n",
        "    self.b=20\n",
        "t1=Test()\n",
        "t2=Test()\n",
        "Test.a=888\n",
        "t1.b=999\n",
        "print(t1.a,t1.b)\n",
        "print(t2.a,t2.b)"
      ],
      "metadata": {
        "colab": {
          "base_uri": "https://localhost:8080/"
        },
        "id": "C9czpWDZZxvC",
        "outputId": "14c42e1d-1dab-4b35-8f54-294cfc1a6ecb"
      },
      "execution_count": null,
      "outputs": [
        {
          "output_type": "stream",
          "name": "stdout",
          "text": [
            "888 999\n",
            "888 20\n"
          ]
        }
      ]
    },
    {
      "cell_type": "code",
      "source": [
        "class Test:\n",
        "  a=10\n",
        "  def __init__(self):\n",
        "    self.b=20\n",
        "\n",
        "  def m1(self):\n",
        "    self.a=888\n",
        "    self.b=999\n",
        "t1=Test()\n",
        "t2=Test()\n",
        "t1.m1()\n",
        "print(t1.a,t1.b)\n",
        "print(t2.a,t2.b)"
      ],
      "metadata": {
        "colab": {
          "base_uri": "https://localhost:8080/"
        },
        "id": "L2ZMh52WbVyE",
        "outputId": "e51584ca-c16b-4e2f-d255-6df80b37ec78"
      },
      "execution_count": null,
      "outputs": [
        {
          "output_type": "stream",
          "name": "stdout",
          "text": [
            "888 999\n",
            "10 20\n"
          ]
        }
      ]
    },
    {
      "cell_type": "code",
      "source": [
        "class Test:\n",
        "  a=10\n",
        "  def __init__(self):\n",
        "    self.b=20\n",
        "\n",
        "  @classmethod\n",
        "  def m1(cls):\n",
        "    cls.a=888\n",
        "    cls.b=999\n",
        "t1=Test()\n",
        "t2=Test()\n",
        "t1.m1()\n",
        "\n",
        "print(t1.a,t1.b)\n",
        "print(t2.a,t2.b)\n",
        "print(Test.a,Test.b)"
      ],
      "metadata": {
        "colab": {
          "base_uri": "https://localhost:8080/"
        },
        "id": "lY590KvdcpBL",
        "outputId": "64f4c3d4-5dda-4eb4-ccbb-4e0ba1577f86"
      },
      "execution_count": null,
      "outputs": [
        {
          "output_type": "stream",
          "name": "stdout",
          "text": [
            "888 20\n",
            "888 20\n",
            "888 999\n"
          ]
        }
      ]
    },
    {
      "cell_type": "code",
      "source": [
        "# how to delete the static variable\n",
        "# del classname.variablename\n",
        "# Inside class methods\n",
        "# 1. del classname.variablename\n",
        "# 2. del cls.varablename"
      ],
      "metadata": {
        "id": "0dX8CIJId0ma"
      },
      "execution_count": 1,
      "outputs": []
    },
    {
      "cell_type": "code",
      "source": [
        "class Test:\n",
        "  a=10\n",
        "  @classmethod\n",
        "  def m1(cls):\n",
        "    del cls.a\n",
        "\n",
        "Test.m1()\n",
        "print(Test.__dict__)\n"
      ],
      "metadata": {
        "colab": {
          "base_uri": "https://localhost:8080/"
        },
        "id": "2AuIhDQm7pIx",
        "outputId": "4a115670-0a6c-40c9-fe97-7ae8c298f741"
      },
      "execution_count": 3,
      "outputs": [
        {
          "output_type": "stream",
          "name": "stdout",
          "text": [
            "{'__module__': '__main__', 'm1': <classmethod(<function Test.m1 at 0x7f546724fe20>)>, '__dict__': <attribute '__dict__' of 'Test' objects>, '__weakref__': <attribute '__weakref__' of 'Test' objects>, '__doc__': None}\n"
          ]
        }
      ]
    },
    {
      "cell_type": "code",
      "source": [
        "class Test:\n",
        "  a=10\n",
        "  def __init__(self):\n",
        "    Test.b=20\n",
        "    del Test.a\n",
        "\n",
        "  def m1(self):\n",
        "    Test.c=30\n",
        "    del Test.b\n",
        "\n",
        "  @classmethod\n",
        "  def m2(cls):\n",
        "    cls.d =40\n",
        "    del Test.c\n",
        "\n",
        "  @staticmethod\n",
        "  def m3():\n",
        "    Test.e=50\n",
        "    del Test.d\n",
        "\n",
        "t=Test()\n",
        "t.m1()\n",
        "Test.m2()\n",
        "Test.m3()\n",
        "print(Test.__dict__)"
      ],
      "metadata": {
        "colab": {
          "base_uri": "https://localhost:8080/"
        },
        "id": "K-UXlZJw8BZ6",
        "outputId": "2b9dd495-6b64-40f7-c9bc-c495db6180fa"
      },
      "execution_count": 8,
      "outputs": [
        {
          "output_type": "stream",
          "name": "stdout",
          "text": [
            "{'__module__': '__main__', '__init__': <function Test.__init__ at 0x7f54980aec20>, 'm1': <function Test.m1 at 0x7f5467282170>, 'm2': <classmethod(<function Test.m2 at 0x7f5467281990>)>, 'm3': <staticmethod(<function Test.m3 at 0x7f5467282dd0>)>, '__dict__': <attribute '__dict__' of 'Test' objects>, '__weakref__': <attribute '__weakref__' of 'Test' objects>, '__doc__': None, 'e': 50}\n"
          ]
        }
      ]
    },
    {
      "cell_type": "code",
      "source": [
        "'''We can access static variable either by object reference or\n",
        "by classname. But we cannot modify and delete static variables by\n",
        "using object reference. Compulsary we should use classname only.'''\n",
        "\n",
        "class Test:\n",
        "  a=10\n",
        "\n",
        "t=Test()\n",
        "t.a=777 # instance varibale is not static variable\n",
        "del t.a\n",
        "print(t.a) # valid\n",
        "print(Test.a) # valid"
      ],
      "metadata": {
        "colab": {
          "base_uri": "https://localhost:8080/"
        },
        "id": "LC12Pr3r8nwQ",
        "outputId": "2ba13661-cb85-45f2-d537-1a7e590db158"
      },
      "execution_count": 11,
      "outputs": [
        {
          "output_type": "stream",
          "name": "stdout",
          "text": [
            "10\n",
            "10\n"
          ]
        }
      ]
    },
    {
      "cell_type": "code",
      "source": [
        "# local variable\n",
        "class Test:\n",
        "  def m1(self):\n",
        "    a =1000 # local variable\n",
        "    print(a)\n",
        "\n",
        "  def m2(self):\n",
        "    b=2000 # local variable\n",
        "    print(b)\n",
        "\n",
        "t=Test()\n",
        "t.m1()\n",
        "t.m2()"
      ],
      "metadata": {
        "colab": {
          "base_uri": "https://localhost:8080/"
        },
        "id": "IdJ6pdoP-Fso",
        "outputId": "cb215d95-637a-491a-fcbf-5ac286e6d483"
      },
      "execution_count": 12,
      "outputs": [
        {
          "output_type": "stream",
          "name": "stdout",
          "text": [
            "1000\n",
            "2000\n"
          ]
        }
      ]
    },
    {
      "cell_type": "code",
      "source": [
        "import sys\n",
        "class Customer:\n",
        "  '''customer class with bank operations'''\n",
        "  bankname='BankofIndia' # static variable\n",
        "  def __init__(self,name,balance=0.0):\n",
        "    self.name=name # instance variable\n",
        "    self.balance=balance # instance variable\n",
        "\n",
        "  def deposit(self,amount):\n",
        "    self.balance=self.balance+amount\n",
        "    print('The balance after deposit: ',self.balance)\n",
        "\n",
        "  def withdraw(self,amount):\n",
        "    if amount > self.balance:\n",
        "      print('Insufficient funds....cannot perform this operation')\n",
        "      sys.exit()\n",
        "    self.balance=self.balance-amount\n",
        "    print('The balance after withdraw: ',self.balance)\n",
        "\n",
        "print('Welcome to',Customer.bankname)\n",
        "name=input('Enter Your Name: ')\n",
        "c = Customer(name)\n",
        "while True:\n",
        "  print('d-Deposit \\n w-withdraw \\n e-exit')\n",
        "  option=input('Choose your option').lower()\n",
        "  if option=='d':\n",
        "    amount=float(input('Enter amount to deposit'))\n",
        "    c.deposit(amount)\n",
        "\n",
        "  elif option=='w':\n",
        "    amount=float(input('Enter amount to withdraw'))\n",
        "    c.withdraw(amount)\n",
        "\n",
        "  elif option=='e':\n",
        "    print('Thanks for Bamking')\n",
        "    sys.exit()\n",
        "\n",
        "  else:\n",
        "    print('Invalid option.....Please choose valid option')\n",
        "\n",
        ""
      ],
      "metadata": {
        "colab": {
          "base_uri": "https://localhost:8080/",
          "height": 690
        },
        "id": "Egtk2uJB_KgJ",
        "outputId": "2a485e12-5ec6-4dcc-88b6-6949e291a7d7"
      },
      "execution_count": 16,
      "outputs": [
        {
          "output_type": "stream",
          "name": "stdout",
          "text": [
            "Welcome to BankofIndia\n",
            "Enter Your Name: kapil\n",
            "d-Deposit \n",
            " w-withdraw \n",
            " e-exit\n",
            "Choose your optiond\n",
            "Enter amount to deposit2000000\n",
            "The balance after deposit:  2000000.0\n",
            "d-Deposit \n",
            " w-withdraw \n",
            " e-exit\n",
            "Choose your optionw\n",
            "Enter amount to withdraw28000\n",
            "The balance after withdraw:  1972000.0\n",
            "d-Deposit \n",
            " w-withdraw \n",
            " e-exit\n",
            "Choose your optionw\n",
            "Enter amount to withdraw23000\n",
            "The balance after withdraw:  1949000.0\n",
            "d-Deposit \n",
            " w-withdraw \n",
            " e-exit\n",
            "Choose your optiond\n",
            "Enter amount to deposit190000000000\n",
            "The balance after deposit:  190001949000.0\n",
            "d-Deposit \n",
            " w-withdraw \n",
            " e-exit\n",
            "Choose your optionw\n",
            "Enter amount to withdraw10000000000000000000000000\n",
            "Insufficient funds....cannot perform this operation\n"
          ]
        },
        {
          "output_type": "error",
          "ename": "SystemExit",
          "evalue": "ignored",
          "traceback": [
            "An exception has occurred, use %tb to see the full traceback.\n",
            "\u001b[0;31mSystemExit\u001b[0m\n"
          ]
        }
      ]
    },
    {
      "cell_type": "code",
      "source": [],
      "metadata": {
        "id": "DdXUZOZ8CNhB"
      },
      "execution_count": null,
      "outputs": []
    }
  ]
}