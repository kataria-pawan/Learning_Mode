{
  "nbformat": 4,
  "nbformat_minor": 0,
  "metadata": {
    "colab": {
      "provenance": [],
      "authorship_tag": "ABX9TyMwLBFTkzmS5vIWzqOSdnN3",
      "include_colab_link": true
    },
    "kernelspec": {
      "name": "python3",
      "display_name": "Python 3"
    },
    "language_info": {
      "name": "python"
    }
  },
  "cells": [
    {
      "cell_type": "markdown",
      "metadata": {
        "id": "view-in-github",
        "colab_type": "text"
      },
      "source": [
        "<a href=\"https://colab.research.google.com/github/kataria-pawan/Learning_Mode/blob/main/Python/Data_Type_and_Operator_and_Flow_Control.ipynb\" target=\"_parent\"><img src=\"https://colab.research.google.com/assets/colab-badge.svg\" alt=\"Open In Colab\"/></a>"
      ]
    },
    {
      "cell_type": "code",
      "execution_count": null,
      "metadata": {
        "colab": {
          "base_uri": "https://localhost:8080/"
        },
        "id": "CKdDRw5wDpYm",
        "outputId": "0e4340a4-ed75-4d15-8510-3c75e7ad71a5"
      },
      "outputs": [
        {
          "output_type": "stream",
          "name": "stdout",
          "text": [
            "hellow ord\n"
          ]
        }
      ],
      "source": [
        "print('hellow ord')"
      ]
    },
    {
      "cell_type": "code",
      "source": [
        "x = eval(input('enter the number 1: '))\n",
        "y = eval(input('Enter the number 2:'))\n",
        "sum_numbers = print('sum :', x, ' + ', y, '= ', x+y)\n",
        "sub_numbers = print('subtract :', x, ' - ', y, '= ', x-y)\n",
        "multiply_numbers = print('multiply :', x, ' * ', y, '= ', x*y)\n",
        "divide_numbers = print('divide :', x, ' / ', y, '= ', x/y)\n",
        "qutiont_numbers = print('qutiont :', x, ' // ', y, '= ', x//y)\n",
        "reminder_numbers = print('reminder :', x, ' % ', y, '= ', x%y)"
      ],
      "metadata": {
        "colab": {
          "base_uri": "https://localhost:8080/"
        },
        "id": "HVLu-ASuFlxc",
        "outputId": "c0b3ba5a-e424-4331-a421-e2ac62ee8789"
      },
      "execution_count": null,
      "outputs": [
        {
          "output_type": "stream",
          "name": "stdout",
          "text": [
            "enter the number 1: 35632356\n",
            "Enter the number 2:23588\n",
            "sum : 35632356  +  23588 =  35655944\n",
            "subtract : 35632356  -  23588 =  35608768\n",
            "multiply : 35632356  *  23588 =  840496013328\n",
            "divide : 35632356  /  23588 =  1510.613701882313\n",
            "qutiont : 35632356  //  23588 =  1510\n",
            "reminder : 35632356  %  23588 =  14476\n"
          ]
        }
      ]
    },
    {
      "cell_type": "code",
      "source": [
        "type(None)"
      ],
      "metadata": {
        "id": "K2LaXJKUIUpl",
        "colab": {
          "base_uri": "https://localhost:8080/"
        },
        "outputId": "a8378ff9-988d-45fc-92e9-c41eac0109f2"
      },
      "execution_count": null,
      "outputs": [
        {
          "output_type": "execute_result",
          "data": {
            "text/plain": [
              "NoneType"
            ]
          },
          "metadata": {},
          "execution_count": 1
        }
      ]
    },
    {
      "cell_type": "code",
      "source": [
        "type(print())"
      ],
      "metadata": {
        "colab": {
          "base_uri": "https://localhost:8080/"
        },
        "id": "CI1cZ5lvO0vx",
        "outputId": "46b84ad5-3e71-4914-d756-6355c02bf2de"
      },
      "execution_count": null,
      "outputs": [
        {
          "output_type": "stream",
          "name": "stdout",
          "text": [
            "\n"
          ]
        },
        {
          "output_type": "execute_result",
          "data": {
            "text/plain": [
              "NoneType"
            ]
          },
          "metadata": {},
          "execution_count": 2
        }
      ]
    },
    {
      "cell_type": "code",
      "source": [
        "x = 0b111\n",
        "x"
      ],
      "metadata": {
        "colab": {
          "base_uri": "https://localhost:8080/"
        },
        "id": "jSJTbhdjPLwB",
        "outputId": "e90c7f99-1957-440f-854f-873ddea8fbbd"
      },
      "execution_count": null,
      "outputs": [
        {
          "output_type": "execute_result",
          "data": {
            "text/plain": [
              "73"
            ]
          },
          "metadata": {},
          "execution_count": 2
        }
      ]
    },
    {
      "cell_type": "code",
      "source": [
        "z = 0o111\n",
        "z"
      ],
      "metadata": {
        "colab": {
          "base_uri": "https://localhost:8080/"
        },
        "id": "-QG5ogrReBbf",
        "outputId": "7682a9b0-6f53-48cc-a360-52c03ff4ad3f"
      },
      "execution_count": null,
      "outputs": [
        {
          "output_type": "execute_result",
          "data": {
            "text/plain": [
              "73"
            ]
          },
          "metadata": {},
          "execution_count": 3
        }
      ]
    },
    {
      "cell_type": "code",
      "source": [
        "y = 0x111.123\n",
        "y"
      ],
      "metadata": {
        "colab": {
          "base_uri": "https://localhost:8080/",
          "height": 131
        },
        "id": "M8-dI_vxeYih",
        "outputId": "62390619-aa9d-48df-9cbe-3a4c1fd4c90f"
      },
      "execution_count": null,
      "outputs": [
        {
          "output_type": "error",
          "ename": "SyntaxError",
          "evalue": "ignored",
          "traceback": [
            "\u001b[0;36m  File \u001b[0;32m\"<ipython-input-9-1a21af02a75f>\"\u001b[0;36m, line \u001b[0;32m1\u001b[0m\n\u001b[0;31m    y = 0x111.123\u001b[0m\n\u001b[0m             ^\u001b[0m\n\u001b[0;31mSyntaxError\u001b[0m\u001b[0;31m:\u001b[0m invalid syntax\n"
          ]
        }
      ]
    },
    {
      "cell_type": "code",
      "source": [
        "x = eval(input('Enter the values: '))\n",
        "type(x)"
      ],
      "metadata": {
        "colab": {
          "base_uri": "https://localhost:8080/",
          "height": 235
        },
        "id": "eZvSVAm9eh22",
        "outputId": "187c56ab-322c-4eb0-dcb0-a111c90337a8"
      },
      "execution_count": null,
      "outputs": [
        {
          "name": "stdout",
          "output_type": "stream",
          "text": [
            "Enter the values: pawan\n"
          ]
        },
        {
          "output_type": "error",
          "ename": "NameError",
          "evalue": "ignored",
          "traceback": [
            "\u001b[0;31m---------------------------------------------------------------------------\u001b[0m",
            "\u001b[0;31mNameError\u001b[0m                                 Traceback (most recent call last)",
            "\u001b[0;32m<ipython-input-8-041f3af1b9e4>\u001b[0m in \u001b[0;36m<cell line: 1>\u001b[0;34m()\u001b[0m\n\u001b[0;32m----> 1\u001b[0;31m \u001b[0mx\u001b[0m \u001b[0;34m=\u001b[0m \u001b[0meval\u001b[0m\u001b[0;34m(\u001b[0m\u001b[0minput\u001b[0m\u001b[0;34m(\u001b[0m\u001b[0;34m'Enter the values: '\u001b[0m\u001b[0;34m)\u001b[0m\u001b[0;34m)\u001b[0m\u001b[0;34m\u001b[0m\u001b[0;34m\u001b[0m\u001b[0m\n\u001b[0m\u001b[1;32m      2\u001b[0m \u001b[0mtype\u001b[0m\u001b[0;34m(\u001b[0m\u001b[0mx\u001b[0m\u001b[0;34m)\u001b[0m\u001b[0;34m\u001b[0m\u001b[0;34m\u001b[0m\u001b[0m\n",
            "\u001b[0;32m<string>\u001b[0m in \u001b[0;36m<module>\u001b[0;34m\u001b[0m\n",
            "\u001b[0;31mNameError\u001b[0m: name 'pawan' is not defined"
          ]
        }
      ]
    },
    {
      "cell_type": "code",
      "source": [
        "r = range(10)"
      ],
      "metadata": {
        "id": "GPUG2TzMe2T3"
      },
      "execution_count": null,
      "outputs": []
    },
    {
      "cell_type": "code",
      "source": [
        "print(range(10))"
      ],
      "metadata": {
        "colab": {
          "base_uri": "https://localhost:8080/"
        },
        "id": "ViVSF312cnPj",
        "outputId": "84aa45f9-dc8a-47b7-f766-871e146a4f6e"
      },
      "execution_count": null,
      "outputs": [
        {
          "output_type": "stream",
          "name": "stdout",
          "text": [
            "range(0, 10)\n"
          ]
        }
      ]
    },
    {
      "cell_type": "code",
      "source": [
        "print(list(range(10)))"
      ],
      "metadata": {
        "colab": {
          "base_uri": "https://localhost:8080/"
        },
        "id": "8Cf9m_35cvFU",
        "outputId": "e8828838-1cba-49c3-d2d4-557f6f483524"
      },
      "execution_count": null,
      "outputs": [
        {
          "output_type": "stream",
          "name": "stdout",
          "text": [
            "[0, 1, 2, 3, 4, 5, 6, 7, 8, 9]\n"
          ]
        }
      ]
    },
    {
      "cell_type": "code",
      "source": [
        "list(range(10))"
      ],
      "metadata": {
        "colab": {
          "base_uri": "https://localhost:8080/"
        },
        "id": "CDyAlVV-cyVU",
        "outputId": "c34af129-d102-4b7b-9033-99f8530ddc31"
      },
      "execution_count": null,
      "outputs": [
        {
          "output_type": "execute_result",
          "data": {
            "text/plain": [
              "[0, 1, 2, 3, 4, 5, 6, 7, 8, 9]"
            ]
          },
          "metadata": {},
          "execution_count": 4
        }
      ]
    },
    {
      "cell_type": "code",
      "source": [
        "type(r)"
      ],
      "metadata": {
        "colab": {
          "base_uri": "https://localhost:8080/"
        },
        "id": "TCDCEBu_c05v",
        "outputId": "8c1c39d3-ca99-44d4-872b-1d6340a7b86f"
      },
      "execution_count": null,
      "outputs": [
        {
          "output_type": "execute_result",
          "data": {
            "text/plain": [
              "range"
            ]
          },
          "metadata": {},
          "execution_count": 6
        }
      ]
    },
    {
      "cell_type": "code",
      "source": [
        "for i in r:\n",
        "  print(i)"
      ],
      "metadata": {
        "colab": {
          "base_uri": "https://localhost:8080/"
        },
        "id": "84-D4C9oc8oa",
        "outputId": "502e6afc-df16-4e75-da4d-047600acccf2"
      },
      "execution_count": null,
      "outputs": [
        {
          "output_type": "stream",
          "name": "stdout",
          "text": [
            "0\n",
            "1\n",
            "2\n",
            "3\n",
            "4\n",
            "5\n",
            "6\n",
            "7\n",
            "8\n",
            "9\n"
          ]
        }
      ]
    },
    {
      "cell_type": "code",
      "source": [
        "r[0]"
      ],
      "metadata": {
        "colab": {
          "base_uri": "https://localhost:8080/"
        },
        "id": "pzElR6HCdCH1",
        "outputId": "298bb05b-1b54-47c0-f2c7-d296a85bec4a"
      },
      "execution_count": null,
      "outputs": [
        {
          "output_type": "execute_result",
          "data": {
            "text/plain": [
              "0"
            ]
          },
          "metadata": {},
          "execution_count": 9
        }
      ]
    },
    {
      "cell_type": "code",
      "source": [
        "r[0]=22"
      ],
      "metadata": {
        "colab": {
          "base_uri": "https://localhost:8080/",
          "height": 166
        },
        "id": "jlD-fzW6dNKs",
        "outputId": "897b4ea1-1552-4e49-dfb8-f8adeea9fc3e"
      },
      "execution_count": null,
      "outputs": [
        {
          "output_type": "error",
          "ename": "TypeError",
          "evalue": "ignored",
          "traceback": [
            "\u001b[0;31m---------------------------------------------------------------------------\u001b[0m",
            "\u001b[0;31mTypeError\u001b[0m                                 Traceback (most recent call last)",
            "\u001b[0;32m<ipython-input-10-ae2b4adcc34a>\u001b[0m in \u001b[0;36m<cell line: 1>\u001b[0;34m()\u001b[0m\n\u001b[0;32m----> 1\u001b[0;31m \u001b[0mr\u001b[0m\u001b[0;34m[\u001b[0m\u001b[0;36m0\u001b[0m\u001b[0;34m]\u001b[0m\u001b[0;34m=\u001b[0m\u001b[0;36m22\u001b[0m\u001b[0;34m\u001b[0m\u001b[0;34m\u001b[0m\u001b[0m\n\u001b[0m",
            "\u001b[0;31mTypeError\u001b[0m: 'range' object does not support item assignment"
          ]
        }
      ]
    },
    {
      "cell_type": "code",
      "source": [
        "len(list(range(10,29)))"
      ],
      "metadata": {
        "colab": {
          "base_uri": "https://localhost:8080/"
        },
        "id": "RNnNcJDmdPNx",
        "outputId": "28726083-3569-4eea-d855-ce764f31bb8b"
      },
      "execution_count": null,
      "outputs": [
        {
          "output_type": "execute_result",
          "data": {
            "text/plain": [
              "19"
            ]
          },
          "metadata": {},
          "execution_count": 12
        }
      ]
    },
    {
      "cell_type": "code",
      "source": [
        "range(50)\n"
      ],
      "metadata": {
        "colab": {
          "base_uri": "https://localhost:8080/"
        },
        "id": "4u7qfiGxdlet",
        "outputId": "db68dc06-ae48-409d-af29-6adfbafef8b9"
      },
      "execution_count": null,
      "outputs": [
        {
          "output_type": "execute_result",
          "data": {
            "text/plain": [
              "range(0, 50)"
            ]
          },
          "metadata": {},
          "execution_count": 16
        }
      ]
    },
    {
      "cell_type": "code",
      "source": [
        "range(10,50)"
      ],
      "metadata": {
        "colab": {
          "base_uri": "https://localhost:8080/"
        },
        "id": "9LvNzkdIdueD",
        "outputId": "05d57f07-92a5-4360-8380-b2aa33a3e1d6"
      },
      "execution_count": null,
      "outputs": [
        {
          "output_type": "execute_result",
          "data": {
            "text/plain": [
              "range(10, 50)"
            ]
          },
          "metadata": {},
          "execution_count": 15
        }
      ]
    },
    {
      "cell_type": "code",
      "source": [
        "list(range(10,50,5))"
      ],
      "metadata": {
        "colab": {
          "base_uri": "https://localhost:8080/"
        },
        "id": "yyRC9dAfd0jX",
        "outputId": "76d8410f-d595-4964-adc2-464304d472b4"
      },
      "execution_count": null,
      "outputs": [
        {
          "output_type": "execute_result",
          "data": {
            "text/plain": [
              "[10, 15, 20, 25, 30, 35, 40, 45]"
            ]
          },
          "metadata": {},
          "execution_count": 17
        }
      ]
    },
    {
      "cell_type": "code",
      "source": [
        "list(range(10.5,20.5))"
      ],
      "metadata": {
        "colab": {
          "base_uri": "https://localhost:8080/",
          "height": 166
        },
        "id": "XcrFVP-bd9fy",
        "outputId": "15f0cbe3-858c-4349-dd75-da1944207cbc"
      },
      "execution_count": null,
      "outputs": [
        {
          "output_type": "error",
          "ename": "TypeError",
          "evalue": "ignored",
          "traceback": [
            "\u001b[0;31m---------------------------------------------------------------------------\u001b[0m",
            "\u001b[0;31mTypeError\u001b[0m                                 Traceback (most recent call last)",
            "\u001b[0;32m<ipython-input-18-2002c08592fe>\u001b[0m in \u001b[0;36m<cell line: 1>\u001b[0;34m()\u001b[0m\n\u001b[0;32m----> 1\u001b[0;31m \u001b[0mlist\u001b[0m\u001b[0;34m(\u001b[0m\u001b[0mrange\u001b[0m\u001b[0;34m(\u001b[0m\u001b[0;36m10.5\u001b[0m\u001b[0;34m,\u001b[0m\u001b[0;36m20.5\u001b[0m\u001b[0;34m)\u001b[0m\u001b[0;34m)\u001b[0m\u001b[0;34m\u001b[0m\u001b[0;34m\u001b[0m\u001b[0m\n\u001b[0m",
            "\u001b[0;31mTypeError\u001b[0m: 'float' object cannot be interpreted as an integer"
          ]
        }
      ]
    },
    {
      "cell_type": "code",
      "source": [
        "s = {10,20,30,10,20}\n",
        "s"
      ],
      "metadata": {
        "colab": {
          "base_uri": "https://localhost:8080/"
        },
        "id": "YorWiuhNedLc",
        "outputId": "d782feab-9473-4f51-d9f4-f62caf06e19b"
      },
      "execution_count": null,
      "outputs": [
        {
          "output_type": "execute_result",
          "data": {
            "text/plain": [
              "{10, 20, 30}"
            ]
          },
          "metadata": {},
          "execution_count": 19
        }
      ]
    },
    {
      "cell_type": "code",
      "source": [
        "s[0]"
      ],
      "metadata": {
        "colab": {
          "base_uri": "https://localhost:8080/",
          "height": 166
        },
        "id": "lmyGA6KXfnel",
        "outputId": "132b9d25-0432-4d70-ad49-1ea4341fad08"
      },
      "execution_count": null,
      "outputs": [
        {
          "output_type": "error",
          "ename": "TypeError",
          "evalue": "ignored",
          "traceback": [
            "\u001b[0;31m---------------------------------------------------------------------------\u001b[0m",
            "\u001b[0;31mTypeError\u001b[0m                                 Traceback (most recent call last)",
            "\u001b[0;32m<ipython-input-20-c9c96910e542>\u001b[0m in \u001b[0;36m<cell line: 1>\u001b[0;34m()\u001b[0m\n\u001b[0;32m----> 1\u001b[0;31m \u001b[0ms\u001b[0m\u001b[0;34m[\u001b[0m\u001b[0;36m0\u001b[0m\u001b[0;34m]\u001b[0m\u001b[0;34m\u001b[0m\u001b[0;34m\u001b[0m\u001b[0m\n\u001b[0m",
            "\u001b[0;31mTypeError\u001b[0m: 'set' object is not subscriptable"
          ]
        }
      ]
    },
    {
      "cell_type": "code",
      "source": [
        "s = {10,23,10.5,33,10,'pawan', True}\n",
        "s"
      ],
      "metadata": {
        "colab": {
          "base_uri": "https://localhost:8080/"
        },
        "id": "_X2G4DMTfqVU",
        "outputId": "cd457a01-78e0-40b0-a805-2666d7154e30"
      },
      "execution_count": null,
      "outputs": [
        {
          "output_type": "execute_result",
          "data": {
            "text/plain": [
              "{10, 10.5, 23, 33, True, 'pawan'}"
            ]
          },
          "metadata": {},
          "execution_count": 23
        }
      ]
    },
    {
      "cell_type": "code",
      "source": [
        "s.add('kataria')\n",
        "s"
      ],
      "metadata": {
        "colab": {
          "base_uri": "https://localhost:8080/"
        },
        "id": "2-9Wpb1df4_P",
        "outputId": "097c9c22-cafd-4e3d-9a3c-d6ab89dd9077"
      },
      "execution_count": null,
      "outputs": [
        {
          "output_type": "execute_result",
          "data": {
            "text/plain": [
              "{10, 10.5, 23, 33, True, 'kataria', 'pawan'}"
            ]
          },
          "metadata": {},
          "execution_count": 24
        }
      ]
    },
    {
      "cell_type": "code",
      "source": [
        "s.remove('kataria')\n",
        "s"
      ],
      "metadata": {
        "colab": {
          "base_uri": "https://localhost:8080/"
        },
        "id": "fhBMNGFmgXaC",
        "outputId": "d86fdece-7b6f-4d17-e868-31d25dcc3b11"
      },
      "execution_count": null,
      "outputs": [
        {
          "output_type": "execute_result",
          "data": {
            "text/plain": [
              "{10, 10.5, 23, True, 'pawan'}"
            ]
          },
          "metadata": {},
          "execution_count": 27
        }
      ]
    },
    {
      "cell_type": "code",
      "source": [
        "s = set()\n",
        "for i in range(10):\n",
        "  s.add(i)\n",
        "print(s)"
      ],
      "metadata": {
        "colab": {
          "base_uri": "https://localhost:8080/"
        },
        "id": "qSo6k6FPgdmu",
        "outputId": "9422f00c-0d59-42f0-e290-af085b0ebd95"
      },
      "execution_count": null,
      "outputs": [
        {
          "output_type": "stream",
          "name": "stdout",
          "text": [
            "{0, 1, 2, 3, 4, 5, 6, 7, 8, 9}\n"
          ]
        }
      ]
    },
    {
      "cell_type": "code",
      "source": [
        "d = {100: 'pawan', 200: 'kataria'}\n",
        "d"
      ],
      "metadata": {
        "colab": {
          "base_uri": "https://localhost:8080/"
        },
        "id": "IZ7rZT6Yg_Dy",
        "outputId": "421a7b29-9076-414d-8b09-d7afbeeb0916"
      },
      "execution_count": null,
      "outputs": [
        {
          "output_type": "execute_result",
          "data": {
            "text/plain": [
              "{100: 'india', 200: 'kataria'}"
            ]
          },
          "metadata": {},
          "execution_count": 32
        }
      ]
    },
    {
      "cell_type": "code",
      "source": [
        "type(d)"
      ],
      "metadata": {
        "colab": {
          "base_uri": "https://localhost:8080/"
        },
        "id": "4abAyR6qjSdu",
        "outputId": "50e5674c-30c0-46af-f318-c9ab300b8abf"
      },
      "execution_count": null,
      "outputs": [
        {
          "output_type": "execute_result",
          "data": {
            "text/plain": [
              "dict"
            ]
          },
          "metadata": {},
          "execution_count": 31
        }
      ]
    },
    {
      "cell_type": "code",
      "source": [
        "d = {100: 'pawan', 200: 'kataria', 100: \"india\"}\n",
        "d"
      ],
      "metadata": {
        "colab": {
          "base_uri": "https://localhost:8080/"
        },
        "id": "F8pDdWEKjTqy",
        "outputId": "de3dc9b3-dded-48c7-bb27-bcf9b634babb"
      },
      "execution_count": null,
      "outputs": [
        {
          "output_type": "execute_result",
          "data": {
            "text/plain": [
              "{100: 'india', 200: 'kataria'}"
            ]
          },
          "metadata": {},
          "execution_count": 33
        }
      ]
    },
    {
      "cell_type": "code",
      "source": [
        "d = {100: 'pawan', 200: 'kataria', 230: \"pawan\"}\n",
        "d"
      ],
      "metadata": {
        "colab": {
          "base_uri": "https://localhost:8080/"
        },
        "id": "PgRE9gHcjuYw",
        "outputId": "5be6fd81-bb13-4f45-9769-ac930eec02e6"
      },
      "execution_count": null,
      "outputs": [
        {
          "output_type": "execute_result",
          "data": {
            "text/plain": [
              "{100: 'pawan', 200: 'kataria', 230: 'pawan'}"
            ]
          },
          "metadata": {},
          "execution_count": 35
        }
      ]
    },
    {
      "cell_type": "code",
      "source": [
        "s = 'pawan\\nkataria'\n",
        "s"
      ],
      "metadata": {
        "id": "qim2x2TVjzMm",
        "colab": {
          "base_uri": "https://localhost:8080/",
          "height": 35
        },
        "outputId": "d1db1b25-b5ee-4bda-d087-a926d71b92bd"
      },
      "execution_count": null,
      "outputs": [
        {
          "output_type": "execute_result",
          "data": {
            "text/plain": [
              "'pawan\\nkataria'"
            ],
            "application/vnd.google.colaboratory.intrinsic+json": {
              "type": "string"
            }
          },
          "metadata": {},
          "execution_count": 36
        }
      ]
    },
    {
      "cell_type": "code",
      "source": [
        "print(s)"
      ],
      "metadata": {
        "colab": {
          "base_uri": "https://localhost:8080/"
        },
        "id": "YNt4ZTy96-wP",
        "outputId": "43ab2b9d-8720-4835-bcd8-420b6e82b59b"
      },
      "execution_count": null,
      "outputs": [
        {
          "output_type": "stream",
          "name": "stdout",
          "text": [
            "pawan\n",
            "kataria\n"
          ]
        }
      ]
    },
    {
      "cell_type": "code",
      "source": [
        "s = 'pawan\\tkataria'\n",
        "print(s)"
      ],
      "metadata": {
        "colab": {
          "base_uri": "https://localhost:8080/"
        },
        "id": "nEv1SOvq7A7F",
        "outputId": "f778b106-f991-4522-f0a6-1f4990fbaccf"
      },
      "execution_count": null,
      "outputs": [
        {
          "output_type": "stream",
          "name": "stdout",
          "text": [
            "pawan\tkataria\n"
          ]
        }
      ]
    },
    {
      "cell_type": "code",
      "source": [
        "s = 'pawan\\bkataria'\n",
        "print(s)"
      ],
      "metadata": {
        "colab": {
          "base_uri": "https://localhost:8080/"
        },
        "id": "fHKwgt7z7IpQ",
        "outputId": "99f77408-cf3f-4ad0-a593-ef647602cc61"
      },
      "execution_count": null,
      "outputs": [
        {
          "output_type": "stream",
          "name": "stdout",
          "text": [
            "pawan\bkataria\n"
          ]
        }
      ]
    },
    {
      "cell_type": "code",
      "source": [
        "s = 'pawan\\rkataria'\n",
        "print(s)"
      ],
      "metadata": {
        "colab": {
          "base_uri": "https://localhost:8080/"
        },
        "id": "UDuKIFEq7LQv",
        "outputId": "bdb30771-dc18-4eee-db3d-42b2c63edaf3"
      },
      "execution_count": null,
      "outputs": [
        {
          "output_type": "stream",
          "name": "stdout",
          "text": [
            "pawan\rkataria\n"
          ]
        }
      ]
    },
    {
      "cell_type": "code",
      "source": [
        "s = 'pawan\\fkataria'\n",
        "print(s)"
      ],
      "metadata": {
        "colab": {
          "base_uri": "https://localhost:8080/"
        },
        "id": "w1kLhuSp7Nfo",
        "outputId": "617d21c9-b004-45f9-cfc7-ba5434b83bb0"
      },
      "execution_count": null,
      "outputs": [
        {
          "output_type": "stream",
          "name": "stdout",
          "text": [
            "pawan\fkataria\n"
          ]
        }
      ]
    },
    {
      "cell_type": "code",
      "source": [
        "s = 'pawan\\'kataria'\n",
        "print(s)"
      ],
      "metadata": {
        "colab": {
          "base_uri": "https://localhost:8080/"
        },
        "id": "oUbWVvyG7Qta",
        "outputId": "9632a1cd-4031-4ed9-b889-5244e79b0594"
      },
      "execution_count": null,
      "outputs": [
        {
          "output_type": "stream",
          "name": "stdout",
          "text": [
            "pawan'kataria\n"
          ]
        }
      ]
    },
    {
      "cell_type": "code",
      "source": [
        "s = (1,2,3,4,5,6)\n",
        "s"
      ],
      "metadata": {
        "id": "W9aO6ss77UJ8",
        "colab": {
          "base_uri": "https://localhost:8080/"
        },
        "outputId": "dfa0eb58-eaa0-4597-a555-e18234edb99e"
      },
      "execution_count": null,
      "outputs": [
        {
          "output_type": "execute_result",
          "data": {
            "text/plain": [
              "(1, 2, 3, 4, 5, 6)"
            ]
          },
          "metadata": {},
          "execution_count": 1
        }
      ]
    },
    {
      "cell_type": "code",
      "source": [
        "type(s)"
      ],
      "metadata": {
        "colab": {
          "base_uri": "https://localhost:8080/"
        },
        "id": "ZssDJO8a6Mba",
        "outputId": "f6c64b9f-b06e-44b7-cfcd-2074e215f816"
      },
      "execution_count": null,
      "outputs": [
        {
          "output_type": "execute_result",
          "data": {
            "text/plain": [
              "tuple"
            ]
          },
          "metadata": {},
          "execution_count": 2
        }
      ]
    },
    {
      "cell_type": "code",
      "source": [
        "x =1\n"
      ],
      "metadata": {
        "id": "5TX2exzL6NUM"
      },
      "execution_count": null,
      "outputs": []
    },
    {
      "cell_type": "code",
      "source": [
        "x==1\n",
        "x"
      ],
      "metadata": {
        "colab": {
          "base_uri": "https://localhost:8080/"
        },
        "id": "sxIxPJiQ6Pbs",
        "outputId": "76b111e2-fbe6-485d-c643-f6fad2d67bab"
      },
      "execution_count": null,
      "outputs": [
        {
          "output_type": "execute_result",
          "data": {
            "text/plain": [
              "1"
            ]
          },
          "metadata": {},
          "execution_count": 7
        }
      ]
    },
    {
      "cell_type": "code",
      "source": [
        "y==2\n",
        "y"
      ],
      "metadata": {
        "colab": {
          "base_uri": "https://localhost:8080/",
          "height": 183
        },
        "id": "GEHBKHvH8r2n",
        "outputId": "7ab6c952-1133-45c4-cde9-25e67e7d14ec"
      },
      "execution_count": null,
      "outputs": [
        {
          "output_type": "error",
          "ename": "NameError",
          "evalue": "ignored",
          "traceback": [
            "\u001b[0;31m---------------------------------------------------------------------------\u001b[0m",
            "\u001b[0;31mNameError\u001b[0m                                 Traceback (most recent call last)",
            "\u001b[0;32m<ipython-input-8-85ed05bbb2b0>\u001b[0m in \u001b[0;36m<cell line: 1>\u001b[0;34m()\u001b[0m\n\u001b[0;32m----> 1\u001b[0;31m \u001b[0my\u001b[0m\u001b[0;34m==\u001b[0m\u001b[0;36m2\u001b[0m\u001b[0;34m\u001b[0m\u001b[0;34m\u001b[0m\u001b[0m\n\u001b[0m\u001b[1;32m      2\u001b[0m \u001b[0my\u001b[0m\u001b[0;34m\u001b[0m\u001b[0;34m\u001b[0m\u001b[0m\n",
            "\u001b[0;31mNameError\u001b[0m: name 'y' is not defined"
          ]
        }
      ]
    },
    {
      "cell_type": "code",
      "source": [
        "y=3"
      ],
      "metadata": {
        "id": "ZwfMMIaD8tx4"
      },
      "execution_count": null,
      "outputs": []
    },
    {
      "cell_type": "code",
      "source": [
        "y++3"
      ],
      "metadata": {
        "colab": {
          "base_uri": "https://localhost:8080/"
        },
        "id": "Rl1t9_gF8wZ-",
        "outputId": "28a6f13b-5c2f-4138-8286-c2c7976b7803"
      },
      "execution_count": null,
      "outputs": [
        {
          "output_type": "execute_result",
          "data": {
            "text/plain": [
              "6"
            ]
          },
          "metadata": {},
          "execution_count": 12
        }
      ]
    },
    {
      "cell_type": "code",
      "source": [
        "y+++3"
      ],
      "metadata": {
        "colab": {
          "base_uri": "https://localhost:8080/"
        },
        "id": "WZGCtWga8zSD",
        "outputId": "7a4b5c24-0611-4b85-e20d-c91499a46b2a"
      },
      "execution_count": null,
      "outputs": [
        {
          "output_type": "execute_result",
          "data": {
            "text/plain": [
              "6"
            ]
          },
          "metadata": {},
          "execution_count": 13
        }
      ]
    },
    {
      "cell_type": "code",
      "source": [
        "y-3"
      ],
      "metadata": {
        "colab": {
          "base_uri": "https://localhost:8080/"
        },
        "id": "XjtldOp4-pjb",
        "outputId": "12d84289-266e-4017-8901-ca714737614c"
      },
      "execution_count": null,
      "outputs": [
        {
          "output_type": "execute_result",
          "data": {
            "text/plain": [
              "0"
            ]
          },
          "metadata": {},
          "execution_count": 14
        }
      ]
    },
    {
      "cell_type": "code",
      "source": [
        "y--3"
      ],
      "metadata": {
        "colab": {
          "base_uri": "https://localhost:8080/"
        },
        "id": "9RpjQvEp-wO_",
        "outputId": "c72b498f-7047-488e-e0a4-1e8d5b88330a"
      },
      "execution_count": null,
      "outputs": [
        {
          "output_type": "execute_result",
          "data": {
            "text/plain": [
              "6"
            ]
          },
          "metadata": {},
          "execution_count": 15
        }
      ]
    },
    {
      "cell_type": "code",
      "source": [
        "'pawan'+3"
      ],
      "metadata": {
        "colab": {
          "base_uri": "https://localhost:8080/",
          "height": 166
        },
        "id": "MIhAeBbB-x09",
        "outputId": "64358fa7-1db8-47bc-985c-b2a5ce3b4c57"
      },
      "execution_count": null,
      "outputs": [
        {
          "output_type": "error",
          "ename": "TypeError",
          "evalue": "ignored",
          "traceback": [
            "\u001b[0;31m---------------------------------------------------------------------------\u001b[0m",
            "\u001b[0;31mTypeError\u001b[0m                                 Traceback (most recent call last)",
            "\u001b[0;32m<ipython-input-16-f0d4db79862d>\u001b[0m in \u001b[0;36m<cell line: 1>\u001b[0;34m()\u001b[0m\n\u001b[0;32m----> 1\u001b[0;31m \u001b[0;34m'pawan'\u001b[0m\u001b[0;34m+\u001b[0m\u001b[0;36m3\u001b[0m\u001b[0;34m\u001b[0m\u001b[0;34m\u001b[0m\u001b[0m\n\u001b[0m",
            "\u001b[0;31mTypeError\u001b[0m: can only concatenate str (not \"int\") to str"
          ]
        }
      ]
    },
    {
      "cell_type": "code",
      "source": [
        "'pawan' + str(32)"
      ],
      "metadata": {
        "colab": {
          "base_uri": "https://localhost:8080/",
          "height": 35
        },
        "id": "TQTn6ZZMHfCn",
        "outputId": "7f18c18e-4af2-4ebf-d567-dceaef5b5994"
      },
      "execution_count": null,
      "outputs": [
        {
          "output_type": "execute_result",
          "data": {
            "text/plain": [
              "'pawan32'"
            ],
            "application/vnd.google.colaboratory.intrinsic+json": {
              "type": "string"
            }
          },
          "metadata": {},
          "execution_count": 21
        }
      ]
    },
    {
      "cell_type": "code",
      "source": [
        "'pawan' - str(23)"
      ],
      "metadata": {
        "colab": {
          "base_uri": "https://localhost:8080/",
          "height": 166
        },
        "id": "ucS_tm_THjVD",
        "outputId": "314e4f3c-e308-4ceb-e15f-5a2b752cc277"
      },
      "execution_count": null,
      "outputs": [
        {
          "output_type": "error",
          "ename": "TypeError",
          "evalue": "ignored",
          "traceback": [
            "\u001b[0;31m---------------------------------------------------------------------------\u001b[0m",
            "\u001b[0;31mTypeError\u001b[0m                                 Traceback (most recent call last)",
            "\u001b[0;32m<ipython-input-22-74770494660f>\u001b[0m in \u001b[0;36m<cell line: 1>\u001b[0;34m()\u001b[0m\n\u001b[0;32m----> 1\u001b[0;31m \u001b[0;34m'pawan'\u001b[0m \u001b[0;34m-\u001b[0m \u001b[0mstr\u001b[0m\u001b[0;34m(\u001b[0m\u001b[0;36m23\u001b[0m\u001b[0;34m)\u001b[0m\u001b[0;34m\u001b[0m\u001b[0;34m\u001b[0m\u001b[0m\n\u001b[0m",
            "\u001b[0;31mTypeError\u001b[0m: unsupported operand type(s) for -: 'str' and 'str'"
          ]
        }
      ]
    },
    {
      "cell_type": "code",
      "source": [
        "'pawan'*3"
      ],
      "metadata": {
        "colab": {
          "base_uri": "https://localhost:8080/",
          "height": 35
        },
        "id": "qiKXupL6H_t5",
        "outputId": "e293fe53-a553-4923-89c6-22fe0d8e8b5d"
      },
      "execution_count": null,
      "outputs": [
        {
          "output_type": "execute_result",
          "data": {
            "text/plain": [
              "'pawanpawanpawan'"
            ],
            "application/vnd.google.colaboratory.intrinsic+json": {
              "type": "string"
            }
          },
          "metadata": {},
          "execution_count": 23
        }
      ]
    },
    {
      "cell_type": "code",
      "source": [
        "'pawan'*'3'"
      ],
      "metadata": {
        "colab": {
          "base_uri": "https://localhost:8080/",
          "height": 166
        },
        "id": "ptJjN6w_IFxQ",
        "outputId": "bebea82a-657e-4fa6-8d76-9e2f37ffbb2b"
      },
      "execution_count": null,
      "outputs": [
        {
          "output_type": "error",
          "ename": "TypeError",
          "evalue": "ignored",
          "traceback": [
            "\u001b[0;31m---------------------------------------------------------------------------\u001b[0m",
            "\u001b[0;31mTypeError\u001b[0m                                 Traceback (most recent call last)",
            "\u001b[0;32m<ipython-input-24-9f33b1ab6921>\u001b[0m in \u001b[0;36m<cell line: 1>\u001b[0;34m()\u001b[0m\n\u001b[0;32m----> 1\u001b[0;31m \u001b[0;34m'pawan'\u001b[0m\u001b[0;34m*\u001b[0m\u001b[0;34m'3'\u001b[0m\u001b[0;34m\u001b[0m\u001b[0;34m\u001b[0m\u001b[0m\n\u001b[0m",
            "\u001b[0;31mTypeError\u001b[0m: can't multiply sequence by non-int of type 'str'"
          ]
        }
      ]
    },
    {
      "cell_type": "code",
      "source": [
        "'pawan'*3.0"
      ],
      "metadata": {
        "colab": {
          "base_uri": "https://localhost:8080/",
          "height": 166
        },
        "id": "nTNy0sR_IJVS",
        "outputId": "643a3e7b-5053-4d20-ecca-650988220cbe"
      },
      "execution_count": null,
      "outputs": [
        {
          "output_type": "error",
          "ename": "TypeError",
          "evalue": "ignored",
          "traceback": [
            "\u001b[0;31m---------------------------------------------------------------------------\u001b[0m",
            "\u001b[0;31mTypeError\u001b[0m                                 Traceback (most recent call last)",
            "\u001b[0;32m<ipython-input-25-bc5c7373cfa6>\u001b[0m in \u001b[0;36m<cell line: 1>\u001b[0;34m()\u001b[0m\n\u001b[0;32m----> 1\u001b[0;31m \u001b[0;34m'pawan'\u001b[0m\u001b[0;34m*\u001b[0m\u001b[0;36m3.0\u001b[0m\u001b[0;34m\u001b[0m\u001b[0;34m\u001b[0m\u001b[0m\n\u001b[0m",
            "\u001b[0;31mTypeError\u001b[0m: can't multiply sequence by non-int of type 'float'"
          ]
        }
      ]
    },
    {
      "cell_type": "code",
      "source": [
        "2*'pawan'"
      ],
      "metadata": {
        "colab": {
          "base_uri": "https://localhost:8080/",
          "height": 35
        },
        "id": "CZjJTrJ0Iajk",
        "outputId": "f0e4af19-53de-42e3-9622-14ef171c8477"
      },
      "execution_count": null,
      "outputs": [
        {
          "output_type": "execute_result",
          "data": {
            "text/plain": [
              "'pawanpawan'"
            ],
            "application/vnd.google.colaboratory.intrinsic+json": {
              "type": "string"
            }
          },
          "metadata": {},
          "execution_count": 26
        }
      ]
    },
    {
      "cell_type": "code",
      "source": [
        "10**2"
      ],
      "metadata": {
        "colab": {
          "base_uri": "https://localhost:8080/"
        },
        "id": "uGClwf7PIf0-",
        "outputId": "4d0cc3e9-d5d0-4feb-81d4-e1a6c12d08ff"
      },
      "execution_count": null,
      "outputs": [
        {
          "output_type": "execute_result",
          "data": {
            "text/plain": [
              "100"
            ]
          },
          "metadata": {},
          "execution_count": 27
        }
      ]
    },
    {
      "cell_type": "code",
      "source": [
        "10** -2"
      ],
      "metadata": {
        "colab": {
          "base_uri": "https://localhost:8080/"
        },
        "id": "T3czM80yI-Qa",
        "outputId": "36e832e7-e326-4e61-fa79-380200b98fc9"
      },
      "execution_count": null,
      "outputs": [
        {
          "output_type": "execute_result",
          "data": {
            "text/plain": [
              "0.01"
            ]
          },
          "metadata": {},
          "execution_count": 28
        }
      ]
    },
    {
      "cell_type": "code",
      "source": [
        "(10+2j)**2"
      ],
      "metadata": {
        "colab": {
          "base_uri": "https://localhost:8080/"
        },
        "id": "FnkayuvqJA0o",
        "outputId": "2eca6445-2ea9-4a4d-8ff0-d5ec03a1a6fe"
      },
      "execution_count": null,
      "outputs": [
        {
          "output_type": "execute_result",
          "data": {
            "text/plain": [
              "(96+40j)"
            ]
          },
          "metadata": {},
          "execution_count": 29
        }
      ]
    },
    {
      "cell_type": "code",
      "source": [
        "5/0"
      ],
      "metadata": {
        "colab": {
          "base_uri": "https://localhost:8080/",
          "height": 166
        },
        "id": "bK744LRlJFsv",
        "outputId": "ccd35cc3-ba39-4dcb-e52e-63ebe5cb4fe1"
      },
      "execution_count": null,
      "outputs": [
        {
          "output_type": "error",
          "ename": "ZeroDivisionError",
          "evalue": "ignored",
          "traceback": [
            "\u001b[0;31m---------------------------------------------------------------------------\u001b[0m",
            "\u001b[0;31mZeroDivisionError\u001b[0m                         Traceback (most recent call last)",
            "\u001b[0;32m<ipython-input-30-0106664d39e8>\u001b[0m in \u001b[0;36m<cell line: 1>\u001b[0;34m()\u001b[0m\n\u001b[0;32m----> 1\u001b[0;31m \u001b[0;36m5\u001b[0m\u001b[0;34m/\u001b[0m\u001b[0;36m0\u001b[0m\u001b[0;34m\u001b[0m\u001b[0;34m\u001b[0m\u001b[0m\n\u001b[0m",
            "\u001b[0;31mZeroDivisionError\u001b[0m: division by zero"
          ]
        }
      ]
    },
    {
      "cell_type": "code",
      "source": [
        "10%0"
      ],
      "metadata": {
        "colab": {
          "base_uri": "https://localhost:8080/",
          "height": 166
        },
        "id": "6GHEHw5-JP0w",
        "outputId": "0137eaed-b773-4fe3-9949-13cfd915b338"
      },
      "execution_count": null,
      "outputs": [
        {
          "output_type": "error",
          "ename": "ZeroDivisionError",
          "evalue": "ignored",
          "traceback": [
            "\u001b[0;31m---------------------------------------------------------------------------\u001b[0m",
            "\u001b[0;31mZeroDivisionError\u001b[0m                         Traceback (most recent call last)",
            "\u001b[0;32m<ipython-input-31-3e1bfe6920c0>\u001b[0m in \u001b[0;36m<cell line: 1>\u001b[0;34m()\u001b[0m\n\u001b[0;32m----> 1\u001b[0;31m \u001b[0;36m10\u001b[0m\u001b[0;34m%\u001b[0m\u001b[0;36m0\u001b[0m\u001b[0;34m\u001b[0m\u001b[0;34m\u001b[0m\u001b[0m\n\u001b[0m",
            "\u001b[0;31mZeroDivisionError\u001b[0m: integer division or modulo by zero"
          ]
        }
      ]
    },
    {
      "cell_type": "code",
      "source": [
        "10<20"
      ],
      "metadata": {
        "colab": {
          "base_uri": "https://localhost:8080/"
        },
        "id": "QilXvmW9JT1M",
        "outputId": "ebcacda6-61a4-441d-81ab-6257a89c0570"
      },
      "execution_count": null,
      "outputs": [
        {
          "output_type": "execute_result",
          "data": {
            "text/plain": [
              "True"
            ]
          },
          "metadata": {},
          "execution_count": 32
        }
      ]
    },
    {
      "cell_type": "code",
      "source": [
        "10<20<30"
      ],
      "metadata": {
        "colab": {
          "base_uri": "https://localhost:8080/"
        },
        "id": "pVBAFFQbV-zD",
        "outputId": "0adfea02-054c-4dce-8045-0a2a7ba126a1"
      },
      "execution_count": null,
      "outputs": [
        {
          "output_type": "execute_result",
          "data": {
            "text/plain": [
              "True"
            ]
          },
          "metadata": {},
          "execution_count": 33
        }
      ]
    },
    {
      "cell_type": "code",
      "source": [
        "'durga'>'ravi'"
      ],
      "metadata": {
        "colab": {
          "base_uri": "https://localhost:8080/"
        },
        "id": "MO2JUq7OWBnv",
        "outputId": "91df516f-a008-4617-852a-f725f45173a6"
      },
      "execution_count": null,
      "outputs": [
        {
          "output_type": "execute_result",
          "data": {
            "text/plain": [
              "False"
            ]
          },
          "metadata": {},
          "execution_count": 34
        }
      ]
    },
    {
      "cell_type": "code",
      "source": [
        "'Ravi' > 'ravi'"
      ],
      "metadata": {
        "colab": {
          "base_uri": "https://localhost:8080/"
        },
        "id": "Vs-NbAXjZUOz",
        "outputId": "4dccd1d8-0fa9-422a-bad1-c2813613690b"
      },
      "execution_count": null,
      "outputs": [
        {
          "output_type": "execute_result",
          "data": {
            "text/plain": [
              "False"
            ]
          },
          "metadata": {},
          "execution_count": 35
        }
      ]
    },
    {
      "cell_type": "code",
      "source": [
        "'roja'  < 'ramya'"
      ],
      "metadata": {
        "colab": {
          "base_uri": "https://localhost:8080/"
        },
        "id": "tfB-kfzRZb2O",
        "outputId": "3181be56-182d-4cbd-871d-8e4bf8899ccd"
      },
      "execution_count": null,
      "outputs": [
        {
          "output_type": "execute_result",
          "data": {
            "text/plain": [
              "False"
            ]
          },
          "metadata": {},
          "execution_count": 36
        }
      ]
    },
    {
      "cell_type": "code",
      "source": [
        "1==2"
      ],
      "metadata": {
        "colab": {
          "base_uri": "https://localhost:8080/"
        },
        "id": "K_P2j_1RZmJ2",
        "outputId": "fc2b3391-15ba-430a-8fee-b03b3eb7c2eb"
      },
      "execution_count": null,
      "outputs": [
        {
          "output_type": "execute_result",
          "data": {
            "text/plain": [
              "False"
            ]
          },
          "metadata": {},
          "execution_count": 37
        }
      ]
    },
    {
      "cell_type": "code",
      "source": [
        "1!= 2"
      ],
      "metadata": {
        "colab": {
          "base_uri": "https://localhost:8080/"
        },
        "id": "8NHjIR28aKmX",
        "outputId": "1c5f11b6-0e79-4978-b895-05529bbbd754"
      },
      "execution_count": null,
      "outputs": [
        {
          "output_type": "execute_result",
          "data": {
            "text/plain": [
              "True"
            ]
          },
          "metadata": {},
          "execution_count": 38
        }
      ]
    },
    {
      "cell_type": "code",
      "source": [
        "10==True"
      ],
      "metadata": {
        "colab": {
          "base_uri": "https://localhost:8080/"
        },
        "id": "r6f55gu7aMSn",
        "outputId": "3a637009-7f17-42ca-fa64-d597d7556fdf"
      },
      "execution_count": null,
      "outputs": [
        {
          "output_type": "execute_result",
          "data": {
            "text/plain": [
              "False"
            ]
          },
          "metadata": {},
          "execution_count": 39
        }
      ]
    },
    {
      "cell_type": "code",
      "source": [
        "False==False"
      ],
      "metadata": {
        "colab": {
          "base_uri": "https://localhost:8080/"
        },
        "id": "7zkijKC-aOSA",
        "outputId": "f8551012-3f4e-49a4-8100-599392e80cc9"
      },
      "execution_count": null,
      "outputs": [
        {
          "output_type": "execute_result",
          "data": {
            "text/plain": [
              "True"
            ]
          },
          "metadata": {},
          "execution_count": 40
        }
      ]
    },
    {
      "cell_type": "code",
      "source": [
        "'durga'=='durga'"
      ],
      "metadata": {
        "colab": {
          "base_uri": "https://localhost:8080/"
        },
        "id": "-VkHkDeTaROH",
        "outputId": "6a56a1a0-5e79-40c2-95a8-8a0a4fe266a4"
      },
      "execution_count": null,
      "outputs": [
        {
          "output_type": "execute_result",
          "data": {
            "text/plain": [
              "True"
            ]
          },
          "metadata": {},
          "execution_count": 41
        }
      ]
    },
    {
      "cell_type": "code",
      "source": [
        "'Drug'=='drug'"
      ],
      "metadata": {
        "colab": {
          "base_uri": "https://localhost:8080/"
        },
        "id": "EnbcJLgtaaPp",
        "outputId": "26f71f11-e6f2-4327-ceaa-c773d489f0db"
      },
      "execution_count": null,
      "outputs": [
        {
          "output_type": "execute_result",
          "data": {
            "text/plain": [
              "False"
            ]
          },
          "metadata": {},
          "execution_count": 43
        }
      ]
    },
    {
      "cell_type": "code",
      "source": [
        "10=='pk'"
      ],
      "metadata": {
        "colab": {
          "base_uri": "https://localhost:8080/"
        },
        "id": "X3m411_FadPI",
        "outputId": "cc6a89c0-2ba9-40d2-fdae-2c3a5ccc339a"
      },
      "execution_count": null,
      "outputs": [
        {
          "output_type": "execute_result",
          "data": {
            "text/plain": [
              "False"
            ]
          },
          "metadata": {},
          "execution_count": 44
        }
      ]
    },
    {
      "cell_type": "code",
      "source": [
        "1 and 2"
      ],
      "metadata": {
        "colab": {
          "base_uri": "https://localhost:8080/"
        },
        "id": "I1cghQPDai00",
        "outputId": "1e63e047-e36c-48e1-b653-4931dd0cdb39"
      },
      "execution_count": null,
      "outputs": [
        {
          "output_type": "execute_result",
          "data": {
            "text/plain": [
              "2"
            ]
          },
          "metadata": {},
          "execution_count": 45
        }
      ]
    },
    {
      "cell_type": "code",
      "source": [
        "10 and 20"
      ],
      "metadata": {
        "colab": {
          "base_uri": "https://localhost:8080/"
        },
        "id": "sCMcPYRodcH8",
        "outputId": "447d6eda-5160-4b84-f170-a079857cf297"
      },
      "execution_count": null,
      "outputs": [
        {
          "output_type": "execute_result",
          "data": {
            "text/plain": [
              "20"
            ]
          },
          "metadata": {},
          "execution_count": 46
        }
      ]
    },
    {
      "cell_type": "code",
      "source": [
        "10 or 20"
      ],
      "metadata": {
        "colab": {
          "base_uri": "https://localhost:8080/"
        },
        "id": "WumdRZXddkYa",
        "outputId": "90ab3a0a-fe05-49c4-8020-5ac4295a69c5"
      },
      "execution_count": null,
      "outputs": [
        {
          "output_type": "execute_result",
          "data": {
            "text/plain": [
              "10"
            ]
          },
          "metadata": {},
          "execution_count": 47
        }
      ]
    },
    {
      "cell_type": "code",
      "source": [
        "'pk' and 20"
      ],
      "metadata": {
        "colab": {
          "base_uri": "https://localhost:8080/"
        },
        "id": "yqet4E8XdmNk",
        "outputId": "f30da038-0e62-439e-8664-1d42fe651d89"
      },
      "execution_count": null,
      "outputs": [
        {
          "output_type": "execute_result",
          "data": {
            "text/plain": [
              "20"
            ]
          },
          "metadata": {},
          "execution_count": 48
        }
      ]
    },
    {
      "cell_type": "code",
      "source": [
        "20 and 'pk'"
      ],
      "metadata": {
        "colab": {
          "base_uri": "https://localhost:8080/",
          "height": 35
        },
        "id": "xjEPW5pHdx3z",
        "outputId": "5fe2ef03-990b-45de-c3c8-b2fb08cb4c5a"
      },
      "execution_count": null,
      "outputs": [
        {
          "output_type": "execute_result",
          "data": {
            "text/plain": [
              "'pk'"
            ],
            "application/vnd.google.colaboratory.intrinsic+json": {
              "type": "string"
            }
          },
          "metadata": {},
          "execution_count": 49
        }
      ]
    },
    {
      "cell_type": "code",
      "source": [
        "0 or 2"
      ],
      "metadata": {
        "colab": {
          "base_uri": "https://localhost:8080/"
        },
        "id": "RChs8afDd1nQ",
        "outputId": "58c745b0-8cef-42b3-94cf-123a037aa57a"
      },
      "execution_count": null,
      "outputs": [
        {
          "output_type": "execute_result",
          "data": {
            "text/plain": [
              "2"
            ]
          },
          "metadata": {},
          "execution_count": 50
        }
      ]
    },
    {
      "cell_type": "code",
      "source": [
        "0 or 0"
      ],
      "metadata": {
        "colab": {
          "base_uri": "https://localhost:8080/"
        },
        "id": "QkBUyPZijj11",
        "outputId": "1d08d11a-ddd3-4a7d-f6b6-327e7355f5f2"
      },
      "execution_count": null,
      "outputs": [
        {
          "output_type": "execute_result",
          "data": {
            "text/plain": [
              "0"
            ]
          },
          "metadata": {},
          "execution_count": 51
        }
      ]
    },
    {
      "cell_type": "code",
      "source": [
        "1 and 0"
      ],
      "metadata": {
        "colab": {
          "base_uri": "https://localhost:8080/"
        },
        "id": "Wg01q5A7jwTR",
        "outputId": "2de6f6fd-f25b-4b49-8110-d179a421e394"
      },
      "execution_count": null,
      "outputs": [
        {
          "output_type": "execute_result",
          "data": {
            "text/plain": [
              "0"
            ]
          },
          "metadata": {},
          "execution_count": 52
        }
      ]
    },
    {
      "cell_type": "code",
      "source": [
        "not 10"
      ],
      "metadata": {
        "colab": {
          "base_uri": "https://localhost:8080/"
        },
        "id": "Ln4g3Tmej0L9",
        "outputId": "2a5e6431-ab60-470a-9033-54b37905ae97"
      },
      "execution_count": null,
      "outputs": [
        {
          "output_type": "execute_result",
          "data": {
            "text/plain": [
              "False"
            ]
          },
          "metadata": {},
          "execution_count": 53
        }
      ]
    },
    {
      "cell_type": "code",
      "source": [
        "not 'empty'"
      ],
      "metadata": {
        "colab": {
          "base_uri": "https://localhost:8080/"
        },
        "id": "iuSM2V4sj7C0",
        "outputId": "e6d2761f-866d-4828-ed22-3ba6663bfc74"
      },
      "execution_count": null,
      "outputs": [
        {
          "output_type": "execute_result",
          "data": {
            "text/plain": [
              "False"
            ]
          },
          "metadata": {},
          "execution_count": 54
        }
      ]
    },
    {
      "cell_type": "code",
      "source": [
        "not ''"
      ],
      "metadata": {
        "colab": {
          "base_uri": "https://localhost:8080/"
        },
        "id": "eeSvnGxvkBt6",
        "outputId": "69069da8-eb50-43fe-a5e8-7054ab99f504"
      },
      "execution_count": null,
      "outputs": [
        {
          "output_type": "execute_result",
          "data": {
            "text/plain": [
              "True"
            ]
          },
          "metadata": {},
          "execution_count": 55
        }
      ]
    },
    {
      "cell_type": "code",
      "source": [
        "not 0"
      ],
      "metadata": {
        "colab": {
          "base_uri": "https://localhost:8080/"
        },
        "id": "Be8_mgDDkEHV",
        "outputId": "8d738d51-4a42-4667-cf8b-a0e65787ba06"
      },
      "execution_count": null,
      "outputs": [
        {
          "output_type": "execute_result",
          "data": {
            "text/plain": [
              "True"
            ]
          },
          "metadata": {},
          "execution_count": 56
        }
      ]
    },
    {
      "cell_type": "code",
      "source": [
        "10 or 10/0"
      ],
      "metadata": {
        "colab": {
          "base_uri": "https://localhost:8080/"
        },
        "id": "ZZN0oXD1kGAT",
        "outputId": "e77c4f57-e91e-4d7b-97e8-8b8431d0fd92"
      },
      "execution_count": null,
      "outputs": [
        {
          "output_type": "execute_result",
          "data": {
            "text/plain": [
              "10"
            ]
          },
          "metadata": {},
          "execution_count": 57
        }
      ]
    },
    {
      "cell_type": "code",
      "source": [
        "0 and 10/0"
      ],
      "metadata": {
        "colab": {
          "base_uri": "https://localhost:8080/"
        },
        "id": "2bRKfkc6kZvU",
        "outputId": "ec3a3685-7c2b-4af9-f2e2-228e8418bcef"
      },
      "execution_count": null,
      "outputs": [
        {
          "output_type": "execute_result",
          "data": {
            "text/plain": [
              "0"
            ]
          },
          "metadata": {},
          "execution_count": 61
        }
      ]
    },
    {
      "cell_type": "code",
      "source": [
        "4 & 5"
      ],
      "metadata": {
        "colab": {
          "base_uri": "https://localhost:8080/"
        },
        "id": "JjUrNu7bkcnx",
        "outputId": "a13b6e67-f8df-445c-e9f9-88019c45936f"
      },
      "execution_count": null,
      "outputs": [
        {
          "output_type": "execute_result",
          "data": {
            "text/plain": [
              "4"
            ]
          },
          "metadata": {},
          "execution_count": 62
        }
      ]
    },
    {
      "cell_type": "code",
      "source": [
        "a, b, c,d = 1,2,3,4"
      ],
      "metadata": {
        "id": "zuVNRrAGmTyM"
      },
      "execution_count": null,
      "outputs": []
    },
    {
      "cell_type": "code",
      "source": [
        "a"
      ],
      "metadata": {
        "colab": {
          "base_uri": "https://localhost:8080/"
        },
        "id": "Hqau9Sy0H7Sy",
        "outputId": "4f78d8b3-a53c-4335-8e02-882a4d01656c"
      },
      "execution_count": null,
      "outputs": [
        {
          "output_type": "execute_result",
          "data": {
            "text/plain": [
              "1"
            ]
          },
          "metadata": {},
          "execution_count": 2
        }
      ]
    },
    {
      "cell_type": "code",
      "source": [
        "b"
      ],
      "metadata": {
        "colab": {
          "base_uri": "https://localhost:8080/"
        },
        "id": "RtC3qz3NH723",
        "outputId": "e241aa12-0208-4686-b632-8a962c0f3604"
      },
      "execution_count": null,
      "outputs": [
        {
          "output_type": "execute_result",
          "data": {
            "text/plain": [
              "2"
            ]
          },
          "metadata": {},
          "execution_count": 3
        }
      ]
    },
    {
      "cell_type": "code",
      "source": [
        "x=10"
      ],
      "metadata": {
        "id": "2Hj54j-MH8kk"
      },
      "execution_count": null,
      "outputs": []
    },
    {
      "cell_type": "code",
      "source": [
        "x+=10"
      ],
      "metadata": {
        "id": "rThfVUTgIHQb"
      },
      "execution_count": null,
      "outputs": []
    },
    {
      "cell_type": "code",
      "source": [
        "x"
      ],
      "metadata": {
        "colab": {
          "base_uri": "https://localhost:8080/"
        },
        "id": "DRHzQaKRILeB",
        "outputId": "b8452662-eb1e-4af9-ac8d-cf707bce40c8"
      },
      "execution_count": null,
      "outputs": [
        {
          "output_type": "execute_result",
          "data": {
            "text/plain": [
              "20"
            ]
          },
          "metadata": {},
          "execution_count": 7
        }
      ]
    },
    {
      "cell_type": "code",
      "source": [
        "y = x++x\n",
        "y"
      ],
      "metadata": {
        "colab": {
          "base_uri": "https://localhost:8080/"
        },
        "id": "0OvJXPFPIMGQ",
        "outputId": "c7679194-8330-48a7-fdfd-3dfb6c3316d2"
      },
      "execution_count": null,
      "outputs": [
        {
          "output_type": "execute_result",
          "data": {
            "text/plain": [
              "40"
            ]
          },
          "metadata": {},
          "execution_count": 9
        }
      ]
    },
    {
      "cell_type": "code",
      "source": [
        "z = y--x\n",
        "z"
      ],
      "metadata": {
        "colab": {
          "base_uri": "https://localhost:8080/"
        },
        "id": "jI5VcIB3Ia__",
        "outputId": "edee0941-230a-48ff-a84c-03b8687bcb27"
      },
      "execution_count": null,
      "outputs": [
        {
          "output_type": "execute_result",
          "data": {
            "text/plain": [
              "60"
            ]
          },
          "metadata": {},
          "execution_count": 11
        }
      ]
    },
    {
      "cell_type": "code",
      "source": [
        "z = y---x\n",
        "z"
      ],
      "metadata": {
        "colab": {
          "base_uri": "https://localhost:8080/"
        },
        "id": "ZGA4LOiNI6Ja",
        "outputId": "af2d8e06-50cf-4e93-83bb-f78045fb4d09"
      },
      "execution_count": null,
      "outputs": [
        {
          "output_type": "execute_result",
          "data": {
            "text/plain": [
              "20"
            ]
          },
          "metadata": {},
          "execution_count": 12
        }
      ]
    },
    {
      "cell_type": "code",
      "source": [
        "x = 45 if 30<20 else 40\n",
        "print(x)"
      ],
      "metadata": {
        "colab": {
          "base_uri": "https://localhost:8080/"
        },
        "id": "NmgF3QTnJGyr",
        "outputId": "024ddf44-8b6b-4026-d1db-647b1b29a4ba"
      },
      "execution_count": null,
      "outputs": [
        {
          "output_type": "stream",
          "name": "stdout",
          "text": [
            "40\n"
          ]
        }
      ]
    },
    {
      "cell_type": "code",
      "source": [
        "a = eval(input('Enter First number: '))\n",
        "b = eval(input('Enter Second number: '))\n",
        "Min = a if a<b else b\n",
        "print('Mininum Value is: ', Min)"
      ],
      "metadata": {
        "colab": {
          "base_uri": "https://localhost:8080/"
        },
        "id": "8ubIlj9gKW6w",
        "outputId": "4f05c998-ff7e-4824-a896-22d01d9a3470"
      },
      "execution_count": null,
      "outputs": [
        {
          "output_type": "stream",
          "name": "stdout",
          "text": [
            "Enter First number: 35.9\n",
            "Enter Second number: 90\n",
            "Mininum Value is:  35.9\n"
          ]
        }
      ]
    },
    {
      "cell_type": "code",
      "source": [
        "a = eval(input('Enter First number: '))\n",
        "b = eval(input('Enter Second number: '))\n",
        "print('Equal Values' if a==b else 'First Number Greater' if a>b else 'First number is smaller')"
      ],
      "metadata": {
        "colab": {
          "base_uri": "https://localhost:8080/"
        },
        "id": "g1eNtmaHMxQC",
        "outputId": "4917a15b-f446-4fc4-ab9b-5ea04575bb78"
      },
      "execution_count": null,
      "outputs": [
        {
          "output_type": "stream",
          "name": "stdout",
          "text": [
            "Enter First number: 35.97\n",
            "Enter Second number: 50\n",
            "First number is smaller\n"
          ]
        }
      ]
    },
    {
      "cell_type": "code",
      "source": [
        "x = input('Enter the number: ')\n",
        "print(x)\n",
        "print(type(x))"
      ],
      "metadata": {
        "colab": {
          "base_uri": "https://localhost:8080/"
        },
        "id": "9EdTpU8VoVQ8",
        "outputId": "4d82f57d-9960-49f5-f497-5eba9170eaaf"
      },
      "execution_count": null,
      "outputs": [
        {
          "output_type": "stream",
          "name": "stdout",
          "text": [
            "Enter the number: 3\n",
            "3\n",
            "<class 'str'>\n"
          ]
        }
      ]
    },
    {
      "cell_type": "code",
      "source": [
        "a = eval(input('Enter First number: '))\n",
        "print(a)\n",
        "print(type(a))"
      ],
      "metadata": {
        "colab": {
          "base_uri": "https://localhost:8080/"
        },
        "id": "GAUrOCDDoZuJ",
        "outputId": "37d1da6a-43a8-4984-85ec-12661c484bb3"
      },
      "execution_count": null,
      "outputs": [
        {
          "output_type": "stream",
          "name": "stdout",
          "text": [
            "Enter First number: {1:\"hello\",2:\"key\"}\n",
            "{1: 'hello', 2: 'key'}\n",
            "<class 'dict'>\n"
          ]
        }
      ]
    },
    {
      "cell_type": "code",
      "source": [
        "x = input('enter something; ')\n",
        "type(x)"
      ],
      "metadata": {
        "colab": {
          "base_uri": "https://localhost:8080/"
        },
        "id": "YG_zPZj2BiG6",
        "outputId": "9cfb766a-5aa1-4541-f632-601c1b2e9d9e"
      },
      "execution_count": null,
      "outputs": [
        {
          "name": "stdout",
          "output_type": "stream",
          "text": [
            "enter something; 54\n"
          ]
        },
        {
          "output_type": "execute_result",
          "data": {
            "text/plain": [
              "str"
            ]
          },
          "metadata": {},
          "execution_count": 2
        }
      ]
    },
    {
      "cell_type": "code",
      "source": [
        "a, b = [int(x) for x in input('enter the 2 values: ').split(',')]\n",
        "print('The product : ', a*b)"
      ],
      "metadata": {
        "colab": {
          "base_uri": "https://localhost:8080/"
        },
        "id": "8P2clAo6CI2y",
        "outputId": "94ee1a6a-405d-450c-9f31-ea97de96fc9d"
      },
      "execution_count": null,
      "outputs": [
        {
          "output_type": "stream",
          "name": "stdout",
          "text": [
            "enter the 2 values: 23,35\n",
            "The product :  805\n"
          ]
        }
      ]
    },
    {
      "cell_type": "code",
      "source": [
        "a,b,c = [eval(x) for x in input('Enter 3 values using comma : ').split(\",\")]\n",
        "print(type(a))\n",
        "print(type(b))\n",
        "print(type(c))"
      ],
      "metadata": {
        "colab": {
          "base_uri": "https://localhost:8080/"
        },
        "id": "7wpOOCONGCz5",
        "outputId": "3df22ce9-6d39-415c-ba72-7e15c5ea534f"
      },
      "execution_count": null,
      "outputs": [
        {
          "output_type": "stream",
          "name": "stdout",
          "text": [
            "Enter 3 values using comma : 3,2.5,50\n",
            "<class 'int'>\n",
            "<class 'float'>\n",
            "<class 'int'>\n"
          ]
        }
      ]
    },
    {
      "cell_type": "code",
      "source": [
        "from sys import argv\n",
        "print(type(argv))"
      ],
      "metadata": {
        "colab": {
          "base_uri": "https://localhost:8080/"
        },
        "id": "PiuJwtq_Kyt0",
        "outputId": "66f80ffb-945f-429f-adc3-6caa91e1357e"
      },
      "execution_count": null,
      "outputs": [
        {
          "output_type": "stream",
          "name": "stdout",
          "text": [
            "<class 'list'>\n"
          ]
        }
      ]
    },
    {
      "cell_type": "code",
      "source": [
        "print('pawan'+'kataria')\n",
        "print('pawan','kataria')"
      ],
      "metadata": {
        "id": "n3t_4PzpMz4A",
        "colab": {
          "base_uri": "https://localhost:8080/"
        },
        "outputId": "1dc714ef-475c-4f53-d7b8-0db2205866a2"
      },
      "execution_count": null,
      "outputs": [
        {
          "output_type": "stream",
          "name": "stdout",
          "text": [
            "pawankataria\n",
            "pawan kataria\n"
          ]
        }
      ]
    },
    {
      "cell_type": "code",
      "source": [
        "a,b,c= 10,20,30\n",
        "print('a value is %i' %a)"
      ],
      "metadata": {
        "colab": {
          "base_uri": "https://localhost:8080/"
        },
        "id": "Zdd63_zP-bx4",
        "outputId": "42a36be0-e65d-4a12-b943-936a8f0a0138"
      },
      "execution_count": null,
      "outputs": [
        {
          "output_type": "stream",
          "name": "stdout",
          "text": [
            "a value is 10\n"
          ]
        }
      ]
    },
    {
      "cell_type": "code",
      "source": [
        "a,b,c= 10,20,30\n",
        "print('a value is %i' %a)\n",
        "print('a value is %i and b value is %i' %(a,b))\n"
      ],
      "metadata": {
        "colab": {
          "base_uri": "https://localhost:8080/"
        },
        "id": "UhB2tZWI6P3o",
        "outputId": "78b42f1f-58bf-4c43-fb5d-aadea0ddf162"
      },
      "execution_count": null,
      "outputs": [
        {
          "output_type": "stream",
          "name": "stdout",
          "text": [
            "a value is 10\n",
            "a value is 10 and b value is 20\n"
          ]
        }
      ]
    },
    {
      "cell_type": "code",
      "source": [
        "name = 'Pawan'\n",
        "salary = 10000\n",
        "gf = 'sunny'\n",
        "print('Hello {0} your salary is {1} and your Girl Friend name is {2} is wating.'.format(name,salary,gf))\n",
        "print('Hello {} your salary is {} and your Girl Friend name is {} is wating.'.format(name,salary,gf))\n",
        "print('Hello {x} your salary is {y} and your Girl Friend name is {z} is wating.'.format(x=name,y=salary,z=gf))"
      ],
      "metadata": {
        "colab": {
          "base_uri": "https://localhost:8080/"
        },
        "id": "PG1OIrxV-aVA",
        "outputId": "ec16156f-d63a-4bf1-d1c0-926ea5fbb28c"
      },
      "execution_count": null,
      "outputs": [
        {
          "output_type": "stream",
          "name": "stdout",
          "text": [
            "Hello Pawan your salary is 10000 and your Girl Friend name is sunny is wating.\n",
            "Hello Pawan your salary is 10000 and your Girl Friend name is sunny is wating.\n",
            "Hello Pawan your salary is 10000 and your Girl Friend name is sunny is wating.\n"
          ]
        }
      ]
    },
    {
      "cell_type": "markdown",
      "source": [
        "# Flow Control Process\n",
        "\n",
        "\n",
        "\n",
        "\n"
      ],
      "metadata": {
        "id": "K-914wXKPpEE"
      }
    },
    {
      "cell_type": "code",
      "source": [
        "name = input('Enter the Name: ')\n",
        "if name == 'Pawan':\n",
        "  print('Hello Pawan, good morning')\n",
        "else:\n",
        "  print('Hello {}, Good Morning.\\nHow are you?'.format(name))"
      ],
      "metadata": {
        "colab": {
          "base_uri": "https://localhost:8080/"
        },
        "id": "_77jJcGD_-kP",
        "outputId": "6da1225e-983d-4225-8cae-6d306e82bac5"
      },
      "execution_count": null,
      "outputs": [
        {
          "output_type": "stream",
          "name": "stdout",
          "text": [
            "Enter the Name: Kataria\n",
            "Hello Kataria, Good Morning.\n",
            "How are you?\n"
          ]
        }
      ]
    },
    {
      "cell_type": "code",
      "source": [
        "brand = input('Enter your favourate brand : ')\n",
        "if brand == 'RC':\n",
        "  print('It is childrens brand')\n",
        "elif brand=='KF':\n",
        "  print('It is not that much kick')\n",
        "elif brand == 'KO':\n",
        "  print('It is too light')\n",
        "elif brand == 'FO':\n",
        "  print('Buy one get one free')\n",
        "else:\n",
        "  print('Other brands are not recommended')"
      ],
      "metadata": {
        "colab": {
          "base_uri": "https://localhost:8080/"
        },
        "id": "7vejG7C6D65A",
        "outputId": "34494bdc-7820-44c2-b121-06cb56b25ed9"
      },
      "execution_count": null,
      "outputs": [
        {
          "output_type": "stream",
          "name": "stdout",
          "text": [
            "Enter your favourate brand : K0\n",
            "Other brands are not recommended\n"
          ]
        }
      ]
    },
    {
      "cell_type": "code",
      "source": [
        "# program to find biggest of given 2 numbers from the keyboard\n",
        "n1 = eval(input('Enter First Number : '))\n",
        "n2 = eval(input('Enter Second Number : '))\n",
        "if n1<n2:\n",
        "  print(\"Bigger number is: \", n2)\n",
        "else:\n",
        "  print('Bigger number is : ', n1)"
      ],
      "metadata": {
        "id": "_KHIWo9AFwLy",
        "colab": {
          "base_uri": "https://localhost:8080/"
        },
        "outputId": "1a486612-5ae6-403b-93c5-bde5d6f5b4b6"
      },
      "execution_count": null,
      "outputs": [
        {
          "output_type": "stream",
          "name": "stdout",
          "text": [
            "Enter First Number : -1100\n",
            "Enter Second Number : -2000\n",
            "Bigger number is :  -1100\n"
          ]
        }
      ]
    },
    {
      "cell_type": "code",
      "source": [
        "# program to find biggest of given 3 numbers from the keyboard\n",
        "n1 = eval(input('Enter First Number : '))\n",
        "n2 = eval(input('Enter Second Number : '))\n",
        "n3 = eval(input('Enter Third Number : '))\n",
        "if n1>n2 and n1>n3:\n",
        "  print(\"Bigger number is: \", n1)\n",
        "elif n2 > n3:\n",
        "  print('Bigger number is : ', n2)\n",
        "else:\n",
        "  print('Biggest number is : ', n3)"
      ],
      "metadata": {
        "colab": {
          "base_uri": "https://localhost:8080/"
        },
        "id": "ug_LYMu0SIfH",
        "outputId": "c762bd4c-525c-4960-a9b2-1206ccb44f71"
      },
      "execution_count": null,
      "outputs": [
        {
          "output_type": "stream",
          "name": "stdout",
          "text": [
            "Enter First Number : 10\n",
            "Enter Second Number : 20\n",
            "Enter Third Number : 20\n",
            "Biggest number is :  20\n"
          ]
        }
      ]
    },
    {
      "cell_type": "code",
      "source": [
        "# program to find biggest of given 3 numbers from the keyboard\n",
        "n1 = eval(input('Enter First Number : '))\n",
        "n2 = eval(input('Enter Second Number : '))\n",
        "n3 = eval(input('Enter Third Number : '))\n",
        "if n1>n2 and n1>n3:\n",
        "  print(\"Bigger number is: \", n1)\n",
        "elif n2 > n3:\n",
        "  print('Bigger number is : ', n2)\n",
        "else:\n",
        "  print('Biggest number is : ', n3)"
      ],
      "metadata": {
        "colab": {
          "base_uri": "https://localhost:8080/"
        },
        "id": "bHO0s3yRTvXW",
        "outputId": "7ea98c25-52eb-4c88-89f2-c3a300714c67"
      },
      "execution_count": null,
      "outputs": [
        {
          "output_type": "stream",
          "name": "stdout",
          "text": [
            "Enter First Number : 'Pawan'\n",
            "Enter Second Number : 'Kataria'\n",
            "Enter Third Number : 'Jaipur'\n",
            "Bigger number is:  Pawan\n"
          ]
        }
      ]
    },
    {
      "cell_type": "code",
      "source": [
        "n = eval(input('Enter the number : '))\n",
        "if n>=1 and n<=100:\n",
        "  print('The number {} is in between 1 and 100'.format(n))\n",
        "else:\n",
        "  print('The number {} is not between 1 and 100'.format(n))"
      ],
      "metadata": {
        "colab": {
          "base_uri": "https://localhost:8080/"
        },
        "id": "UW2JQSuqUmqM",
        "outputId": "eab9cfdf-cc97-4368-ca03-bdea99609fbf"
      },
      "execution_count": null,
      "outputs": [
        {
          "output_type": "stream",
          "name": "stdout",
          "text": [
            "Enter the number : 28\n",
            "The number 28 is in between 1 and 100\n"
          ]
        }
      ]
    },
    {
      "cell_type": "code",
      "source": [
        "n = eval(input('enter the digit between 0 to 9 : '))\n",
        "if n==0:\n",
        "  print('Zero')\n",
        "elif n==1:\n",
        "  print('One')\n",
        "elif n==2:\n",
        "  print('Two')\n",
        "elif n==3:\n",
        "  print('Three')\n",
        "elif n==4:\n",
        "  print('Four')\n",
        "elif n==5:\n",
        "  print('Five')\n",
        "elif n==6:\n",
        "  print('Six')\n",
        "elif n==7:\n",
        "  print('Seven')\n",
        "elif n==8:\n",
        "  print('Eight')\n",
        "elif n==9:\n",
        "  print('Nine')\n",
        "else:\n",
        "  print('Enter the number between o to 9 only.')"
      ],
      "metadata": {
        "colab": {
          "base_uri": "https://localhost:8080/"
        },
        "id": "eiwz1XKFVMpo",
        "outputId": "d355d4da-f1f2-4d72-e0e7-39bf1ae07d76"
      },
      "execution_count": null,
      "outputs": [
        {
          "output_type": "stream",
          "name": "stdout",
          "text": [
            "enter the digit between 0 to 9 : 5.5\n",
            "Enter the number between o to 9 only.\n"
          ]
        }
      ]
    },
    {
      "cell_type": "code",
      "source": [
        "s = 'Sunny Leone'\n",
        "for x in s:\n",
        "  print(x)"
      ],
      "metadata": {
        "colab": {
          "base_uri": "https://localhost:8080/"
        },
        "id": "Sqsxl4sCWpDE",
        "outputId": "3bfc640b-3028-4a72-b5c0-4518877cdb82"
      },
      "execution_count": null,
      "outputs": [
        {
          "output_type": "stream",
          "name": "stdout",
          "text": [
            "S\n",
            "u\n",
            "n\n",
            "n\n",
            "y\n",
            " \n",
            "L\n",
            "e\n",
            "o\n",
            "n\n",
            "e\n"
          ]
        }
      ]
    },
    {
      "cell_type": "code",
      "source": [
        "s = 'Sunny Leone'\n",
        "count = 0\n",
        "for x in s:\n",
        "  count += 1\n",
        "  print(x)\n",
        "print('The number of characters : ', count)"
      ],
      "metadata": {
        "colab": {
          "base_uri": "https://localhost:8080/"
        },
        "id": "lqUdVs-NYV0n",
        "outputId": "73acf4a6-4f99-43b1-a1f9-37e6c4b027ad"
      },
      "execution_count": null,
      "outputs": [
        {
          "output_type": "stream",
          "name": "stdout",
          "text": [
            "S\n",
            "u\n",
            "n\n",
            "n\n",
            "y\n",
            " \n",
            "L\n",
            "e\n",
            "o\n",
            "n\n",
            "e\n",
            "The number of characters :  11\n"
          ]
        }
      ]
    },
    {
      "cell_type": "code",
      "source": [
        "l = [10,20,30,40]\n",
        "for x in l:\n",
        "  print(x)"
      ],
      "metadata": {
        "colab": {
          "base_uri": "https://localhost:8080/"
        },
        "id": "Fn6NWhWbYz6O",
        "outputId": "d803b979-e432-4ee6-8cb6-224b9fac4081"
      },
      "execution_count": null,
      "outputs": [
        {
          "output_type": "stream",
          "name": "stdout",
          "text": [
            "10\n",
            "20\n",
            "30\n",
            "40\n"
          ]
        }
      ]
    },
    {
      "cell_type": "code",
      "source": [
        "s = input('enter some string : ')\n",
        "i = 0\n",
        "for x in s:\n",
        "  print('The character present at', i,'index is', x)\n",
        "  i+=1"
      ],
      "metadata": {
        "colab": {
          "base_uri": "https://localhost:8080/"
        },
        "id": "2l4Sxt7lZF-t",
        "outputId": "647dee91-0411-413d-dec9-3b277b01e74f"
      },
      "execution_count": null,
      "outputs": [
        {
          "output_type": "stream",
          "name": "stdout",
          "text": [
            "enter some string : pawan\n",
            "The character present at 0 index is p\n",
            "The character present at 1 index is a\n",
            "The character present at 2 index is w\n",
            "The character present at 3 index is a\n",
            "The character present at 4 index is n\n"
          ]
        }
      ]
    },
    {
      "cell_type": "code",
      "source": [
        "s = input('enter some string : ')\n",
        "i = 0\n",
        "for x in s:\n",
        "  if i != 0:\n",
        "    print('The character present at', i,'index is', x)\n",
        "  i+=1"
      ],
      "metadata": {
        "colab": {
          "base_uri": "https://localhost:8080/"
        },
        "id": "xi0WAI6IaCSF",
        "outputId": "1bab66b2-fc30-491c-e205-f9eef47b7dfd"
      },
      "execution_count": null,
      "outputs": [
        {
          "output_type": "stream",
          "name": "stdout",
          "text": [
            "enter some string : pawan\n",
            "The character present at 1 index is a\n",
            "The character present at 2 index is w\n",
            "The character present at 3 index is a\n",
            "The character present at 4 index is n\n"
          ]
        }
      ]
    },
    {
      "cell_type": "code",
      "source": [
        "for i in range(10):\n",
        "  print(\"{} Hello Pawan\".format(i))"
      ],
      "metadata": {
        "colab": {
          "base_uri": "https://localhost:8080/"
        },
        "id": "nBfyE3KYehsw",
        "outputId": "f4b7e1f7-6b16-4f5b-ab46-f4315ba05d88"
      },
      "execution_count": null,
      "outputs": [
        {
          "output_type": "stream",
          "name": "stdout",
          "text": [
            "0 Hello Pawan\n",
            "1 Hello Pawan\n",
            "2 Hello Pawan\n",
            "3 Hello Pawan\n",
            "4 Hello Pawan\n",
            "5 Hello Pawan\n",
            "6 Hello Pawan\n",
            "7 Hello Pawan\n",
            "8 Hello Pawan\n",
            "9 Hello Pawan\n"
          ]
        }
      ]
    },
    {
      "cell_type": "code",
      "source": [
        "for i in range(21):\n",
        "  if i%2 == 0:\n",
        "    print('{} Even Number'.format(i))\n",
        "  else:\n",
        "    print('{} Odd Numbers'.format(i))"
      ],
      "metadata": {
        "colab": {
          "base_uri": "https://localhost:8080/"
        },
        "id": "uoBJZ41cepDZ",
        "outputId": "2210b9a2-e751-40b0-b80a-2bb2bbd33b11"
      },
      "execution_count": null,
      "outputs": [
        {
          "output_type": "stream",
          "name": "stdout",
          "text": [
            "0 Even Number\n",
            "1 Odd Numbers\n",
            "2 Even Number\n",
            "3 Odd Numbers\n",
            "4 Even Number\n",
            "5 Odd Numbers\n",
            "6 Even Number\n",
            "7 Odd Numbers\n",
            "8 Even Number\n",
            "9 Odd Numbers\n",
            "10 Even Number\n",
            "11 Odd Numbers\n",
            "12 Even Number\n",
            "13 Odd Numbers\n",
            "14 Even Number\n",
            "15 Odd Numbers\n",
            "16 Even Number\n",
            "17 Odd Numbers\n",
            "18 Even Number\n",
            "19 Odd Numbers\n",
            "20 Even Number\n"
          ]
        }
      ]
    },
    {
      "cell_type": "code",
      "source": [
        "for i in range(1,21):\n",
        "  if i%2 == 0:\n",
        "    print('{} Even Number'.format(i))\n",
        "  else:\n",
        "    print('{} Odd Numbers'.format(i))"
      ],
      "metadata": {
        "colab": {
          "base_uri": "https://localhost:8080/"
        },
        "id": "Ysg4x1iqfI4K",
        "outputId": "37ca2005-a300-4dcc-fc32-11535caf3476"
      },
      "execution_count": null,
      "outputs": [
        {
          "output_type": "stream",
          "name": "stdout",
          "text": [
            "1 Odd Numbers\n",
            "2 Even Number\n",
            "3 Odd Numbers\n",
            "4 Even Number\n",
            "5 Odd Numbers\n",
            "6 Even Number\n",
            "7 Odd Numbers\n",
            "8 Even Number\n",
            "9 Odd Numbers\n",
            "10 Even Number\n",
            "11 Odd Numbers\n",
            "12 Even Number\n",
            "13 Odd Numbers\n",
            "14 Even Number\n",
            "15 Odd Numbers\n",
            "16 Even Number\n",
            "17 Odd Numbers\n",
            "18 Even Number\n",
            "19 Odd Numbers\n",
            "20 Even Number\n"
          ]
        }
      ]
    },
    {
      "cell_type": "code",
      "source": [
        "for i in range(10,0,-1):\n",
        "  if i%2 == 0:\n",
        "    print('{} Even Number'.format(i))\n",
        "  else:\n",
        "    print('{} Odd Numbers'.format(i))"
      ],
      "metadata": {
        "colab": {
          "base_uri": "https://localhost:8080/"
        },
        "id": "DI4STzixfwe5",
        "outputId": "accc28a6-4e28-4121-91c5-5072c4273400"
      },
      "execution_count": null,
      "outputs": [
        {
          "output_type": "stream",
          "name": "stdout",
          "text": [
            "10 Even Number\n",
            "9 Odd Numbers\n",
            "8 Even Number\n",
            "7 Odd Numbers\n",
            "6 Even Number\n",
            "5 Odd Numbers\n",
            "4 Even Number\n",
            "3 Odd Numbers\n",
            "2 Even Number\n",
            "1 Odd Numbers\n"
          ]
        }
      ]
    },
    {
      "cell_type": "code",
      "source": [
        "l = eval(input('Enter the list data : '))\n",
        "sum = 0\n",
        "for x in l:\n",
        "  sum += x\n",
        "print('The sum : ', sum)"
      ],
      "metadata": {
        "colab": {
          "base_uri": "https://localhost:8080/"
        },
        "id": "96OkX0PrgJQD",
        "outputId": "de2dd3ef-f44b-482f-c3d4-2dbaa8dbd40e"
      },
      "execution_count": null,
      "outputs": [
        {
          "output_type": "stream",
          "name": "stdout",
          "text": [
            "Enter the list data : [10,20,30]\n",
            "The sum :  60\n"
          ]
        }
      ]
    },
    {
      "cell_type": "code",
      "source": [
        "x =1\n",
        "while x <=10:\n",
        "  print(x)\n",
        "  x += 1"
      ],
      "metadata": {
        "colab": {
          "base_uri": "https://localhost:8080/"
        },
        "id": "hNG_x00jglLZ",
        "outputId": "b46c464d-6509-4855-b66b-47314c66c965"
      },
      "execution_count": null,
      "outputs": [
        {
          "output_type": "stream",
          "name": "stdout",
          "text": [
            "1\n",
            "2\n",
            "3\n",
            "4\n",
            "5\n",
            "6\n",
            "7\n",
            "8\n",
            "9\n",
            "10\n"
          ]
        }
      ]
    },
    {
      "cell_type": "code",
      "source": [
        "n = int(input('Enter some number : '))\n",
        "sum = 0\n",
        "i = 1\n",
        "while i <= n:\n",
        "  sum += i\n",
        "  i += 1\n",
        "print('The sum of first n numbers : ', sum)"
      ],
      "metadata": {
        "colab": {
          "base_uri": "https://localhost:8080/"
        },
        "id": "pkwXEZEpk3Zg",
        "outputId": "2bdf846d-bd93-4418-c3c8-7e42a700ec62"
      },
      "execution_count": null,
      "outputs": [
        {
          "output_type": "stream",
          "name": "stdout",
          "text": [
            "Enter some number : 100\n",
            "The sum of first n numbers :  5050\n"
          ]
        }
      ]
    },
    {
      "cell_type": "code",
      "source": [
        "name = ''\n",
        "while name != 'Pawan':\n",
        "  name = input('Enter the name : ')\n",
        "print('Hello Pawan, welcome to club.')"
      ],
      "metadata": {
        "colab": {
          "base_uri": "https://localhost:8080/"
        },
        "id": "-wVmnJSYzKnS",
        "outputId": "1300cd19-9ffa-43d7-b269-ebaf54ef4d7c"
      },
      "execution_count": null,
      "outputs": [
        {
          "output_type": "stream",
          "name": "stdout",
          "text": [
            "Enter the name : durga\n",
            "Enter the name : durga\n",
            "Enter the name : kataria\n",
            "Enter the name : pawan\n",
            "Enter the name : Pawan\n",
            "Hello Pawan, welcome to club.\n"
          ]
        }
      ]
    },
    {
      "cell_type": "code",
      "source": [
        "name = ''\n",
        "pwd = ''\n",
        "while (name != 'Pawan') and (pwd != 'Kataria'):\n",
        "  name = input('Enter the name : ')\n",
        "  pwd = input('Enter the password : ')\n",
        "print('Hello Pawan, welcome to club.')"
      ],
      "metadata": {
        "colab": {
          "base_uri": "https://localhost:8080/"
        },
        "id": "nULG2QAvzgPo",
        "outputId": "1d846f7e-4d6e-4e6a-9d34-7672a0601eb8"
      },
      "execution_count": null,
      "outputs": [
        {
          "output_type": "stream",
          "name": "stdout",
          "text": [
            "Enter the name : pawan\n",
            "Enter the password : kataria\n",
            "Enter the name : Pawan\n",
            "Enter the password : Kataria\n",
            "Hello Pawan, welcome to club.\n"
          ]
        }
      ]
    },
    {
      "cell_type": "code",
      "source": [
        "for i in range(4):\n",
        "  for j in range(4):\n",
        "    print('i = {} and j = {}'.format(i,j))"
      ],
      "metadata": {
        "colab": {
          "base_uri": "https://localhost:8080/"
        },
        "id": "ekML3syo2nqK",
        "outputId": "9e8ed814-b623-4443-8cce-152333e39b53"
      },
      "execution_count": null,
      "outputs": [
        {
          "output_type": "stream",
          "name": "stdout",
          "text": [
            "i = 0 and j = 0\n",
            "i = 0 and j = 1\n",
            "i = 0 and j = 2\n",
            "i = 0 and j = 3\n",
            "i = 1 and j = 0\n",
            "i = 1 and j = 1\n",
            "i = 1 and j = 2\n",
            "i = 1 and j = 3\n",
            "i = 2 and j = 0\n",
            "i = 2 and j = 1\n",
            "i = 2 and j = 2\n",
            "i = 2 and j = 3\n",
            "i = 3 and j = 0\n",
            "i = 3 and j = 1\n",
            "i = 3 and j = 2\n",
            "i = 3 and j = 3\n"
          ]
        }
      ]
    },
    {
      "cell_type": "code",
      "source": [
        "n = int(input('Enter the Number of Rows : '))\n",
        "for i in range(1,n+1):\n",
        "  print('*'*i)"
      ],
      "metadata": {
        "colab": {
          "base_uri": "https://localhost:8080/"
        },
        "id": "2B0ZUkbP3aot",
        "outputId": "26dc4cb7-0289-43f0-e6ca-187b85367e74"
      },
      "execution_count": null,
      "outputs": [
        {
          "output_type": "stream",
          "name": "stdout",
          "text": [
            "Enter the Number of Rows : 4\n",
            "*\n",
            "**\n",
            "***\n",
            "****\n"
          ]
        }
      ]
    },
    {
      "cell_type": "code",
      "source": [
        "n = int(input('Enter the Number of Rows : '))\n",
        "for i in range(1,n+1):\n",
        "  for j in range(1,i+1):\n",
        "    print('*',end= ' ')\n",
        "  print()"
      ],
      "metadata": {
        "colab": {
          "base_uri": "https://localhost:8080/"
        },
        "id": "BMgqRND53_xG",
        "outputId": "0f50d662-8482-4d48-f337-6149c2a7a288"
      },
      "execution_count": null,
      "outputs": [
        {
          "output_type": "stream",
          "name": "stdout",
          "text": [
            "Enter the Number of Rows : 5\n",
            "* \n",
            "* * \n",
            "* * * \n",
            "* * * * \n",
            "* * * * * \n"
          ]
        }
      ]
    },
    {
      "cell_type": "code",
      "source": [
        "n = int(input('Enter the Number of Rows : '))\n",
        "for i in range(1,n+1):\n",
        "  for j in range(i):\n",
        "    print('*',end= ' ')\n",
        "  print()"
      ],
      "metadata": {
        "colab": {
          "base_uri": "https://localhost:8080/"
        },
        "id": "WDq379RJ6TSW",
        "outputId": "7a04bbbb-1ff2-41f5-a5d6-58d230cab4ac"
      },
      "execution_count": null,
      "outputs": [
        {
          "output_type": "stream",
          "name": "stdout",
          "text": [
            "Enter the Number of Rows : 3\n",
            "* \n",
            "* * \n",
            "* * * \n"
          ]
        }
      ]
    },
    {
      "cell_type": "code",
      "source": [
        "n = int(input('Enter the Number of Rows : '))\n",
        "for i in range(n):\n",
        "  print('* '*n)"
      ],
      "metadata": {
        "colab": {
          "base_uri": "https://localhost:8080/"
        },
        "id": "bKIWnD5x6xqC",
        "outputId": "93c029f0-efcc-4694-d6b6-d7608a1b3805"
      },
      "execution_count": null,
      "outputs": [
        {
          "output_type": "stream",
          "name": "stdout",
          "text": [
            "Enter the Number of Rows : 3\n",
            "* * * \n",
            "* * * \n",
            "* * * \n"
          ]
        }
      ]
    },
    {
      "cell_type": "code",
      "source": [
        "n = int(input('Enter the Number of Rows : '))\n",
        "for i in range(n): # i means row number\n",
        "  for j in range(n): # j means number of *\n",
        "    print('*', end = ' ')\n",
        "  print()"
      ],
      "metadata": {
        "colab": {
          "base_uri": "https://localhost:8080/"
        },
        "id": "HI3kMHXj7-t4",
        "outputId": "b8ef7077-cea4-4924-8bd2-b8355e97dfe3"
      },
      "execution_count": null,
      "outputs": [
        {
          "output_type": "stream",
          "name": "stdout",
          "text": [
            "Enter the Number of Rows : 3\n",
            "* * * \n",
            "* * * \n",
            "* * * \n"
          ]
        }
      ]
    },
    {
      "cell_type": "code",
      "source": [
        "n = int(input('Enter the Number of Rows : '))\n",
        "for i in range(1,n+1): # i represents row number\n",
        "  print('* '*i)"
      ],
      "metadata": {
        "colab": {
          "base_uri": "https://localhost:8080/"
        },
        "id": "-yQllpXr8NMt",
        "outputId": "449c6eba-74ac-4d7e-dcc4-f928e31defbd"
      },
      "execution_count": null,
      "outputs": [
        {
          "output_type": "stream",
          "name": "stdout",
          "text": [
            "Enter the Number of Rows : 5\n",
            "* \n",
            "* * \n",
            "* * * \n",
            "* * * * \n",
            "* * * * * \n"
          ]
        }
      ]
    },
    {
      "cell_type": "code",
      "source": [
        "n = int(input('Enter the Number of Rows : '))\n",
        "for i in range(1,n+1): # i represents row number\n",
        "  print('* '*i)"
      ],
      "metadata": {
        "colab": {
          "base_uri": "https://localhost:8080/"
        },
        "id": "vAqgZju0_ki0",
        "outputId": "1ab8b14f-cdae-42a7-bf17-c1e8a4fb0e25"
      },
      "execution_count": null,
      "outputs": [
        {
          "output_type": "stream",
          "name": "stdout",
          "text": [
            "Enter the Number of Rows : 3\n",
            "* \n",
            "* * \n",
            "* * * \n",
            "\n"
          ]
        }
      ]
    },
    {
      "cell_type": "code",
      "source": [
        "n = int(input('Enter the Number of Rows : '))\n",
        "for i in range(n+1, 1):\n",
        "  print('*'*i)"
      ],
      "metadata": {
        "colab": {
          "base_uri": "https://localhost:8080/"
        },
        "id": "IkzbqMVd_vEC",
        "outputId": "0056dfad-7ba3-4690-ef28-c2d769ef587e"
      },
      "execution_count": null,
      "outputs": [
        {
          "name": "stdout",
          "output_type": "stream",
          "text": [
            "Enter the Number of Rows : 3\n"
          ]
        }
      ]
    },
    {
      "cell_type": "code",
      "source": [
        "n = int(input('Enter the Number of Rows : '))\n",
        "for i in range(n+1):\n",
        "  for j in range(i):\n",
        "    print('* '*i)\n",
        "  print()"
      ],
      "metadata": {
        "colab": {
          "base_uri": "https://localhost:8080/"
        },
        "id": "ueoFqAWR_8sC",
        "outputId": "d595f246-0cfa-4391-dad4-c22f343b3fdf"
      },
      "execution_count": null,
      "outputs": [
        {
          "output_type": "stream",
          "name": "stdout",
          "text": [
            "Enter the Number of Rows : 4\n",
            "\n",
            "* \n",
            "\n",
            "* * \n",
            "* * \n",
            "\n",
            "* * * \n",
            "* * * \n",
            "* * * \n",
            "\n",
            "* * * * \n",
            "* * * * \n",
            "* * * * \n",
            "* * * * \n",
            "\n"
          ]
        }
      ]
    },
    {
      "cell_type": "code",
      "source": [
        "n = int(input('Enter the Number of Rows : '))\n",
        "for i in range(n+1):\n",
        "  for j in range(i):\n",
        "    print('* '*i, end='\\n')"
      ],
      "metadata": {
        "colab": {
          "base_uri": "https://localhost:8080/"
        },
        "id": "Rf3Ovht7Asbk",
        "outputId": "1596c635-28e7-4475-e727-b7208be344d5"
      },
      "execution_count": null,
      "outputs": [
        {
          "output_type": "stream",
          "name": "stdout",
          "text": [
            "Enter the Number of Rows : 4\n",
            "* \n",
            "* * \n",
            "* * \n",
            "* * * \n",
            "* * * \n",
            "* * * \n",
            "* * * * \n",
            "* * * * \n",
            "* * * * \n",
            "* * * * \n"
          ]
        }
      ]
    },
    {
      "cell_type": "code",
      "source": [
        "i =0\n",
        "while True:\n",
        "  print('Hello', i)\n",
        "  i += 1\n",
        "  if i == 5:\n",
        "    break"
      ],
      "metadata": {
        "id": "oBMu_cDpBdhS",
        "colab": {
          "base_uri": "https://localhost:8080/"
        },
        "outputId": "9ccd5522-5159-4632-fdda-bd26df69a36d"
      },
      "execution_count": null,
      "outputs": [
        {
          "output_type": "stream",
          "name": "stdout",
          "text": [
            "Hello 0\n",
            "Hello 1\n",
            "Hello 2\n",
            "Hello 3\n",
            "Hello 4\n"
          ]
        }
      ]
    },
    {
      "cell_type": "code",
      "source": [
        "i =0\n",
        "while False:\n",
        "  print('Hello', i)\n",
        "  i += 1\n",
        "  if i == 5:\n",
        "    break"
      ],
      "metadata": {
        "id": "CuuNXqWf_Hu1"
      },
      "execution_count": null,
      "outputs": []
    },
    {
      "cell_type": "code",
      "source": [
        "for i in range(10):\n",
        "  if i == 7:\n",
        "    print('Processing is enough....plz break')\n",
        "    break\n",
        "  print(i)"
      ],
      "metadata": {
        "colab": {
          "base_uri": "https://localhost:8080/"
        },
        "id": "Xk-8Kc1o_25E",
        "outputId": "85b33a25-04d2-42a6-ebda-e0d98d9be115"
      },
      "execution_count": null,
      "outputs": [
        {
          "output_type": "stream",
          "name": "stdout",
          "text": [
            "0\n",
            "1\n",
            "2\n",
            "3\n",
            "4\n",
            "5\n",
            "6\n",
            "Processing is enough....plz break\n"
          ]
        }
      ]
    },
    {
      "cell_type": "code",
      "source": [
        "cart = [10,20,600,60,80,70,90]\n",
        "for item in cart:\n",
        "  if item >500:\n",
        "    print('Sorry we cannot process this order, need insurence')\n",
        "    break\n",
        "  print('Processing item : ', item)"
      ],
      "metadata": {
        "colab": {
          "base_uri": "https://localhost:8080/"
        },
        "id": "vlWQIVCsBPyT",
        "outputId": "d912be43-ec09-4411-f8d8-84f0b85b7c63"
      },
      "execution_count": null,
      "outputs": [
        {
          "output_type": "stream",
          "name": "stdout",
          "text": [
            "Processing item :  10\n",
            "Processing item :  20\n",
            "Sorry we cannot process this order, need insurence\n"
          ]
        }
      ]
    },
    {
      "cell_type": "code",
      "source": [
        "for i in range(10):\n",
        "  if i%2 == 0:\n",
        "    continue\n",
        "  print(i)"
      ],
      "metadata": {
        "colab": {
          "base_uri": "https://localhost:8080/"
        },
        "id": "hxi0lWQhD2J2",
        "outputId": "da00d493-bfbc-4e82-d807-1d97332c7520"
      },
      "execution_count": null,
      "outputs": [
        {
          "output_type": "stream",
          "name": "stdout",
          "text": [
            "1\n",
            "3\n",
            "5\n",
            "7\n",
            "9\n"
          ]
        }
      ]
    },
    {
      "cell_type": "code",
      "source": [
        "cart = [10,20,600,60,80,70,90]\n",
        "for item in cart:\n",
        "  if item >500:\n",
        "    print('Sorry we cannot process this item',item,'need insurence')\n",
        "    continue\n",
        "  print('Processing item : ', item)"
      ],
      "metadata": {
        "colab": {
          "base_uri": "https://localhost:8080/"
        },
        "id": "ZLgjkB8WElCa",
        "outputId": "fe539b1c-144c-4da8-cf06-fcfc0062c1ad"
      },
      "execution_count": null,
      "outputs": [
        {
          "output_type": "stream",
          "name": "stdout",
          "text": [
            "Processing item :  10\n",
            "Processing item :  20\n",
            "Sorry we cannot process this item 600 need insurence\n",
            "Processing item :  60\n",
            "Processing item :  80\n",
            "Processing item :  70\n",
            "Processing item :  90\n"
          ]
        }
      ]
    },
    {
      "cell_type": "code",
      "source": [
        "numbers = [10,20,30,0,5,0,40]\n",
        "for n in numbers:\n",
        "  if n == 0:\n",
        "    print('Hey how we can divide with zero')\n",
        "    continue\n",
        "  print('100 / {} = {}'.format(n,100/n))"
      ],
      "metadata": {
        "colab": {
          "base_uri": "https://localhost:8080/"
        },
        "id": "MtHDucO7H4rD",
        "outputId": "45a72fc3-1141-4045-95b6-e9945acbfa98"
      },
      "execution_count": null,
      "outputs": [
        {
          "output_type": "stream",
          "name": "stdout",
          "text": [
            "100 / 10 = 10.0\n",
            "100 / 20 = 5.0\n",
            "100 / 30 = 3.3333333333333335\n",
            "Hey how we can divide with zero\n",
            "100 / 5 = 20.0\n",
            "Hey how we can divide with zero\n",
            "100 / 40 = 2.5\n"
          ]
        }
      ]
    },
    {
      "cell_type": "code",
      "source": [
        "cart = [10,20,60,80,70,90]\n",
        "for item in cart:\n",
        "  if item >500:\n",
        "    print('Sorry we cannot process this order, need insurence')\n",
        "    break\n",
        "  print('Processing item : ', item)\n",
        "else:\n",
        "  print('Congrats...all items processed successfully')"
      ],
      "metadata": {
        "colab": {
          "base_uri": "https://localhost:8080/"
        },
        "id": "EGxxgKwpIsJn",
        "outputId": "9d7c9ee5-17ba-4b50-fcdb-e29c112f5dbf"
      },
      "execution_count": null,
      "outputs": [
        {
          "output_type": "stream",
          "name": "stdout",
          "text": [
            "Processing item :  10\n",
            "Processing item :  20\n",
            "Processing item :  60\n",
            "Processing item :  80\n",
            "Processing item :  70\n",
            "Processing item :  90\n",
            "Congrats...all items processed successfully\n"
          ]
        }
      ]
    },
    {
      "cell_type": "code",
      "source": [
        "cart = [10,20,600,60,80,70,90]\n",
        "for item in cart:\n",
        "  if item >500:\n",
        "    print('Sorry we cannot process this item',item,'need insurence')\n",
        "    break\n",
        "  print('Processing item : ', item)\n",
        "else:\n",
        "  print('Congrats...all items processed successfully')"
      ],
      "metadata": {
        "colab": {
          "base_uri": "https://localhost:8080/"
        },
        "id": "GVoYTb09K8Yf",
        "outputId": "08b84342-6fbc-4cca-a4f7-1cce97f39137"
      },
      "execution_count": null,
      "outputs": [
        {
          "output_type": "stream",
          "name": "stdout",
          "text": [
            "Processing item :  10\n",
            "Processing item :  20\n",
            "Sorry we cannot process this item 600 need insurence\n"
          ]
        }
      ]
    },
    {
      "cell_type": "code",
      "source": [
        "for i in range(100):\n",
        "  if i % 10 == 0:\n",
        "    print(i)\n",
        "  else:\n",
        "    pass"
      ],
      "metadata": {
        "id": "Qe8nB4KoLOWV",
        "colab": {
          "base_uri": "https://localhost:8080/"
        },
        "outputId": "5ee115c9-8de2-4ec8-b6c6-f3e624cc6352"
      },
      "execution_count": null,
      "outputs": [
        {
          "output_type": "stream",
          "name": "stdout",
          "text": [
            "0\n",
            "10\n",
            "20\n",
            "30\n",
            "40\n",
            "50\n",
            "60\n",
            "70\n",
            "80\n",
            "90\n"
          ]
        }
      ]
    },
    {
      "cell_type": "code",
      "source": [
        "x = 10\n",
        "print(x)\n",
        "del x # to delete the variable from the memory"
      ],
      "metadata": {
        "colab": {
          "base_uri": "https://localhost:8080/"
        },
        "id": "9nVO2PPkMs-D",
        "outputId": "3ce262d8-bb12-4b4c-b2bb-d6f0347a8f7b"
      },
      "execution_count": null,
      "outputs": [
        {
          "output_type": "stream",
          "name": "stdout",
          "text": [
            "10\n"
          ]
        }
      ]
    },
    {
      "cell_type": "code",
      "source": [
        "s = 'pawan'\n",
        "del s[0]"
      ],
      "metadata": {
        "colab": {
          "base_uri": "https://localhost:8080/",
          "height": 183
        },
        "id": "AcS0uAdUN11y",
        "outputId": "0c2b05f4-efe5-4798-dd2d-abc8420144cf"
      },
      "execution_count": null,
      "outputs": [
        {
          "output_type": "error",
          "ename": "TypeError",
          "evalue": "ignored",
          "traceback": [
            "\u001b[0;31m---------------------------------------------------------------------------\u001b[0m",
            "\u001b[0;31mTypeError\u001b[0m                                 Traceback (most recent call last)",
            "\u001b[0;32m<ipython-input-8-96e6a47855c3>\u001b[0m in \u001b[0;36m<cell line: 2>\u001b[0;34m()\u001b[0m\n\u001b[1;32m      1\u001b[0m \u001b[0ms\u001b[0m \u001b[0;34m=\u001b[0m \u001b[0;34m'pawan'\u001b[0m\u001b[0;34m\u001b[0m\u001b[0;34m\u001b[0m\u001b[0m\n\u001b[0;32m----> 2\u001b[0;31m \u001b[0;32mdel\u001b[0m \u001b[0ms\u001b[0m\u001b[0;34m[\u001b[0m\u001b[0;36m0\u001b[0m\u001b[0;34m]\u001b[0m\u001b[0;34m\u001b[0m\u001b[0;34m\u001b[0m\u001b[0m\n\u001b[0m",
            "\u001b[0;31mTypeError\u001b[0m: 'str' object doesn't support item deletion"
          ]
        }
      ]
    },
    {
      "cell_type": "code",
      "source": [
        "x = 10\n",
        "y = 30\n",
        "del x,y"
      ],
      "metadata": {
        "id": "YHjMoaowONQz"
      },
      "execution_count": null,
      "outputs": []
    },
    {
      "cell_type": "code",
      "source": [],
      "metadata": {
        "id": "d4mFi_oSO1Of"
      },
      "execution_count": null,
      "outputs": []
    }
  ]
}