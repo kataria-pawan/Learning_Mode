{
  "nbformat": 4,
  "nbformat_minor": 0,
  "metadata": {
    "colab": {
      "provenance": [],
      "authorship_tag": "ABX9TyNKevFhL+YOVfr6O3Lt/zP1",
      "include_colab_link": true
    },
    "kernelspec": {
      "name": "python3",
      "display_name": "Python 3"
    },
    "language_info": {
      "name": "python"
    }
  },
  "cells": [
    {
      "cell_type": "markdown",
      "metadata": {
        "id": "view-in-github",
        "colab_type": "text"
      },
      "source": [
        "<a href=\"https://colab.research.google.com/github/kataria-pawan/Learning_Mode/blob/main/Python/List.ipynb\" target=\"_parent\"><img src=\"https://colab.research.google.com/assets/colab-badge.svg\" alt=\"Open In Colab\"/></a>"
      ]
    },
    {
      "cell_type": "code",
      "execution_count": null,
      "metadata": {
        "colab": {
          "base_uri": "https://localhost:8080/"
        },
        "id": "Cw75eABlVIPu",
        "outputId": "baa67a7e-1fc4-4729-b160-67f14e5e052d"
      },
      "outputs": [
        {
          "output_type": "stream",
          "name": "stdout",
          "text": [
            "10\n",
            "20\n",
            "30\n"
          ]
        }
      ],
      "source": [
        "l = [10,20,30]\n",
        "print(l[0])\n",
        "print(l[1])\n",
        "print(l[2])"
      ]
    },
    {
      "cell_type": "code",
      "source": [
        "l = [10,20,[30,40]]\n",
        "print(l[0])\n",
        "print(l[1])\n",
        "print(l[2][0])\n",
        "print(l[2][1])"
      ],
      "metadata": {
        "colab": {
          "base_uri": "https://localhost:8080/"
        },
        "id": "e26ZDRa-cAlk",
        "outputId": "7f0cd269-9e84-4280-e1a3-8b1647af66b4"
      },
      "execution_count": null,
      "outputs": [
        {
          "output_type": "stream",
          "name": "stdout",
          "text": [
            "10\n",
            "20\n",
            "30\n",
            "40\n"
          ]
        }
      ]
    },
    {
      "cell_type": "code",
      "source": [
        "l = [10,20,30,40,40,50]\n",
        "print(l[::])\n",
        "print(l[::2])\n",
        "print(l[::-1])"
      ],
      "metadata": {
        "colab": {
          "base_uri": "https://localhost:8080/"
        },
        "id": "1gxjGWyGcNYo",
        "outputId": "ecabf4a3-4917-4496-a309-1057011ec7bb"
      },
      "execution_count": null,
      "outputs": [
        {
          "output_type": "stream",
          "name": "stdout",
          "text": [
            "[10, 20, 30, 40, 40, 50]\n",
            "[10, 30, 40]\n",
            "[50, 40, 40, 30, 20, 10]\n"
          ]
        }
      ]
    },
    {
      "cell_type": "code",
      "source": [
        "l = [1,2,3,4,55,556,6,7,8]\n",
        "i = 0\n",
        "while i < len(l):\n",
        "  print(l[i])\n",
        "  i += 1"
      ],
      "metadata": {
        "id": "d9WNuo8Lci1q",
        "colab": {
          "base_uri": "https://localhost:8080/"
        },
        "outputId": "70d5732f-bce3-45c7-97da-7eaa8b5c88a2"
      },
      "execution_count": null,
      "outputs": [
        {
          "output_type": "stream",
          "name": "stdout",
          "text": [
            "1\n",
            "2\n",
            "3\n",
            "4\n",
            "55\n",
            "556\n",
            "6\n",
            "7\n",
            "8\n"
          ]
        }
      ]
    },
    {
      "cell_type": "code",
      "source": [
        "l = [1,2,3,4,55,556,6,7,8]\n",
        "for x in l:\n",
        "  print(x)"
      ],
      "metadata": {
        "colab": {
          "base_uri": "https://localhost:8080/"
        },
        "id": "NGb4kdwTBTSp",
        "outputId": "932ebfa8-c7a5-4688-8053-97b7c488a55c"
      },
      "execution_count": null,
      "outputs": [
        {
          "output_type": "stream",
          "name": "stdout",
          "text": [
            "1\n",
            "2\n",
            "3\n",
            "4\n",
            "55\n",
            "556\n",
            "6\n",
            "7\n",
            "8\n"
          ]
        }
      ]
    },
    {
      "cell_type": "code",
      "source": [
        "l = [1,2,3,4,5,5,5,5,6,6,7,8]\n",
        "for x in l:\n",
        "  if x%2 == 0:\n",
        "    print('Even number: ', x)"
      ],
      "metadata": {
        "colab": {
          "base_uri": "https://localhost:8080/"
        },
        "id": "hwCk_2y6Bd4Q",
        "outputId": "d0803406-0dbf-4a69-e054-e5a40bbc1c2a"
      },
      "execution_count": null,
      "outputs": [
        {
          "output_type": "stream",
          "name": "stdout",
          "text": [
            "Even number:  2\n",
            "Even number:  4\n",
            "Even number:  6\n",
            "Even number:  6\n",
            "Even number:  8\n"
          ]
        }
      ]
    },
    {
      "cell_type": "code",
      "source": [
        "l = ['a', 'b', 'c', 'd']\n",
        "x = len(l)\n",
        "for i in range(x):\n",
        "  print(l[i],'is availabe at positive index: ',i,' and at negative index: ', i-x)"
      ],
      "metadata": {
        "colab": {
          "base_uri": "https://localhost:8080/"
        },
        "id": "Brlt22FACOPC",
        "outputId": "1f42fa47-ee94-4e47-8fda-d7c81283c374"
      },
      "execution_count": null,
      "outputs": [
        {
          "output_type": "stream",
          "name": "stdout",
          "text": [
            "a is availabe at positive index:  0  and at negative index:  -4\n",
            "b is availabe at positive index:  1  and at negative index:  -3\n",
            "c is availabe at positive index:  2  and at negative index:  -2\n",
            "d is availabe at positive index:  3  and at negative index:  -1\n"
          ]
        }
      ]
    },
    {
      "cell_type": "code",
      "source": [
        "def f1(): # function outside the class is called functions\n",
        "  print('hello this is function')\n",
        "class student: # function declared inside class it called method\n",
        "  def info(self):\n",
        "    print('it is method and dont get confused')\n",
        "f1()\n",
        "s = student()\n",
        "s.info()"
      ],
      "metadata": {
        "colab": {
          "base_uri": "https://localhost:8080/"
        },
        "id": "LncNKCoCEIVk",
        "outputId": "8a278b1d-50f6-4cf6-9484-6ba6b6b48ebd"
      },
      "execution_count": null,
      "outputs": [
        {
          "output_type": "stream",
          "name": "stdout",
          "text": [
            "hello this is function\n",
            "it is method and dont get confused\n"
          ]
        }
      ]
    },
    {
      "cell_type": "code",
      "source": [
        "# important functions and methods of lists:\n",
        "# l = list(input('enter the list: '))\n",
        "s = len(l) # to find the length of list\n",
        "c = l.count(object) # to find the count of object inside the list\n",
        "i = l.index(object) # to find the first location of object\n"
      ],
      "metadata": {
        "id": "DgU8DXsEGhA2"
      },
      "execution_count": null,
      "outputs": []
    },
    {
      "cell_type": "code",
      "source": [
        "# to get the information of the list:\n",
        "l = [10,20,30,40,10,20,10,10]\n",
        "target = int(input('Enter the value to search: '))\n",
        "if target in l:\n",
        "  print(target,'available and its first occurance is at: ', l.index(target))\n",
        "else:\n",
        "  print(target,'not availabe')"
      ],
      "metadata": {
        "colab": {
          "base_uri": "https://localhost:8080/"
        },
        "id": "BB8K3Rj1IR-C",
        "outputId": "fa913d82-02af-406a-f658-efb64af422d9"
      },
      "execution_count": null,
      "outputs": [
        {
          "output_type": "stream",
          "name": "stdout",
          "text": [
            "Enter the value to search: 50\n",
            "50 not availabe\n"
          ]
        }
      ]
    },
    {
      "cell_type": "code",
      "source": [
        "# to manipulate the element of list:\n",
        "# l.append(element)\n",
        "l = []\n",
        "l.append(10)\n",
        "l.append(20)\n",
        "l.append(30)\n",
        "l.append(40)\n",
        "print(l)"
      ],
      "metadata": {
        "colab": {
          "base_uri": "https://localhost:8080/"
        },
        "id": "LzeXE6tgI2Mq",
        "outputId": "50543d0e-e6c5-4558-c873-b01817f1c078"
      },
      "execution_count": null,
      "outputs": [
        {
          "output_type": "stream",
          "name": "stdout",
          "text": [
            "[10, 20, 30, 40]\n"
          ]
        }
      ]
    },
    {
      "cell_type": "code",
      "source": [
        "# to add all elements to list upto 100 which are divisible by 10\n",
        "l =[]\n",
        "for x in range(1,101):\n",
        "  if x % 10 == 0:\n",
        "    l.append(x)\n",
        "print(l)"
      ],
      "metadata": {
        "colab": {
          "base_uri": "https://localhost:8080/"
        },
        "id": "nXQT-iAIMDEV",
        "outputId": "60a256f5-0066-4191-db95-79a1df34047c"
      },
      "execution_count": null,
      "outputs": [
        {
          "output_type": "stream",
          "name": "stdout",
          "text": [
            "[10, 20, 30, 40, 50, 60, 70, 80, 90, 100]\n"
          ]
        }
      ]
    },
    {
      "cell_type": "code",
      "source": [
        "l =[]\n",
        "for x in range(0,101,10):\n",
        "  l.append(x)\n",
        "print(l)"
      ],
      "metadata": {
        "colab": {
          "base_uri": "https://localhost:8080/"
        },
        "id": "AQdjrfZDMUDJ",
        "outputId": "ab0d5f7f-571b-4ace-b4e1-32304f27dcf2"
      },
      "execution_count": null,
      "outputs": [
        {
          "output_type": "stream",
          "name": "stdout",
          "text": [
            "[0, 10, 20, 30, 40, 50, 60, 70, 80, 90, 100]\n"
          ]
        }
      ]
    },
    {
      "cell_type": "code",
      "source": [
        "# to insert the element in specified location\n",
        "l = []\n",
        "l.append(10)\n",
        "l.append(20)\n",
        "l.append(30)\n",
        "l.append(40)\n",
        "print(l)\n",
        "l.insert(1,50) # l.insert(location,element)\n",
        "print(l)"
      ],
      "metadata": {
        "colab": {
          "base_uri": "https://localhost:8080/"
        },
        "id": "7U5562NDMixb",
        "outputId": "3678c010-8d1a-408c-cc00-0e03229a5cde"
      },
      "execution_count": null,
      "outputs": [
        {
          "output_type": "stream",
          "name": "stdout",
          "text": [
            "[10, 20, 30, 40]\n",
            "[10, 50, 20, 30, 40]\n"
          ]
        }
      ]
    },
    {
      "cell_type": "code",
      "source": [
        "# extend the list with elements present inside the other list\n",
        "l1 = ['chicke', 'mutton', 'fish']\n",
        "l2 = ['kf', 'rc', 'fo']\n",
        "l1.extend(l2)\n",
        "print(l1)\n",
        "print(l2)"
      ],
      "metadata": {
        "colab": {
          "base_uri": "https://localhost:8080/"
        },
        "id": "Dzwm0sDLNN2T",
        "outputId": "9d40eca8-d325-4806-ace8-ea19305d8581"
      },
      "execution_count": null,
      "outputs": [
        {
          "output_type": "stream",
          "name": "stdout",
          "text": [
            "['chicke', 'mutton', 'fish', 'kf', 'rc', 'fo']\n",
            "['kf', 'rc', 'fo']\n"
          ]
        }
      ]
    },
    {
      "cell_type": "code",
      "source": [
        "# to remove the element from the list\n",
        "l = [10,20,30,40,50,60,70]\n",
        "x = int(input('enter element to be removed: '))\n",
        "if x in l:\n",
        "  l.remove(x)\n",
        "  print('Removed successfully')\n",
        "  print(l)\n",
        "else:\n",
        "  print('Specified element is not available')"
      ],
      "metadata": {
        "colab": {
          "base_uri": "https://localhost:8080/"
        },
        "id": "morLsZK9OV06",
        "outputId": "13b56097-a88a-4d93-f70e-0c82b37132e8"
      },
      "execution_count": null,
      "outputs": [
        {
          "output_type": "stream",
          "name": "stdout",
          "text": [
            "enter element to be removed: 100\n",
            "Specified element is not available\n"
          ]
        }
      ]
    },
    {
      "cell_type": "code",
      "source": [
        "# pop to remove last element of the list\n",
        "l = [10,20,30,40,50,60,70]\n",
        "print(l.pop())\n",
        "print(l.pop())\n",
        "print(l)"
      ],
      "metadata": {
        "colab": {
          "base_uri": "https://localhost:8080/"
        },
        "id": "3QNue0GlU8zQ",
        "outputId": "6d9f4c9a-7861-4f0e-9028-5bca1d78991b"
      },
      "execution_count": null,
      "outputs": [
        {
          "output_type": "stream",
          "name": "stdout",
          "text": [
            "70\n",
            "60\n",
            "[10, 20, 30, 40, 50]\n"
          ]
        }
      ]
    },
    {
      "cell_type": "code",
      "source": [
        "# order of the list\n",
        "l = [1,2,3,4,5,6]\n",
        "l.reverse()\n",
        "print(l)"
      ],
      "metadata": {
        "colab": {
          "base_uri": "https://localhost:8080/"
        },
        "id": "IzNWR1_3Vla2",
        "outputId": "5e8c75b7-0a83-44eb-c7f3-2c9db0fc1a02"
      },
      "execution_count": null,
      "outputs": [
        {
          "output_type": "stream",
          "name": "stdout",
          "text": [
            "[6, 5, 4, 3, 2, 1]\n"
          ]
        }
      ]
    },
    {
      "cell_type": "code",
      "source": [
        "l = [4,5,6, 3,4 ,1,7,3,2,1]\n",
        "l.sort()\n",
        "print(l)"
      ],
      "metadata": {
        "colab": {
          "base_uri": "https://localhost:8080/"
        },
        "id": "C9UPAVayXjKp",
        "outputId": "91467992-76a5-413d-da2b-caa4cade9e4d"
      },
      "execution_count": null,
      "outputs": [
        {
          "output_type": "stream",
          "name": "stdout",
          "text": [
            "[1, 1, 2, 3, 3, 4, 4, 5, 6, 7]\n"
          ]
        }
      ]
    },
    {
      "cell_type": "code",
      "source": [
        "l = ['boy', 'dog', 'apple', 'cat']\n",
        "l.sort()\n",
        "print(l)"
      ],
      "metadata": {
        "colab": {
          "base_uri": "https://localhost:8080/"
        },
        "id": "c1s59jKyYHgi",
        "outputId": "c17f9154-5010-44c3-c015-66be6b6a7d2d"
      },
      "execution_count": null,
      "outputs": [
        {
          "output_type": "stream",
          "name": "stdout",
          "text": [
            "['apple', 'boy', 'cat', 'dog']\n"
          ]
        }
      ]
    },
    {
      "cell_type": "code",
      "source": [
        "l = [10,20, 'apple', 'boy']\n",
        "l.sort()\n",
        "print(l)"
      ],
      "metadata": {
        "colab": {
          "base_uri": "https://localhost:8080/",
          "height": 205
        },
        "id": "KqcE52aEYUBF",
        "outputId": "ad156379-8214-4831-c7a7-e42041e2459c"
      },
      "execution_count": null,
      "outputs": [
        {
          "output_type": "error",
          "ename": "TypeError",
          "evalue": "ignored",
          "traceback": [
            "\u001b[0;31m---------------------------------------------------------------------------\u001b[0m",
            "\u001b[0;31mTypeError\u001b[0m                                 Traceback (most recent call last)",
            "\u001b[0;32m<ipython-input-29-b7e735b112a6>\u001b[0m in \u001b[0;36m<cell line: 2>\u001b[0;34m()\u001b[0m\n\u001b[1;32m      1\u001b[0m \u001b[0ml\u001b[0m \u001b[0;34m=\u001b[0m \u001b[0;34m[\u001b[0m\u001b[0;36m10\u001b[0m\u001b[0;34m,\u001b[0m\u001b[0;36m20\u001b[0m\u001b[0;34m,\u001b[0m \u001b[0;34m'apple'\u001b[0m\u001b[0;34m,\u001b[0m \u001b[0;34m'boy'\u001b[0m\u001b[0;34m]\u001b[0m\u001b[0;34m\u001b[0m\u001b[0;34m\u001b[0m\u001b[0m\n\u001b[0;32m----> 2\u001b[0;31m \u001b[0ml\u001b[0m\u001b[0;34m.\u001b[0m\u001b[0msort\u001b[0m\u001b[0;34m(\u001b[0m\u001b[0;34m)\u001b[0m\u001b[0;34m\u001b[0m\u001b[0;34m\u001b[0m\u001b[0m\n\u001b[0m\u001b[1;32m      3\u001b[0m \u001b[0mprint\u001b[0m\u001b[0;34m(\u001b[0m\u001b[0ml\u001b[0m\u001b[0;34m)\u001b[0m\u001b[0;34m\u001b[0m\u001b[0;34m\u001b[0m\u001b[0m\n",
            "\u001b[0;31mTypeError\u001b[0m: '<' not supported between instances of 'str' and 'int'"
          ]
        }
      ]
    },
    {
      "cell_type": "code",
      "source": [
        "l = [ 'apple', 'boy', '10','20']\n",
        "l.sort()\n",
        "print(l)"
      ],
      "metadata": {
        "colab": {
          "base_uri": "https://localhost:8080/"
        },
        "id": "_TdcQrWQYzkS",
        "outputId": "a16c5dc8-faba-4270-b881-f615999f7fde"
      },
      "execution_count": null,
      "outputs": [
        {
          "output_type": "stream",
          "name": "stdout",
          "text": [
            "['10', '20', 'apple', 'boy']\n"
          ]
        }
      ]
    },
    {
      "cell_type": "code",
      "source": [
        "l = [20,3,40,55,24,10]\n",
        "l.sort(reverse = True)\n",
        "print(l)"
      ],
      "metadata": {
        "colab": {
          "base_uri": "https://localhost:8080/"
        },
        "id": "qmQywy3UZHG7",
        "outputId": "f4cc9e89-fadf-4b92-970f-5cdc030cf1e6"
      },
      "execution_count": null,
      "outputs": [
        {
          "output_type": "stream",
          "name": "stdout",
          "text": [
            "[55, 40, 24, 20, 10, 3]\n"
          ]
        }
      ]
    },
    {
      "cell_type": "code",
      "source": [
        "l = ['dog','cat','elephant','zebra', 'pawan']\n",
        "l.sort(reverse = True)\n",
        "print(l)"
      ],
      "metadata": {
        "colab": {
          "base_uri": "https://localhost:8080/"
        },
        "id": "EzqSACnfaV32",
        "outputId": "bd55d96e-691a-41b8-a2d9-55d023134291"
      },
      "execution_count": null,
      "outputs": [
        {
          "output_type": "stream",
          "name": "stdout",
          "text": [
            "['zebra', 'pawan', 'elephant', 'dog', 'cat']\n"
          ]
        }
      ]
    },
    {
      "cell_type": "code",
      "source": [
        "a = [10,20,30,40]\n",
        "b = [50,60,70,80]\n",
        "c = a+b\n",
        "print('a: ',a)\n",
        "print('b: ',b)\n",
        "print('c: ',c)"
      ],
      "metadata": {
        "colab": {
          "base_uri": "https://localhost:8080/"
        },
        "id": "FGlGpVcxaYwQ",
        "outputId": "bccaf06f-f15f-4736-9494-689a913374a0"
      },
      "execution_count": null,
      "outputs": [
        {
          "output_type": "stream",
          "name": "stdout",
          "text": [
            "a:  [10, 20, 30, 40]\n",
            "b:  [50, 60, 70, 80]\n",
            "c:  [10, 20, 30, 40, 50, 60, 70, 80]\n"
          ]
        }
      ]
    },
    {
      "cell_type": "code",
      "source": [
        "a = [10,20,30,40]\n",
        "b = [50,60,70,80]\n",
        "c = a.extend(b)\n",
        "print('a: ',a)\n",
        "print('b: ',b)\n",
        "print('c: ',c)"
      ],
      "metadata": {
        "colab": {
          "base_uri": "https://localhost:8080/"
        },
        "id": "u4pS4BiOda6z",
        "outputId": "3cd172a8-e0b5-4ac5-89c5-770765a9e3ff"
      },
      "execution_count": null,
      "outputs": [
        {
          "output_type": "stream",
          "name": "stdout",
          "text": [
            "a:  [10, 20, 30, 40, 50, 60, 70, 80]\n",
            "b:  [50, 60, 70, 80]\n",
            "c:  None\n"
          ]
        }
      ]
    },
    {
      "cell_type": "code",
      "source": [
        "# comparing list\n",
        "x = ['Dog','Cat','Rat']\n",
        "y = ['Dog','Cat','Rat']\n",
        "z = ['DOG','CAT','RAT']\n",
        "print(x==y)\n",
        "print(x==z)\n",
        "print(y==z)\n"
      ],
      "metadata": {
        "id": "bXHr5J6IdguT",
        "colab": {
          "base_uri": "https://localhost:8080/"
        },
        "outputId": "608b9cd8-3939-4be2-b2c0-bc8b8d5091b3"
      },
      "execution_count": 1,
      "outputs": [
        {
          "output_type": "stream",
          "name": "stdout",
          "text": [
            "True\n",
            "False\n",
            "False\n"
          ]
        }
      ]
    },
    {
      "cell_type": "code",
      "source": [
        "x = ['Dog','Cat','Rat']\n",
        "y = ['Dog','Cat','Rat']\n",
        "z = ['DOG','CAT','RAT']\n",
        "print(x is y) # id is used for refernce\n",
        "print(x[0] is y[0])"
      ],
      "metadata": {
        "colab": {
          "base_uri": "https://localhost:8080/"
        },
        "id": "tVeW0gT_akFg",
        "outputId": "0b6d163a-e6b0-4a58-b074-af43772bffd5"
      },
      "execution_count": 4,
      "outputs": [
        {
          "output_type": "stream",
          "name": "stdout",
          "text": [
            "False\n",
            "True\n"
          ]
        }
      ]
    },
    {
      "cell_type": "code",
      "source": [
        "# 'is' used for reference comparison\n",
        "# '==' used for content comparison"
      ],
      "metadata": {
        "id": "5S6VkpPEa0c8"
      },
      "execution_count": 3,
      "outputs": []
    },
    {
      "cell_type": "code",
      "source": [
        "x = [50,20,40]\n",
        "y = [40,50,10,40,60,80]\n",
        "print(x<y)\n",
        "# always compare the first value of first index inside the list"
      ],
      "metadata": {
        "colab": {
          "base_uri": "https://localhost:8080/"
        },
        "id": "y5K48lRTbEnx",
        "outputId": "79617d20-dd0c-486e-cb07-9a4351e64581"
      },
      "execution_count": 6,
      "outputs": [
        {
          "output_type": "stream",
          "name": "stdout",
          "text": [
            "False\n"
          ]
        }
      ]
    },
    {
      "cell_type": "code",
      "source": [
        "x = [50,20,40]\n",
        "y = [40,50,10,40,60,80]\n",
        "print(x>y)"
      ],
      "metadata": {
        "colab": {
          "base_uri": "https://localhost:8080/"
        },
        "id": "LM7VZ7FEbrPd",
        "outputId": "2e4fac64-3b92-47e7-8fac-066dcab7d215"
      },
      "execution_count": 7,
      "outputs": [
        {
          "output_type": "stream",
          "name": "stdout",
          "text": [
            "True\n"
          ]
        }
      ]
    },
    {
      "cell_type": "code",
      "source": [
        "x = [50,20,40]\n",
        "y = [50,50,10,40,60,80]\n",
        "print(x>y)"
      ],
      "metadata": {
        "colab": {
          "base_uri": "https://localhost:8080/"
        },
        "id": "n8kDOYDCb48o",
        "outputId": "c5e15b7c-5247-4908-8087-3c7ad61c816b"
      },
      "execution_count": 8,
      "outputs": [
        {
          "output_type": "stream",
          "name": "stdout",
          "text": [
            "False\n"
          ]
        }
      ]
    },
    {
      "cell_type": "code",
      "source": [
        "x = [50,20,40]\n",
        "y = [50,50,10,40,60,80]\n",
        "print(x<=y)"
      ],
      "metadata": {
        "colab": {
          "base_uri": "https://localhost:8080/"
        },
        "id": "UGLGli-jb_eH",
        "outputId": "a8710ca5-49f0-4410-ff88-6623f5263a16"
      },
      "execution_count": 10,
      "outputs": [
        {
          "output_type": "stream",
          "name": "stdout",
          "text": [
            "True\n"
          ]
        }
      ]
    },
    {
      "cell_type": "code",
      "source": [
        "x = [[10,20,30],[40,50,60],[70,80,90]]\n",
        "print(x)"
      ],
      "metadata": {
        "colab": {
          "base_uri": "https://localhost:8080/"
        },
        "id": "2ArfmIobcETV",
        "outputId": "222146d6-e80f-4e32-e62a-23496145d3ea"
      },
      "execution_count": 11,
      "outputs": [
        {
          "output_type": "stream",
          "name": "stdout",
          "text": [
            "[[10, 20, 30], [40, 50, 60], [70, 80, 90]]\n"
          ]
        }
      ]
    },
    {
      "cell_type": "code",
      "source": [
        "#element row wise\n",
        "x = [[10,20,30],[40,50,60],[70,80,90]]\n",
        "print(x[0])\n",
        "print(x[1])\n",
        "print(x[2])"
      ],
      "metadata": {
        "colab": {
          "base_uri": "https://localhost:8080/"
        },
        "id": "AkbKERazd0Gk",
        "outputId": "4b318886-3c1c-4ee7-a70e-e92cd737d3cd"
      },
      "execution_count": 12,
      "outputs": [
        {
          "output_type": "stream",
          "name": "stdout",
          "text": [
            "[10, 20, 30]\n",
            "[40, 50, 60]\n",
            "[70, 80, 90]\n"
          ]
        }
      ]
    },
    {
      "cell_type": "code",
      "source": [
        "x = [[10,20,30],[40,50,60],[70,80,90]]\n",
        "print('elements row wise: ')\n",
        "for r in x:\n",
        "  print(r)"
      ],
      "metadata": {
        "colab": {
          "base_uri": "https://localhost:8080/"
        },
        "id": "WEPcwh5sd9S-",
        "outputId": "49e53557-f695-4ae9-c9ce-a027f97d690a"
      },
      "execution_count": 13,
      "outputs": [
        {
          "output_type": "stream",
          "name": "stdout",
          "text": [
            "elements row wise: \n",
            "[10, 20, 30]\n",
            "[40, 50, 60]\n",
            "[70, 80, 90]\n"
          ]
        }
      ]
    },
    {
      "cell_type": "code",
      "source": [
        "x = [[10,20,30],[40,50,60],[70,80,90]]\n",
        "print('Elements in Matrix style: ')\n",
        "for i in range(len(x)):\n",
        "  for j in range(len(x[i])):\n",
        "    print(x[i][j],end=' ')\n",
        "  print()"
      ],
      "metadata": {
        "colab": {
          "base_uri": "https://localhost:8080/"
        },
        "id": "h62vkzrweJnN",
        "outputId": "8505d63e-21b7-4c2a-f930-a0d13a994b0f"
      },
      "execution_count": 1,
      "outputs": [
        {
          "output_type": "stream",
          "name": "stdout",
          "text": [
            "Elements in Matrix style: \n",
            "10 20 30 \n",
            "40 50 60 \n",
            "70 80 90 \n"
          ]
        }
      ]
    },
    {
      "cell_type": "code",
      "source": [
        "# list comprehensions:\n",
        "l = [1,4,9,16,25,36]"
      ],
      "metadata": {
        "id": "gB5fAt2a0oFD"
      },
      "execution_count": null,
      "outputs": []
    },
    {
      "cell_type": "code",
      "source": [
        "l = []\n",
        "for x in range(1,11):\n",
        "  l.append(x*x)\n",
        "print(l)"
      ],
      "metadata": {
        "colab": {
          "base_uri": "https://localhost:8080/"
        },
        "id": "-svcRPSi1OWL",
        "outputId": "425f7fa6-17ec-4441-cec0-247e5ef05777"
      },
      "execution_count": 2,
      "outputs": [
        {
          "output_type": "stream",
          "name": "stdout",
          "text": [
            "[1, 4, 9, 16, 25, 36, 49, 64, 81, 100]\n"
          ]
        }
      ]
    },
    {
      "cell_type": "code",
      "source": [
        "l = [x*x for x in range(1,11)]\n",
        "print(l)"
      ],
      "metadata": {
        "colab": {
          "base_uri": "https://localhost:8080/"
        },
        "id": "i90dClGD1WUl",
        "outputId": "e178a1f8-b1cc-4ee5-a35f-fd71d96d49d9"
      },
      "execution_count": 3,
      "outputs": [
        {
          "output_type": "stream",
          "name": "stdout",
          "text": [
            "[1, 4, 9, 16, 25, 36, 49, 64, 81, 100]\n"
          ]
        }
      ]
    },
    {
      "cell_type": "code",
      "source": [
        "# l = [expression for x in sequence]\n",
        "l = [x*2 for x in range(1,11)]\n",
        "print(l)"
      ],
      "metadata": {
        "colab": {
          "base_uri": "https://localhost:8080/"
        },
        "id": "KyhiN8vK1jQ2",
        "outputId": "adf11514-3ae4-4a66-f40c-434b35ba771a"
      },
      "execution_count": 5,
      "outputs": [
        {
          "output_type": "stream",
          "name": "stdout",
          "text": [
            "[2, 4, 6, 8, 10, 12, 14, 16, 18, 20]\n"
          ]
        }
      ]
    },
    {
      "cell_type": "code",
      "source": [
        "l = [x+x for x in range(1,11)]\n",
        "print(l)"
      ],
      "metadata": {
        "colab": {
          "base_uri": "https://localhost:8080/"
        },
        "id": "Y6by61c11-Vx",
        "outputId": "a5a8ef3a-cdb1-4388-a7c6-3b32f1faa835"
      },
      "execution_count": 10,
      "outputs": [
        {
          "output_type": "stream",
          "name": "stdout",
          "text": [
            "[2, 4, 6, 8, 10, 12, 14, 16, 18, 20]\n"
          ]
        }
      ]
    },
    {
      "cell_type": "code",
      "source": [
        "l = [x*x for x in range(1,21)]\n",
        "print(l)\n"
      ],
      "metadata": {
        "colab": {
          "base_uri": "https://localhost:8080/"
        },
        "id": "-HXzRoND2JXW",
        "outputId": "37e6bfc5-d0ec-4161-f1f5-1c3d6c959477"
      },
      "execution_count": 12,
      "outputs": [
        {
          "output_type": "stream",
          "name": "stdout",
          "text": [
            "[1, 4, 9, 16, 25, 36, 49, 64, 81, 100, 121, 144, 169, 196, 225, 256, 289, 324, 361, 400]\n"
          ]
        }
      ]
    },
    {
      "cell_type": "code",
      "source": [
        "# l = [expression for x in sequence if condition]\n",
        "l1 = [x*x for x in range(1,21)]\n",
        "l2 = [x for x in l1 if x%2==0]\n",
        "print(l1)\n",
        "print(l2)"
      ],
      "metadata": {
        "colab": {
          "base_uri": "https://localhost:8080/"
        },
        "id": "ddwDNjqv2bU8",
        "outputId": "712a8333-2460-439e-ccf2-3c5ce3d709dd"
      },
      "execution_count": 13,
      "outputs": [
        {
          "output_type": "stream",
          "name": "stdout",
          "text": [
            "[1, 4, 9, 16, 25, 36, 49, 64, 81, 100, 121, 144, 169, 196, 225, 256, 289, 324, 361, 400]\n",
            "[4, 16, 36, 64, 100, 144, 196, 256, 324, 400]\n"
          ]
        }
      ]
    },
    {
      "cell_type": "code",
      "source": [
        "l = [2**x for x in range(1,11)]\n",
        "print(l)"
      ],
      "metadata": {
        "colab": {
          "base_uri": "https://localhost:8080/"
        },
        "id": "QVoY0GSy23W_",
        "outputId": "b0d3028d-3977-48e3-f1a0-47e268ae2cc2"
      },
      "execution_count": 14,
      "outputs": [
        {
          "output_type": "stream",
          "name": "stdout",
          "text": [
            "[2, 4, 8, 16, 32, 64, 128, 256, 512, 1024]\n"
          ]
        }
      ]
    },
    {
      "cell_type": "code",
      "source": [
        "l1 = [2**x for x in range(1,11)]\n",
        "l2 = [x for x in l1 if x%2!=0]\n",
        "print(l1)\n",
        "print(l2)"
      ],
      "metadata": {
        "colab": {
          "base_uri": "https://localhost:8080/"
        },
        "id": "cxtf6dOp3UTf",
        "outputId": "2fb708ee-1919-4589-9eda-251f17b3064c"
      },
      "execution_count": 17,
      "outputs": [
        {
          "output_type": "stream",
          "name": "stdout",
          "text": [
            "[2, 4, 8, 16, 32, 64, 128, 256, 512, 1024]\n",
            "[]\n"
          ]
        }
      ]
    },
    {
      "cell_type": "code",
      "source": [
        "l1 = [x*x for x in range(1,11)]\n",
        "l2 = [x for x in l1 if x%2 == 0]\n",
        "print(l1)\n",
        "print(l2)"
      ],
      "metadata": {
        "colab": {
          "base_uri": "https://localhost:8080/"
        },
        "id": "n1ijupCV31hL",
        "outputId": "4268c10a-55ed-441a-9392-3ecda1aa6922"
      },
      "execution_count": 18,
      "outputs": [
        {
          "output_type": "stream",
          "name": "stdout",
          "text": [
            "[1, 4, 9, 16, 25, 36, 49, 64, 81, 100]\n",
            "[4, 16, 36, 64, 100]\n"
          ]
        }
      ]
    },
    {
      "cell_type": "code",
      "source": [
        "l = [x**2 for x in range(1,11) if (x**2)%2==0]\n",
        "print(l)"
      ],
      "metadata": {
        "colab": {
          "base_uri": "https://localhost:8080/"
        },
        "id": "q44r8Xgm4SQ8",
        "outputId": "deeef032-4f6b-431f-fc7a-811086ca2bdb"
      },
      "execution_count": 20,
      "outputs": [
        {
          "output_type": "stream",
          "name": "stdout",
          "text": [
            "[4, 16, 36, 64, 100]\n"
          ]
        }
      ]
    },
    {
      "cell_type": "code",
      "source": [
        "words = ['pawan','shahrukh', 'ajay', 'varun']\n",
        "l =[w[0] for w in words]\n",
        "print(l)"
      ],
      "metadata": {
        "colab": {
          "base_uri": "https://localhost:8080/"
        },
        "id": "yAFZOGXk4lqa",
        "outputId": "c2f4d467-d087-4a6d-99e5-ecd41376be62"
      },
      "execution_count": 21,
      "outputs": [
        {
          "output_type": "stream",
          "name": "stdout",
          "text": [
            "['p', 's', 'a', 'v']\n"
          ]
        }
      ]
    },
    {
      "cell_type": "code",
      "source": [
        "words = ['pawan','shahrukh', 'ajay', 'varun']\n",
        "l =[w[0] for w in words if len(w)>6]\n",
        "print(l)"
      ],
      "metadata": {
        "colab": {
          "base_uri": "https://localhost:8080/"
        },
        "id": "B1LbLkps5b6c",
        "outputId": "7edf3688-4d4d-4237-c1a5-798baf881b2b"
      },
      "execution_count": 22,
      "outputs": [
        {
          "output_type": "stream",
          "name": "stdout",
          "text": [
            "['s']\n"
          ]
        }
      ]
    },
    {
      "cell_type": "code",
      "source": [
        "n1 = [10,20,30,40]\n",
        "n2 = [30,40,50,60]\n",
        "n3 = [x for x in n1 if x not in n2]\n",
        "print(n3)"
      ],
      "metadata": {
        "colab": {
          "base_uri": "https://localhost:8080/"
        },
        "id": "MCPb2f9q5i8B",
        "outputId": "4c09c52c-cece-4348-a8b5-103215ad478c"
      },
      "execution_count": 25,
      "outputs": [
        {
          "output_type": "stream",
          "name": "stdout",
          "text": [
            "[10, 20]\n"
          ]
        }
      ]
    },
    {
      "cell_type": "code",
      "source": [
        "n1 = [10,20,30,40]\n",
        "n2 = [30,40,50,60]\n",
        "n3 = [x for x in n1 if x in n2]\n",
        "print(n3)"
      ],
      "metadata": {
        "colab": {
          "base_uri": "https://localhost:8080/"
        },
        "id": "HzHlorMt55CC",
        "outputId": "3b0762fc-cdcd-4fd4-ef41-093397deffd3"
      },
      "execution_count": 26,
      "outputs": [
        {
          "output_type": "stream",
          "name": "stdout",
          "text": [
            "[30, 40]\n"
          ]
        }
      ]
    },
    {
      "cell_type": "code",
      "source": [
        "words = 'the quick brown fox jumps over the lazy dog'.split()\n",
        "print(words)"
      ],
      "metadata": {
        "colab": {
          "base_uri": "https://localhost:8080/"
        },
        "id": "ihi5JdSR6awO",
        "outputId": "a7a8b911-10a3-428f-c6d9-ac5adba47a77"
      },
      "execution_count": 27,
      "outputs": [
        {
          "output_type": "stream",
          "name": "stdout",
          "text": [
            "['the', 'quick', 'brown', 'fox', 'jumps', 'over', 'the', 'lazy', 'dog']\n"
          ]
        }
      ]
    },
    {
      "cell_type": "code",
      "source": [
        "words = 'the quick brown fox jumps over the lazy dog'.split()\n",
        "l = [w.upper() for w in words]\n",
        "print(l)"
      ],
      "metadata": {
        "colab": {
          "base_uri": "https://localhost:8080/"
        },
        "id": "Jjg4PDcO6sZM",
        "outputId": "10b3f4d3-3b26-4dc4-890b-5e00cb494883"
      },
      "execution_count": 29,
      "outputs": [
        {
          "output_type": "stream",
          "name": "stdout",
          "text": [
            "['THE', 'QUICK', 'BROWN', 'FOX', 'JUMPS', 'OVER', 'THE', 'LAZY', 'DOG']\n"
          ]
        }
      ]
    },
    {
      "cell_type": "code",
      "source": [
        "words = 'the quick brown fox jumps over the lazy dog'.split()\n",
        "print(words)\n",
        "l = [[w.upper(), len(w)] for w in words]\n",
        "print(l)"
      ],
      "metadata": {
        "colab": {
          "base_uri": "https://localhost:8080/"
        },
        "id": "HvEZGXj-68gP",
        "outputId": "bad6c7d9-0cdd-4f5a-a03e-c9ee63fe2577"
      },
      "execution_count": 30,
      "outputs": [
        {
          "output_type": "stream",
          "name": "stdout",
          "text": [
            "['the', 'quick', 'brown', 'fox', 'jumps', 'over', 'the', 'lazy', 'dog']\n",
            "[['THE', 3], ['QUICK', 5], ['BROWN', 5], ['FOX', 3], ['JUMPS', 5], ['OVER', 4], ['THE', 3], ['LAZY', 4], ['DOG', 3]]\n"
          ]
        }
      ]
    },
    {
      "cell_type": "code",
      "source": [
        "# write a program to display unique vowels present in given words\n",
        "vowels = ['a','e','i','o','u']\n",
        "words = input('Enter the words to search for vowels: ')\n",
        "found = []\n",
        "for letter in words:\n",
        "  if letter in vowels:\n",
        "    if letter not in found:\n",
        "      found.append(letter)\n",
        "print(found)\n",
        "print('The number of differnt vowels present in ', words, ' is ',len(found))"
      ],
      "metadata": {
        "colab": {
          "base_uri": "https://localhost:8080/"
        },
        "id": "nkyiT2WO7RIJ",
        "outputId": "2e3d6e72-a2f5-4271-e405-892772f3c5e9"
      },
      "execution_count": 32,
      "outputs": [
        {
          "output_type": "stream",
          "name": "stdout",
          "text": [
            "Enter the words to search for vowels: depika\n",
            "['e', 'i', 'a']\n",
            "The number of differnt vowels present in  depika  is  3\n"
          ]
        }
      ]
    },
    {
      "cell_type": "code",
      "source": [],
      "metadata": {
        "id": "rxFQQORa8g1-"
      },
      "execution_count": null,
      "outputs": []
    }
  ]
}