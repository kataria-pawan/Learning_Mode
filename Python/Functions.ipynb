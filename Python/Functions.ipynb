{
  "nbformat": 4,
  "nbformat_minor": 0,
  "metadata": {
    "colab": {
      "provenance": [],
      "authorship_tag": "ABX9TyOXyrTr9jeIfeBeG7Z+WDrM",
      "include_colab_link": true
    },
    "kernelspec": {
      "name": "python3",
      "display_name": "Python 3"
    },
    "language_info": {
      "name": "python"
    }
  },
  "cells": [
    {
      "cell_type": "markdown",
      "metadata": {
        "id": "view-in-github",
        "colab_type": "text"
      },
      "source": [
        "<a href=\"https://colab.research.google.com/github/kataria-pawan/Learning_Mode/blob/main/Python/Functions.ipynb\" target=\"_parent\"><img src=\"https://colab.research.google.com/assets/colab-badge.svg\" alt=\"Open In Colab\"/></a>"
      ]
    },
    {
      "cell_type": "code",
      "execution_count": null,
      "metadata": {
        "id": "4qix1-zW98Ts"
      },
      "outputs": [],
      "source": [
        "# Function is a group of line or statement and used for code reusablility\n",
        "# inbuilt function (predefined functions)\n",
        "# user-defined functions"
      ]
    },
    {
      "cell_type": "code",
      "source": [
        "# Built in functions\n",
        "#print()\n",
        "#eval()\n",
        "#len()\n",
        "#input()\n",
        "#id()\n",
        "#sorted()"
      ],
      "metadata": {
        "id": "g1ykZpXqEmRG"
      },
      "execution_count": null,
      "outputs": []
    },
    {
      "cell_type": "code",
      "source": [
        "# User Defined function\n",
        "def wish(): # def is to define function and wish is function name\n",
        "  print('Good Morning')\n",
        "  print('Good Morning')\n",
        "  print('Good Morning')\n",
        "  print('Good Morning')\n",
        "wish() # calling the function"
      ],
      "metadata": {
        "colab": {
          "base_uri": "https://localhost:8080/"
        },
        "id": "Zv7T5i0LFHfO",
        "outputId": "522961b7-8a62-4402-8dda-4fcdf8e1f13c"
      },
      "execution_count": null,
      "outputs": [
        {
          "output_type": "stream",
          "name": "stdout",
          "text": [
            "Good Morning\n",
            "Good Morning\n",
            "Good Morning\n",
            "Good Morning\n"
          ]
        }
      ]
    },
    {
      "cell_type": "code",
      "source": [
        "wish()"
      ],
      "metadata": {
        "colab": {
          "base_uri": "https://localhost:8080/"
        },
        "id": "x9TaIJDxFslx",
        "outputId": "5e7f0e44-da93-4108-d52a-b69d967b12b2"
      },
      "execution_count": null,
      "outputs": [
        {
          "output_type": "stream",
          "name": "stdout",
          "text": [
            "Good Morning\n",
            "Good Morning\n",
            "Good Morning\n",
            "Good Morning\n"
          ]
        }
      ]
    },
    {
      "cell_type": "code",
      "source": [
        "# User Defined function\n",
        "def wish(name): # name here act as a parameter in a function\n",
        "  print('Hello', name, 'Good Morning')\n",
        "\n",
        "wish('Ravi')"
      ],
      "metadata": {
        "colab": {
          "base_uri": "https://localhost:8080/"
        },
        "id": "fOfF9-aYFxkx",
        "outputId": "015885ea-e2be-4201-e0ef-465d1535568b"
      },
      "execution_count": null,
      "outputs": [
        {
          "output_type": "stream",
          "name": "stdout",
          "text": [
            "Hello Ravi Good Morning\n"
          ]
        }
      ]
    },
    {
      "cell_type": "code",
      "source": [
        "def square(x):\n",
        "  print('The square of {} is: {}'.format(x,x*x))\n",
        "\n",
        "square(10)\n",
        "square(5)\n",
        "square(9)"
      ],
      "metadata": {
        "colab": {
          "base_uri": "https://localhost:8080/"
        },
        "id": "D4lt0-EpGawI",
        "outputId": "2a65923d-3324-49f9-bfbc-75de90dea9d8"
      },
      "execution_count": null,
      "outputs": [
        {
          "output_type": "stream",
          "name": "stdout",
          "text": [
            "The square of 10 is: 100\n",
            "The square of 5 is: 25\n",
            "The square of 9 is: 81\n"
          ]
        }
      ]
    },
    {
      "cell_type": "code",
      "source": [
        "def add(a,b):\n",
        "  return a+b\n",
        "\n",
        "result = add(10,20)\n",
        "print('the sum is: ', result)\n",
        "print('the sum is: ',add(100,200))"
      ],
      "metadata": {
        "colab": {
          "base_uri": "https://localhost:8080/"
        },
        "id": "NHCHKvo3G2BG",
        "outputId": "a420aafb-0071-41a6-945f-c605fc71c171"
      },
      "execution_count": null,
      "outputs": [
        {
          "output_type": "stream",
          "name": "stdout",
          "text": [
            "the sum is:  30\n",
            "the sum is:  300\n"
          ]
        }
      ]
    },
    {
      "cell_type": "code",
      "source": [
        "# def function_name(parameters):\n",
        "  # business logic\n",
        "  # return result"
      ],
      "metadata": {
        "id": "nZ0WjQvPHQf0"
      },
      "execution_count": null,
      "outputs": []
    },
    {
      "cell_type": "code",
      "source": [
        "# to find the even and odd number\n",
        "def evenodd(n):\n",
        "  if n%2 == 0:\n",
        "    print('{} number is even'.format(n))\n",
        "  else:\n",
        "    print('{} number is odd'.format(n))\n",
        "\n",
        "evenodd(7)\n",
        "evenodd(10)\n",
        "evenodd(11)\n",
        "evenodd(146)\n"
      ],
      "metadata": {
        "colab": {
          "base_uri": "https://localhost:8080/"
        },
        "id": "SQCrMhp2Hl3y",
        "outputId": "0bfbe8b1-e901-459c-e70e-d4b0eb80dcfd"
      },
      "execution_count": null,
      "outputs": [
        {
          "output_type": "stream",
          "name": "stdout",
          "text": [
            "7 number is odd\n",
            "10 number is even\n",
            "11 number is odd\n",
            "146 number is even\n"
          ]
        }
      ]
    },
    {
      "cell_type": "code",
      "source": [
        "evenodd(10.5)"
      ],
      "metadata": {
        "colab": {
          "base_uri": "https://localhost:8080/"
        },
        "id": "po8YsAaOIXPO",
        "outputId": "f620d9b2-e6a9-4d16-bda1-d3017b20acce"
      },
      "execution_count": null,
      "outputs": [
        {
          "output_type": "stream",
          "name": "stdout",
          "text": [
            "10.5 number is odd\n"
          ]
        }
      ]
    },
    {
      "cell_type": "code",
      "source": [
        "# to find a factorial of a given number\n",
        "def fact(n):\n",
        "  result = 1\n",
        "  while n>1:\n",
        "    result = result*n\n",
        "    n = n-1\n",
        "  return result\n",
        "\n",
        "fact(4)\n"
      ],
      "metadata": {
        "colab": {
          "base_uri": "https://localhost:8080/"
        },
        "id": "RB7ZdB6EIfaB",
        "outputId": "38367105-da95-467b-85e3-0acd466ba90e"
      },
      "execution_count": null,
      "outputs": [
        {
          "output_type": "execute_result",
          "data": {
            "text/plain": [
              "24"
            ]
          },
          "metadata": {},
          "execution_count": 18
        }
      ]
    },
    {
      "cell_type": "code",
      "source": [
        "fact(5)"
      ],
      "metadata": {
        "colab": {
          "base_uri": "https://localhost:8080/"
        },
        "id": "KtXRr8ltJKdg",
        "outputId": "cb5a74dc-ce5b-4c93-aad3-cf17c241c2a2"
      },
      "execution_count": null,
      "outputs": [
        {
          "output_type": "execute_result",
          "data": {
            "text/plain": [
              "120"
            ]
          },
          "metadata": {},
          "execution_count": 19
        }
      ]
    },
    {
      "cell_type": "code",
      "source": [
        "print(fact(6))"
      ],
      "metadata": {
        "colab": {
          "base_uri": "https://localhost:8080/"
        },
        "id": "r-FbdRblJjE-",
        "outputId": "50ea4a0e-faaf-4a78-a5df-8576cb867060"
      },
      "execution_count": null,
      "outputs": [
        {
          "output_type": "stream",
          "name": "stdout",
          "text": [
            "720\n"
          ]
        }
      ]
    },
    {
      "cell_type": "code",
      "source": [
        "def fact(n):\n",
        "  result = 1\n",
        "  while n>1:\n",
        "    result = result*n\n",
        "    n = n-1\n",
        "  return result\n",
        "\n",
        "for i in range(1,6):\n",
        "  print('The factorial of {} is: {}'.format(i,fact(i)))"
      ],
      "metadata": {
        "colab": {
          "base_uri": "https://localhost:8080/"
        },
        "id": "wOG9uN4EJnG2",
        "outputId": "7b321add-3bff-4fcc-b40f-10765264ff61"
      },
      "execution_count": null,
      "outputs": [
        {
          "output_type": "stream",
          "name": "stdout",
          "text": [
            "The factorial of 1 is: 1\n",
            "The factorial of 2 is: 2\n",
            "The factorial of 3 is: 6\n",
            "The factorial of 4 is: 24\n",
            "The factorial of 5 is: 120\n"
          ]
        }
      ]
    },
    {
      "cell_type": "code",
      "source": [
        "def sum_sub(a,b):\n",
        "  sum = a+b\n",
        "  sub = a-b\n",
        "  return sum, sub\n",
        "\n",
        "x,y = sum_sub(100,50)\n",
        "print('The sum :',x)\n",
        "print('The sub :',y)\n"
      ],
      "metadata": {
        "colab": {
          "base_uri": "https://localhost:8080/"
        },
        "id": "mDDalEXHJ58w",
        "outputId": "ad82d326-f406-4427-e431-0fc407cdd3a4"
      },
      "execution_count": null,
      "outputs": [
        {
          "output_type": "stream",
          "name": "stdout",
          "text": [
            "The sum : 150\n",
            "The sub : 50\n"
          ]
        }
      ]
    },
    {
      "cell_type": "code",
      "source": [
        "def calc(a,b):\n",
        "  sum = a+b\n",
        "  sub = a-b\n",
        "  mul = a*b\n",
        "  div = a/b\n",
        "  return sum,sub,mul,div\n",
        "\n",
        "t = calc(100,50)\n",
        "print(t)\n",
        "print(type(t))\n",
        "print('The results are: ')\n",
        "for x in t:\n",
        "  print(x)"
      ],
      "metadata": {
        "colab": {
          "base_uri": "https://localhost:8080/"
        },
        "id": "Q-yP831uLZSp",
        "outputId": "6eef67ac-67af-42ca-d4fc-cb89823bde44"
      },
      "execution_count": null,
      "outputs": [
        {
          "output_type": "stream",
          "name": "stdout",
          "text": [
            "(150, 50, 5000, 2.0)\n",
            "<class 'tuple'>\n",
            "The results are: \n",
            "150\n",
            "50\n",
            "5000\n",
            "2.0\n"
          ]
        }
      ]
    },
    {
      "cell_type": "code",
      "source": [
        "# types of arguments\n",
        "# 1. positional arguments\n",
        "# 2. keywords arguments\n",
        "# 3. default arguments\n",
        "# 4. variable length arguments"
      ],
      "metadata": {
        "id": "ADnyLk9AMZZU"
      },
      "execution_count": null,
      "outputs": []
    },
    {
      "cell_type": "code",
      "source": [
        "# positional arguments\n",
        "def sub(a,b):\n",
        "  print(a-b)\n",
        "sub(50,100) # position is very important\n",
        "sub(100,50)"
      ],
      "metadata": {
        "colab": {
          "base_uri": "https://localhost:8080/"
        },
        "id": "sg_9x9aoNFBy",
        "outputId": "28772080-1bbf-4339-c094-c13088dc79a7"
      },
      "execution_count": null,
      "outputs": [
        {
          "output_type": "stream",
          "name": "stdout",
          "text": [
            "-50\n",
            "50\n"
          ]
        }
      ]
    },
    {
      "cell_type": "code",
      "source": [
        "# keyword argument\n",
        "def wish(name,msg):\n",
        "  print('Hello {} how was your sleep {}'.format(name,msg))\n",
        "wish(name='Ravi',msg='Good Morning')\n",
        "wish(msg='Good Morning',name='Ravi')\n",
        "wish('Ravi','Good Mornig') # this is positional argument"
      ],
      "metadata": {
        "colab": {
          "base_uri": "https://localhost:8080/"
        },
        "id": "fFIjwRZCRyyb",
        "outputId": "8b2cc8bc-99ee-41d9-f4e7-72899bcfc62a"
      },
      "execution_count": null,
      "outputs": [
        {
          "output_type": "stream",
          "name": "stdout",
          "text": [
            "Hello Ravi how was your sleep Good Morning\n",
            "Hello Ravi how was your sleep Good Morning\n",
            "Hello Ravi how was your sleep Good Mornig\n"
          ]
        }
      ]
    },
    {
      "cell_type": "code",
      "source": [
        "# default argument means you can define default value insided the parameter\n",
        "def wish(name = 'Guest'):\n",
        "  print('hello',name, 'Good evening')\n",
        "\n",
        "wish('RAvi')\n",
        "wish()"
      ],
      "metadata": {
        "colab": {
          "base_uri": "https://localhost:8080/"
        },
        "id": "9PyXVRdBSjZ5",
        "outputId": "b5be84ef-19d6-4b8d-d645-101db41be261"
      },
      "execution_count": null,
      "outputs": [
        {
          "output_type": "stream",
          "name": "stdout",
          "text": [
            "hello RAvi Good evening\n",
            "hello Guest Good evening\n"
          ]
        }
      ]
    },
    {
      "cell_type": "code",
      "source": [
        "def wish(name = 'Guest', msg):\n",
        "  print('hello',name,msg)\n",
        "\n",
        "wish()"
      ],
      "metadata": {
        "colab": {
          "base_uri": "https://localhost:8080/",
          "height": 134
        },
        "id": "CZIz4T_vTry-",
        "outputId": "26a7dff2-b9af-4b8c-bbe8-4a28873d8d74"
      },
      "execution_count": null,
      "outputs": [
        {
          "output_type": "error",
          "ename": "SyntaxError",
          "evalue": "ignored",
          "traceback": [
            "\u001b[0;36m  File \u001b[0;32m\"<ipython-input-30-0f40e2240212>\"\u001b[0;36m, line \u001b[0;32m1\u001b[0m\n\u001b[0;31m    def wish(name = 'Guest', msg):\u001b[0m\n\u001b[0m                             ^\u001b[0m\n\u001b[0;31mSyntaxError\u001b[0m\u001b[0;31m:\u001b[0m non-default argument follows default argument\n"
          ]
        }
      ]
    },
    {
      "cell_type": "code",
      "source": [
        "def wish(marks,age,name = 'Guest', msg='good morning'):\n",
        "  print('student name: ',name)\n",
        "  print('student age: ',age)\n",
        "  print('Student marks: ',marks)\n",
        "  print('message :',msg)\n",
        "\n",
        "wish(50,18)"
      ],
      "metadata": {
        "colab": {
          "base_uri": "https://localhost:8080/"
        },
        "id": "B_9ludn-UMhq",
        "outputId": "25920750-abb0-44ff-ac9f-c40454a951ee"
      },
      "execution_count": null,
      "outputs": [
        {
          "output_type": "stream",
          "name": "stdout",
          "text": [
            "student name:  Guest\n",
            "student age:  18\n",
            "Student marks:  50\n",
            "message : good morning\n"
          ]
        }
      ]
    },
    {
      "cell_type": "code",
      "source": [
        "wish(100,35,'Ravi','Good evening')"
      ],
      "metadata": {
        "colab": {
          "base_uri": "https://localhost:8080/"
        },
        "id": "00pD5bQsVLZM",
        "outputId": "29bef81f-67a6-4c54-ec87-17ec4418ed4b"
      },
      "execution_count": null,
      "outputs": [
        {
          "output_type": "stream",
          "name": "stdout",
          "text": [
            "student name:  Ravi\n",
            "student age:  35\n",
            "Student marks:  100\n",
            "message : Good evening\n"
          ]
        }
      ]
    },
    {
      "cell_type": "code",
      "source": [
        "# variable length arguments:\n",
        "def f1(*n): # here n means group of values act as a tuple\n",
        "  print('Var-arg function')\n",
        "\n",
        "f1()\n",
        "f1(10)\n",
        "f1(10,20,30)\n",
        "f1(10,20,30,40)"
      ],
      "metadata": {
        "id": "gj4Dy6GnVTii",
        "colab": {
          "base_uri": "https://localhost:8080/"
        },
        "outputId": "6c6074b8-589f-4205-9531-9bb2a08e262e"
      },
      "execution_count": null,
      "outputs": [
        {
          "output_type": "stream",
          "name": "stdout",
          "text": [
            "Var-arg function\n",
            "Var-arg function\n",
            "Var-arg function\n",
            "Var-arg function\n"
          ]
        }
      ]
    },
    {
      "cell_type": "code",
      "source": [
        "# print the sum of given number\n",
        "def sum(*n): # singh star contain only numbers\n",
        "  result = 0\n",
        "  for x in n:\n",
        "    result += x\n",
        "  print('the sum: ', result)\n",
        "sum()\n",
        "sum(10)\n",
        "sum(10,20,30)\n",
        "sum(10,20,30,40)"
      ],
      "metadata": {
        "colab": {
          "base_uri": "https://localhost:8080/"
        },
        "id": "5vqp5VTwTSZs",
        "outputId": "d697c5e5-1c80-49be-bb73-898fc10aec55"
      },
      "execution_count": null,
      "outputs": [
        {
          "output_type": "stream",
          "name": "stdout",
          "text": [
            "the sum:  0\n",
            "the sum:  10\n",
            "the sum:  60\n",
            "the sum:  100\n"
          ]
        }
      ]
    },
    {
      "cell_type": "code",
      "source": [
        "def sum(name,*n):\n",
        "  result = 0\n",
        "  for x in n:\n",
        "    result = result + x\n",
        "  print('the sum by ',name,' is : ', result)\n",
        "\n",
        "sum('Deepak')\n",
        "sum('Ravi',10)\n",
        "sum('Shiv',10,20,30)\n",
        "sum('Ajay',10,20,30,40)"
      ],
      "metadata": {
        "colab": {
          "base_uri": "https://localhost:8080/"
        },
        "id": "4BYdCku1UOHo",
        "outputId": "8a0fa0a1-2ec6-4dcf-87d6-999f295f58a0"
      },
      "execution_count": null,
      "outputs": [
        {
          "output_type": "stream",
          "name": "stdout",
          "text": [
            "the sum by  Deepak  is :  0\n",
            "the sum by  Ravi  is :  10\n",
            "the sum by  Shiv  is :  60\n",
            "the sum by  Ajay  is :  100\n"
          ]
        }
      ]
    },
    {
      "cell_type": "code",
      "source": [
        "def display(**kwargs): # contain the variable name\n",
        "  print('Record information: ')\n",
        "  for k,v in kwargs.items():\n",
        "    print(k,'...........',v)\n",
        "\n",
        "display(name='Ravi',marks=100,age=39,GF='bunny')\n",
        "\n",
        "display(name='vinni',wife='shila',boy='tonny',girl='tina')"
      ],
      "metadata": {
        "colab": {
          "base_uri": "https://localhost:8080/"
        },
        "id": "Ug1tSXavU90B",
        "outputId": "2d0c339c-b52d-425c-bb3e-c834300784d6"
      },
      "execution_count": null,
      "outputs": [
        {
          "output_type": "stream",
          "name": "stdout",
          "text": [
            "Record information: \n",
            "name ........... Ravi\n",
            "marks ........... 100\n",
            "age ........... 39\n",
            "GF ........... bunny\n",
            "Record information: \n",
            "name ........... vinni\n",
            "wife ........... shila\n",
            "boy ........... tonny\n",
            "girl ........... tina\n"
          ]
        }
      ]
    },
    {
      "cell_type": "code",
      "source": [
        "def f1(arg1,arg2,arg3=4,arg4=8):\n",
        "  print(arg1,arg2,arg3,arg4)\n",
        "\n",
        "f1(3,2)"
      ],
      "metadata": {
        "colab": {
          "base_uri": "https://localhost:8080/"
        },
        "id": "L_hVDSuCXlXu",
        "outputId": "63f4ae03-9d46-4eed-f16b-cb7d707e8ced"
      },
      "execution_count": null,
      "outputs": [
        {
          "output_type": "stream",
          "name": "stdout",
          "text": [
            "3 2 4 8\n"
          ]
        }
      ]
    },
    {
      "cell_type": "code",
      "source": [
        "f1(10,20,30,40)"
      ],
      "metadata": {
        "colab": {
          "base_uri": "https://localhost:8080/"
        },
        "id": "Zzi87V8HYboK",
        "outputId": "cd95bf9b-2f47-4ed5-8830-5286e03415a3"
      },
      "execution_count": null,
      "outputs": [
        {
          "output_type": "stream",
          "name": "stdout",
          "text": [
            "10 20 30 40\n"
          ]
        }
      ]
    },
    {
      "cell_type": "code",
      "source": [
        "f1(20,50,arg4=100)"
      ],
      "metadata": {
        "colab": {
          "base_uri": "https://localhost:8080/"
        },
        "id": "U0Pr1I3WYfBa",
        "outputId": "ae03e9c1-676d-47c4-a1a2-95adb4901a00"
      },
      "execution_count": null,
      "outputs": [
        {
          "output_type": "stream",
          "name": "stdout",
          "text": [
            "20 50 4 100\n"
          ]
        }
      ]
    },
    {
      "cell_type": "code",
      "source": [
        "f1(arg4=2,arg1=3,arg2=4)"
      ],
      "metadata": {
        "colab": {
          "base_uri": "https://localhost:8080/"
        },
        "id": "2vdSsG_VYj-_",
        "outputId": "796da3c5-ff50-40dd-e209-0fecd227139c"
      },
      "execution_count": null,
      "outputs": [
        {
          "output_type": "stream",
          "name": "stdout",
          "text": [
            "3 4 4 2\n"
          ]
        }
      ]
    },
    {
      "cell_type": "code",
      "source": [
        "f1() #missing 2 starting values to enter"
      ],
      "metadata": {
        "colab": {
          "base_uri": "https://localhost:8080/",
          "height": 169
        },
        "id": "qnUZiwE0Ypdu",
        "outputId": "00463ed9-bfaf-4c01-aeb2-c2c1a8fd05a1"
      },
      "execution_count": null,
      "outputs": [
        {
          "output_type": "error",
          "ename": "TypeError",
          "evalue": "ignored",
          "traceback": [
            "\u001b[0;31m---------------------------------------------------------------------------\u001b[0m",
            "\u001b[0;31mTypeError\u001b[0m                                 Traceback (most recent call last)",
            "\u001b[0;32m<ipython-input-12-b27bf7c7aafe>\u001b[0m in \u001b[0;36m<cell line: 1>\u001b[0;34m()\u001b[0m\n\u001b[0;32m----> 1\u001b[0;31m \u001b[0mf1\u001b[0m\u001b[0;34m(\u001b[0m\u001b[0;34m)\u001b[0m\u001b[0;34m\u001b[0m\u001b[0;34m\u001b[0m\u001b[0m\n\u001b[0m",
            "\u001b[0;31mTypeError\u001b[0m: f1() missing 2 required positional arguments: 'arg1' and 'arg2'"
          ]
        }
      ]
    },
    {
      "cell_type": "code",
      "source": [
        "f1(arg3=10,arg4=40,20,30) # always take positional argument before keywards argument"
      ],
      "metadata": {
        "colab": {
          "base_uri": "https://localhost:8080/",
          "height": 134
        },
        "id": "MuSgGY4oY5cm",
        "outputId": "403bc966-6fc3-4bc3-e558-94649e59c541"
      },
      "execution_count": null,
      "outputs": [
        {
          "output_type": "error",
          "ename": "SyntaxError",
          "evalue": "ignored",
          "traceback": [
            "\u001b[0;36m  File \u001b[0;32m\"<ipython-input-13-28f7ebd24a8b>\"\u001b[0;36m, line \u001b[0;32m1\u001b[0m\n\u001b[0;31m    f1(arg3=10,arg4=40,20,30)\u001b[0m\n\u001b[0m                            ^\u001b[0m\n\u001b[0;31mSyntaxError\u001b[0m\u001b[0;31m:\u001b[0m positional argument follows keyword argument\n"
          ]
        }
      ]
    },
    {
      "cell_type": "code",
      "source": [
        "f1(4,5,arg2=5) # multiple values for arg2"
      ],
      "metadata": {
        "colab": {
          "base_uri": "https://localhost:8080/",
          "height": 169
        },
        "id": "zDxvQJbDZDxn",
        "outputId": "00c6e658-9e0c-453d-8d60-68fd88c08ddf"
      },
      "execution_count": null,
      "outputs": [
        {
          "output_type": "error",
          "ename": "TypeError",
          "evalue": "ignored",
          "traceback": [
            "\u001b[0;31m---------------------------------------------------------------------------\u001b[0m",
            "\u001b[0;31mTypeError\u001b[0m                                 Traceback (most recent call last)",
            "\u001b[0;32m<ipython-input-14-18f2d00dd490>\u001b[0m in \u001b[0;36m<cell line: 1>\u001b[0;34m()\u001b[0m\n\u001b[0;32m----> 1\u001b[0;31m \u001b[0mf1\u001b[0m\u001b[0;34m(\u001b[0m\u001b[0;36m4\u001b[0m\u001b[0;34m,\u001b[0m\u001b[0;36m5\u001b[0m\u001b[0;34m,\u001b[0m\u001b[0marg2\u001b[0m\u001b[0;34m=\u001b[0m\u001b[0;36m5\u001b[0m\u001b[0;34m)\u001b[0m\u001b[0;34m\u001b[0m\u001b[0;34m\u001b[0m\u001b[0m\n\u001b[0m",
            "\u001b[0;31mTypeError\u001b[0m: f1() got multiple values for argument 'arg2'"
          ]
        }
      ]
    },
    {
      "cell_type": "code",
      "source": [
        "f1(4,5,arg3=6,arg5=9) # arg5 is not defined in function"
      ],
      "metadata": {
        "colab": {
          "base_uri": "https://localhost:8080/",
          "height": 169
        },
        "id": "L2xB4wLbZR6J",
        "outputId": "629c8022-1bf7-48dd-ad87-dff13ede872e"
      },
      "execution_count": null,
      "outputs": [
        {
          "output_type": "error",
          "ename": "TypeError",
          "evalue": "ignored",
          "traceback": [
            "\u001b[0;31m---------------------------------------------------------------------------\u001b[0m",
            "\u001b[0;31mTypeError\u001b[0m                                 Traceback (most recent call last)",
            "\u001b[0;32m<ipython-input-15-1489419e4921>\u001b[0m in \u001b[0;36m<cell line: 1>\u001b[0;34m()\u001b[0m\n\u001b[0;32m----> 1\u001b[0;31m \u001b[0mf1\u001b[0m\u001b[0;34m(\u001b[0m\u001b[0;36m4\u001b[0m\u001b[0;34m,\u001b[0m\u001b[0;36m5\u001b[0m\u001b[0;34m,\u001b[0m\u001b[0marg3\u001b[0m\u001b[0;34m=\u001b[0m\u001b[0;36m6\u001b[0m\u001b[0;34m,\u001b[0m\u001b[0marg5\u001b[0m\u001b[0;34m=\u001b[0m\u001b[0;36m9\u001b[0m\u001b[0;34m)\u001b[0m\u001b[0;34m\u001b[0m\u001b[0;34m\u001b[0m\u001b[0m\n\u001b[0m",
            "\u001b[0;31mTypeError\u001b[0m: f1() got an unexpected keyword argument 'arg5'"
          ]
        }
      ]
    },
    {
      "cell_type": "code",
      "source": [
        "# modules:its group of function\n",
        "# package:its group of modules\n",
        "# library contain a group of package"
      ],
      "metadata": {
        "id": "AXhrX7XwZaFx"
      },
      "execution_count": null,
      "outputs": []
    },
    {
      "cell_type": "code",
      "source": [
        "# Types of Variables\n",
        "# 1. Global Variables : declare outside of the function\n",
        "# 2. Local Variables : declare inside of the function"
      ],
      "metadata": {
        "id": "Z-JTXl7nrp9Z"
      },
      "execution_count": null,
      "outputs": []
    },
    {
      "cell_type": "code",
      "source": [
        "# global variable\n",
        "a = 10 # outside the function\n",
        "def gf():\n",
        "  print('fg:', a)\n",
        "def f2():\n",
        "  print('f2', a)\n",
        "\n",
        "gf()\n",
        "f2()"
      ],
      "metadata": {
        "colab": {
          "base_uri": "https://localhost:8080/"
        },
        "id": "f9-9d9BJsvjc",
        "outputId": "27c12a21-4edf-470f-acbb-6238f6bc33a1"
      },
      "execution_count": null,
      "outputs": [
        {
          "output_type": "stream",
          "name": "stdout",
          "text": [
            "fg: 10\n",
            "f2 10\n"
          ]
        }
      ]
    },
    {
      "cell_type": "code",
      "source": [
        "# local variable\n",
        "\n",
        "def f1():\n",
        "  x =10 # inside the function\n",
        "  print('f1',a)\n",
        "def f2():\n",
        "  print('f2',x)\n",
        "\n",
        "f1()\n",
        "f2()"
      ],
      "metadata": {
        "colab": {
          "base_uri": "https://localhost:8080/",
          "height": 349
        },
        "id": "vo8CC-2ks9h3",
        "outputId": "9391d4ba-11d6-4892-db76-4851cf290e94"
      },
      "execution_count": null,
      "outputs": [
        {
          "output_type": "stream",
          "name": "stdout",
          "text": [
            "f1 10\n"
          ]
        },
        {
          "output_type": "error",
          "ename": "NameError",
          "evalue": "ignored",
          "traceback": [
            "\u001b[0;31m---------------------------------------------------------------------------\u001b[0m",
            "\u001b[0;31mNameError\u001b[0m                                 Traceback (most recent call last)",
            "\u001b[0;32m<ipython-input-7-ade7de6c7a57>\u001b[0m in \u001b[0;36m<cell line: 10>\u001b[0;34m()\u001b[0m\n\u001b[1;32m      8\u001b[0m \u001b[0;34m\u001b[0m\u001b[0m\n\u001b[1;32m      9\u001b[0m \u001b[0mf1\u001b[0m\u001b[0;34m(\u001b[0m\u001b[0;34m)\u001b[0m\u001b[0;34m\u001b[0m\u001b[0;34m\u001b[0m\u001b[0m\n\u001b[0;32m---> 10\u001b[0;31m \u001b[0mf2\u001b[0m\u001b[0;34m(\u001b[0m\u001b[0;34m)\u001b[0m\u001b[0;34m\u001b[0m\u001b[0;34m\u001b[0m\u001b[0m\n\u001b[0m",
            "\u001b[0;32m<ipython-input-7-ade7de6c7a57>\u001b[0m in \u001b[0;36mf2\u001b[0;34m()\u001b[0m\n\u001b[1;32m      5\u001b[0m   \u001b[0mprint\u001b[0m\u001b[0;34m(\u001b[0m\u001b[0;34m'f1'\u001b[0m\u001b[0;34m,\u001b[0m\u001b[0ma\u001b[0m\u001b[0;34m)\u001b[0m\u001b[0;34m\u001b[0m\u001b[0;34m\u001b[0m\u001b[0m\n\u001b[1;32m      6\u001b[0m \u001b[0;32mdef\u001b[0m \u001b[0mf2\u001b[0m\u001b[0;34m(\u001b[0m\u001b[0;34m)\u001b[0m\u001b[0;34m:\u001b[0m\u001b[0;34m\u001b[0m\u001b[0;34m\u001b[0m\u001b[0m\n\u001b[0;32m----> 7\u001b[0;31m   \u001b[0mprint\u001b[0m\u001b[0;34m(\u001b[0m\u001b[0;34m'f2'\u001b[0m\u001b[0;34m,\u001b[0m\u001b[0mx\u001b[0m\u001b[0;34m)\u001b[0m\u001b[0;34m\u001b[0m\u001b[0;34m\u001b[0m\u001b[0m\n\u001b[0m\u001b[1;32m      8\u001b[0m \u001b[0;34m\u001b[0m\u001b[0m\n\u001b[1;32m      9\u001b[0m \u001b[0mf1\u001b[0m\u001b[0;34m(\u001b[0m\u001b[0;34m)\u001b[0m\u001b[0;34m\u001b[0m\u001b[0;34m\u001b[0m\u001b[0m\n",
            "\u001b[0;31mNameError\u001b[0m: name 'x' is not defined"
          ]
        }
      ]
    },
    {
      "cell_type": "code",
      "source": [
        "a = 10\n",
        "def f1():\n",
        "  a =770 # inside the function\n",
        "  print('f1',a) # local variable output\n",
        "def f2():\n",
        "  print('f2',a) # global variable output\n",
        "\n",
        "f1()\n",
        "f2()"
      ],
      "metadata": {
        "colab": {
          "base_uri": "https://localhost:8080/"
        },
        "id": "ZVk_2JOqtQWB",
        "outputId": "972eedd6-a496-4066-f8d3-0d6f7e8afaad"
      },
      "execution_count": null,
      "outputs": [
        {
          "output_type": "stream",
          "name": "stdout",
          "text": [
            "f1 770\n",
            "f2 10\n"
          ]
        }
      ]
    },
    {
      "cell_type": "code",
      "source": [
        "a = 10\n",
        "def f1():\n",
        "  global a # this function a=770 act as a global variable\n",
        "  a =770 # inside the function\n",
        "  print('f1',a)\n",
        "def f2():\n",
        "  print('f2',a)\n",
        "\n",
        "f1()\n",
        "f2()\n",
        "\n",
        "# to make global varibale available for all the required functions"
      ],
      "metadata": {
        "colab": {
          "base_uri": "https://localhost:8080/"
        },
        "id": "Cd8y7tZytosX",
        "outputId": "d222de77-8894-4088-af7d-60882bcacb51"
      },
      "execution_count": null,
      "outputs": [
        {
          "output_type": "stream",
          "name": "stdout",
          "text": [
            "f1 770\n",
            "f2 770\n"
          ]
        }
      ]
    },
    {
      "cell_type": "code",
      "source": [
        "\n",
        "def f1():\n",
        "  global y\n",
        "  y =888 # act as global variable\n",
        "  print('f1',y)\n",
        "def f2():\n",
        "  print('f2',y)\n",
        "\n",
        "f1()\n",
        "f2()"
      ],
      "metadata": {
        "colab": {
          "base_uri": "https://localhost:8080/"
        },
        "id": "JJR1heq3uVhZ",
        "outputId": "c69c0643-f193-4edc-af61-e216669c0aab"
      },
      "execution_count": null,
      "outputs": [
        {
          "output_type": "stream",
          "name": "stdout",
          "text": [
            "f1 888\n",
            "f2 888\n"
          ]
        }
      ]
    },
    {
      "cell_type": "code",
      "source": [
        "def f1():\n",
        "  global y\n",
        "  y =888 # act as global variable\n",
        "  print('f1',y)\n",
        "def f2():\n",
        "  global y\n",
        "  y = 999\n",
        "  print('f2',y)\n",
        "\n",
        "f1()\n",
        "f2()"
      ],
      "metadata": {
        "colab": {
          "base_uri": "https://localhost:8080/"
        },
        "id": "-0oLvF-hu87U",
        "outputId": "34f29f03-e8ce-499c-f9c7-3bfd93dba4cc"
      },
      "execution_count": null,
      "outputs": [
        {
          "output_type": "stream",
          "name": "stdout",
          "text": [
            "f1 888\n",
            "f2 999\n"
          ]
        }
      ]
    },
    {
      "cell_type": "code",
      "source": [
        "def f1():\n",
        "  global y\n",
        "  y =888 # act as global variable\n",
        "  print('f1',y)\n",
        "def f2():\n",
        "  global y\n",
        "  y = 999\n",
        "  print('f2',y)\n",
        "def f3():\n",
        "  print('f3',y)\n",
        "f1()\n",
        "f2()\n",
        "f3()"
      ],
      "metadata": {
        "colab": {
          "base_uri": "https://localhost:8080/"
        },
        "id": "_d_UYKTkxMRU",
        "outputId": "0d803ff9-577f-415f-85b0-e3a32dae989e"
      },
      "execution_count": null,
      "outputs": [
        {
          "output_type": "stream",
          "name": "stdout",
          "text": [
            "f1 888\n",
            "f2 999\n",
            "f3 999\n"
          ]
        }
      ]
    },
    {
      "cell_type": "code",
      "source": [
        "def f1():\n",
        "  global y\n",
        "  y =888 # act as global variable\n",
        "  print('f1',y)\n",
        "def f2():\n",
        "  global y\n",
        "  y = 999\n",
        "  print('f2',y)\n",
        "def f3():\n",
        "  y = 1000\n",
        "  print('f3',y)\n",
        "f1()\n",
        "f2()\n",
        "f3()\n",
        "# local variable get preferred inside a function as compared to global variable"
      ],
      "metadata": {
        "colab": {
          "base_uri": "https://localhost:8080/"
        },
        "id": "QVGjckzexhd6",
        "outputId": "b288402a-53c7-4f93-ba83-cfa91a7cd55e"
      },
      "execution_count": null,
      "outputs": [
        {
          "output_type": "stream",
          "name": "stdout",
          "text": [
            "f1 888\n",
            "f2 999\n",
            "f3 1000\n"
          ]
        }
      ]
    },
    {
      "cell_type": "code",
      "source": [
        "a = 10\n",
        "def f1():\n",
        "  a = 20\n",
        "  print(a)\n",
        "  print(globals()['a']) # reutrn global value of a\n",
        "f1()"
      ],
      "metadata": {
        "colab": {
          "base_uri": "https://localhost:8080/"
        },
        "id": "0oNsO77gxoQ8",
        "outputId": "d8041e58-3508-47e6-cdf7-257c895437c9"
      },
      "execution_count": null,
      "outputs": [
        {
          "output_type": "stream",
          "name": "stdout",
          "text": [
            "20\n",
            "10\n"
          ]
        }
      ]
    },
    {
      "cell_type": "code",
      "source": [],
      "metadata": {
        "id": "NPDofT_zyGVW"
      },
      "execution_count": null,
      "outputs": []
    },
    {
      "cell_type": "markdown",
      "source": [
        "RECURSIVE FUNCTIONS"
      ],
      "metadata": {
        "id": "TQKHPhhEAveO"
      }
    },
    {
      "cell_type": "code",
      "source": [
        "# A function that calls itself is called recursive function\n",
        "# reduce the length of code and improve readability\n",
        "# complex problem solve easyly like tower of hanoi"
      ],
      "metadata": {
        "id": "SBjAoMG2zFkz"
      },
      "execution_count": 1,
      "outputs": []
    },
    {
      "cell_type": "code",
      "source": [
        "# find the factorial function using recursive function\n",
        "def factorial(n):\n",
        "  if n == 0:\n",
        "    result = 1\n",
        "  else:\n",
        "    result = n*factorial(n-1) # calling same function again again untill condition satisfied\n",
        "  return result\n",
        "print(factorial(0))"
      ],
      "metadata": {
        "colab": {
          "base_uri": "https://localhost:8080/"
        },
        "id": "BTMSgpqYCo83",
        "outputId": "ba29e37b-acc0-4322-80fc-0c7b4bb2a2e6"
      },
      "execution_count": 2,
      "outputs": [
        {
          "output_type": "stream",
          "name": "stdout",
          "text": [
            "1\n"
          ]
        }
      ]
    },
    {
      "cell_type": "code",
      "source": [
        "factorial(5)"
      ],
      "metadata": {
        "colab": {
          "base_uri": "https://localhost:8080/"
        },
        "id": "EndKQH_zC_1U",
        "outputId": "1e2c571e-e612-4bec-ae22-9eee3763d129"
      },
      "execution_count": 3,
      "outputs": [
        {
          "output_type": "execute_result",
          "data": {
            "text/plain": [
              "120"
            ]
          },
          "metadata": {},
          "execution_count": 3
        }
      ]
    },
    {
      "cell_type": "code",
      "source": [
        "factorial(3)"
      ],
      "metadata": {
        "colab": {
          "base_uri": "https://localhost:8080/"
        },
        "id": "ghc2y-33DFBB",
        "outputId": "898a4a4d-bba8-477b-e904-bf5819a6fdd7"
      },
      "execution_count": 4,
      "outputs": [
        {
          "output_type": "execute_result",
          "data": {
            "text/plain": [
              "6"
            ]
          },
          "metadata": {},
          "execution_count": 4
        }
      ]
    },
    {
      "cell_type": "code",
      "source": [
        "# anonymous functions: function without name is called anonymous functions(nameless functions)\n",
        "# instant use (only one time usage)\n",
        "s = lambda n:n*n # square formula\n",
        "print(s(4))\n",
        "\n",
        "# syntax\n",
        "# lambda input : formula_expression"
      ],
      "metadata": {
        "colab": {
          "base_uri": "https://localhost:8080/"
        },
        "id": "zQVbsPEXDJdp",
        "outputId": "d4c0b677-d8c1-40c2-9524-1bd5f936b86c"
      },
      "execution_count": 5,
      "outputs": [
        {
          "output_type": "stream",
          "name": "stdout",
          "text": [
            "16\n"
          ]
        }
      ]
    },
    {
      "cell_type": "code",
      "source": [
        "s = lambda a,b:a+b\n",
        "print('The sum of {} and {} is: {}'.format(2,4,s(2,4)))\n",
        "print('The sum of {} and {} is: {}'.format(20,40,s(20,40)))\n",
        "print('The sum of {} and {} is: {}'.format(200,400,s(200,400)))"
      ],
      "metadata": {
        "colab": {
          "base_uri": "https://localhost:8080/"
        },
        "id": "S_AAoINeF3yY",
        "outputId": "58d82fca-0342-4384-e608-a048dbe48683"
      },
      "execution_count": 8,
      "outputs": [
        {
          "output_type": "stream",
          "name": "stdout",
          "text": [
            "The sum of 2 and 4 is: 6\n",
            "The sum of 20 and 40 is: 60\n",
            "The sum of 200 and 400 is: 600\n"
          ]
        }
      ]
    },
    {
      "cell_type": "code",
      "source": [
        "s = lambda a,b: a if a>b else b\n",
        "print('The biggest of {} and {} is: {}'.format(10,20,s(10,20)))\n",
        "print('The biggest of {} and {} is: {}'.format(10,222,s(10,222)))\n",
        "print('The biggest of {} and {} is: {}'.format(10,-1,s(10,-1)))"
      ],
      "metadata": {
        "colab": {
          "base_uri": "https://localhost:8080/"
        },
        "id": "kHyT0Dc9G3cz",
        "outputId": "371f9564-69e9-49ca-9a39-29ed97bb2bb8"
      },
      "execution_count": 9,
      "outputs": [
        {
          "output_type": "stream",
          "name": "stdout",
          "text": [
            "The biggest of 10 and 20 is: 20\n",
            "The biggest of 10 and 222 is: 222\n",
            "The biggest of 10 and -1 is: 10\n"
          ]
        }
      ]
    },
    {
      "cell_type": "code",
      "source": [
        "# you can pass a function into an another functions as an argument\n",
        "#filter()\n",
        "# map()\n",
        "# reduce()"
      ],
      "metadata": {
        "id": "Z0oJH_QwJrXn"
      },
      "execution_count": 10,
      "outputs": []
    },
    {
      "cell_type": "code",
      "source": [
        "# fiter syntax\n",
        "# filter(function,sequence)\n",
        "# sequence can be a list, tuple, set"
      ],
      "metadata": {
        "id": "WgVebn3EPJd-"
      },
      "execution_count": 11,
      "outputs": []
    },
    {
      "cell_type": "code",
      "source": [
        "def iseven(x):\n",
        "  if x % 2 == 0:\n",
        "    return True\n",
        "  else:\n",
        "    return False\n",
        "l = [0,3,5,6,23,56,11,56]\n",
        "\n",
        "l1 = list(filter(iseven,l))\n",
        "print(l1)"
      ],
      "metadata": {
        "colab": {
          "base_uri": "https://localhost:8080/"
        },
        "id": "TK9UMD3kRNtP",
        "outputId": "15625018-9754-4d99-bbf3-8394a751ad85"
      },
      "execution_count": 14,
      "outputs": [
        {
          "output_type": "stream",
          "name": "stdout",
          "text": [
            "[0, 6, 56, 56]\n"
          ]
        }
      ]
    },
    {
      "cell_type": "code",
      "source": [
        "l1 = [25,50,49,10,5,6,23,56,11,56]\n",
        "l2 = list(filter(lambda x:x%2==0,l1))\n",
        "print(l2)"
      ],
      "metadata": {
        "colab": {
          "base_uri": "https://localhost:8080/"
        },
        "id": "xYEVSeK6Rk1n",
        "outputId": "ff8893a9-7e30-4bdf-8475-5e2a51e71b47"
      },
      "execution_count": 17,
      "outputs": [
        {
          "output_type": "stream",
          "name": "stdout",
          "text": [
            "[50, 10, 6, 56, 56]\n"
          ]
        }
      ]
    },
    {
      "cell_type": "code",
      "source": [
        "l1 = [25,50,49,10,5,6,23,56,11,56]\n",
        "l2 = list(filter(lambda x:x%2!=0,l1))\n",
        "print(l2)"
      ],
      "metadata": {
        "colab": {
          "base_uri": "https://localhost:8080/"
        },
        "id": "wq9y_OXWSHpc",
        "outputId": "4e9f17a9-3209-43a8-d697-3ca291322d53"
      },
      "execution_count": 18,
      "outputs": [
        {
          "output_type": "stream",
          "name": "stdout",
          "text": [
            "[25, 49, 5, 23, 11]\n"
          ]
        }
      ]
    },
    {
      "cell_type": "code",
      "source": [
        "# map: to produce equalant value\n",
        "# syntax\n",
        "# map(function,sequence)"
      ],
      "metadata": {
        "id": "mjifnWOlSaUA"
      },
      "execution_count": 19,
      "outputs": []
    },
    {
      "cell_type": "code",
      "source": [
        "def double(x):\n",
        "  return 2*x\n",
        "l1= [1,2,3,4,5]\n",
        "l2 = list(map(double,l1))\n",
        "print(l2)"
      ],
      "metadata": {
        "colab": {
          "base_uri": "https://localhost:8080/"
        },
        "id": "lAsZCDA5T5LZ",
        "outputId": "efa4cf69-4118-49d1-f088-7a95d87be36a"
      },
      "execution_count": 21,
      "outputs": [
        {
          "output_type": "stream",
          "name": "stdout",
          "text": [
            "[2, 4, 6, 8, 10]\n"
          ]
        }
      ]
    },
    {
      "cell_type": "code",
      "source": [
        "l1= [1,2,3,4,5]\n",
        "l2 = list(map(lambda x: 2*x,l1))\n",
        "print(l2)"
      ],
      "metadata": {
        "colab": {
          "base_uri": "https://localhost:8080/"
        },
        "id": "1t6Z3PbxVYep",
        "outputId": "d4d9cfbf-ff9e-40b5-aca5-988a8bf4f248"
      },
      "execution_count": 22,
      "outputs": [
        {
          "output_type": "stream",
          "name": "stdout",
          "text": [
            "[2, 4, 6, 8, 10]\n"
          ]
        }
      ]
    },
    {
      "cell_type": "code",
      "source": [
        "l1= [1,2,3,4,5]\n",
        "l2 = list(map(lambda x: x*x,l1))\n",
        "print(l2)"
      ],
      "metadata": {
        "colab": {
          "base_uri": "https://localhost:8080/"
        },
        "id": "n3quXhkuVrgy",
        "outputId": "e9bd4464-7766-465c-d936-5116e5ffe49f"
      },
      "execution_count": 23,
      "outputs": [
        {
          "output_type": "stream",
          "name": "stdout",
          "text": [
            "[1, 4, 9, 16, 25]\n"
          ]
        }
      ]
    },
    {
      "cell_type": "code",
      "source": [
        "l1 = [1,2,3,4]\n",
        "l2 = [10,20,30,40]\n",
        "l3 = map(lambda x,y: x*y, l1,l2)\n",
        "print(l3)"
      ],
      "metadata": {
        "colab": {
          "base_uri": "https://localhost:8080/"
        },
        "id": "tPYPf-0TVuGY",
        "outputId": "2ea086e1-8573-42de-97b7-ee613d8accae"
      },
      "execution_count": 26,
      "outputs": [
        {
          "output_type": "stream",
          "name": "stdout",
          "text": [
            "<map object at 0x78018ca7ad70>\n"
          ]
        }
      ]
    },
    {
      "cell_type": "code",
      "source": [
        "l1 = [1,2,3,4]\n",
        "l2 = [10,20,30,40]\n",
        "l3 = list(map(lambda x,y: x*y, l1,l2))\n",
        "print(l3)"
      ],
      "metadata": {
        "colab": {
          "base_uri": "https://localhost:8080/"
        },
        "id": "v62ZR6_YWIJk",
        "outputId": "efc46b29-3fb2-436e-e9b7-b4188539b44b"
      },
      "execution_count": 27,
      "outputs": [
        {
          "output_type": "stream",
          "name": "stdout",
          "text": [
            "[10, 40, 90, 160]\n"
          ]
        }
      ]
    },
    {
      "cell_type": "code",
      "source": [
        "l1 = [1,2,3,4]\n",
        "l2 = [10,20]\n",
        "l3 = list(map(lambda x,y: x*y, l1,l2))\n",
        "print(l3)"
      ],
      "metadata": {
        "colab": {
          "base_uri": "https://localhost:8080/"
        },
        "id": "8GtoF5LSWTWO",
        "outputId": "c2ba13b5-1274-49ad-b989-6dd51308d82a"
      },
      "execution_count": 28,
      "outputs": [
        {
          "output_type": "stream",
          "name": "stdout",
          "text": [
            "[10, 40]\n"
          ]
        }
      ]
    },
    {
      "cell_type": "code",
      "source": [],
      "metadata": {
        "id": "pre2wtxvWYSC"
      },
      "execution_count": null,
      "outputs": []
    }
  ]
}