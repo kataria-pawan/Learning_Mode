{
  "nbformat": 4,
  "nbformat_minor": 0,
  "metadata": {
    "colab": {
      "provenance": [],
      "authorship_tag": "ABX9TyO52IfRvlehWpqb721LfWU7",
      "include_colab_link": true
    },
    "kernelspec": {
      "name": "python3",
      "display_name": "Python 3"
    },
    "language_info": {
      "name": "python"
    }
  },
  "cells": [
    {
      "cell_type": "markdown",
      "metadata": {
        "id": "view-in-github",
        "colab_type": "text"
      },
      "source": [
        "<a href=\"https://colab.research.google.com/github/kataria-pawan/Learning_Mode/blob/main/Python/Pattern_Making.ipynb\" target=\"_parent\"><img src=\"https://colab.research.google.com/assets/colab-badge.svg\" alt=\"Open In Colab\"/></a>"
      ]
    },
    {
      "cell_type": "code",
      "execution_count": null,
      "metadata": {
        "colab": {
          "base_uri": "https://localhost:8080/"
        },
        "id": "28ds3wGIbJF_",
        "outputId": "d253cefc-4343-4892-bdc5-890c6b8037a4"
      },
      "outputs": [
        {
          "output_type": "stream",
          "name": "stdout",
          "text": [
            "Enter the digit to enter: 6\n",
            "******\n",
            "******\n",
            "******\n",
            "******\n",
            "******\n",
            "******\n"
          ]
        }
      ],
      "source": [
        "n = int(input(\"Enter the digit to enter: \"))\n",
        "for i in range(1,n+1):\n",
        "  print('*'*n)"
      ]
    },
    {
      "cell_type": "code",
      "source": [
        "n = int(input('Enter the digit : '))\n",
        "for i in range(1,n+1):\n",
        "  for j in range(1,n+1):\n",
        "    print(i, end ='')\n",
        "  print()"
      ],
      "metadata": {
        "colab": {
          "base_uri": "https://localhost:8080/"
        },
        "id": "x8dY9mUocDwp",
        "outputId": "390a257e-2076-48b9-e4be-b2217fa0cdfd"
      },
      "execution_count": null,
      "outputs": [
        {
          "output_type": "stream",
          "name": "stdout",
          "text": [
            "Enter the digit : 3\n",
            "111\n",
            "222\n",
            "333\n"
          ]
        }
      ]
    },
    {
      "cell_type": "code",
      "source": [
        "n = int(input('enter the digit: '))\n",
        "for i in range(1,n+1):\n",
        "  for j in range(1,n+1):\n",
        "    print(j, end='')\n",
        "  print()"
      ],
      "metadata": {
        "colab": {
          "base_uri": "https://localhost:8080/"
        },
        "id": "R7JWXjORc0-F",
        "outputId": "85f1e83a-1287-441a-e552-a13085b6d4a9"
      },
      "execution_count": null,
      "outputs": [
        {
          "output_type": "stream",
          "name": "stdout",
          "text": [
            "enter the digit: 10\n",
            "12345678910\n",
            "12345678910\n",
            "12345678910\n",
            "12345678910\n",
            "12345678910\n",
            "12345678910\n",
            "12345678910\n",
            "12345678910\n",
            "12345678910\n",
            "12345678910\n"
          ]
        }
      ]
    },
    {
      "cell_type": "code",
      "source": [
        "n = int(input('Enter the digit: '))\n",
        "for i in range(1,n+1):\n",
        "  for j in range(1,n+1):\n",
        "    print(chr(64+i), end='') # alphabet starts from 65\n",
        "  print()\n"
      ],
      "metadata": {
        "colab": {
          "base_uri": "https://localhost:8080/"
        },
        "id": "96tuAHdRgIAw",
        "outputId": "0a5f4287-ee68-4bc4-c51c-eb2bdb6f5224"
      },
      "execution_count": null,
      "outputs": [
        {
          "output_type": "stream",
          "name": "stdout",
          "text": [
            "Enter the digit: 7\n",
            "AAAAAAA\n",
            "BBBBBBB\n",
            "CCCCCCC\n",
            "DDDDDDD\n",
            "EEEEEEE\n",
            "FFFFFFF\n",
            "GGGGGGG\n"
          ]
        }
      ]
    },
    {
      "cell_type": "code",
      "source": [
        "n = int(input('Enter the digit: '))\n",
        "for i in range(1,n+1):\n",
        "  for j in range(1,n+1):\n",
        "    print(chr(64+j),end=' ')\n",
        "  print()"
      ],
      "metadata": {
        "colab": {
          "base_uri": "https://localhost:8080/"
        },
        "id": "K-cJf2H6hUtk",
        "outputId": "c34fd173-8c97-4bcc-f1b2-93e10cbdd9d1"
      },
      "execution_count": null,
      "outputs": [
        {
          "output_type": "stream",
          "name": "stdout",
          "text": [
            "Enter the digit: 9\n",
            "A B C D E F G H I \n",
            "A B C D E F G H I \n",
            "A B C D E F G H I \n",
            "A B C D E F G H I \n",
            "A B C D E F G H I \n",
            "A B C D E F G H I \n",
            "A B C D E F G H I \n",
            "A B C D E F G H I \n",
            "A B C D E F G H I \n"
          ]
        }
      ]
    },
    {
      "cell_type": "code",
      "source": [
        "n = int(input('enter the digit: '))\n",
        "for i in range(n,0,-1):\n",
        "  for j in range(n,0,-1):\n",
        "    print(i, end=' ')\n",
        "  print()"
      ],
      "metadata": {
        "colab": {
          "base_uri": "https://localhost:8080/"
        },
        "id": "tQy6Jtjthy2R",
        "outputId": "f1441a61-cf21-4153-f6c3-d157451aa2a1"
      },
      "execution_count": null,
      "outputs": [
        {
          "output_type": "stream",
          "name": "stdout",
          "text": [
            "enter the digit: 10\n",
            "10 10 10 10 10 10 10 10 10 10 \n",
            "9 9 9 9 9 9 9 9 9 9 \n",
            "8 8 8 8 8 8 8 8 8 8 \n",
            "7 7 7 7 7 7 7 7 7 7 \n",
            "6 6 6 6 6 6 6 6 6 6 \n",
            "5 5 5 5 5 5 5 5 5 5 \n",
            "4 4 4 4 4 4 4 4 4 4 \n",
            "3 3 3 3 3 3 3 3 3 3 \n",
            "2 2 2 2 2 2 2 2 2 2 \n",
            "1 1 1 1 1 1 1 1 1 1 \n"
          ]
        }
      ]
    },
    {
      "cell_type": "code",
      "source": [
        "n = int(input('enter the digit: '))\n",
        "for i in range(1,n+1):\n",
        "  for j in range(1,n+1):\n",
        "    print(n+1-i, end=' ')\n",
        "  print()"
      ],
      "metadata": {
        "colab": {
          "base_uri": "https://localhost:8080/"
        },
        "id": "nVsQWxTbiWe2",
        "outputId": "f4ca6fd7-43f5-4963-ae1d-d58823a10ef8"
      },
      "execution_count": null,
      "outputs": [
        {
          "output_type": "stream",
          "name": "stdout",
          "text": [
            "enter the digit: 5\n",
            "5 5 5 5 5 \n",
            "4 4 4 4 4 \n",
            "3 3 3 3 3 \n",
            "2 2 2 2 2 \n",
            "1 1 1 1 1 \n"
          ]
        }
      ]
    },
    {
      "cell_type": "code",
      "source": [
        "n = int(input('enter the digit: '))\n",
        "for i in range(1,n+1):\n",
        "  for j in range(1,n+1):\n",
        "    print(n+1-j, end=' ')\n",
        "  print()"
      ],
      "metadata": {
        "colab": {
          "base_uri": "https://localhost:8080/"
        },
        "id": "LKTJcilsjaGy",
        "outputId": "f3774e14-342b-42f6-8f06-6f6b3dab6408"
      },
      "execution_count": null,
      "outputs": [
        {
          "output_type": "stream",
          "name": "stdout",
          "text": [
            "enter the digit: 7\n",
            "7 6 5 4 3 2 1 \n",
            "7 6 5 4 3 2 1 \n",
            "7 6 5 4 3 2 1 \n",
            "7 6 5 4 3 2 1 \n",
            "7 6 5 4 3 2 1 \n",
            "7 6 5 4 3 2 1 \n",
            "7 6 5 4 3 2 1 \n"
          ]
        }
      ]
    },
    {
      "cell_type": "code",
      "source": [
        "n = int(input('enter the digit: '))\n",
        "for i in range(n,0,-1):\n",
        "  for j in range(n,0,-1):\n",
        "    print(j, end=' ')\n",
        "  print()"
      ],
      "metadata": {
        "colab": {
          "base_uri": "https://localhost:8080/"
        },
        "id": "6D5vfVisjsBK",
        "outputId": "21ebf850-b88d-4bba-a847-ee5e2d2ab1d7"
      },
      "execution_count": null,
      "outputs": [
        {
          "output_type": "stream",
          "name": "stdout",
          "text": [
            "enter the digit: 10\n",
            "10 9 8 7 6 5 4 3 2 1 \n",
            "10 9 8 7 6 5 4 3 2 1 \n",
            "10 9 8 7 6 5 4 3 2 1 \n",
            "10 9 8 7 6 5 4 3 2 1 \n",
            "10 9 8 7 6 5 4 3 2 1 \n",
            "10 9 8 7 6 5 4 3 2 1 \n",
            "10 9 8 7 6 5 4 3 2 1 \n",
            "10 9 8 7 6 5 4 3 2 1 \n",
            "10 9 8 7 6 5 4 3 2 1 \n",
            "10 9 8 7 6 5 4 3 2 1 \n"
          ]
        }
      ]
    },
    {
      "cell_type": "code",
      "source": [
        "n = int(input('enter the digit: '))\n",
        "for i in range(1,n+1):\n",
        "  for j in range(1,n+1):\n",
        "    print(chr(65+n-i), end=' ')\n",
        "  print()"
      ],
      "metadata": {
        "colab": {
          "base_uri": "https://localhost:8080/"
        },
        "id": "0GJ21hp-j-eR",
        "outputId": "cf5e8123-a5f0-455b-e83e-0fd04f57bd22"
      },
      "execution_count": null,
      "outputs": [
        {
          "output_type": "stream",
          "name": "stdout",
          "text": [
            "enter the digit: 9\n",
            "I I I I I I I I I \n",
            "H H H H H H H H H \n",
            "G G G G G G G G G \n",
            "F F F F F F F F F \n",
            "E E E E E E E E E \n",
            "D D D D D D D D D \n",
            "C C C C C C C C C \n",
            "B B B B B B B B B \n",
            "A A A A A A A A A \n"
          ]
        }
      ]
    },
    {
      "cell_type": "code",
      "source": [
        "n = int(input('enter the digit: '))\n",
        "for i in range(1,n+1):\n",
        "  for j in range(1,n+1):\n",
        "    print(chr(65+n-j), end=' ')\n",
        "  print()"
      ],
      "metadata": {
        "colab": {
          "base_uri": "https://localhost:8080/"
        },
        "id": "i6kbv6SclDUz",
        "outputId": "40236f9c-a4e4-410b-971f-77f59931bbbc"
      },
      "execution_count": null,
      "outputs": [
        {
          "output_type": "stream",
          "name": "stdout",
          "text": [
            "enter the digit: 10\n",
            "J I H G F E D C B A \n",
            "J I H G F E D C B A \n",
            "J I H G F E D C B A \n",
            "J I H G F E D C B A \n",
            "J I H G F E D C B A \n",
            "J I H G F E D C B A \n",
            "J I H G F E D C B A \n",
            "J I H G F E D C B A \n",
            "J I H G F E D C B A \n",
            "J I H G F E D C B A \n"
          ]
        }
      ]
    },
    {
      "cell_type": "code",
      "source": [
        "n = int(input('enter the digit: '))\n",
        "for i in range(1,n+1):\n",
        "  print('*'*i)"
      ],
      "metadata": {
        "colab": {
          "base_uri": "https://localhost:8080/"
        },
        "id": "aDiEkrEwlmLF",
        "outputId": "ad76f2fc-cc2c-43e4-ee00-b6c6e1505931"
      },
      "execution_count": null,
      "outputs": [
        {
          "output_type": "stream",
          "name": "stdout",
          "text": [
            "enter the digit: 9\n",
            "*\n",
            "**\n",
            "***\n",
            "****\n",
            "*****\n",
            "******\n",
            "*******\n",
            "********\n",
            "*********\n"
          ]
        }
      ]
    },
    {
      "cell_type": "code",
      "source": [
        "n = int(input('enter the digit: '))\n",
        "for i in range(1,n+1):\n",
        "  for j in range(1,i+1):\n",
        "    print('*',end=' ')\n",
        "  print()"
      ],
      "metadata": {
        "colab": {
          "base_uri": "https://localhost:8080/"
        },
        "id": "EPmRMk7el9np",
        "outputId": "ef0e2067-8ffd-4c4f-fbc7-3ccdc3a920e5"
      },
      "execution_count": null,
      "outputs": [
        {
          "output_type": "stream",
          "name": "stdout",
          "text": [
            "enter the digit: 10\n",
            "* \n",
            "* * \n",
            "* * * \n",
            "* * * * \n",
            "* * * * * \n",
            "* * * * * * \n",
            "* * * * * * * \n",
            "* * * * * * * * \n",
            "* * * * * * * * * \n",
            "* * * * * * * * * * \n"
          ]
        }
      ]
    },
    {
      "cell_type": "code",
      "source": [
        "n = int(input('enter the difit:'))\n",
        "for i in range(1,n+1):\n",
        "  for j in range(1,i+1):\n",
        "    print(i, end =' ')\n",
        "  print()"
      ],
      "metadata": {
        "colab": {
          "base_uri": "https://localhost:8080/"
        },
        "id": "bZ1pItFcoJrC",
        "outputId": "fb1ab2d0-0b46-420c-c30c-04ad82a33a1d"
      },
      "execution_count": null,
      "outputs": [
        {
          "output_type": "stream",
          "name": "stdout",
          "text": [
            "enter the difit:10\n",
            "1 \n",
            "2 2 \n",
            "3 3 3 \n",
            "4 4 4 4 \n",
            "5 5 5 5 5 \n",
            "6 6 6 6 6 6 \n",
            "7 7 7 7 7 7 7 \n",
            "8 8 8 8 8 8 8 8 \n",
            "9 9 9 9 9 9 9 9 9 \n",
            "10 10 10 10 10 10 10 10 10 10 \n"
          ]
        }
      ]
    },
    {
      "cell_type": "code",
      "source": [
        "n = int(input('enter the difit:'))\n",
        "for i in range(1,n+1):\n",
        "  for j in range(1,i+1):\n",
        "    print(j,end=' ')\n",
        "  print()"
      ],
      "metadata": {
        "colab": {
          "base_uri": "https://localhost:8080/"
        },
        "id": "SWVAcihaovZ6",
        "outputId": "78801ed8-0ea8-4c1a-c241-469cbecefd3e"
      },
      "execution_count": null,
      "outputs": [
        {
          "output_type": "stream",
          "name": "stdout",
          "text": [
            "enter the difit:9\n",
            "1 \n",
            "1 2 \n",
            "1 2 3 \n",
            "1 2 3 4 \n",
            "1 2 3 4 5 \n",
            "1 2 3 4 5 6 \n",
            "1 2 3 4 5 6 7 \n",
            "1 2 3 4 5 6 7 8 \n",
            "1 2 3 4 5 6 7 8 9 \n"
          ]
        }
      ]
    },
    {
      "cell_type": "code",
      "source": [
        "n = int(input('enter the difit:'))\n",
        "for i in range(1,n+1):\n",
        "  for j in range(1,i+1):\n",
        "    print(chr(64+i),end=' ')\n",
        "  print()"
      ],
      "metadata": {
        "colab": {
          "base_uri": "https://localhost:8080/"
        },
        "id": "GNMhXjBJpA8X",
        "outputId": "2c28f82c-e995-4573-fe0a-e94d167dc35c"
      },
      "execution_count": null,
      "outputs": [
        {
          "output_type": "stream",
          "name": "stdout",
          "text": [
            "enter the difit:8\n",
            "A \n",
            "B B \n",
            "C C C \n",
            "D D D D \n",
            "E E E E E \n",
            "F F F F F F \n",
            "G G G G G G G \n",
            "H H H H H H H H \n"
          ]
        }
      ]
    },
    {
      "cell_type": "code",
      "source": [
        "n = int(input('enter the difit:'))\n",
        "for i in range(1,n+1):\n",
        "  for j in range(1,i+1):\n",
        "    print(chr(64+j),end=' ')\n",
        "  print()"
      ],
      "metadata": {
        "colab": {
          "base_uri": "https://localhost:8080/"
        },
        "id": "nEliFT8zqy58",
        "outputId": "31065e47-d72c-4565-f466-af65ca0b5edd"
      },
      "execution_count": null,
      "outputs": [
        {
          "output_type": "stream",
          "name": "stdout",
          "text": [
            "enter the difit:10\n",
            "A \n",
            "A B \n",
            "A B C \n",
            "A B C D \n",
            "A B C D E \n",
            "A B C D E F \n",
            "A B C D E F G \n",
            "A B C D E F G H \n",
            "A B C D E F G H I \n",
            "A B C D E F G H I J \n"
          ]
        }
      ]
    },
    {
      "cell_type": "code",
      "source": [
        "n = int(input('enter the digit: '))\n",
        "for i in range(1,n+1):\n",
        "  for j in range(1,n+2-i):\n",
        "    print('*',end=' ')\n",
        "  print()"
      ],
      "metadata": {
        "colab": {
          "base_uri": "https://localhost:8080/"
        },
        "id": "p_UhYgPSrIAK",
        "outputId": "62f6584e-420a-4fcc-9dd6-6e979bac63a5"
      },
      "execution_count": null,
      "outputs": [
        {
          "output_type": "stream",
          "name": "stdout",
          "text": [
            "enter the digit: 7\n",
            "* * * * * * * \n",
            "* * * * * * \n",
            "* * * * * \n",
            "* * * * \n",
            "* * * \n",
            "* * \n",
            "* \n"
          ]
        }
      ]
    },
    {
      "cell_type": "code",
      "source": [
        "n = int(input('enter the digit: '))\n",
        "for i in range(1,n+1):\n",
        "  for j in range(1,n+2-i):\n",
        "    print(i, end=' ')\n",
        "  print()"
      ],
      "metadata": {
        "colab": {
          "base_uri": "https://localhost:8080/"
        },
        "id": "Ayrg--Hmr3XH",
        "outputId": "42c44aba-3f3b-4878-cda4-2bf372835378"
      },
      "execution_count": null,
      "outputs": [
        {
          "output_type": "stream",
          "name": "stdout",
          "text": [
            "enter the digit: 8\n",
            "1 1 1 1 1 1 1 1 \n",
            "2 2 2 2 2 2 2 \n",
            "3 3 3 3 3 3 \n",
            "4 4 4 4 4 \n",
            "5 5 5 5 \n",
            "6 6 6 \n",
            "7 7 \n",
            "8 \n"
          ]
        }
      ]
    },
    {
      "cell_type": "code",
      "source": [
        "n = int(input('enter the digit: '))\n",
        "for i in range(1,n+1):\n",
        "  for j in range(1,n+2-i):\n",
        "    print(j,end=' ')\n",
        "  print()"
      ],
      "metadata": {
        "colab": {
          "base_uri": "https://localhost:8080/"
        },
        "id": "K3r8ms7VtM9W",
        "outputId": "cb88ae77-82e4-4777-c406-7b2a58dda621"
      },
      "execution_count": null,
      "outputs": [
        {
          "output_type": "stream",
          "name": "stdout",
          "text": [
            "enter the digit: 10\n",
            "1 2 3 4 5 6 7 8 9 10 \n",
            "1 2 3 4 5 6 7 8 9 \n",
            "1 2 3 4 5 6 7 8 \n",
            "1 2 3 4 5 6 7 \n",
            "1 2 3 4 5 6 \n",
            "1 2 3 4 5 \n",
            "1 2 3 4 \n",
            "1 2 3 \n",
            "1 2 \n",
            "1 \n"
          ]
        }
      ]
    },
    {
      "cell_type": "code",
      "source": [
        "n = int(input('enter the digit: '))\n",
        "for i in range(1,n+1):\n",
        "  for j in range(1,n+2-i):\n",
        "    print(chr(64+i),end=' ')\n",
        "  print()"
      ],
      "metadata": {
        "colab": {
          "base_uri": "https://localhost:8080/"
        },
        "id": "U_QBxGxAth1I",
        "outputId": "0c253698-3c91-460e-b4bc-f3c7f0b9f87c"
      },
      "execution_count": null,
      "outputs": [
        {
          "output_type": "stream",
          "name": "stdout",
          "text": [
            "enter the digit: 8\n",
            "A A A A A A A A \n",
            "B B B B B B B \n",
            "C C C C C C \n",
            "D D D D D \n",
            "E E E E \n",
            "F F F \n",
            "G G \n",
            "H \n"
          ]
        }
      ]
    },
    {
      "cell_type": "code",
      "source": [
        "n = int(input('enter the digit: '))\n",
        "for i in range(1,n+1):\n",
        "  for j in range(1,n+2-i):\n",
        "    print(chr(64+j),end=' ')\n",
        "  print()"
      ],
      "metadata": {
        "colab": {
          "base_uri": "https://localhost:8080/"
        },
        "id": "mYeFRV07t22d",
        "outputId": "a5bc94c6-fdba-41ef-95a6-e195154d80c4"
      },
      "execution_count": null,
      "outputs": [
        {
          "output_type": "stream",
          "name": "stdout",
          "text": [
            "enter the digit: 9\n",
            "A B C D E F G H I \n",
            "A B C D E F G H \n",
            "A B C D E F G \n",
            "A B C D E F \n",
            "A B C D E \n",
            "A B C D \n",
            "A B C \n",
            "A B \n",
            "A \n"
          ]
        }
      ]
    },
    {
      "cell_type": "code",
      "source": [],
      "metadata": {
        "id": "9mQLMUi1uSzk"
      },
      "execution_count": null,
      "outputs": []
    }
  ]
}