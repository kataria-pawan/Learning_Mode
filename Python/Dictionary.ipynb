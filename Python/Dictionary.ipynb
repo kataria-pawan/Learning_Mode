{
  "nbformat": 4,
  "nbformat_minor": 0,
  "metadata": {
    "colab": {
      "provenance": [],
      "authorship_tag": "ABX9TyM1YCA4mhGBslh75byrIqn4",
      "include_colab_link": true
    },
    "kernelspec": {
      "name": "python3",
      "display_name": "Python 3"
    },
    "language_info": {
      "name": "python"
    }
  },
  "cells": [
    {
      "cell_type": "markdown",
      "metadata": {
        "id": "view-in-github",
        "colab_type": "text"
      },
      "source": [
        "<a href=\"https://colab.research.google.com/github/kataria-pawan/Learning_Mode/blob/main/Python/Dictionary.ipynb\" target=\"_parent\"><img src=\"https://colab.research.google.com/assets/colab-badge.svg\" alt=\"Open In Colab\"/></a>"
      ]
    },
    {
      "cell_type": "code",
      "execution_count": null,
      "metadata": {
        "id": "IOeCzesvBKr9"
      },
      "outputs": [],
      "source": [
        "# dictionary\n",
        "# key-value pairs\n",
        "# eg: rollno-name, mobile no. - address\n",
        "# keys cannot be duplicate\n",
        "# values can be duplicate"
      ]
    },
    {
      "cell_type": "code",
      "source": [
        "# create a empty dictionary\n",
        "d = {}\n",
        "# or\n",
        "d1 = dict()\n",
        "# d[key] = [value]"
      ],
      "metadata": {
        "id": "biKyhFv_BpVu"
      },
      "execution_count": null,
      "outputs": []
    },
    {
      "cell_type": "code",
      "source": [
        "d= {}\n",
        "d[100] = 'awan'\n",
        "d[200] = 'kapil'\n",
        "d[300] = 'deepak'\n",
        "d['rich'] = 'man'\n",
        "print(d)"
      ],
      "metadata": {
        "colab": {
          "base_uri": "https://localhost:8080/"
        },
        "id": "HchSZtcGCFdW",
        "outputId": "2eb51090-06e7-4d21-9789-7010195c2d8e"
      },
      "execution_count": null,
      "outputs": [
        {
          "output_type": "stream",
          "name": "stdout",
          "text": [
            "{100: 'awan', 200: 'kapil', 300: 'deepak', 'rich': 'man'}\n"
          ]
        }
      ]
    },
    {
      "cell_type": "code",
      "source": [
        "d = {'a': 'apple', 'b':'banana', 'c':'cat'}\n",
        "print(d)"
      ],
      "metadata": {
        "colab": {
          "base_uri": "https://localhost:8080/"
        },
        "id": "mKSrrXicCXKt",
        "outputId": "dd65cecc-d37f-4104-f503-d788fa50dd16"
      },
      "execution_count": null,
      "outputs": [
        {
          "output_type": "stream",
          "name": "stdout",
          "text": [
            "{'a': 'apple', 'b': 'banana', 'c': 'cat'}\n"
          ]
        }
      ]
    },
    {
      "cell_type": "code",
      "source": [
        "# to access elements from the dictionary\n",
        "d['a']"
      ],
      "metadata": {
        "colab": {
          "base_uri": "https://localhost:8080/",
          "height": 36
        },
        "id": "0V6bL-RoCoHb",
        "outputId": "5d117f2d-c23a-4377-f924-ca53150467da"
      },
      "execution_count": null,
      "outputs": [
        {
          "output_type": "execute_result",
          "data": {
            "text/plain": [
              "'apple'"
            ],
            "application/vnd.google.colaboratory.intrinsic+json": {
              "type": "string"
            }
          },
          "metadata": {},
          "execution_count": 7
        }
      ]
    },
    {
      "cell_type": "code",
      "source": [
        "print(d['b'])"
      ],
      "metadata": {
        "colab": {
          "base_uri": "https://localhost:8080/"
        },
        "id": "BD9KJksfCtRG",
        "outputId": "b1267001-81a6-4fa8-b814-c9707425bde2"
      },
      "execution_count": null,
      "outputs": [
        {
          "output_type": "stream",
          "name": "stdout",
          "text": [
            "banana\n"
          ]
        }
      ]
    },
    {
      "cell_type": "code",
      "source": [
        "# write a program to enter name and % of marks in a dictionary and display info on the screen\n",
        "rec ={}\n",
        "n = int(input('Enter number of students: '))\n",
        "i = 1\n",
        "while i<=n:\n",
        "  name = input('Enter the student name: ')\n",
        "  marks = input('Enter % of marks: ')\n",
        "  rec[name] = marks\n",
        "  i += 1\n",
        "print(\"Student name :\",\"\\t\",\"% of marks: \")\n",
        "for x in rec:\n",
        "  print(\"\\t\",x,\"\\t\\t\",rec[x])"
      ],
      "metadata": {
        "colab": {
          "base_uri": "https://localhost:8080/"
        },
        "id": "C7mT1WpSCyNz",
        "outputId": "a86b8f49-6f2a-4bb1-d4cc-3669752249d2"
      },
      "execution_count": null,
      "outputs": [
        {
          "output_type": "stream",
          "name": "stdout",
          "text": [
            "Enter number of students: 3\n",
            "Enter the student name: awan\n",
            "Enter % of marks: 34\n",
            "Enter the student name: deepak\n",
            "Enter % of marks: 24\n",
            "Enter the student name: ivam\n",
            "Enter % of marks: 22\n",
            "Student name : \t % of marks: \n",
            "\t awan \t\t 34\n",
            "\t deepak \t\t 24\n",
            "\t ivam \t\t 22\n"
          ]
        }
      ]
    },
    {
      "cell_type": "code",
      "source": [
        "d ={101:'deepak',102:'ravi',103:'raaj'} #dictionary created\n",
        "print(d)"
      ],
      "metadata": {
        "id": "7AFH5sP0DTmo",
        "colab": {
          "base_uri": "https://localhost:8080/"
        },
        "outputId": "e25d51e6-43ac-42a5-b3ff-5511350c8aae"
      },
      "execution_count": null,
      "outputs": [
        {
          "output_type": "stream",
          "name": "stdout",
          "text": [
            "{101: 'deepak', 102: 'ravi', 103: 'raaj'}\n"
          ]
        }
      ]
    },
    {
      "cell_type": "code",
      "source": [
        "d[105]='raman' # new entry added\n",
        "print(d)"
      ],
      "metadata": {
        "colab": {
          "base_uri": "https://localhost:8080/"
        },
        "id": "or8u7YR7xZFv",
        "outputId": "78342b88-87ef-4290-daf7-a6e90cc297f6"
      },
      "execution_count": null,
      "outputs": [
        {
          "output_type": "stream",
          "name": "stdout",
          "text": [
            "{101: 'deepak', 102: 'ravi', 103: 'raaj', 105: 'raman'}\n"
          ]
        }
      ]
    },
    {
      "cell_type": "code",
      "source": [
        "d[101]='divya' # to update the key values\n",
        "print(d)"
      ],
      "metadata": {
        "colab": {
          "base_uri": "https://localhost:8080/"
        },
        "id": "4O8CjxnDxeO9",
        "outputId": "b33dd883-3778-4956-a194-1622f9f169d5"
      },
      "execution_count": null,
      "outputs": [
        {
          "output_type": "stream",
          "name": "stdout",
          "text": [
            "{101: 'divya', 102: 'ravi', 103: 'raaj', 105: 'raman'}\n"
          ]
        }
      ]
    },
    {
      "cell_type": "code",
      "source": [
        "#delete the elements from the dictionary\n",
        "del d[102] # to delete key must be identified\n",
        "print(d)"
      ],
      "metadata": {
        "colab": {
          "base_uri": "https://localhost:8080/"
        },
        "id": "QelIv1_pxl18",
        "outputId": "1ce335b9-7618-416d-cc1e-f11d4c904d86"
      },
      "execution_count": null,
      "outputs": [
        {
          "output_type": "stream",
          "name": "stdout",
          "text": [
            "{101: 'divya', 103: 'raaj', 105: 'raman'}\n"
          ]
        }
      ]
    },
    {
      "cell_type": "code",
      "source": [
        "d.clear() # clear all the values inside the dictionary\n",
        "print(d) # it empty the dictionary"
      ],
      "metadata": {
        "colab": {
          "base_uri": "https://localhost:8080/"
        },
        "id": "bDb6NorjyCuj",
        "outputId": "894f727e-cce4-4d57-dd3a-64d40c7c166f"
      },
      "execution_count": null,
      "outputs": [
        {
          "output_type": "stream",
          "name": "stdout",
          "text": [
            "{}\n"
          ]
        }
      ]
    },
    {
      "cell_type": "code",
      "source": [
        "l = ['kapil','shiv','deval']\n",
        "d = {100: l} # one key values assigned to a list of values\n",
        "print(d)"
      ],
      "metadata": {
        "colab": {
          "base_uri": "https://localhost:8080/"
        },
        "id": "9-vaymAyyWrg",
        "outputId": "6d53c715-7481-4f72-c37f-5469cb9f3489"
      },
      "execution_count": null,
      "outputs": [
        {
          "output_type": "stream",
          "name": "stdout",
          "text": [
            "{100: ['kapil', 'shiv', 'deval']}\n"
          ]
        }
      ]
    },
    {
      "cell_type": "code",
      "source": [
        "# important functions and methods of dictionary\n",
        "d = dict({100:'deval',200:'shiv'})\n",
        "print(d)"
      ],
      "metadata": {
        "colab": {
          "base_uri": "https://localhost:8080/"
        },
        "id": "c5d2HsQM0GOh",
        "outputId": "1288e3bf-756a-4695-e363-8acfe5003610"
      },
      "execution_count": null,
      "outputs": [
        {
          "output_type": "stream",
          "name": "stdout",
          "text": [
            "{100: 'deval', 200: 'shiv'}\n"
          ]
        }
      ]
    },
    {
      "cell_type": "code",
      "source": [
        "d = dict([(100,'deval'),(200,'shiv'),(300,'ajay')]) # with list of tuples only\n",
        "print(d)\n"
      ],
      "metadata": {
        "colab": {
          "base_uri": "https://localhost:8080/"
        },
        "id": "CvsG65-o0bNz",
        "outputId": "804a2624-8d58-490d-e5e3-aa70db18b857"
      },
      "execution_count": null,
      "outputs": [
        {
          "output_type": "stream",
          "name": "stdout",
          "text": [
            "{100: 'deval', 200: 'shiv', 300: 'ajay'}\n"
          ]
        }
      ]
    },
    {
      "cell_type": "code",
      "source": [
        "d = dict(((100,'deval'),(200,'shiv'),(300,'ajay'))) # with tuple of tuples only\n",
        "print(d)\n"
      ],
      "metadata": {
        "colab": {
          "base_uri": "https://localhost:8080/"
        },
        "id": "Plf4zwAJ0phP",
        "outputId": "587b86ae-35ae-40fa-f2fc-af93b5fe8aa1"
      },
      "execution_count": null,
      "outputs": [
        {
          "output_type": "stream",
          "name": "stdout",
          "text": [
            "{100: 'deval', 200: 'shiv', 300: 'ajay'}\n"
          ]
        }
      ]
    },
    {
      "cell_type": "code",
      "source": [
        "d = dict({(100,'deval'),(200,'shiv'),(300,'ajay')}) # with set of tuples only\n",
        "print(d)\n"
      ],
      "metadata": {
        "colab": {
          "base_uri": "https://localhost:8080/"
        },
        "id": "sB1_jY52051b",
        "outputId": "4fa5e4e5-5658-427e-f192-621284ba4299"
      },
      "execution_count": null,
      "outputs": [
        {
          "output_type": "stream",
          "name": "stdout",
          "text": [
            "{100: 'deval', 300: 'ajay', 200: 'shiv'}\n"
          ]
        }
      ]
    },
    {
      "cell_type": "code",
      "source": [
        "d = dict((100,'deval'),(200,'shiv'))\n",
        "print(d)"
      ],
      "metadata": {
        "colab": {
          "base_uri": "https://localhost:8080/",
          "height": 187
        },
        "id": "KzF9whwK14NL",
        "outputId": "0214ab63-5cf7-48a9-8f3f-b0b62622c2dc"
      },
      "execution_count": null,
      "outputs": [
        {
          "output_type": "error",
          "ename": "TypeError",
          "evalue": "ignored",
          "traceback": [
            "\u001b[0;31m---------------------------------------------------------------------------\u001b[0m",
            "\u001b[0;31mTypeError\u001b[0m                                 Traceback (most recent call last)",
            "\u001b[0;32m<ipython-input-12-88f247206deb>\u001b[0m in \u001b[0;36m<cell line: 1>\u001b[0;34m()\u001b[0m\n\u001b[0;32m----> 1\u001b[0;31m \u001b[0md\u001b[0m \u001b[0;34m=\u001b[0m \u001b[0mdict\u001b[0m\u001b[0;34m(\u001b[0m\u001b[0;34m(\u001b[0m\u001b[0;36m100\u001b[0m\u001b[0;34m,\u001b[0m\u001b[0;34m'deval'\u001b[0m\u001b[0;34m)\u001b[0m\u001b[0;34m,\u001b[0m\u001b[0;34m(\u001b[0m\u001b[0;36m200\u001b[0m\u001b[0;34m,\u001b[0m\u001b[0;34m'shiv'\u001b[0m\u001b[0;34m)\u001b[0m\u001b[0;34m)\u001b[0m\u001b[0;34m\u001b[0m\u001b[0;34m\u001b[0m\u001b[0m\n\u001b[0m\u001b[1;32m      2\u001b[0m \u001b[0mprint\u001b[0m\u001b[0;34m(\u001b[0m\u001b[0md\u001b[0m\u001b[0;34m)\u001b[0m\u001b[0;34m\u001b[0m\u001b[0;34m\u001b[0m\u001b[0m\n",
            "\u001b[0;31mTypeError\u001b[0m: dict expected at most 1 argument, got 2"
          ]
        }
      ]
    },
    {
      "cell_type": "code",
      "source": [
        "d = dict(((100,'deval'),(200,'shiv')))\n",
        "print(d)"
      ],
      "metadata": {
        "colab": {
          "base_uri": "https://localhost:8080/"
        },
        "id": "dh6QHLbQ1-6C",
        "outputId": "ba268da7-49b6-47c8-bc9f-095f1d708762"
      },
      "execution_count": null,
      "outputs": [
        {
          "output_type": "stream",
          "name": "stdout",
          "text": [
            "{100: 'deval', 200: 'shiv'}\n"
          ]
        }
      ]
    },
    {
      "cell_type": "code",
      "source": [
        "d = dict(((100,'deval'),(200,'shiv')))\n",
        "print(d)\n",
        "print(len(d)) # number of key"
      ],
      "metadata": {
        "colab": {
          "base_uri": "https://localhost:8080/"
        },
        "id": "2ysPjbko2E5u",
        "outputId": "0c142e72-a668-45cb-89da-c9bd7d0bc8ab"
      },
      "execution_count": null,
      "outputs": [
        {
          "output_type": "stream",
          "name": "stdout",
          "text": [
            "{100: 'deval', 200: 'shiv'}\n",
            "2\n"
          ]
        }
      ]
    },
    {
      "cell_type": "code",
      "source": [
        "d = dict(((100,'deval'),(200,'shiv')))\n",
        "print(d)\n",
        "print(d.get(100)) # return value of the key"
      ],
      "metadata": {
        "colab": {
          "base_uri": "https://localhost:8080/"
        },
        "id": "f269ls8h2Who",
        "outputId": "a8f386d0-add5-46b5-c549-b799c36123dc"
      },
      "execution_count": null,
      "outputs": [
        {
          "output_type": "stream",
          "name": "stdout",
          "text": [
            "{100: 'deval', 200: 'shiv'}\n",
            "deval\n"
          ]
        }
      ]
    },
    {
      "cell_type": "code",
      "source": [
        "d = dict(((100,'deval'),(200,'shiv')))\n",
        "print(d)\n",
        "print(d.get(500,'deepak')) # to get is inquery and if key is not available then deepak is return\n",
        "\n",
        "print(d)"
      ],
      "metadata": {
        "colab": {
          "base_uri": "https://localhost:8080/"
        },
        "id": "K8gZ1iq72lHh",
        "outputId": "7dfb5b0d-604d-4f4c-d280-2cae57528307"
      },
      "execution_count": null,
      "outputs": [
        {
          "output_type": "stream",
          "name": "stdout",
          "text": [
            "{100: 'deval', 200: 'shiv'}\n",
            "deepak\n",
            "{100: 'deval', 200: 'shiv'}\n"
          ]
        }
      ]
    },
    {
      "cell_type": "code",
      "source": [
        "d = dict(((100,'deval'),(200,'shiv')))\n",
        "print(d)\n",
        "print(d.pop(200))\n",
        "print(d)"
      ],
      "metadata": {
        "colab": {
          "base_uri": "https://localhost:8080/"
        },
        "id": "Dj8TU7XD2vwQ",
        "outputId": "db81a9e5-8d6f-4c3b-8552-02d728bb2522"
      },
      "execution_count": null,
      "outputs": [
        {
          "output_type": "stream",
          "name": "stdout",
          "text": [
            "{100: 'deval', 200: 'shiv'}\n",
            "shiv\n",
            "{100: 'deval'}\n"
          ]
        }
      ]
    },
    {
      "cell_type": "code",
      "source": [
        "d = dict(((100,'deval'),(200,'shiv')))\n",
        "print(d)\n",
        "print(d.popitem()) # randomly delete the item and return the deleted item\n",
        "print(d)"
      ],
      "metadata": {
        "colab": {
          "base_uri": "https://localhost:8080/"
        },
        "id": "OdNCf9i93Hh-",
        "outputId": "9db5fad1-85ec-47d2-db9d-0d214cc4ea03"
      },
      "execution_count": null,
      "outputs": [
        {
          "output_type": "stream",
          "name": "stdout",
          "text": [
            "{100: 'deval', 200: 'shiv'}\n",
            "(200, 'shiv')\n",
            "{100: 'deval'}\n"
          ]
        }
      ]
    },
    {
      "cell_type": "code",
      "source": [
        "d = dict(((100,'deval'),(200,'shiv')))\n",
        "print(d.keys())\n",
        "for k in d.keys():\n",
        "  print(k)"
      ],
      "metadata": {
        "colab": {
          "base_uri": "https://localhost:8080/"
        },
        "id": "ZIR1fsqq4VGw",
        "outputId": "31e594b9-7aaa-4c81-b591-992f65d0797a"
      },
      "execution_count": null,
      "outputs": [
        {
          "output_type": "stream",
          "name": "stdout",
          "text": [
            "dict_keys([100, 200])\n",
            "100\n",
            "200\n"
          ]
        }
      ]
    },
    {
      "cell_type": "code",
      "source": [
        "d = dict(((100,'deval'),(200,'shiv')))\n",
        "print(d.values())\n",
        "for k in d.values():\n",
        "  print(k)"
      ],
      "metadata": {
        "colab": {
          "base_uri": "https://localhost:8080/"
        },
        "id": "425xgLUn4rGo",
        "outputId": "73dfd026-428a-4cc8-80f6-c73ec7adfee6"
      },
      "execution_count": null,
      "outputs": [
        {
          "output_type": "stream",
          "name": "stdout",
          "text": [
            "dict_values(['deval', 'shiv'])\n",
            "deval\n",
            "shiv\n"
          ]
        }
      ]
    },
    {
      "cell_type": "code",
      "source": [
        "# item means [(k,v),(k,v),(k,v)]\n",
        "d = {100:'deepak',200:'ravi',300:'komal',400:'shree'}\n",
        "l = d.items()\n",
        "print(l)"
      ],
      "metadata": {
        "colab": {
          "base_uri": "https://localhost:8080/"
        },
        "id": "cRGIJSfU4zTL",
        "outputId": "befe628a-a178-45d9-8214-64bac91bba20"
      },
      "execution_count": null,
      "outputs": [
        {
          "output_type": "stream",
          "name": "stdout",
          "text": [
            "dict_items([(100, 'deepak'), (200, 'ravi'), (300, 'komal'), (400, 'shree')])\n"
          ]
        }
      ]
    },
    {
      "cell_type": "code",
      "source": [
        "d = {100:'deepak',200:'ravi',300:'komal',400:'shree'}\n",
        "for k,v in d.items():\n",
        "  print(k,'....',v)"
      ],
      "metadata": {
        "colab": {
          "base_uri": "https://localhost:8080/"
        },
        "id": "2anuDB2B5cCf",
        "outputId": "56095d06-0a9c-4102-9e1f-32dbbcf105b7"
      },
      "execution_count": null,
      "outputs": [
        {
          "output_type": "stream",
          "name": "stdout",
          "text": [
            "100 .... deepak\n",
            "200 .... ravi\n",
            "300 .... komal\n",
            "400 .... shree\n"
          ]
        }
      ]
    },
    {
      "cell_type": "code",
      "source": [
        "d = eval(input('Enter dictionary: '))\n",
        "s = sum(d.values())\n",
        "print('The sum: ', s)"
      ],
      "metadata": {
        "id": "NxWnFPUg5o9t",
        "colab": {
          "base_uri": "https://localhost:8080/"
        },
        "outputId": "75ac8ad0-c658-4df3-ec43-cb1aebb77d47"
      },
      "execution_count": 1,
      "outputs": [
        {
          "output_type": "stream",
          "name": "stdout",
          "text": [
            "Enter dictionary: {'a':100,'b':200,'c':300}\n",
            "The sum:  600\n"
          ]
        }
      ]
    },
    {
      "cell_type": "code",
      "source": [
        "d = eval(input('Enter dictionary: '))\n",
        "s = sum(d.values())\n",
        "print('The sum: ', s)"
      ],
      "metadata": {
        "colab": {
          "base_uri": "https://localhost:8080/"
        },
        "id": "5bvmUVGr6ewY",
        "outputId": "10cf9a2a-30fd-4b35-848c-652796cf5f6a"
      },
      "execution_count": 2,
      "outputs": [
        {
          "output_type": "stream",
          "name": "stdout",
          "text": [
            "Enter dictionary: {'a':310,'b':34200,'c':33200}\n",
            "The sum:  67710\n"
          ]
        }
      ]
    },
    {
      "cell_type": "code",
      "source": [
        "word = input('enter any word: ')\n",
        "d = {}\n",
        "for x in word:\n",
        "  d[x] = d.get(x,0)+1 # if x is not there then consider zero\n",
        "print(d)"
      ],
      "metadata": {
        "colab": {
          "base_uri": "https://localhost:8080/"
        },
        "id": "TbfGIsYS7I96",
        "outputId": "88e9f5e1-223f-416c-8323-a24f77dbe305"
      },
      "execution_count": 3,
      "outputs": [
        {
          "output_type": "stream",
          "name": "stdout",
          "text": [
            "enter any word: adfasbaasdfsda\n",
            "{'a': 5, 'd': 3, 'f': 2, 's': 3, 'b': 1}\n"
          ]
        }
      ]
    },
    {
      "cell_type": "code",
      "source": [
        "word = input('enter any word: ')\n",
        "d = {}\n",
        "for x in word:\n",
        "  d[x] = d.get(x,0)+1 # if x is not there then consider zero\n",
        "print(d)\n",
        "for k,v in d.items():\n",
        "  print('{} occured {} times'.format(k,v))"
      ],
      "metadata": {
        "colab": {
          "base_uri": "https://localhost:8080/"
        },
        "id": "4QYpz8pI8jgN",
        "outputId": "25e437c6-74d4-4c36-b1b5-df7a69958b11"
      },
      "execution_count": 5,
      "outputs": [
        {
          "output_type": "stream",
          "name": "stdout",
          "text": [
            "enter any word: aabsbabdbasbs\n",
            "{'a': 4, 'b': 5, 's': 3, 'd': 1}\n",
            "a occured 4 times\n",
            "b occured 5 times\n",
            "s occured 3 times\n",
            "d occured 1 times\n"
          ]
        }
      ]
    },
    {
      "cell_type": "code",
      "source": [
        "word = input('enter any word: ')\n",
        "d = {}\n",
        "for x in word:\n",
        "  d[x] = d.get(x,0)+1 # if x is not there then consider zero\n",
        "print(d)\n",
        "print(sorted(d)) # sorted will be based on key only\n",
        "for k,v in sorted(d.items()): # sorted\n",
        "  print('{} occured {} times'.format(k,v)) # replacement operator"
      ],
      "metadata": {
        "colab": {
          "base_uri": "https://localhost:8080/"
        },
        "id": "x22vyCZ78vJ4",
        "outputId": "f0d4b5ee-78c6-4fc4-e252-1a2799cbf294"
      },
      "execution_count": 6,
      "outputs": [
        {
          "output_type": "stream",
          "name": "stdout",
          "text": [
            "enter any word: missisispi\n",
            "{'m': 1, 'i': 4, 's': 4, 'p': 1}\n",
            "['i', 'm', 'p', 's']\n",
            "i occured 4 times\n",
            "m occured 1 times\n",
            "p occured 1 times\n",
            "s occured 4 times\n"
          ]
        }
      ]
    },
    {
      "cell_type": "code",
      "source": [
        "# number of occurances of each vowel present in the given string\n",
        "word = input('Enter some word: ')\n",
        "v = {'a', 'e', 'i','o', 'u'}\n",
        "d = {}\n",
        "for x in word:\n",
        "  if x in v:\n",
        "    d[x]=d.get(x,0)+1\n",
        "for k,v in sorted(d.items()):\n",
        "  print('{} occured {} times'.format(k,v))"
      ],
      "metadata": {
        "colab": {
          "base_uri": "https://localhost:8080/"
        },
        "id": "NjiU_1y39WEj",
        "outputId": "e361beb1-f661-4f7a-ece6-02eeb0b4895d"
      },
      "execution_count": 9,
      "outputs": [
        {
          "output_type": "stream",
          "name": "stdout",
          "text": [
            "Enter some word: makre sports and kapil sharma\n",
            "a occured 5 times\n",
            "e occured 1 times\n",
            "i occured 1 times\n",
            "o occured 1 times\n",
            "Enter some word: kjsafklaskf\n",
            "a occured 2 times\n"
          ]
        }
      ]
    },
    {
      "cell_type": "code",
      "source": [
        "n = int(input('Enter the number of students: '))\n",
        "d = {}\n",
        "for i in range(n):\n",
        "  name = input('Enter student name: ')\n",
        "  marks = int(input('Enter student marks: '))\n",
        "  d[name] = marks\n",
        "print(d)"
      ],
      "metadata": {
        "colab": {
          "base_uri": "https://localhost:8080/"
        },
        "id": "4ciH0_Jv-nNS",
        "outputId": "a09031d8-0b9c-4dd8-c97a-85135a9d7019"
      },
      "execution_count": 10,
      "outputs": [
        {
          "output_type": "stream",
          "name": "stdout",
          "text": [
            "Enter the number of students: 2\n",
            "Enter student name: kapil\n",
            "Enter student marks: 90\n",
            "Enter student name: ravi\n",
            "Enter student marks: 69\n",
            "{'kapil': 90, 'ravi': 69}\n"
          ]
        }
      ]
    },
    {
      "cell_type": "code",
      "source": [
        "n = int(input('Enter the number of students: '))\n",
        "d = {}\n",
        "for i in range(n):\n",
        "  name = input('Enter student name: ')\n",
        "  marks = int(input('Enter student marks: '))\n",
        "  d[name] = marks\n",
        "print(d)\n",
        "while True:\n",
        "  name = input('Enter student name to get marks: ')\n",
        "  marks=d.get(name,-1)\n",
        "  if marks == -1:\n",
        "    print('Student not found')\n",
        "  else:\n",
        "    print('The marks of {} are: {}'.format(name,marks))\n",
        "  option = input('Do you want to find another student marks [Yes|No]: ')\n",
        "  if option == 'No':\n",
        "    break\n",
        "print('Thanks for using our application.')"
      ],
      "metadata": {
        "colab": {
          "base_uri": "https://localhost:8080/"
        },
        "id": "AshikW3CC8s-",
        "outputId": "cc06907e-c15a-4993-b13a-9e86fccea37b"
      },
      "execution_count": 11,
      "outputs": [
        {
          "output_type": "stream",
          "name": "stdout",
          "text": [
            "Enter the number of students: 5\n",
            "Enter student name: summy\n",
            "Enter student marks: 100\n",
            "Enter student name: bynny\n",
            "Enter student marks: 200\n",
            "Enter student name: shinny\n",
            "Enter student marks: 300\n",
            "Enter student name: tinny\n",
            "Enter student marks: 400\n",
            "Enter student name: vinny\n",
            "Enter student marks: 500\n",
            "{'summy': 100, 'bynny': 200, 'shinny': 300, 'tinny': 400, 'vinny': 500}\n",
            "Enter student name to get marks: jonny\n",
            "Student not found\n",
            "Do you want to find another student marks [Yes|No]: Yes\n",
            "Enter student name to get marks: tinny\n",
            "The marks of tinny are: 400\n",
            "Do you want to find another student marks [Yes|No]: Yes\n",
            "Enter student name to get marks: summy\n",
            "The marks of summy are: 100\n",
            "Do you want to find another student marks [Yes|No]: Pawan\n",
            "Enter student name to get marks: Pawan\n",
            "Student not found\n",
            "Do you want to find another student marks [Yes|No]: No\n",
            "Thanks for using our application.\n"
          ]
        }
      ]
    },
    {
      "cell_type": "code",
      "source": [
        "# comprehension concept\n",
        "square = {x:x*x for x in range(1,6)}\n",
        "print(square)"
      ],
      "metadata": {
        "colab": {
          "base_uri": "https://localhost:8080/"
        },
        "id": "4sUfJy85ENKG",
        "outputId": "cdb7a2d5-a61e-4700-a7f9-31195e9e7e63"
      },
      "execution_count": 12,
      "outputs": [
        {
          "output_type": "stream",
          "name": "stdout",
          "text": [
            "{1: 1, 2: 4, 3: 9, 4: 16, 5: 25}\n"
          ]
        }
      ]
    },
    {
      "cell_type": "code",
      "source": [
        "doubles = {x:2*x for x in range(1,9)}\n",
        "print(doubles)"
      ],
      "metadata": {
        "colab": {
          "base_uri": "https://localhost:8080/"
        },
        "id": "qZ5Ps1pVF89U",
        "outputId": "906883e9-5e02-4f78-e1c2-4e3430e36618"
      },
      "execution_count": 13,
      "outputs": [
        {
          "output_type": "stream",
          "name": "stdout",
          "text": [
            "{1: 2, 2: 4, 3: 6, 4: 8, 5: 10, 6: 12, 7: 14, 8: 16}\n"
          ]
        }
      ]
    },
    {
      "cell_type": "code",
      "source": [],
      "metadata": {
        "id": "Jt8Y63GvGGcq"
      },
      "execution_count": null,
      "outputs": []
    }
  ]
}