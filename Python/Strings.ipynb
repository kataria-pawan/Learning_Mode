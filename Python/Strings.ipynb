{
  "nbformat": 4,
  "nbformat_minor": 0,
  "metadata": {
    "colab": {
      "provenance": [],
      "authorship_tag": "ABX9TyPl0BAE3DGdSlin6OiMkQ5C",
      "include_colab_link": true
    },
    "kernelspec": {
      "name": "python3",
      "display_name": "Python 3"
    },
    "language_info": {
      "name": "python"
    }
  },
  "cells": [
    {
      "cell_type": "markdown",
      "metadata": {
        "id": "view-in-github",
        "colab_type": "text"
      },
      "source": [
        "<a href=\"https://colab.research.google.com/github/kataria-pawan/Learning_Mode/blob/main/Python/Strings.ipynb\" target=\"_parent\"><img src=\"https://colab.research.google.com/assets/colab-badge.svg\" alt=\"Open In Colab\"/></a>"
      ]
    },
    {
      "cell_type": "code",
      "execution_count": null,
      "metadata": {
        "colab": {
          "base_uri": "https://localhost:8080/"
        },
        "id": "qWDwnvpTgYn9",
        "outputId": "0937ad42-8eab-43f9-d3a8-7b006ce3dd40"
      },
      "outputs": [
        {
          "output_type": "stream",
          "name": "stdout",
          "text": [
            "Enter the string : pawan\n",
            "The character in positive index 0 and negative index -5 is :  p\n",
            "The character in positive index 1 and negative index -4 is :  a\n",
            "The character in positive index 2 and negative index -3 is :  w\n",
            "The character in positive index 3 and negative index -2 is :  a\n",
            "The character in positive index 4 and negative index -1 is :  n\n"
          ]
        }
      ],
      "source": [
        "# write a program to accept some string from the keyboard\n",
        "# print all the character with index.\n",
        "s = input('Enter the string : ')\n",
        "i = 0\n",
        "for x in s:\n",
        "  print('The character in positive index {} and negative index {} is : '.format(i, i-len(s)), x)\n",
        "  i += 1"
      ]
    },
    {
      "cell_type": "code",
      "source": [
        "s = 'pawan'\n",
        "print(s[-5])"
      ],
      "metadata": {
        "colab": {
          "base_uri": "https://localhost:8080/"
        },
        "id": "6NTO6z4NmiPw",
        "outputId": "f8ceff82-dd25-4756-f51f-08967c193f00"
      },
      "execution_count": null,
      "outputs": [
        {
          "output_type": "stream",
          "name": "stdout",
          "text": [
            "p\n"
          ]
        }
      ]
    },
    {
      "cell_type": "code",
      "source": [
        "s = '0123456789'\n",
        "s[2:8:1] # positive direction"
      ],
      "metadata": {
        "colab": {
          "base_uri": "https://localhost:8080/",
          "height": 35
        },
        "id": "gQFXVft5nhby",
        "outputId": "00bf6a1b-9938-46ce-9848-61abb9b6e001"
      },
      "execution_count": null,
      "outputs": [
        {
          "output_type": "execute_result",
          "data": {
            "text/plain": [
              "'234567'"
            ],
            "application/vnd.google.colaboratory.intrinsic+json": {
              "type": "string"
            }
          },
          "metadata": {},
          "execution_count": 8
        }
      ]
    },
    {
      "cell_type": "code",
      "source": [
        "s[2:8:-1] # in backward direction"
      ],
      "metadata": {
        "colab": {
          "base_uri": "https://localhost:8080/",
          "height": 35
        },
        "id": "Dqp8m06hvP_d",
        "outputId": "6a084e7e-1260-48b1-da9e-3a2c9610f74f"
      },
      "execution_count": null,
      "outputs": [
        {
          "output_type": "execute_result",
          "data": {
            "text/plain": [
              "''"
            ],
            "application/vnd.google.colaboratory.intrinsic+json": {
              "type": "string"
            }
          },
          "metadata": {},
          "execution_count": 9
        }
      ]
    },
    {
      "cell_type": "code",
      "source": [
        "s[8:2:-1]"
      ],
      "metadata": {
        "colab": {
          "base_uri": "https://localhost:8080/",
          "height": 35
        },
        "id": "p9zbeT23vTNp",
        "outputId": "0454c7aa-6829-485a-bcb5-ea881bc87dfd"
      },
      "execution_count": null,
      "outputs": [
        {
          "output_type": "execute_result",
          "data": {
            "text/plain": [
              "'876543'"
            ],
            "application/vnd.google.colaboratory.intrinsic+json": {
              "type": "string"
            }
          },
          "metadata": {},
          "execution_count": 10
        }
      ]
    },
    {
      "cell_type": "code",
      "source": [
        "s[-1:-6:-1]"
      ],
      "metadata": {
        "colab": {
          "base_uri": "https://localhost:8080/",
          "height": 35
        },
        "id": "pX68GlgavkCb",
        "outputId": "4f209b6e-f0fe-4cae-b211-52dc6439f3c2"
      },
      "execution_count": null,
      "outputs": [
        {
          "output_type": "execute_result",
          "data": {
            "text/plain": [
              "'98765'"
            ],
            "application/vnd.google.colaboratory.intrinsic+json": {
              "type": "string"
            }
          },
          "metadata": {},
          "execution_count": 11
        }
      ]
    },
    {
      "cell_type": "code",
      "source": [
        "s[2:-5:1]"
      ],
      "metadata": {
        "colab": {
          "base_uri": "https://localhost:8080/",
          "height": 35
        },
        "id": "SOGlLL1vvuSh",
        "outputId": "20e61f47-3080-4b06-fd46-d65933e51c92"
      },
      "execution_count": null,
      "outputs": [
        {
          "output_type": "execute_result",
          "data": {
            "text/plain": [
              "'234'"
            ],
            "application/vnd.google.colaboratory.intrinsic+json": {
              "type": "string"
            }
          },
          "metadata": {},
          "execution_count": 13
        }
      ]
    },
    {
      "cell_type": "code",
      "source": [
        "s[:0:-1]"
      ],
      "metadata": {
        "colab": {
          "base_uri": "https://localhost:8080/",
          "height": 35
        },
        "id": "r8B1DJKZwvIB",
        "outputId": "69d32481-9b6b-4cad-ca02-4cd6ff0f789c"
      },
      "execution_count": null,
      "outputs": [
        {
          "output_type": "execute_result",
          "data": {
            "text/plain": [
              "'987654321'"
            ],
            "application/vnd.google.colaboratory.intrinsic+json": {
              "type": "string"
            }
          },
          "metadata": {},
          "execution_count": 14
        }
      ]
    },
    {
      "cell_type": "code",
      "source": [
        "s = input('Enter the string : ')\n",
        "n = len(s)\n",
        "i =0\n",
        "print('Data In Forward Direction')\n",
        "while i<n:\n",
        "  print(s[i])\n",
        "  i += 1"
      ],
      "metadata": {
        "id": "kkEJuKwVyxs4",
        "colab": {
          "base_uri": "https://localhost:8080/"
        },
        "outputId": "01c20cad-e22d-4a46-ca02-b0b3941ebb26"
      },
      "execution_count": null,
      "outputs": [
        {
          "output_type": "stream",
          "name": "stdout",
          "text": [
            "Enter the string : Pawan Kataria\n",
            "Data In Forward Direction\n",
            "P\n",
            "a\n",
            "w\n",
            "a\n",
            "n\n",
            " \n",
            "K\n",
            "a\n",
            "t\n",
            "a\n",
            "r\n",
            "i\n",
            "a\n"
          ]
        }
      ]
    },
    {
      "cell_type": "code",
      "source": [
        "s = input('Enter the string : ')\n",
        "n = len(s)\n",
        "i =0\n",
        "print('Data In Forward Direction')\n",
        "while i<n:\n",
        "  print(s[i], end = '')\n",
        "  i += 1"
      ],
      "metadata": {
        "colab": {
          "base_uri": "https://localhost:8080/"
        },
        "id": "3rSitMmpPDFk",
        "outputId": "02798e48-ef37-47d0-934d-893010e7925f"
      },
      "execution_count": null,
      "outputs": [
        {
          "output_type": "stream",
          "name": "stdout",
          "text": [
            "Enter the string : Pawan Kataria\n",
            "Data In Forward Direction\n",
            "Pawan Kataria"
          ]
        }
      ]
    },
    {
      "cell_type": "code",
      "source": [
        "s = input('Enter the string : ')\n",
        "n = len(s)\n",
        "i = n-1\n",
        "print('Data In Backward Direction')\n",
        "while i>=0:\n",
        "  print(s[i], end='')\n",
        "  i -= 1"
      ],
      "metadata": {
        "colab": {
          "base_uri": "https://localhost:8080/"
        },
        "id": "Gfmp01lgPNVJ",
        "outputId": "28b93b8e-ea9c-4f2e-be33-69c2d12ee139"
      },
      "execution_count": null,
      "outputs": [
        {
          "output_type": "stream",
          "name": "stdout",
          "text": [
            "Enter the string : pawan\n",
            "Data In Backward Direction\n",
            "nawap"
          ]
        }
      ]
    },
    {
      "cell_type": "code",
      "source": [
        "s = input('Enter the string : ')\n",
        "n = len(s)\n",
        "i = -1\n",
        "print('Data In Backward Direction')\n",
        "while i>= -n:\n",
        "  print(s[i], end='')\n",
        "  i -= 1"
      ],
      "metadata": {
        "colab": {
          "base_uri": "https://localhost:8080/"
        },
        "id": "zg--nh1CPWon",
        "outputId": "d7753e48-b8d4-4c96-b65a-d865c583afbb"
      },
      "execution_count": null,
      "outputs": [
        {
          "output_type": "stream",
          "name": "stdout",
          "text": [
            "Enter the string : pawan\n",
            "Data In Backward Direction\n",
            "nawap"
          ]
        }
      ]
    },
    {
      "cell_type": "code",
      "source": [
        "s = input('enter the main string: ')\n",
        "subs = input('enter the substring to search: ')\n",
        "if subs in s:\n",
        "  print(subs, ' is found in main string.')\n",
        "else:\n",
        "  print(subs, ' is not found in mains string.')"
      ],
      "metadata": {
        "colab": {
          "base_uri": "https://localhost:8080/"
        },
        "id": "KtKcKn8DQVqq",
        "outputId": "e5fe182c-03f2-4d10-bf2a-ba667db3821f"
      },
      "execution_count": null,
      "outputs": [
        {
          "output_type": "stream",
          "name": "stdout",
          "text": [
            "enter the main string: pawan\n",
            "enter the substring to search: a\n",
            "a  is found in main string.\n"
          ]
        }
      ]
    },
    {
      "cell_type": "code",
      "source": [
        "s1 = input('Enter the First String: ')\n",
        "s2 = input('Enter the Second String: ')\n",
        "if s1 == s2:\n",
        "  print('Both the strings are equal.')\n",
        "elif s1<s2:\n",
        "  print('First string is smaller than second string.')\n",
        "else:\n",
        "  print('First string is bigger than second string.')"
      ],
      "metadata": {
        "colab": {
          "base_uri": "https://localhost:8080/"
        },
        "id": "17o8ZPneSS3u",
        "outputId": "ec4717fc-a2ff-4b74-8abb-7a9db560a724"
      },
      "execution_count": null,
      "outputs": [
        {
          "output_type": "stream",
          "name": "stdout",
          "text": [
            "Enter the First String: Pawan\n",
            "Enter the Second String: pawan\n",
            "First string is smaller than second string.\n"
          ]
        }
      ]
    },
    {
      "cell_type": "code",
      "source": [
        "l1 = ['a', 'b', 'c']\n",
        "l2 = ['a', 'b', 'c']\n",
        "print(l1 is l2)"
      ],
      "metadata": {
        "colab": {
          "base_uri": "https://localhost:8080/"
        },
        "id": "jV_ib6w2UD_2",
        "outputId": "cfcf7e10-7dd5-43eb-f983-e0425a76106f"
      },
      "execution_count": null,
      "outputs": [
        {
          "output_type": "stream",
          "name": "stdout",
          "text": [
            "False\n"
          ]
        }
      ]
    },
    {
      "cell_type": "code",
      "source": [
        "l1 = ['a', 'b', 'c']\n",
        "l2 = ['a', 'b', 'c']\n",
        "print(l1 == l2)\n",
        "print(l1 in l2)"
      ],
      "metadata": {
        "colab": {
          "base_uri": "https://localhost:8080/"
        },
        "id": "pCY_iKpeY3s4",
        "outputId": "4656a1d0-b04a-498d-ec5e-5c99e3a0d222"
      },
      "execution_count": null,
      "outputs": [
        {
          "output_type": "stream",
          "name": "stdout",
          "text": [
            "True\n",
            "False\n"
          ]
        }
      ]
    },
    {
      "cell_type": "code",
      "source": [
        "city = input('Enter the city name: ')\n",
        "city_list = ['Hyderabad', 'Pune', 'Delhi', 'Mumbai', 'Bangalore']\n",
        "if city in city_list:\n",
        "  print('Your city is available and CCC are XXX.')\n",
        "else:\n",
        "  print(city,'City is not available in database.')"
      ],
      "metadata": {
        "colab": {
          "base_uri": "https://localhost:8080/"
        },
        "id": "RFvBOCjeY51V",
        "outputId": "51d29ae8-6f33-442f-9f8f-33e7397928ef"
      },
      "execution_count": null,
      "outputs": [
        {
          "output_type": "stream",
          "name": "stdout",
          "text": [
            "Enter the city name: Jaipur\n",
            "Jaipur City is not available in database.\n"
          ]
        }
      ]
    },
    {
      "cell_type": "code",
      "source": [
        "city = input('Enter the city name: ')\n",
        "city_list = ['Hyderabad', 'Pune', 'Delhi', 'Mumbai', 'Bangalore']\n",
        "if city.strip() in city_list:\n",
        "  print('Your city is available and CCC are XXX.')\n",
        "else:\n",
        "  print(city,'City is not available in database.')"
      ],
      "metadata": {
        "colab": {
          "base_uri": "https://localhost:8080/"
        },
        "id": "p-qP36r8cf4P",
        "outputId": "353342ea-e3cc-41a0-a853-57e8f3c0ea10"
      },
      "execution_count": null,
      "outputs": [
        {
          "output_type": "stream",
          "name": "stdout",
          "text": [
            "Enter the city name:   Pune\n",
            "Your city is available and CCC are XXX.\n"
          ]
        }
      ]
    },
    {
      "cell_type": "code",
      "source": [
        "city = input('Enter the city name: ')\n",
        "city_list = ['Hyderabad', 'Pune', 'Delhi', 'Mumbai', 'Bangalore']\n",
        "if city.strip() in city_list:\n",
        "  print('{} city is available and CCC are XXX.'.format(city))\n",
        "else:\n",
        "  print(city,'City is not available in database.')"
      ],
      "metadata": {
        "colab": {
          "base_uri": "https://localhost:8080/"
        },
        "id": "bSZS7nYKcoBa",
        "outputId": "7c0eefef-6b7c-42f4-a6ad-cacfca3630fe"
      },
      "execution_count": null,
      "outputs": [
        {
          "output_type": "stream",
          "name": "stdout",
          "text": [
            "Enter the city name:      Pune\n",
            "     Pune city is available and CCC are XXX.\n"
          ]
        }
      ]
    },
    {
      "cell_type": "code",
      "source": [
        "# finding the substring\n",
        "s = 'durgasoft'\n",
        "print(s.find('soft')) # if present, then we get the index\n",
        "print(s.find('pawan')) # if not then we get -1."
      ],
      "metadata": {
        "id": "QpBjz2sNc04U",
        "colab": {
          "base_uri": "https://localhost:8080/"
        },
        "outputId": "7c0eb1bc-10fa-4a8d-a768-9bade166d1f4"
      },
      "execution_count": null,
      "outputs": [
        {
          "output_type": "stream",
          "name": "stdout",
          "text": [
            "5\n",
            "-1\n"
          ]
        }
      ]
    },
    {
      "cell_type": "code",
      "source": [
        "s = 'durgasoftdurgasoft'\n",
        "print(s.rfind('soft')) # find the location from right side\n",
        "print(s.rfind('pawan'))"
      ],
      "metadata": {
        "colab": {
          "base_uri": "https://localhost:8080/"
        },
        "id": "ZXepkwouoam6",
        "outputId": "3d19267f-bf42-4624-ea03-d2f385516292"
      },
      "execution_count": null,
      "outputs": [
        {
          "output_type": "stream",
          "name": "stdout",
          "text": [
            "14\n",
            "-1\n"
          ]
        }
      ]
    },
    {
      "cell_type": "code",
      "source": [
        "s = 'learning Python is aaa very very easy'\n",
        "print(s.find('a'))\n",
        "print(s.rfind('a'))\n",
        "print(s.rfind('z'))\n",
        "print(s.rfind('aaa'))\n",
        "print(s.rfind(' '))"
      ],
      "metadata": {
        "colab": {
          "base_uri": "https://localhost:8080/"
        },
        "id": "JJ796h8TpZ8E",
        "outputId": "71f8dcd7-ae5a-4915-8933-e17d15274ed9"
      },
      "execution_count": null,
      "outputs": [
        {
          "output_type": "stream",
          "name": "stdout",
          "text": [
            "2\n",
            "34\n",
            "-1\n",
            "19\n",
            "32\n"
          ]
        }
      ]
    },
    {
      "cell_type": "code",
      "source": [
        "s = 'durgasoft durgasoft durgasoft'\n",
        "print(s.find('a'))\n",
        "print(s.find('a',5,10)) # always search from begin to end-1\n",
        "print(s.find('a',5,10))\n",
        "print(s.rfind('a',8,15))"
      ],
      "metadata": {
        "colab": {
          "base_uri": "https://localhost:8080/"
        },
        "id": "F6p4vrVAp3iZ",
        "outputId": "665cbc08-7190-446c-d41f-ef0408a3863d"
      },
      "execution_count": null,
      "outputs": [
        {
          "output_type": "stream",
          "name": "stdout",
          "text": [
            "4\n",
            "-1\n",
            "-1\n",
            "14\n"
          ]
        }
      ]
    },
    {
      "cell_type": "code",
      "source": [
        "s = 'durgasoft durgasoft durgasoft'\n",
        "print(s.index('a',5,15))\n",
        "print(s.index('z',5,15))"
      ],
      "metadata": {
        "colab": {
          "base_uri": "https://localhost:8080/",
          "height": 218
        },
        "id": "lzHHyfizqvZL",
        "outputId": "904a61bd-a278-482c-e6b5-209004ec0746"
      },
      "execution_count": null,
      "outputs": [
        {
          "output_type": "stream",
          "name": "stdout",
          "text": [
            "14\n"
          ]
        },
        {
          "output_type": "error",
          "ename": "ValueError",
          "evalue": "ignored",
          "traceback": [
            "\u001b[0;31m---------------------------------------------------------------------------\u001b[0m",
            "\u001b[0;31mValueError\u001b[0m                                Traceback (most recent call last)",
            "\u001b[0;32m<ipython-input-13-62ae6c7e70ac>\u001b[0m in \u001b[0;36m<cell line: 3>\u001b[0;34m()\u001b[0m\n\u001b[1;32m      1\u001b[0m \u001b[0ms\u001b[0m \u001b[0;34m=\u001b[0m \u001b[0;34m'durgasoft durgasoft durgasoft'\u001b[0m\u001b[0;34m\u001b[0m\u001b[0;34m\u001b[0m\u001b[0m\n\u001b[1;32m      2\u001b[0m \u001b[0mprint\u001b[0m\u001b[0;34m(\u001b[0m\u001b[0ms\u001b[0m\u001b[0;34m.\u001b[0m\u001b[0mindex\u001b[0m\u001b[0;34m(\u001b[0m\u001b[0;34m'a'\u001b[0m\u001b[0;34m,\u001b[0m\u001b[0;36m5\u001b[0m\u001b[0;34m,\u001b[0m\u001b[0;36m15\u001b[0m\u001b[0;34m)\u001b[0m\u001b[0;34m)\u001b[0m\u001b[0;34m\u001b[0m\u001b[0;34m\u001b[0m\u001b[0m\n\u001b[0;32m----> 3\u001b[0;31m \u001b[0mprint\u001b[0m\u001b[0;34m(\u001b[0m\u001b[0ms\u001b[0m\u001b[0;34m.\u001b[0m\u001b[0mindex\u001b[0m\u001b[0;34m(\u001b[0m\u001b[0;34m'z'\u001b[0m\u001b[0;34m,\u001b[0m\u001b[0;36m5\u001b[0m\u001b[0;34m,\u001b[0m\u001b[0;36m15\u001b[0m\u001b[0;34m)\u001b[0m\u001b[0;34m)\u001b[0m\u001b[0;34m\u001b[0m\u001b[0;34m\u001b[0m\u001b[0m\n\u001b[0m",
            "\u001b[0;31mValueError\u001b[0m: substring not found"
          ]
        }
      ]
    },
    {
      "cell_type": "code",
      "source": [
        "# diffence between find and index is find return -1 if the string is not present\n",
        "# but index return the value erro says 'substring not found'"
      ],
      "metadata": {
        "id": "FcqLOAj_rbVC"
      },
      "execution_count": null,
      "outputs": []
    },
    {
      "cell_type": "code",
      "source": [
        "s = input('Enter the main string: ')\n",
        "subs= input('Enter substring: ')\n",
        "try:\n",
        "  n = s.index(subs)\n",
        "except ValueError:\n",
        "  print('Substring is not found in main string')\n",
        "else:\n",
        "  print('Substring found')"
      ],
      "metadata": {
        "colab": {
          "base_uri": "https://localhost:8080/"
        },
        "id": "XlGXl0Nzrx4F",
        "outputId": "ecc77871-7cb3-4f81-dea9-095086348a46"
      },
      "execution_count": null,
      "outputs": [
        {
          "output_type": "stream",
          "name": "stdout",
          "text": [
            "Enter the main string: durgasoftdurgasoft\n",
            "Enter substring: zeenu\n",
            "Substring is not found in main string\n"
          ]
        }
      ]
    },
    {
      "cell_type": "code",
      "source": [],
      "metadata": {
        "id": "bUBYd6Ehvtuj"
      },
      "execution_count": null,
      "outputs": []
    },
    {
      "cell_type": "code",
      "source": [
        "s = input('Enter main string: ')\n",
        "subs = input('Enter substring: ')\n",
        "flag = False\n",
        "pos = -1\n",
        "n = len(s)\n",
        "while True:\n",
        "  pos = s.find(subs,pos+1,n)\n",
        "  if pos == -1:\n",
        "    break\n",
        "  print('Found at inde: ', pos)\n",
        "  flag = True\n",
        "if flag == False:\n",
        "  print('Not Found')"
      ],
      "metadata": {
        "colab": {
          "base_uri": "https://localhost:8080/"
        },
        "id": "xnq3FkX6sOoP",
        "outputId": "18822acd-992b-4805-dc65-c1ed6789f43b"
      },
      "execution_count": null,
      "outputs": [
        {
          "output_type": "stream",
          "name": "stdout",
          "text": [
            "Enter main string: kataria\n",
            "Enter substring: kapil\n",
            "Not Found\n"
          ]
        }
      ]
    },
    {
      "cell_type": "code",
      "source": [
        "s = input('Enter main string: ')\n",
        "subs = input('Enter substring: ')\n",
        "flag = False\n",
        "pos = -1\n",
        "n = len(s)\n",
        "count = 0\n",
        "while True:\n",
        "  pos = s.find(subs,pos+1,n)\n",
        "  if pos == -1:\n",
        "    break\n",
        "  print('Found at inde: ', pos)\n",
        "  flag = True\n",
        "  count += 1\n",
        "if flag == False:\n",
        "  print('Not Found')\n",
        "print('The number of occurrences: ', count)"
      ],
      "metadata": {
        "colab": {
          "base_uri": "https://localhost:8080/"
        },
        "id": "oYfpUEskvnea",
        "outputId": "a46b15f7-b1fa-4b64-8a13-61882c33dda0"
      },
      "execution_count": null,
      "outputs": [
        {
          "output_type": "stream",
          "name": "stdout",
          "text": [
            "Enter main string: abaabaabacbbabccaacbc\n",
            "Enter substring: ab\n",
            "Found at inde:  0\n",
            "Found at inde:  3\n",
            "Found at inde:  6\n",
            "Found at inde:  12\n",
            "The number of occurrences:  4\n"
          ]
        }
      ]
    },
    {
      "cell_type": "code",
      "source": [
        "# counting the substrings in the given string:\n",
        "s = 'durgasoftdurgasoft'\n",
        "print(s.count('soft'))\n",
        "print(s.count('soft',2,6))\n",
        "print(s.count('soft',2,len(s)))"
      ],
      "metadata": {
        "colab": {
          "base_uri": "https://localhost:8080/"
        },
        "id": "bQXCHawB0UEM",
        "outputId": "9a236220-5a44-4d04-84e0-01fc13f22012"
      },
      "execution_count": null,
      "outputs": [
        {
          "output_type": "stream",
          "name": "stdout",
          "text": [
            "2\n",
            "0\n",
            "2\n"
          ]
        }
      ]
    },
    {
      "cell_type": "code",
      "source": [
        "# replacing the words\n",
        "s = 'Learning Python is very difficult'\n",
        "s = s.replace('difficult','easy')\n",
        "print(s)"
      ],
      "metadata": {
        "colab": {
          "base_uri": "https://localhost:8080/"
        },
        "id": "9UW2wOWZ02Ip",
        "outputId": "2cb26fa6-d1a5-4e6a-d6b1-a5daf089b7bc"
      },
      "execution_count": null,
      "outputs": [
        {
          "output_type": "stream",
          "name": "stdout",
          "text": [
            "Learning Python is very easy\n"
          ]
        }
      ]
    },
    {
      "cell_type": "code",
      "source": [
        "s= 'abababaaabaac'\n",
        "print(s)\n",
        "s = s.replace('a','b')\n",
        "print(s)"
      ],
      "metadata": {
        "colab": {
          "base_uri": "https://localhost:8080/"
        },
        "id": "VS1qHyu62mjb",
        "outputId": "481b283b-6e0d-4bef-d34f-f2ce21f7d922"
      },
      "execution_count": null,
      "outputs": [
        {
          "output_type": "stream",
          "name": "stdout",
          "text": [
            "abababaaabaac\n",
            "bbbbbbbbbbbbc\n"
          ]
        }
      ]
    },
    {
      "cell_type": "code",
      "source": [
        "#use of replace: words inside string can be replacable\n",
        "# s.replace(oldstring,newstring)"
      ],
      "metadata": {
        "id": "22jtkIB722ZA"
      },
      "execution_count": null,
      "outputs": []
    },
    {
      "cell_type": "code",
      "source": [
        "s = 'ababab'\n",
        "s1 = s.replace('a', 'b')\n",
        "print(s,'Address is: ', id(s))\n",
        "print(s1,'Address is: ', id(s1))"
      ],
      "metadata": {
        "colab": {
          "base_uri": "https://localhost:8080/"
        },
        "id": "S3NFmhIX2_Vf",
        "outputId": "ac688b24-eb06-43e4-f8cd-9e9348a69517"
      },
      "execution_count": null,
      "outputs": [
        {
          "output_type": "stream",
          "name": "stdout",
          "text": [
            "ababab Address is:  137023982889008\n",
            "bbbbbb Address is:  137023984397808\n"
          ]
        }
      ]
    },
    {
      "cell_type": "code",
      "source": [
        "s = 'ababab'\n",
        "print(s,'Address is: ', id(s))\n",
        "s = s.replace('a', 'b')\n",
        "print(s,'Address is: ', id(s))"
      ],
      "metadata": {
        "colab": {
          "base_uri": "https://localhost:8080/"
        },
        "id": "sEvckd1C3w7Q",
        "outputId": "d9eaf8de-128f-4e53-a232-ece699e0f51b"
      },
      "execution_count": null,
      "outputs": [
        {
          "output_type": "stream",
          "name": "stdout",
          "text": [
            "ababab Address is:  137023982788784\n",
            "bbbbbb Address is:  137023982422192\n"
          ]
        }
      ]
    },
    {
      "cell_type": "code",
      "source": [
        "# spliting the string\n",
        "# default split is 'space'\n"
      ],
      "metadata": {
        "id": "pfnzyURe4FVj"
      },
      "execution_count": null,
      "outputs": []
    },
    {
      "cell_type": "code",
      "source": [
        "s = 'Durga Software soultion'\n",
        "l = s.split()\n",
        "print(type(l))\n",
        "print(l)"
      ],
      "metadata": {
        "colab": {
          "base_uri": "https://localhost:8080/"
        },
        "id": "VO5Sq-mk8eXb",
        "outputId": "5d2a37a5-aa63-4c2b-e5f7-f22b7a98c0b4"
      },
      "execution_count": null,
      "outputs": [
        {
          "output_type": "stream",
          "name": "stdout",
          "text": [
            "<class 'list'>\n",
            "['Durga', 'Software', 'soultion']\n"
          ]
        }
      ]
    },
    {
      "cell_type": "code",
      "source": [
        "s = 'Durga Software soultion'\n",
        "l = s.split()\n",
        "print(l)\n",
        "for x in l:\n",
        "  print(x)"
      ],
      "metadata": {
        "colab": {
          "base_uri": "https://localhost:8080/"
        },
        "id": "8rR_7m5j8now",
        "outputId": "94fe776c-844e-4f11-f9fd-eb1aa5809550"
      },
      "execution_count": null,
      "outputs": [
        {
          "output_type": "stream",
          "name": "stdout",
          "text": [
            "['Durga', 'Software', 'soultion']\n",
            "Durga\n",
            "Software\n",
            "soultion\n"
          ]
        }
      ]
    },
    {
      "cell_type": "code",
      "source": [
        "s = '02-03-2018'\n",
        "l = s.split('-')\n",
        "print(l)\n",
        "for x in l:\n",
        "  print(x)"
      ],
      "metadata": {
        "colab": {
          "base_uri": "https://localhost:8080/"
        },
        "id": "AvBoGOz58v7q",
        "outputId": "1179a467-53c3-499d-8d73-b74cae004750"
      },
      "execution_count": null,
      "outputs": [
        {
          "output_type": "stream",
          "name": "stdout",
          "text": [
            "['02', '03', '2018']\n",
            "02\n",
            "03\n",
            "2018\n"
          ]
        }
      ]
    },
    {
      "cell_type": "code",
      "source": [
        "l = ['Durga','soft','soultion']\n",
        "s = '-'.join(l)\n",
        "print(s)"
      ],
      "metadata": {
        "colab": {
          "base_uri": "https://localhost:8080/"
        },
        "id": "hcLhgzl-87yh",
        "outputId": "cc98e952-d0a9-41fe-c2ca-899930b268cd"
      },
      "execution_count": null,
      "outputs": [
        {
          "output_type": "stream",
          "name": "stdout",
          "text": [
            "Durga-soft-soultion\n"
          ]
        }
      ]
    },
    {
      "cell_type": "code",
      "source": [
        "l = ['Durga','soft','soultion']\n",
        "s = ' '.join(l) # space\n",
        "print(s)"
      ],
      "metadata": {
        "colab": {
          "base_uri": "https://localhost:8080/"
        },
        "id": "uO6ZOsCZ-KvV",
        "outputId": "284d6ff8-1141-48e4-febe-fe3bb62605bb"
      },
      "execution_count": null,
      "outputs": [
        {
          "output_type": "stream",
          "name": "stdout",
          "text": [
            "Durga soft soultion\n"
          ]
        }
      ]
    },
    {
      "cell_type": "code",
      "source": [
        "# change the case of string:\n",
        "s = 'pawan Kataria'\n",
        "print(s.upper()) # all in upper case\n",
        "print(s.lower()) # all in lower case\n",
        "print(s.swapcase()) # swaping words like lower to upper or vice versa\n",
        "print(s.title()) # only title words in capital\n",
        "print(s.capitalize()) # only first letter is capital"
      ],
      "metadata": {
        "colab": {
          "base_uri": "https://localhost:8080/"
        },
        "id": "JmQMtJ4l-lW1",
        "outputId": "282e7408-6710-44b6-a219-3ead191e7927"
      },
      "execution_count": null,
      "outputs": [
        {
          "output_type": "stream",
          "name": "stdout",
          "text": [
            "PAWAN KATARIA\n",
            "pawan kataria\n",
            "PAWAN kATARIA\n",
            "Pawan Kataria\n",
            "Pawan kataria\n"
          ]
        }
      ]
    },
    {
      "cell_type": "code",
      "source": [
        "# checking starting and ending part of the string\n",
        "s = 'Learning python is very easy'\n",
        "print(s.startswith('Learning'))\n",
        "print(s.endswith('Easy'))"
      ],
      "metadata": {
        "colab": {
          "base_uri": "https://localhost:8080/"
        },
        "id": "gzinoHKj-yJF",
        "outputId": "dce36c7d-b82e-428c-ab68-5224754e15ac"
      },
      "execution_count": null,
      "outputs": [
        {
          "output_type": "stream",
          "name": "stdout",
          "text": [
            "True\n",
            "False\n"
          ]
        }
      ]
    },
    {
      "cell_type": "code",
      "source": [
        "# isalnum - only contain aphanumeric character a-z, A-Z, 0-9\n",
        "# isaplha()\n",
        "# isdigit()\n",
        "#islower()\n",
        "# isupper()\n",
        "# istitle()\n",
        "# isspace()"
      ],
      "metadata": {
        "id": "UGI_Qj8VArQ0"
      },
      "execution_count": null,
      "outputs": []
    },
    {
      "cell_type": "code",
      "source": [
        "print('Pawan'.isalnum())\n",
        "print('pawan878'.isalpha())\n",
        "print('pawankataria9384'.isdigit())\n",
        "print('')"
      ],
      "metadata": {
        "colab": {
          "base_uri": "https://localhost:8080/"
        },
        "id": "K_Jy3XLc_cu3",
        "outputId": "ffb66840-5ce3-4cc4-df44-3a29303ccfa6"
      },
      "execution_count": null,
      "outputs": [
        {
          "output_type": "stream",
          "name": "stdout",
          "text": [
            "True\n",
            "False\n",
            "False\n",
            "\n"
          ]
        }
      ]
    },
    {
      "cell_type": "code",
      "source": [
        "s = input('Enter the character: ')\n",
        "if s.isalnum():\n",
        "  print('Alpha Numeric Character')\n",
        "  if s.isalpha():\n",
        "    print('Alphabet character')\n",
        "    if s.islower():\n",
        "      print('Lower case alphabet charater')\n",
        "    else:\n",
        "      print('Upper case alphabet character')\n",
        "  else:\n",
        "    print('It is digit')\n",
        "elif s.isspace():\n",
        "  print('It is space character')\n",
        "else:\n",
        "  print('Non space special Character')\n"
      ],
      "metadata": {
        "colab": {
          "base_uri": "https://localhost:8080/"
        },
        "id": "VPRqmeKICadx",
        "outputId": "ffe835a9-fd81-4432-f944-86074dfc7e22"
      },
      "execution_count": null,
      "outputs": [
        {
          "output_type": "stream",
          "name": "stdout",
          "text": [
            "Enter the character:  \n",
            "It is space character\n"
          ]
        }
      ]
    },
    {
      "cell_type": "code",
      "source": [
        "name = 'Pawan'\n",
        "age = 30\n",
        "salary = 10000\n",
        "print(\"{}'s age is {} and his salary is {}\".format(name,age,salary))"
      ],
      "metadata": {
        "colab": {
          "base_uri": "https://localhost:8080/"
        },
        "id": "mqJbUjfSDtVt",
        "outputId": "507ae259-6ea5-4f98-f302-21769472c667"
      },
      "execution_count": null,
      "outputs": [
        {
          "output_type": "stream",
          "name": "stdout",
          "text": [
            "Pawan's age is 30 and his salary is 10000\n"
          ]
        }
      ]
    },
    {
      "cell_type": "code",
      "source": [
        "# Reverse string method"
      ],
      "metadata": {
        "id": "wDiIvZv5UXgV"
      },
      "execution_count": null,
      "outputs": []
    },
    {
      "cell_type": "code",
      "source": [
        "s = input('Enter some string: ')\n",
        "print(s[::-1])"
      ],
      "metadata": {
        "colab": {
          "base_uri": "https://localhost:8080/"
        },
        "id": "9k1gWqG7PE73",
        "outputId": "9231db61-f809-49bf-ec7f-cf8316b220a2"
      },
      "execution_count": null,
      "outputs": [
        {
          "output_type": "stream",
          "name": "stdout",
          "text": [
            "Enter some string: pawan\n",
            "nawap\n"
          ]
        }
      ]
    },
    {
      "cell_type": "code",
      "source": [
        "s = input('Enter some string: ')\n",
        "print(reversed(s))"
      ],
      "metadata": {
        "colab": {
          "base_uri": "https://localhost:8080/"
        },
        "id": "oGBGMt0_UQ6i",
        "outputId": "e598f5a3-c4d3-4a5f-b22a-d1580b0e3a87"
      },
      "execution_count": null,
      "outputs": [
        {
          "output_type": "stream",
          "name": "stdout",
          "text": [
            "Enter some string: Kataria\n",
            "<reversed object at 0x7a06509ddf90>\n"
          ]
        }
      ]
    },
    {
      "cell_type": "code",
      "source": [
        "s = input('Enter some string: ')\n",
        "for x in reversed(s):\n",
        "  print(x)"
      ],
      "metadata": {
        "colab": {
          "base_uri": "https://localhost:8080/"
        },
        "id": "bw9KjwO8Ujy8",
        "outputId": "53c6324d-ab0d-4d85-ae9a-318706f9ba3a"
      },
      "execution_count": null,
      "outputs": [
        {
          "output_type": "stream",
          "name": "stdout",
          "text": [
            "Enter some string: kataria\n",
            "a\n",
            "i\n",
            "r\n",
            "a\n",
            "t\n",
            "a\n",
            "k\n"
          ]
        }
      ]
    },
    {
      "cell_type": "code",
      "source": [
        "s = input('Enter some string: ')\n",
        "print(''.join(reversed(s)))"
      ],
      "metadata": {
        "colab": {
          "base_uri": "https://localhost:8080/"
        },
        "id": "CRWA79tKUrev",
        "outputId": "23d7f165-32f9-407a-c4db-3d932826fa5c"
      },
      "execution_count": null,
      "outputs": [
        {
          "output_type": "stream",
          "name": "stdout",
          "text": [
            "Enter some string: katariaa\n",
            "aairatak\n"
          ]
        }
      ]
    },
    {
      "cell_type": "code",
      "source": [
        "s = input('Enter some string: ')\n",
        "for x in reversed(s):\n",
        "  print(x,end='')"
      ],
      "metadata": {
        "colab": {
          "base_uri": "https://localhost:8080/"
        },
        "id": "qC54xCMZU_kZ",
        "outputId": "c9c938c6-49fe-4971-d46e-7af11c458be5"
      },
      "execution_count": null,
      "outputs": [
        {
          "output_type": "stream",
          "name": "stdout",
          "text": [
            "Enter some string: pawan\n",
            "nawap"
          ]
        }
      ]
    },
    {
      "cell_type": "code",
      "source": [
        "s = input('Enter some string: ')\n",
        "i = len(s)-1 # for final index\n",
        "output = ''\n",
        "while i >= 0:\n",
        "  output = output + s[i]\n",
        "  i = i-1\n",
        "print(output)"
      ],
      "metadata": {
        "colab": {
          "base_uri": "https://localhost:8080/"
        },
        "id": "Y3fvm9GCVcDc",
        "outputId": "aa86625c-34e7-4aa7-bb68-27113dedfc1e"
      },
      "execution_count": null,
      "outputs": [
        {
          "output_type": "stream",
          "name": "stdout",
          "text": [
            "Enter some string: pawan kataria\n",
            "airatak nawap\n"
          ]
        }
      ]
    },
    {
      "cell_type": "code",
      "source": [
        "s = input('Enter some string: ')\n",
        "l = s.split() # convert string into list\n",
        "l1 = []\n",
        "i = len(l)-1 # for index position\n",
        "while i >= 0:\n",
        "  l1.append(l[i])\n",
        "  i = i-1\n",
        "print(l1)"
      ],
      "metadata": {
        "colab": {
          "base_uri": "https://localhost:8080/"
        },
        "id": "y1XoT2Y6Wa6X",
        "outputId": "a6e3a6b1-7a9b-42ba-d989-1aeaea076d26"
      },
      "execution_count": null,
      "outputs": [
        {
          "output_type": "stream",
          "name": "stdout",
          "text": [
            "Enter some string: name pawan katarai\n",
            "['katarai', 'pawan', 'name']\n"
          ]
        }
      ]
    },
    {
      "cell_type": "code",
      "source": [
        "s = input('Enter some string: ')\n",
        "l = s.split() # convert string into list\n",
        "l1 = []\n",
        "i = len(l)-1 # for index position\n",
        "while i >= 0:\n",
        "  l1.append(l[i])\n",
        "  i = i-1\n",
        "output = ' '.join(l1)\n",
        "print(output)"
      ],
      "metadata": {
        "colab": {
          "base_uri": "https://localhost:8080/"
        },
        "id": "byNzeNBLW-y2",
        "outputId": "68aa351c-889c-4e6d-b013-13999b022ee0"
      },
      "execution_count": null,
      "outputs": [
        {
          "output_type": "stream",
          "name": "stdout",
          "text": [
            "Enter some string: learning python is very easy\n",
            "easy very is python learning\n"
          ]
        }
      ]
    },
    {
      "cell_type": "code",
      "source": [
        "s = input('enter the string: ')\n",
        "l = s.split()\n",
        "l1 = []\n",
        "for x in l:\n",
        "  l1.append(x[::-1])\n",
        "print(l1)"
      ],
      "metadata": {
        "colab": {
          "base_uri": "https://localhost:8080/"
        },
        "id": "1nR1xyl-X2V8",
        "outputId": "271719fe-f4c3-4f2e-d5c3-420cc7de2775"
      },
      "execution_count": null,
      "outputs": [
        {
          "output_type": "stream",
          "name": "stdout",
          "text": [
            "enter the string: durga software solution\n",
            "['agrud', 'erawtfos', 'noitulos']\n"
          ]
        }
      ]
    },
    {
      "cell_type": "code",
      "source": [
        "s = input('enter the string: ')\n",
        "l = s.split()\n",
        "l1 = []\n",
        "for x in l:\n",
        "  l1.append(x[::-1])\n",
        "output = ' '.join(l1)\n",
        "print(output)"
      ],
      "metadata": {
        "colab": {
          "base_uri": "https://localhost:8080/"
        },
        "id": "3AmJHLU6ZEh7",
        "outputId": "a2d43324-afee-4d2b-c7e7-f232b89fd6d6"
      },
      "execution_count": null,
      "outputs": [
        {
          "output_type": "stream",
          "name": "stdout",
          "text": [
            "enter the string: pawan kataria\n",
            "nawap airatak\n"
          ]
        }
      ]
    },
    {
      "cell_type": "code",
      "source": [
        "s = input('enter the string: ')\n",
        "print('Characters at even position: ', s[::2])\n",
        "print('Characters at odd  position: ', s[1::2])"
      ],
      "metadata": {
        "id": "aLelGkSqaS-W",
        "colab": {
          "base_uri": "https://localhost:8080/"
        },
        "outputId": "a1bf7929-5a61-4e61-ccb9-62b33cf0203a"
      },
      "execution_count": null,
      "outputs": [
        {
          "output_type": "stream",
          "name": "stdout",
          "text": [
            "enter the string: India Jaipur\n",
            "Characters at even position:  IdaJiu\n",
            "Characters at odd position:  ni apr\n"
          ]
        }
      ]
    },
    {
      "cell_type": "code",
      "source": [
        "s = input('enter the string: ')\n",
        "i = 0\n",
        "print('the character at even position: ')\n",
        "while i<len(s):\n",
        "  print(s[i], end=',')\n",
        "  i = i+2"
      ],
      "metadata": {
        "colab": {
          "base_uri": "https://localhost:8080/"
        },
        "id": "myRUnLUK1SMH",
        "outputId": "2527b74c-2dce-47af-e1e3-0b6643350b00"
      },
      "execution_count": null,
      "outputs": [
        {
          "output_type": "stream",
          "name": "stdout",
          "text": [
            "enter the string: fuths\n",
            "the character at even position: \n",
            "f,t,s,"
          ]
        }
      ]
    },
    {
      "cell_type": "code",
      "source": [
        "s = input('enter the string: ')\n",
        "i = 0\n",
        "print('the character at even position: ')\n",
        "while i<len(s):\n",
        "  print(s[i], end=',')\n",
        "  i = i+2\n",
        "print()\n",
        "print('The characters at odd position: ')\n",
        "i = 1\n",
        "while i<len(s):\n",
        "  print(s[i], end=',')\n",
        "  i = i+2"
      ],
      "metadata": {
        "colab": {
          "base_uri": "https://localhost:8080/"
        },
        "id": "zBLK522-1yB4",
        "outputId": "cb7d166a-9e20-4db3-f6fd-c2405476038e"
      },
      "execution_count": null,
      "outputs": [
        {
          "output_type": "stream",
          "name": "stdout",
          "text": [
            "enter the string: pawan kataria\n",
            "the character at even position: \n",
            "p,w,n,k,t,r,a,\n",
            "The characters at odd position: \n",
            "a,a, ,a,a,i,"
          ]
        }
      ]
    },
    {
      "cell_type": "code",
      "source": [
        "s = input('enter the string: ')\n",
        "s1 = s2 = output = ''\n",
        "for x in s:\n",
        "  if x.isalpha():\n",
        "    s1 = s1+x\n",
        "  else:\n",
        "    s2 = s2+x\n",
        "print('The string character: ',s1)\n",
        "print('The numeric characters: ',s2)"
      ],
      "metadata": {
        "colab": {
          "base_uri": "https://localhost:8080/"
        },
        "id": "X7LK08L62POA",
        "outputId": "f6dd108c-dd7d-4c03-f1ae-e3332e8da079"
      },
      "execution_count": null,
      "outputs": [
        {
          "output_type": "stream",
          "name": "stdout",
          "text": [
            "enter the string: j2j4g5ve94j5h2\n",
            "The string character:  jjgvejh\n",
            "The numeric characters:  2459452\n"
          ]
        }
      ]
    },
    {
      "cell_type": "code",
      "source": [
        "s = input('enter the string: ')\n",
        "s1 = s2 = output = ''\n",
        "for x in s:\n",
        "  if x.isalpha():\n",
        "    s1 = s1+x\n",
        "  else:\n",
        "    s2 = s2+x\n",
        "print('The string character: ',s1)\n",
        "print('The numeric characters: ',s2)\n",
        "for x in sorted(s1):\n",
        "  output = output+x\n",
        "for x in sorted(s2):\n",
        "  output = output+x\n",
        "print('Final Output is: ',output)"
      ],
      "metadata": {
        "colab": {
          "base_uri": "https://localhost:8080/"
        },
        "id": "Qvift8Lh3o9m",
        "outputId": "b080f5f5-3a61-41bc-e086-cc41bc21891f"
      },
      "execution_count": null,
      "outputs": [
        {
          "output_type": "stream",
          "name": "stdout",
          "text": [
            "enter the string: kek5b3005b3b4j5\n",
            "The string character:  kekbbbj\n",
            "The numeric characters:  53005345\n",
            "Final Output is:  bbbejkk00334555\n"
          ]
        }
      ]
    },
    {
      "cell_type": "code",
      "source": [
        "s = input('enter the string: ')\n",
        "output = ''\n",
        "for x in s:\n",
        "  if x.isalpha():\n",
        "    output = output + x\n",
        "    previous = x\n",
        "  else:\n",
        "    output = output + previous*(int(x)-1)\n",
        "print('Final string: ',output)"
      ],
      "metadata": {
        "colab": {
          "base_uri": "https://localhost:8080/"
        },
        "id": "umHfOKJj44sa",
        "outputId": "feec90bf-b072-4fea-9413-40647bffdc9c"
      },
      "execution_count": null,
      "outputs": [
        {
          "output_type": "stream",
          "name": "stdout",
          "text": [
            "enter the string: w2e3r4\n",
            "Final string:  wweeerrrr\n"
          ]
        }
      ]
    },
    {
      "cell_type": "code",
      "source": [
        "s = input('enter the string: ')\n",
        "output = ''\n",
        "for x in s:\n",
        "  if x.isalpha():\n",
        "    output += x\n",
        "    previous = x\n",
        "  else:\n",
        "    newch = chr(ord(previous)+int(x))\n",
        "    output += newch\n",
        "print('Final string: ', output)"
      ],
      "metadata": {
        "colab": {
          "base_uri": "https://localhost:8080/"
        },
        "id": "_tF1vtgU8WQo",
        "outputId": "e68b1a90-45ef-4453-d580-1f35dffa64a2"
      },
      "execution_count": null,
      "outputs": [
        {
          "output_type": "stream",
          "name": "stdout",
          "text": [
            "enter the string: s234\n",
            "Final string:  suvw\n"
          ]
        }
      ]
    },
    {
      "cell_type": "code",
      "source": [
        "s1 = input('enter the string: ')\n",
        "s2 = input('enter the string: ')\n",
        "output =''\n",
        "i = j = 0\n",
        "while i<len(s1) or j<len(s2):\n",
        "  output = output + s1[i] + s2[j]\n",
        "  i += 1\n",
        "  j += 1\n",
        "print(output)"
      ],
      "metadata": {
        "colab": {
          "base_uri": "https://localhost:8080/"
        },
        "id": "IZ1rUJfM_J13",
        "outputId": "947d28a8-a13f-40fe-9827-84f669a98cb1"
      },
      "execution_count": null,
      "outputs": [
        {
          "output_type": "stream",
          "name": "stdout",
          "text": [
            "enter the string: ravi\n",
            "enter the string: teja\n",
            "rtaevjia\n"
          ]
        }
      ]
    },
    {
      "cell_type": "code",
      "source": [
        "s1 = input('enter the string: ')\n",
        "s2 = input('enter the string: ')\n",
        "output =''\n",
        "i = j = 0\n",
        "while i<len(s1) or j<len(s2):\n",
        "  if i<len(s1):\n",
        "    output = output + s1[i]\n",
        "    i += 1\n",
        "  if j<len(s2):\n",
        "    output = output + s2[j]\n",
        "    j += 1\n",
        "print(output)"
      ],
      "metadata": {
        "colab": {
          "base_uri": "https://localhost:8080/"
        },
        "id": "w_RNsxIxBS1u",
        "outputId": "295a1cf1-d6fa-4a29-8910-f872772b7b4d"
      },
      "execution_count": null,
      "outputs": [
        {
          "output_type": "stream",
          "name": "stdout",
          "text": [
            "enter the string: Ravi\n",
            "enter the string: TEjaSOft\n",
            "RTaEvjiaSOft\n"
          ]
        }
      ]
    },
    {
      "cell_type": "code",
      "source": [
        "# to remove the duplicate letters\n",
        "\n",
        "s = input('enter the string: ')\n",
        "\n",
        "l = []\n",
        "for x in s:\n",
        "  if x not in l:\n",
        "    l.append(x)\n",
        "output = ''.join(l)\n",
        "print(output)"
      ],
      "metadata": {
        "colab": {
          "base_uri": "https://localhost:8080/"
        },
        "id": "hpv9JBRXB-E7",
        "outputId": "0cff1e4a-cf52-48d4-88dd-cca8ea75da3c"
      },
      "execution_count": null,
      "outputs": [
        {
          "output_type": "stream",
          "name": "stdout",
          "text": [
            "enter the string: pawan katara\n",
            "pawn ktr\n"
          ]
        }
      ]
    },
    {
      "cell_type": "code",
      "source": [
        "s = input('enter the string: ')\n",
        "print(''.join(set(s))) # order is not maintained"
      ],
      "metadata": {
        "colab": {
          "base_uri": "https://localhost:8080/"
        },
        "id": "fxNo_fGEPpFH",
        "outputId": "578e2261-dc61-44f0-9eee-01faad1848b4"
      },
      "execution_count": null,
      "outputs": [
        {
          "output_type": "stream",
          "name": "stdout",
          "text": [
            "enter the string: pawan\n",
            "awpn\n"
          ]
        }
      ]
    },
    {
      "cell_type": "code",
      "source": [
        "s = input('enter the string: ')\n",
        "d = {}\n",
        "for x in s:\n",
        "  if x not in d.keys():\n",
        "    d[x] = 1\n",
        "  else:\n",
        "    d[x] = d[x]+1\n",
        "print(d)"
      ],
      "metadata": {
        "colab": {
          "base_uri": "https://localhost:8080/"
        },
        "id": "kUyAP9vwQW3b",
        "outputId": "7f5cecb7-5d42-4d42-a708-a737619145d1"
      },
      "execution_count": null,
      "outputs": [
        {
          "output_type": "stream",
          "name": "stdout",
          "text": [
            "enter the string: aabbdaabsbaa\n",
            "{'a': 6, 'b': 4, 'd': 1, 's': 1}\n"
          ]
        }
      ]
    },
    {
      "cell_type": "code",
      "source": [
        "s = input('enter the string: ')\n",
        "d = {}\n",
        "for x in s:\n",
        "  if x not in d.keys():\n",
        "    d[x] = 1\n",
        "  else:\n",
        "    d[x] = d[x]+1\n",
        "for k,v in d.items():\n",
        "  print('{} occurs {} times'.format(k,v))"
      ],
      "metadata": {
        "colab": {
          "base_uri": "https://localhost:8080/"
        },
        "id": "WqDVpt_WTj7X",
        "outputId": "19dee96b-baf4-4dd1-fdeb-d643b0bf1f84"
      },
      "execution_count": null,
      "outputs": [
        {
          "output_type": "stream",
          "name": "stdout",
          "text": [
            "enter the string: pawan kataria\n",
            "p occurs 1 times\n",
            "a occurs 5 times\n",
            "w occurs 1 times\n",
            "n occurs 1 times\n",
            "  occurs 1 times\n",
            "k occurs 1 times\n",
            "t occurs 1 times\n",
            "r occurs 1 times\n",
            "i occurs 1 times\n"
          ]
        }
      ]
    },
    {
      "cell_type": "code",
      "source": [],
      "metadata": {
        "id": "3ZHfUZPiT2dV"
      },
      "execution_count": null,
      "outputs": []
    }
  ]
}