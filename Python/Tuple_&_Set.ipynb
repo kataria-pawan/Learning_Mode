{
  "nbformat": 4,
  "nbformat_minor": 0,
  "metadata": {
    "colab": {
      "provenance": [],
      "authorship_tag": "ABX9TyNkp77ZtaqVbmzh63ps/hpY",
      "include_colab_link": true
    },
    "kernelspec": {
      "name": "python3",
      "display_name": "Python 3"
    },
    "language_info": {
      "name": "python"
    }
  },
  "cells": [
    {
      "cell_type": "markdown",
      "metadata": {
        "id": "view-in-github",
        "colab_type": "text"
      },
      "source": [
        "<a href=\"https://colab.research.google.com/github/kataria-pawan/Learning_Mode/blob/main/Python/Tuple_%26_Set.ipynb\" target=\"_parent\"><img src=\"https://colab.research.google.com/assets/colab-badge.svg\" alt=\"Open In Colab\"/></a>"
      ]
    },
    {
      "cell_type": "code",
      "execution_count": null,
      "metadata": {
        "id": "8JKRVVfUHnr0"
      },
      "outputs": [],
      "source": [
        "# READ ONLY VERSION OF LIST IS TUPLE\n",
        "# TUPLE ELEMENT REPRESENTED IN ()\n"
      ]
    },
    {
      "cell_type": "code",
      "source": [
        "t = 10,20,30,40\n",
        "y = (10,20,30,40)\n",
        "print(type(t))\n",
        "print(type(y))"
      ],
      "metadata": {
        "colab": {
          "base_uri": "https://localhost:8080/"
        },
        "id": "L1ti_DwHNR1q",
        "outputId": "403a45d5-d435-445c-8f51-ce3adb7307d9"
      },
      "execution_count": null,
      "outputs": [
        {
          "output_type": "stream",
          "name": "stdout",
          "text": [
            "<class 'tuple'>\n",
            "<class 'tuple'>\n"
          ]
        }
      ]
    },
    {
      "cell_type": "code",
      "source": [
        "t = (10+20) # always consider as int type\n",
        "print(type(t))"
      ],
      "metadata": {
        "colab": {
          "base_uri": "https://localhost:8080/"
        },
        "id": "fKT0Gca-Nwrf",
        "outputId": "93db576e-ee69-4323-ace9-309804d612e1"
      },
      "execution_count": null,
      "outputs": [
        {
          "output_type": "stream",
          "name": "stdout",
          "text": [
            "<class 'int'>\n"
          ]
        }
      ]
    },
    {
      "cell_type": "code",
      "source": [
        "t = (10,)\n",
        "print(type(t))\n",
        "print(t)"
      ],
      "metadata": {
        "colab": {
          "base_uri": "https://localhost:8080/"
        },
        "id": "7jOpaFvnOAyh",
        "outputId": "d43e2520-35c7-432a-9ae1-34c9b12dd2a4"
      },
      "execution_count": null,
      "outputs": [
        {
          "output_type": "stream",
          "name": "stdout",
          "text": [
            "<class 'tuple'>\n",
            "(10,)\n"
          ]
        }
      ]
    },
    {
      "cell_type": "code",
      "source": [
        "t = (10,20,30,)\n",
        "print(t)"
      ],
      "metadata": {
        "colab": {
          "base_uri": "https://localhost:8080/"
        },
        "id": "VmggVWAJOzFH",
        "outputId": "67c7d95b-f540-4fb4-f5f2-f2271915e2e7"
      },
      "execution_count": null,
      "outputs": [
        {
          "output_type": "stream",
          "name": "stdout",
          "text": [
            "(10, 20, 30)\n"
          ]
        }
      ]
    },
    {
      "cell_type": "code",
      "source": [
        "t = tuple(range(1,11))\n",
        "print(t)"
      ],
      "metadata": {
        "colab": {
          "base_uri": "https://localhost:8080/"
        },
        "id": "6INyo17SO7nX",
        "outputId": "31af905f-14b8-4cae-dc5c-82e3bbea0557"
      },
      "execution_count": null,
      "outputs": [
        {
          "output_type": "stream",
          "name": "stdout",
          "text": [
            "(1, 2, 3, 4, 5, 6, 7, 8, 9, 10)\n"
          ]
        }
      ]
    },
    {
      "cell_type": "code",
      "source": [
        "t = tuple(range(1,11,2))\n",
        "print(t)"
      ],
      "metadata": {
        "colab": {
          "base_uri": "https://localhost:8080/"
        },
        "id": "oDMw6yAePVMG",
        "outputId": "2c34dc3a-15cf-48e9-dbac-8805267bbe69"
      },
      "execution_count": null,
      "outputs": [
        {
          "output_type": "stream",
          "name": "stdout",
          "text": [
            "(1, 3, 5, 7, 9)\n"
          ]
        }
      ]
    },
    {
      "cell_type": "code",
      "source": [
        "# access elements of tuple\n",
        "# index and slice operators"
      ],
      "metadata": {
        "id": "G9Oy2Se7PYfl"
      },
      "execution_count": null,
      "outputs": []
    },
    {
      "cell_type": "code",
      "source": [
        "print(t)\n",
        "print(t[0])\n",
        "print(t[1:4])"
      ],
      "metadata": {
        "colab": {
          "base_uri": "https://localhost:8080/"
        },
        "id": "Cc3K3iQvPidT",
        "outputId": "57a55c6a-1501-450a-8f32-4f6caf3ebccc"
      },
      "execution_count": null,
      "outputs": [
        {
          "output_type": "stream",
          "name": "stdout",
          "text": [
            "(1, 3, 5, 7, 9)\n",
            "1\n",
            "(3, 5, 7)\n"
          ]
        }
      ]
    },
    {
      "cell_type": "code",
      "source": [
        "t =tuple('durgra soft')\n",
        "print(t)\n",
        "print(t[0])\n",
        "print(t[1:4:1])"
      ],
      "metadata": {
        "colab": {
          "base_uri": "https://localhost:8080/"
        },
        "id": "ll9CGOXsPlTe",
        "outputId": "b9053cde-0ca9-456f-f9f6-1a77192bd4c6"
      },
      "execution_count": null,
      "outputs": [
        {
          "output_type": "stream",
          "name": "stdout",
          "text": [
            "('d', 'u', 'r', 'g', 'r', 'a', ' ', 's', 'o', 'f', 't')\n",
            "d\n",
            "('u', 'r', 'g')\n"
          ]
        }
      ]
    },
    {
      "cell_type": "code",
      "source": [
        "t1 = (10,20,30)\n",
        "t2 = (40,50,60)\n",
        "t3 = t1+t2\n",
        "print(t1)\n",
        "print(t2)\n",
        "print(t3)"
      ],
      "metadata": {
        "colab": {
          "base_uri": "https://localhost:8080/"
        },
        "id": "M6Cto9fZP0-9",
        "outputId": "867e122a-388a-4d55-d7f5-fb7d22f64e13"
      },
      "execution_count": null,
      "outputs": [
        {
          "output_type": "stream",
          "name": "stdout",
          "text": [
            "(10, 20, 30)\n",
            "(40, 50, 60)\n",
            "(10, 20, 30, 40, 50, 60)\n"
          ]
        }
      ]
    },
    {
      "cell_type": "code",
      "source": [
        "t1 = (10,20,30)\n",
        "t2 = (40,50,60)\n",
        "t3 = t1*t2\n",
        "print(t1)\n",
        "print(t2)\n",
        "print(t3)"
      ],
      "metadata": {
        "colab": {
          "base_uri": "https://localhost:8080/",
          "height": 241
        },
        "id": "iq_Ah6ErQfRB",
        "outputId": "6eec264c-fd5f-4f14-b126-c990f8abdfe0"
      },
      "execution_count": null,
      "outputs": [
        {
          "output_type": "error",
          "ename": "TypeError",
          "evalue": "ignored",
          "traceback": [
            "\u001b[0;31m---------------------------------------------------------------------------\u001b[0m",
            "\u001b[0;31mTypeError\u001b[0m                                 Traceback (most recent call last)",
            "\u001b[0;32m<ipython-input-20-7fb2f8f8a35b>\u001b[0m in \u001b[0;36m<cell line: 3>\u001b[0;34m()\u001b[0m\n\u001b[1;32m      1\u001b[0m \u001b[0mt1\u001b[0m \u001b[0;34m=\u001b[0m \u001b[0;34m(\u001b[0m\u001b[0;36m10\u001b[0m\u001b[0;34m,\u001b[0m\u001b[0;36m20\u001b[0m\u001b[0;34m,\u001b[0m\u001b[0;36m30\u001b[0m\u001b[0;34m)\u001b[0m\u001b[0;34m\u001b[0m\u001b[0;34m\u001b[0m\u001b[0m\n\u001b[1;32m      2\u001b[0m \u001b[0mt2\u001b[0m \u001b[0;34m=\u001b[0m \u001b[0;34m(\u001b[0m\u001b[0;36m40\u001b[0m\u001b[0;34m,\u001b[0m\u001b[0;36m50\u001b[0m\u001b[0;34m,\u001b[0m\u001b[0;36m60\u001b[0m\u001b[0;34m)\u001b[0m\u001b[0;34m\u001b[0m\u001b[0;34m\u001b[0m\u001b[0m\n\u001b[0;32m----> 3\u001b[0;31m \u001b[0mt3\u001b[0m \u001b[0;34m=\u001b[0m \u001b[0mt1\u001b[0m\u001b[0;34m*\u001b[0m\u001b[0mt2\u001b[0m\u001b[0;34m\u001b[0m\u001b[0;34m\u001b[0m\u001b[0m\n\u001b[0m\u001b[1;32m      4\u001b[0m \u001b[0mprint\u001b[0m\u001b[0;34m(\u001b[0m\u001b[0mt1\u001b[0m\u001b[0;34m)\u001b[0m\u001b[0;34m\u001b[0m\u001b[0;34m\u001b[0m\u001b[0m\n\u001b[1;32m      5\u001b[0m \u001b[0mprint\u001b[0m\u001b[0;34m(\u001b[0m\u001b[0mt2\u001b[0m\u001b[0;34m)\u001b[0m\u001b[0;34m\u001b[0m\u001b[0;34m\u001b[0m\u001b[0m\n",
            "\u001b[0;31mTypeError\u001b[0m: can't multiply sequence by non-int of type 'tuple'"
          ]
        }
      ]
    },
    {
      "cell_type": "code",
      "source": [
        "t1 = (10,20,30)\n",
        "t2 = t1*3\n",
        "print(t1)\n",
        "print(t2)"
      ],
      "metadata": {
        "colab": {
          "base_uri": "https://localhost:8080/"
        },
        "id": "wrGvbpXVQkts",
        "outputId": "827c8f5c-5a59-49e6-b612-648ffc8f8d60"
      },
      "execution_count": null,
      "outputs": [
        {
          "output_type": "stream",
          "name": "stdout",
          "text": [
            "(10, 20, 30)\n",
            "(10, 20, 30, 10, 20, 30, 10, 20, 30)\n"
          ]
        }
      ]
    },
    {
      "cell_type": "code",
      "source": [
        "t1 = (10,20,30)\n",
        "t2 = t1+3\n",
        "print(t1)\n",
        "print(t2)"
      ],
      "metadata": {
        "colab": {
          "base_uri": "https://localhost:8080/",
          "height": 223
        },
        "id": "HWF0X2BAQt2S",
        "outputId": "325ae397-26eb-4813-e624-b20512d4c1bf"
      },
      "execution_count": null,
      "outputs": [
        {
          "output_type": "error",
          "ename": "TypeError",
          "evalue": "ignored",
          "traceback": [
            "\u001b[0;31m---------------------------------------------------------------------------\u001b[0m",
            "\u001b[0;31mTypeError\u001b[0m                                 Traceback (most recent call last)",
            "\u001b[0;32m<ipython-input-22-e89378697730>\u001b[0m in \u001b[0;36m<cell line: 2>\u001b[0;34m()\u001b[0m\n\u001b[1;32m      1\u001b[0m \u001b[0mt1\u001b[0m \u001b[0;34m=\u001b[0m \u001b[0;34m(\u001b[0m\u001b[0;36m10\u001b[0m\u001b[0;34m,\u001b[0m\u001b[0;36m20\u001b[0m\u001b[0;34m,\u001b[0m\u001b[0;36m30\u001b[0m\u001b[0;34m)\u001b[0m\u001b[0;34m\u001b[0m\u001b[0;34m\u001b[0m\u001b[0m\n\u001b[0;32m----> 2\u001b[0;31m \u001b[0mt2\u001b[0m \u001b[0;34m=\u001b[0m \u001b[0mt1\u001b[0m\u001b[0;34m+\u001b[0m\u001b[0;36m3\u001b[0m\u001b[0;34m\u001b[0m\u001b[0;34m\u001b[0m\u001b[0m\n\u001b[0m\u001b[1;32m      3\u001b[0m \u001b[0mprint\u001b[0m\u001b[0;34m(\u001b[0m\u001b[0mt1\u001b[0m\u001b[0;34m)\u001b[0m\u001b[0;34m\u001b[0m\u001b[0;34m\u001b[0m\u001b[0m\n\u001b[1;32m      4\u001b[0m \u001b[0mprint\u001b[0m\u001b[0;34m(\u001b[0m\u001b[0mt2\u001b[0m\u001b[0;34m)\u001b[0m\u001b[0;34m\u001b[0m\u001b[0;34m\u001b[0m\u001b[0m\n",
            "\u001b[0;31mTypeError\u001b[0m: can only concatenate tuple (not \"int\") to tuple"
          ]
        }
      ]
    },
    {
      "cell_type": "code",
      "source": [
        "t = (10,20,30,40,10,10,50,60,70,80)\n",
        "print(len(t))\n",
        "print(t.count(10))\n",
        "print(t.index(10))\n",
        "print(sorted(t))\n",
        "print(tuple(sorted(t)))\n",
        "print(tuple(sorted(t,reverse =True)))"
      ],
      "metadata": {
        "colab": {
          "base_uri": "https://localhost:8080/"
        },
        "id": "bb41eVOzQzCN",
        "outputId": "3a9c59b8-759a-4529-96d4-73e1a73835da"
      },
      "execution_count": null,
      "outputs": [
        {
          "output_type": "stream",
          "name": "stdout",
          "text": [
            "10\n",
            "3\n",
            "0\n",
            "[10, 10, 10, 20, 30, 40, 50, 60, 70, 80]\n",
            "(10, 10, 10, 20, 30, 40, 50, 60, 70, 80)\n",
            "(80, 70, 60, 50, 40, 30, 20, 10, 10, 10)\n"
          ]
        }
      ]
    },
    {
      "cell_type": "code",
      "source": [
        "t = (10,20,30,40,10,10,50,60,70,80)\n",
        "print(min(t))\n",
        "print(max(t))"
      ],
      "metadata": {
        "colab": {
          "base_uri": "https://localhost:8080/"
        },
        "id": "NFGrtZNmY7RH",
        "outputId": "bc2103e7-4352-44f4-baf1-b9655fbc3e56"
      },
      "execution_count": null,
      "outputs": [
        {
          "output_type": "stream",
          "name": "stdout",
          "text": [
            "10\n",
            "80\n"
          ]
        }
      ]
    },
    {
      "cell_type": "code",
      "source": [
        "# tuple packing\n",
        "a = 10\n",
        "b = 20\n",
        "c = 30\n",
        "d = 40\n",
        "t = a,b,c,d\n",
        "print(t)"
      ],
      "metadata": {
        "colab": {
          "base_uri": "https://localhost:8080/"
        },
        "id": "mIjA_8bhbhI5",
        "outputId": "46a69aa5-bd88-4f56-8b75-711245c5abf2"
      },
      "execution_count": null,
      "outputs": [
        {
          "output_type": "stream",
          "name": "stdout",
          "text": [
            "(10, 20, 30, 40)\n"
          ]
        }
      ]
    },
    {
      "cell_type": "code",
      "source": [
        "# unpacking of tuple\n",
        "t = (10,20,30,40)\n",
        "a,b,c,d = t\n",
        "print('a=',a,'b=',b,'c=',c,'d=',d )"
      ],
      "metadata": {
        "colab": {
          "base_uri": "https://localhost:8080/"
        },
        "id": "5sfQGQJYdKTU",
        "outputId": "7b7ee6d8-fd6d-45a9-ba57-199b6e29e262"
      },
      "execution_count": null,
      "outputs": [
        {
          "output_type": "stream",
          "name": "stdout",
          "text": [
            "a= 10 b= 20 c= 30 d= 40\n"
          ]
        }
      ]
    },
    {
      "cell_type": "code",
      "source": [
        "t = [10,20,30,40]\n",
        "a,b,c,d = t\n",
        "print('a=',a,'b=',b,'c=',c,'d=',d )"
      ],
      "metadata": {
        "colab": {
          "base_uri": "https://localhost:8080/"
        },
        "id": "HNoBx_ZKd0Li",
        "outputId": "9b00ce9f-e634-43dd-d6fc-4514235e3d97"
      },
      "execution_count": null,
      "outputs": [
        {
          "output_type": "stream",
          "name": "stdout",
          "text": [
            "a= 10 b= 20 c= 30 d= 40\n"
          ]
        }
      ]
    },
    {
      "cell_type": "code",
      "source": [
        "t = {10,20,30,40}\n",
        "a,b,c,d = t\n",
        "print('a=',a,'b=',b,'c=',c,'d=',d )"
      ],
      "metadata": {
        "colab": {
          "base_uri": "https://localhost:8080/"
        },
        "id": "rMbFaYVzd7Dq",
        "outputId": "e88c6a43-df44-4e84-ba3d-2489452f5d63"
      },
      "execution_count": null,
      "outputs": [
        {
          "output_type": "stream",
          "name": "stdout",
          "text": [
            "a= 40 b= 10 c= 20 d= 30\n"
          ]
        }
      ]
    },
    {
      "cell_type": "code",
      "source": [
        "# write a program to take tuple of numbers from the keyboard and print sum, average\n",
        "t = eval(input('Enter the tuple: '))\n",
        "l = len(t)\n",
        "sum = 0\n",
        "for x in t:\n",
        "  sum = sum+x\n",
        "print('The sum: ', sum)\n",
        "print('The average: ', sum/l)"
      ],
      "metadata": {
        "colab": {
          "base_uri": "https://localhost:8080/"
        },
        "id": "3fUSajlYd-Us",
        "outputId": "481b0190-855e-4903-f867-6158f5335854"
      },
      "execution_count": null,
      "outputs": [
        {
          "output_type": "stream",
          "name": "stdout",
          "text": [
            "Enter the tuple: (10,20,30,40,50)\n",
            "The sum:  150\n",
            "The average:  30.0\n"
          ]
        }
      ]
    },
    {
      "cell_type": "code",
      "source": [
        "# SET\n",
        "s = {10,20,30}\n",
        "print(s[0]) # indexing is not applicable in set because order is not preserved in set"
      ],
      "metadata": {
        "colab": {
          "base_uri": "https://localhost:8080/",
          "height": 205
        },
        "id": "KTW7ghWfflRS",
        "outputId": "3863ba11-a57c-4b5e-b658-91db9416aca5"
      },
      "execution_count": null,
      "outputs": [
        {
          "output_type": "error",
          "ename": "TypeError",
          "evalue": "ignored",
          "traceback": [
            "\u001b[0;31m---------------------------------------------------------------------------\u001b[0m",
            "\u001b[0;31mTypeError\u001b[0m                                 Traceback (most recent call last)",
            "\u001b[0;32m<ipython-input-36-6f4d5068405f>\u001b[0m in \u001b[0;36m<cell line: 3>\u001b[0;34m()\u001b[0m\n\u001b[1;32m      1\u001b[0m \u001b[0;31m# SET\u001b[0m\u001b[0;34m\u001b[0m\u001b[0;34m\u001b[0m\u001b[0m\n\u001b[1;32m      2\u001b[0m \u001b[0ms\u001b[0m \u001b[0;34m=\u001b[0m \u001b[0;34m{\u001b[0m\u001b[0;36m10\u001b[0m\u001b[0;34m,\u001b[0m\u001b[0;36m20\u001b[0m\u001b[0;34m,\u001b[0m\u001b[0;36m30\u001b[0m\u001b[0;34m}\u001b[0m\u001b[0;34m\u001b[0m\u001b[0;34m\u001b[0m\u001b[0m\n\u001b[0;32m----> 3\u001b[0;31m \u001b[0mprint\u001b[0m\u001b[0;34m(\u001b[0m\u001b[0ms\u001b[0m\u001b[0;34m[\u001b[0m\u001b[0;36m0\u001b[0m\u001b[0;34m]\u001b[0m\u001b[0;34m)\u001b[0m\u001b[0;34m\u001b[0m\u001b[0;34m\u001b[0m\u001b[0m\n\u001b[0m",
            "\u001b[0;31mTypeError\u001b[0m: 'set' object is not subscriptable"
          ]
        }
      ]
    },
    {
      "cell_type": "code",
      "source": [
        "s = {30,10,40,5,20}\n",
        "print(s)\n",
        "print(type(s))"
      ],
      "metadata": {
        "colab": {
          "base_uri": "https://localhost:8080/"
        },
        "id": "XYKNmeLKkMnB",
        "outputId": "1fb1c546-1e34-4798-cff8-1e7953a8554e"
      },
      "execution_count": null,
      "outputs": [
        {
          "output_type": "stream",
          "name": "stdout",
          "text": [
            "{20, 5, 40, 10, 30}\n",
            "<class 'set'>\n"
          ]
        }
      ]
    },
    {
      "cell_type": "code",
      "source": [
        "l = [10,20,30,40,10,20]\n",
        "s = set(l)\n",
        "print(s)\n"
      ],
      "metadata": {
        "colab": {
          "base_uri": "https://localhost:8080/"
        },
        "id": "1OPAp8xKkqjb",
        "outputId": "6c858e40-fd19-4536-bb3e-2289deaf5a24"
      },
      "execution_count": null,
      "outputs": [
        {
          "output_type": "stream",
          "name": "stdout",
          "text": [
            "{40, 10, 20, 30}\n"
          ]
        }
      ]
    },
    {
      "cell_type": "code",
      "source": [
        "s = set()\n",
        "s.add(20)\n",
        "s.add(10)\n",
        "s.add(40)\n",
        "s.add(50)\n",
        "print(s)\n",
        "# add is used to add value one by one"
      ],
      "metadata": {
        "id": "FhqQ7KjSlvJB",
        "colab": {
          "base_uri": "https://localhost:8080/"
        },
        "outputId": "b238275e-8fbb-47cb-ae24-c8d7481ce3a2"
      },
      "execution_count": 1,
      "outputs": [
        {
          "output_type": "stream",
          "name": "stdout",
          "text": [
            "{40, 10, 20, 50}\n"
          ]
        }
      ]
    },
    {
      "cell_type": "code",
      "source": [
        "s = {10,20,30}\n",
        "l = [40,50,60]\n",
        "s.update(l)\n",
        "print(s)\n",
        "# update is used to add a group of data"
      ],
      "metadata": {
        "colab": {
          "base_uri": "https://localhost:8080/"
        },
        "id": "EEuYeJQiUfzA",
        "outputId": "140c369f-73b6-4845-e939-7835d761f22f"
      },
      "execution_count": 2,
      "outputs": [
        {
          "output_type": "stream",
          "name": "stdout",
          "text": [
            "{40, 10, 50, 20, 60, 30}\n"
          ]
        }
      ]
    },
    {
      "cell_type": "code",
      "source": [
        "s = {10,20,30}\n",
        "s.add(10)\n",
        "print(s)"
      ],
      "metadata": {
        "colab": {
          "base_uri": "https://localhost:8080/"
        },
        "id": "ThCu-nq2VCHY",
        "outputId": "f86178a1-32a3-4bca-9b17-462fad319a6e"
      },
      "execution_count": 2,
      "outputs": [
        {
          "output_type": "stream",
          "name": "stdout",
          "text": [
            "{10, 20, 30}\n"
          ]
        }
      ]
    },
    {
      "cell_type": "code",
      "source": [
        "s = {10,20,30}\n",
        "s.add(10,10,20,30,40,50)\n",
        "print(s)"
      ],
      "metadata": {
        "colab": {
          "base_uri": "https://localhost:8080/",
          "height": 205
        },
        "id": "XtiZpPlQ4jKO",
        "outputId": "df99842d-ad05-49ae-a2fd-fed292d37380"
      },
      "execution_count": 3,
      "outputs": [
        {
          "output_type": "error",
          "ename": "TypeError",
          "evalue": "ignored",
          "traceback": [
            "\u001b[0;31m---------------------------------------------------------------------------\u001b[0m",
            "\u001b[0;31mTypeError\u001b[0m                                 Traceback (most recent call last)",
            "\u001b[0;32m<ipython-input-3-13378572ba77>\u001b[0m in \u001b[0;36m<cell line: 2>\u001b[0;34m()\u001b[0m\n\u001b[1;32m      1\u001b[0m \u001b[0ms\u001b[0m \u001b[0;34m=\u001b[0m \u001b[0;34m{\u001b[0m\u001b[0;36m10\u001b[0m\u001b[0;34m,\u001b[0m\u001b[0;36m20\u001b[0m\u001b[0;34m,\u001b[0m\u001b[0;36m30\u001b[0m\u001b[0;34m}\u001b[0m\u001b[0;34m\u001b[0m\u001b[0;34m\u001b[0m\u001b[0m\n\u001b[0;32m----> 2\u001b[0;31m \u001b[0ms\u001b[0m\u001b[0;34m.\u001b[0m\u001b[0madd\u001b[0m\u001b[0;34m(\u001b[0m\u001b[0;36m10\u001b[0m\u001b[0;34m,\u001b[0m\u001b[0;36m10\u001b[0m\u001b[0;34m,\u001b[0m\u001b[0;36m20\u001b[0m\u001b[0;34m,\u001b[0m\u001b[0;36m30\u001b[0m\u001b[0;34m,\u001b[0m\u001b[0;36m40\u001b[0m\u001b[0;34m,\u001b[0m\u001b[0;36m50\u001b[0m\u001b[0;34m)\u001b[0m\u001b[0;34m\u001b[0m\u001b[0;34m\u001b[0m\u001b[0m\n\u001b[0m\u001b[1;32m      3\u001b[0m \u001b[0mprint\u001b[0m\u001b[0;34m(\u001b[0m\u001b[0ms\u001b[0m\u001b[0;34m)\u001b[0m\u001b[0;34m\u001b[0m\u001b[0;34m\u001b[0m\u001b[0m\n",
            "\u001b[0;31mTypeError\u001b[0m: set.add() takes exactly one argument (6 given)"
          ]
        }
      ]
    },
    {
      "cell_type": "code",
      "source": [
        "s = {10,20,30}\n",
        "s.update(80)\n",
        "print(s)"
      ],
      "metadata": {
        "colab": {
          "base_uri": "https://localhost:8080/",
          "height": 205
        },
        "id": "Y0iunlL14v27",
        "outputId": "8ff91b1d-d3ef-4193-ba12-4ad22bcb338f"
      },
      "execution_count": 4,
      "outputs": [
        {
          "output_type": "error",
          "ename": "TypeError",
          "evalue": "ignored",
          "traceback": [
            "\u001b[0;31m---------------------------------------------------------------------------\u001b[0m",
            "\u001b[0;31mTypeError\u001b[0m                                 Traceback (most recent call last)",
            "\u001b[0;32m<ipython-input-4-94d77593347e>\u001b[0m in \u001b[0;36m<cell line: 2>\u001b[0;34m()\u001b[0m\n\u001b[1;32m      1\u001b[0m \u001b[0ms\u001b[0m \u001b[0;34m=\u001b[0m \u001b[0;34m{\u001b[0m\u001b[0;36m10\u001b[0m\u001b[0;34m,\u001b[0m\u001b[0;36m20\u001b[0m\u001b[0;34m,\u001b[0m\u001b[0;36m30\u001b[0m\u001b[0;34m}\u001b[0m\u001b[0;34m\u001b[0m\u001b[0;34m\u001b[0m\u001b[0m\n\u001b[0;32m----> 2\u001b[0;31m \u001b[0ms\u001b[0m\u001b[0;34m.\u001b[0m\u001b[0mupdate\u001b[0m\u001b[0;34m(\u001b[0m\u001b[0;36m80\u001b[0m\u001b[0;34m)\u001b[0m\u001b[0;34m\u001b[0m\u001b[0;34m\u001b[0m\u001b[0m\n\u001b[0m\u001b[1;32m      3\u001b[0m \u001b[0mprint\u001b[0m\u001b[0;34m(\u001b[0m\u001b[0ms\u001b[0m\u001b[0;34m)\u001b[0m\u001b[0;34m\u001b[0m\u001b[0;34m\u001b[0m\u001b[0m\n",
            "\u001b[0;31mTypeError\u001b[0m: 'int' object is not iterable"
          ]
        }
      ]
    },
    {
      "cell_type": "code",
      "source": [
        "s = {10,20,30}\n",
        "s.update(range(1,10,2),range(2,10,2))\n",
        "print(s)"
      ],
      "metadata": {
        "colab": {
          "base_uri": "https://localhost:8080/"
        },
        "id": "4VZd_P8040-q",
        "outputId": "73dcf7ec-1366-42d9-c0d2-7aea06e0f9bb"
      },
      "execution_count": 5,
      "outputs": [
        {
          "output_type": "stream",
          "name": "stdout",
          "text": [
            "{1, 2, 3, 4, 5, 6, 7, 8, 9, 10, 20, 30}\n"
          ]
        }
      ]
    },
    {
      "cell_type": "code",
      "source": [
        "s = {10,20,30}\n",
        "s.update('python')\n",
        "print(s)"
      ],
      "metadata": {
        "colab": {
          "base_uri": "https://localhost:8080/"
        },
        "id": "7oldMJGo5AHe",
        "outputId": "c9df0391-ff62-4eb6-ad30-4d98c9f053d7"
      },
      "execution_count": 6,
      "outputs": [
        {
          "output_type": "stream",
          "name": "stdout",
          "text": [
            "{'h', 10, 'n', 'y', 't', 20, 'p', 'o', 30}\n"
          ]
        }
      ]
    },
    {
      "cell_type": "code",
      "source": [
        "s = {10,20,30}\n",
        "s.add('python')\n",
        "print(s)"
      ],
      "metadata": {
        "colab": {
          "base_uri": "https://localhost:8080/"
        },
        "id": "-ybiK9oR5c6n",
        "outputId": "97a2d59e-8829-42f9-cd71-5e935bc67da3"
      },
      "execution_count": 7,
      "outputs": [
        {
          "output_type": "stream",
          "name": "stdout",
          "text": [
            "{'python', 10, 20, 30}\n"
          ]
        }
      ]
    },
    {
      "cell_type": "code",
      "source": [
        "s = {10,20,30}\n",
        "s1 = s.copy()\n",
        "print(s)\n",
        "print(s1)\n",
        "print(id(s))\n",
        "print(id(s1))"
      ],
      "metadata": {
        "colab": {
          "base_uri": "https://localhost:8080/"
        },
        "id": "q8z4KjoB5cn-",
        "outputId": "976f1a51-3f2b-451b-e3fa-7af154d15a01"
      },
      "execution_count": 9,
      "outputs": [
        {
          "output_type": "stream",
          "name": "stdout",
          "text": [
            "{10, 20, 30}\n",
            "{10, 20, 30}\n",
            "139699581512256\n",
            "139699581510464\n"
          ]
        }
      ]
    },
    {
      "cell_type": "code",
      "source": [
        "# pop(): removed the default or random value from the set\n",
        "s = {10,20,30}\n",
        "print(s.pop())\n",
        "print(s)"
      ],
      "metadata": {
        "colab": {
          "base_uri": "https://localhost:8080/"
        },
        "id": "qIEL6PgE6TZs",
        "outputId": "d66c072e-e5d4-4fff-f4f2-b9e629b61fc3"
      },
      "execution_count": 10,
      "outputs": [
        {
          "output_type": "stream",
          "name": "stdout",
          "text": [
            "10\n",
            "{20, 30}\n"
          ]
        }
      ]
    },
    {
      "cell_type": "code",
      "source": [
        "s = {10,20,30}\n",
        "print(s.pop())\n",
        "print(s.pop())\n",
        "print(s.pop())\n",
        "print(s)"
      ],
      "metadata": {
        "colab": {
          "base_uri": "https://localhost:8080/"
        },
        "id": "KpmAHui26yh4",
        "outputId": "edb264f3-c308-4b5f-dda0-277330adac45"
      },
      "execution_count": 11,
      "outputs": [
        {
          "output_type": "stream",
          "name": "stdout",
          "text": [
            "10\n",
            "20\n",
            "30\n",
            "set()\n"
          ]
        }
      ]
    },
    {
      "cell_type": "code",
      "source": [
        "# remove: to remove the specific value from the set\n",
        "s = {10,20,30}\n",
        "s.remove(30)\n",
        "print(s)"
      ],
      "metadata": {
        "colab": {
          "base_uri": "https://localhost:8080/"
        },
        "id": "H0Z9OgA862se",
        "outputId": "94b72702-22cf-44ec-e76e-58624a9f45c3"
      },
      "execution_count": 12,
      "outputs": [
        {
          "output_type": "stream",
          "name": "stdout",
          "text": [
            "{10, 20}\n"
          ]
        }
      ]
    },
    {
      "cell_type": "code",
      "source": [
        "s = {10,20,30}\n",
        "s.remove(30)\n",
        "s.discard(140) # to remove the value if its not present in set without any error\n",
        "print(s)"
      ],
      "metadata": {
        "colab": {
          "base_uri": "https://localhost:8080/"
        },
        "id": "4tyrKeZY7X_b",
        "outputId": "3404518c-3da6-4bf2-e58a-4ba9c456b16e"
      },
      "execution_count": 14,
      "outputs": [
        {
          "output_type": "stream",
          "name": "stdout",
          "text": [
            "{10, 20}\n"
          ]
        }
      ]
    },
    {
      "cell_type": "code",
      "source": [
        "s = {10,20,30}\n",
        "s.clear() # it remove all the elements from the set, empty set\n",
        "print(s)"
      ],
      "metadata": {
        "colab": {
          "base_uri": "https://localhost:8080/"
        },
        "id": "7-doZ5gD8vcD",
        "outputId": "f9bde501-8357-404b-e832-f640a355c50c"
      },
      "execution_count": 15,
      "outputs": [
        {
          "output_type": "stream",
          "name": "stdout",
          "text": [
            "set()\n"
          ]
        }
      ]
    },
    {
      "cell_type": "code",
      "source": [
        "# mathematical operations:\n",
        "# Union(): group into a single set\n",
        "s1 = {10,20,30}\n",
        "s2 = {40,50,60,70}\n",
        "print(s1.union(s2))\n",
        "print(s1|s2)\n"
      ],
      "metadata": {
        "colab": {
          "base_uri": "https://localhost:8080/"
        },
        "id": "VsHpqgqs9Ego",
        "outputId": "1c549592-bfab-4281-abf6-30dc9280efde"
      },
      "execution_count": 16,
      "outputs": [
        {
          "output_type": "stream",
          "name": "stdout",
          "text": [
            "{50, 20, 70, 40, 10, 60, 30}\n",
            "{50, 20, 70, 40, 10, 60, 30}\n"
          ]
        }
      ]
    },
    {
      "cell_type": "code",
      "source": [
        "s1 = {10,20,30,40,50}\n",
        "s2 = {40,50,60,70}\n",
        "print(s1.intersection(s2))\n",
        "print(s1&s2)"
      ],
      "metadata": {
        "colab": {
          "base_uri": "https://localhost:8080/"
        },
        "id": "2IAIo5Mk9oNQ",
        "outputId": "c9b79f18-9844-4cae-8ba2-a7d6d9971a14"
      },
      "execution_count": 18,
      "outputs": [
        {
          "output_type": "stream",
          "name": "stdout",
          "text": [
            "{40, 50}\n",
            "{40, 50}\n"
          ]
        }
      ]
    },
    {
      "cell_type": "code",
      "source": [
        "s1 = {10,20,30,40,50}\n",
        "s2 = {40,50,60,70}\n",
        "print(s1.difference(s2))\n",
        "print(s1-s2)"
      ],
      "metadata": {
        "colab": {
          "base_uri": "https://localhost:8080/"
        },
        "id": "5vkUJC9V9zBZ",
        "outputId": "8ae4d7ff-4340-4171-f4a8-e3eb247ed0e6"
      },
      "execution_count": 19,
      "outputs": [
        {
          "output_type": "stream",
          "name": "stdout",
          "text": [
            "{10, 20, 30}\n",
            "{10, 20, 30}\n"
          ]
        }
      ]
    },
    {
      "cell_type": "code",
      "source": [
        "s1 = {10,20,30,40,50}\n",
        "s2 = {40,50,60,70}\n",
        "print(s1^s2) # symetric difference\n",
        "print(s1.symmetric_difference(s2))"
      ],
      "metadata": {
        "colab": {
          "base_uri": "https://localhost:8080/"
        },
        "id": "oYeCV0cp-Btq",
        "outputId": "e2be4c37-5e0a-4347-e881-9a297559284f"
      },
      "execution_count": 21,
      "outputs": [
        {
          "output_type": "stream",
          "name": "stdout",
          "text": [
            "{70, 10, 20, 60, 30}\n",
            "{70, 10, 20, 60, 30}\n"
          ]
        }
      ]
    },
    {
      "cell_type": "code",
      "source": [
        "# membership operator:\n",
        "s1 = set('durga')\n",
        "print(s1)\n",
        "print('d' in s1)\n",
        "print('z' in s1)"
      ],
      "metadata": {
        "colab": {
          "base_uri": "https://localhost:8080/"
        },
        "id": "7DPWyB_j-M3y",
        "outputId": "fe6e6b41-d59d-44e1-9d89-2f9b9752a894"
      },
      "execution_count": 22,
      "outputs": [
        {
          "output_type": "stream",
          "name": "stdout",
          "text": [
            "{'a', 'd', 'r', 'g', 'u'}\n",
            "True\n",
            "False\n"
          ]
        }
      ]
    },
    {
      "cell_type": "code",
      "source": [
        "# set comprehension\n",
        "s = {x*x for x in range(6)}\n",
        "print(s)"
      ],
      "metadata": {
        "colab": {
          "base_uri": "https://localhost:8080/"
        },
        "id": "xP18l7J_-0Oe",
        "outputId": "b7a02c98-467d-4495-bb83-48b85475fa7e"
      },
      "execution_count": 23,
      "outputs": [
        {
          "output_type": "stream",
          "name": "stdout",
          "text": [
            "{0, 1, 4, 9, 16, 25}\n"
          ]
        }
      ]
    },
    {
      "cell_type": "code",
      "source": [
        "s = {x*x for x in range(1,6) if x%2==0}\n",
        "print(s)"
      ],
      "metadata": {
        "colab": {
          "base_uri": "https://localhost:8080/"
        },
        "id": "a31VBgEJ_CHt",
        "outputId": "9b28f243-9198-4a2c-a201-b52da7806749"
      },
      "execution_count": 24,
      "outputs": [
        {
          "output_type": "stream",
          "name": "stdout",
          "text": [
            "{16, 4}\n"
          ]
        }
      ]
    },
    {
      "cell_type": "code",
      "source": [
        "# to eliminate duplicate present in the list\n",
        "l = eval(input('Enter the list of value: '))\n",
        "s = set(l)\n",
        "print(s)"
      ],
      "metadata": {
        "colab": {
          "base_uri": "https://localhost:8080/"
        },
        "id": "5HJrTVbc_Y1x",
        "outputId": "d17bade8-8697-4ea6-bd2c-44c0cb36aeb5"
      },
      "execution_count": 25,
      "outputs": [
        {
          "output_type": "stream",
          "name": "stdout",
          "text": [
            "Enter the list of value: [10,20,30,40,20,30,20]\n",
            "{40, 10, 20, 30}\n"
          ]
        }
      ]
    },
    {
      "cell_type": "code",
      "source": [
        "# to eliminate duplicate present in the list\n",
        "l = eval(input('Enter the list of value: '))\n",
        "l1 = []\n",
        "for x in l:\n",
        "  if x not in l1:\n",
        "    l1.append(x)\n",
        "print(l1)"
      ],
      "metadata": {
        "colab": {
          "base_uri": "https://localhost:8080/"
        },
        "id": "7qkn5fhT_pIy",
        "outputId": "c67e0ce1-5b8b-4bce-efad-abe835c703e1"
      },
      "execution_count": 26,
      "outputs": [
        {
          "output_type": "stream",
          "name": "stdout",
          "text": [
            "Enter the list of value: [10,20,30,20,20,10,50,30]\n",
            "[10, 20, 30, 50]\n"
          ]
        }
      ]
    },
    {
      "cell_type": "code",
      "source": [
        "w = input('Enter any word: ')\n",
        "s = set(w)\n",
        "v = {'a','e','i','o','u'}\n",
        "d = s.intersection(v)\n",
        "print(d)"
      ],
      "metadata": {
        "colab": {
          "base_uri": "https://localhost:8080/"
        },
        "id": "VaYpIe6fAKC7",
        "outputId": "e6fcab5d-155f-4171-e9b3-e1551b98214e"
      },
      "execution_count": 28,
      "outputs": [
        {
          "output_type": "stream",
          "name": "stdout",
          "text": [
            "Enter any word: infosis amazon flipkart\n",
            "{'o', 'a', 'i'}\n"
          ]
        }
      ]
    },
    {
      "cell_type": "code",
      "source": [],
      "metadata": {
        "id": "H4wuv1b2Arg4"
      },
      "execution_count": null,
      "outputs": []
    }
  ]
}